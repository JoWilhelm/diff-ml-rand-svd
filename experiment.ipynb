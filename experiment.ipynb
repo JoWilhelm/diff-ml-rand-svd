{
 "cells": [
  {
   "cell_type": "code",
   "execution_count": 22,
   "metadata": {},
   "outputs": [
    {
     "data": {
      "text/plain": [
       "[StreamExecutorGpuDevice(id=0, process_index=0, slice_index=0)]"
      ]
     },
     "execution_count": 22,
     "metadata": {},
     "output_type": "execute_result"
    }
   ],
   "source": [
    "import matplotlib.pyplot as plt\n",
    "\n",
    "import jax.numpy as jnp\n",
    "from jax.scipy.stats import norm\n",
    "from jax import grad, jit, vmap\n",
    "from jax import random\n",
    "import jax\n",
    "\n",
    "from typing import Sequence, Callable, Union, Tuple, Optional, Any\n",
    "from jaxtyping import Array, Float, Int, PyTree\n",
    "\n",
    "import equinox as eqx\n",
    "import optax\n",
    "import chex\n",
    "\n",
    "from dataclasses import dataclass\n",
    "from functools import partial\n",
    "\n",
    "jax.devices()"
   ]
  },
  {
   "cell_type": "code",
   "execution_count": 23,
   "metadata": {},
   "outputs": [
    {
     "name": "stdout",
     "output_type": "stream",
     "text": [
      "(3, 1)\n",
      "(3, 1)\n"
     ]
    }
   ],
   "source": [
    "def f(x):\n",
    "    return jnp.sin(x)\n",
    "\n",
    "fs = vmap(f)\n",
    "\n",
    "xs = jnp.array([0., jnp.pi / 2, jnp.pi])[..., jnp.newaxis]\n",
    "ys = fs(xs)\n",
    "\n",
    "print(xs.shape)\n",
    "print(ys.shape)"
   ]
  },
  {
   "cell_type": "code",
   "execution_count": 74,
   "metadata": {},
   "outputs": [
    {
     "name": "stdout",
     "output_type": "stream",
     "text": [
      "[[ 0.000000e+00]\n",
      " [ 1.000000e+00]\n",
      " [-8.742278e-08]]\n",
      "[[ 1.000000e+00]\n",
      " [-4.371139e-08]\n",
      " [-1.000000e+00]]\n"
     ]
    }
   ],
   "source": [
    "primals, f_jvp = jax.jvp(f, (xs,), (jnp.ones_like(xs),))\n",
    "print(primals)\n",
    "print(f_jvp)\n"
   ]
  },
  {
   "cell_type": "code",
   "execution_count": 24,
   "metadata": {},
   "outputs": [],
   "source": [
    "key = random.PRNGKey(0)\n",
    "key, subkey = random.split(key)"
   ]
  },
  {
   "cell_type": "code",
   "execution_count": 52,
   "metadata": {},
   "outputs": [],
   "source": [
    "\n",
    "key, subkey = jax.random.split(key)\n",
    "model = eqx.nn.MLP(key=subkey, in_size=1, out_size=1, width_size=20, depth=3, activation=jax.nn.elu)\n"
   ]
  },
  {
   "cell_type": "code",
   "execution_count": 53,
   "metadata": {},
   "outputs": [],
   "source": [
    "@eqx.filter_jit\n",
    "def value_and_jacrev(f, x):\n",
    "    # Function that computes both the values and the Jacobian using reverse mode autodiff\n",
    "    y, vjpfun = jax.vjp(f, x)  # Compute the values and obtain a VJP function\n",
    "    basis = jnp.eye(y.size, dtype=y.dtype)\n",
    "    jac = vmap(vjpfun)(basis)[0]  # Compute the Jacobian using the VJP function\n",
    "    return y, jac, vjpfun\n",
    "\n",
    "@eqx.filter_jit\n",
    "def value_and_jacobian(f, x):\n",
    "    y, jac, _ = value_and_jacrev(f, x)\n",
    "    return y, jac"
   ]
  },
  {
   "cell_type": "code",
   "execution_count": 68,
   "metadata": {},
   "outputs": [
    {
     "name": "stdout",
     "output_type": "stream",
     "text": [
      "[[0.       ]\n",
      " [1.5707964]\n",
      " [3.1415927]]\n",
      "[-0.05633701]\n",
      "[[-0.0524135]]\n",
      "----------------------------------------\n",
      "[-0.11803523]\n",
      "[[-0.03657701]]\n"
     ]
    },
    {
     "data": {
      "text/plain": [
       "(DeviceArray([[-0.05633698],\n",
       "              [-0.11803527],\n",
       "              [-0.17688681]], dtype=float32),\n",
       " DeviceArray([[[-0.05241352]],\n",
       " \n",
       "              [[-0.03657701]],\n",
       " \n",
       "              [[-0.03539729]]], dtype=float32))"
      ]
     },
     "execution_count": 68,
     "metadata": {},
     "output_type": "execute_result"
    }
   ],
   "source": [
    "print(xs)\n",
    "val, jac, vjpfun = value_and_jacrev(model, jnp.array([0.]))\n",
    "print(val)\n",
    "print(jac)\n",
    "print(\"-\" * 40)\n",
    "val, jac, vjpfun = value_and_jacrev(model, xs[1])\n",
    "print(val)\n",
    "print(jac)\n",
    "\n",
    "vmap(partial(value_and_jacobian, model))(xs)"
   ]
  },
  {
   "cell_type": "code",
   "execution_count": 55,
   "metadata": {},
   "outputs": [
    {
     "data": {
      "text/plain": [
       "((DeviceArray([-0.0352001], dtype=float32),),\n",
       " (DeviceArray([-0.0352001], dtype=float32),))"
      ]
     },
     "execution_count": 55,
     "metadata": {},
     "output_type": "execute_result"
    }
   ],
   "source": [
    "jax.jvp(vjpfun, (jnp.ones_like(val),), (jnp.ones_like(val),))"
   ]
  },
  {
   "cell_type": "code",
   "execution_count": 42,
   "metadata": {},
   "outputs": [],
   "source": [
    "class linear(eqx.Module):\n",
    "    weight: Array\n",
    "    bias: Array\n",
    "\n",
    "    def __init__(self, in_size, out_size, key):\n",
    "        wkey, bkey = jax.random.split(key)\n",
    "        self.weight = jax.random.normal(wkey, (out_size, in_size))\n",
    "        self.bias = jax.random.normal(bkey, (out_size,))\n",
    "\n",
    "    def __call__(self, x):\n",
    "        return self.weight @ x + self.bias"
   ]
  },
  {
   "cell_type": "code",
   "execution_count": 401,
   "metadata": {},
   "outputs": [
    {
     "name": "stdout",
     "output_type": "stream",
     "text": [
      "Function evaluation: 36.0\n",
      "Gradient: [ 3. 12. 27.]\n",
      "Hessian-vector product: [0. 0. 0.]\n"
     ]
    }
   ],
   "source": [
    "import jax.numpy as np\n",
    "def hessian_vector_product_fn(func):\n",
    "    \"\"\"Returns a function that efficiently computes the Hessian-vector product of `func`.\"\"\"\n",
    "    def hvp_fn(x, v):\n",
    "        \"\"\"Computes the Hessian-vector product of `func`.\"\"\"\n",
    "        # Define a closure for the function evaluation\n",
    "        def f_eval(x):\n",
    "            return func(x)\n",
    "\n",
    "        # Compute function evaluation using forward mode differentiation\n",
    "        f_eval_x, vjp_fun = jax.vjp(f_eval, x)\n",
    "        # Compute gradient using reverse mode differentiation\n",
    "        grad = vjp_fun(np.ones_like(f_eval_x))[0]\n",
    "        # Compute Hessian-vector product using forward mode differentiation\n",
    "        hvp = jax.grad(lambda x: np.dot(grad, v))(x)\n",
    "        return f_eval_x, grad, hvp\n",
    "\n",
    "    return hvp_fn\n",
    "\n",
    "# Example function to compute Hessian-vector product\n",
    "def example_function(x):\n",
    "    return np.sum(np.square(x) * x)\n",
    "\n",
    "# Define inputs and initial vector for Hessian-vector product\n",
    "x = np.array([1.0, 2.0, 3.0])\n",
    "v = np.array([0.1, 0.2, 0.3])\n",
    "\n",
    "# Compute function evaluation, gradient, and Hessian-vector product using JAX\n",
    "hvp_fn = hessian_vector_product_fn(example_function)\n",
    "f_eval, grad, hvp = hvp_fn(x, v)\n",
    "\n",
    "print(\"Function evaluation:\", f_eval)\n",
    "print(\"Gradient:\", grad)\n",
    "print(\"Hessian-vector product:\", hvp)"
   ]
  },
  {
   "cell_type": "code",
   "execution_count": 388,
   "metadata": {},
   "outputs": [],
   "source": [
    "def hvp(f, primals, tangents):\n",
    "    pri, vjp_fun = jax.vjp(f, primals)\n",
    "    return jax.jvp(vjp_fun, primals, tangents)"
   ]
  },
  {
   "cell_type": "code",
   "execution_count": 6,
   "metadata": {},
   "outputs": [
    {
     "name": "stdout",
     "output_type": "stream",
     "text": [
      "2.4995086\n"
     ]
    },
    {
     "ename": "ValueError",
     "evalue": "Shape of cotangent input to vjp pullback function (3,) must be the same as the shape of corresponding primal input ().",
     "output_type": "error",
     "traceback": [
      "\u001b[1;31m---------------------------------------------------------------------------\u001b[0m",
      "\u001b[1;31mValueError\u001b[0m                                Traceback (most recent call last)",
      "Cell \u001b[1;32mIn[6], line 7\u001b[0m\n\u001b[0;32m      5\u001b[0m y, vjp_fun \u001b[39m=\u001b[39m jax\u001b[39m.\u001b[39mvjp(f, jnp\u001b[39m.\u001b[39marray([\u001b[39m1.\u001b[39m, \u001b[39m2.\u001b[39m, \u001b[39m3.\u001b[39m]))\n\u001b[0;32m      6\u001b[0m \u001b[39mprint\u001b[39m(y)\n\u001b[1;32m----> 7\u001b[0m \u001b[39mprint\u001b[39m(vjp_fun(jnp\u001b[39m.\u001b[39;49marray([\u001b[39m1.\u001b[39;49m, \u001b[39m1.\u001b[39;49m, \u001b[39m1.\u001b[39;49m])))\n",
      "File \u001b[1;32mc:\\Users\\neilk\\AppData\\Local\\Programs\\Python\\Python39\\lib\\site-packages\\jax\\_src\\tree_util.py:301\u001b[0m, in \u001b[0;36m_HashableCallableShim.__call__\u001b[1;34m(self, *args, **kw)\u001b[0m\n\u001b[0;32m    300\u001b[0m \u001b[39mdef\u001b[39;00m \u001b[39m__call__\u001b[39m(\u001b[39mself\u001b[39m, \u001b[39m*\u001b[39margs, \u001b[39m*\u001b[39m\u001b[39m*\u001b[39mkw):\n\u001b[1;32m--> 301\u001b[0m   \u001b[39mreturn\u001b[39;00m \u001b[39mself\u001b[39m\u001b[39m.\u001b[39mfun(\u001b[39m*\u001b[39margs, \u001b[39m*\u001b[39m\u001b[39m*\u001b[39mkw)\n",
      "File \u001b[1;32mc:\\Users\\neilk\\AppData\\Local\\Programs\\Python\\Python39\\lib\\site-packages\\jax\\_src\\api.py:2578\u001b[0m, in \u001b[0;36m_vjp_pullback_wrapper\u001b[1;34m(name, cotangent_dtypes, cotangent_shapes, io_tree, fun, *py_args_)\u001b[0m\n\u001b[0;32m   2573\u001b[0m     \u001b[39mraise\u001b[39;00m \u001b[39mTypeError\u001b[39;00m(\n\u001b[0;32m   2574\u001b[0m         \u001b[39mf\u001b[39m\u001b[39m\"\u001b[39m\u001b[39mType of cotangent input to vjp pullback function (\u001b[39m\u001b[39m{\u001b[39;00mct_dtype\u001b[39m}\u001b[39;00m\u001b[39m) is not \u001b[39m\u001b[39m\"\u001b[39m\n\u001b[0;32m   2575\u001b[0m         \u001b[39mf\u001b[39m\u001b[39m\"\u001b[39m\u001b[39mthe expected tangent type (\u001b[39m\u001b[39m{\u001b[39;00mexpected_tangent_dtype\u001b[39m}\u001b[39;00m\u001b[39m) of corresponding primal output \u001b[39m\u001b[39m\"\u001b[39m\n\u001b[0;32m   2576\u001b[0m         \u001b[39mf\u001b[39m\u001b[39m\"\u001b[39m\u001b[39mwith dtype \u001b[39m\u001b[39m{\u001b[39;00m_dtype(arg)\u001b[39m}\u001b[39;00m\u001b[39m.\u001b[39m\u001b[39m\"\u001b[39m)\n\u001b[0;32m   2577\u001b[0m   \u001b[39mif\u001b[39;00m np\u001b[39m.\u001b[39mshape(arg) \u001b[39m!=\u001b[39m ct_shape:\n\u001b[1;32m-> 2578\u001b[0m     \u001b[39mraise\u001b[39;00m \u001b[39mValueError\u001b[39;00m(\n\u001b[0;32m   2579\u001b[0m         \u001b[39mf\u001b[39m\u001b[39m\"\u001b[39m\u001b[39mShape of cotangent input to vjp pullback function \u001b[39m\u001b[39m{\u001b[39;00mnp\u001b[39m.\u001b[39mshape(arg)\u001b[39m}\u001b[39;00m\u001b[39m \u001b[39m\u001b[39m\"\u001b[39m\n\u001b[0;32m   2580\u001b[0m         \u001b[39m\"\u001b[39m\u001b[39mmust be the same as the shape of corresponding primal input \u001b[39m\u001b[39m\"\u001b[39m\n\u001b[0;32m   2581\u001b[0m         \u001b[39mf\u001b[39m\u001b[39m\"\u001b[39m\u001b[39m{\u001b[39;00mct_shape\u001b[39m}\u001b[39;00m\u001b[39m.\u001b[39m\u001b[39m\"\u001b[39m)\n\u001b[0;32m   2582\u001b[0m ans \u001b[39m=\u001b[39m fun(\u001b[39m*\u001b[39margs)\n\u001b[0;32m   2583\u001b[0m \u001b[39mreturn\u001b[39;00m tree_unflatten(out_tree, ans)\n",
      "\u001b[1;31mValueError\u001b[0m: Shape of cotangent input to vjp pullback function (3,) must be the same as the shape of corresponding primal input ()."
     ]
    }
   ],
   "source": [
    "def f(X):\n",
    "  return jnp.sum(jnp.tanh(X)**2)\n",
    "\n",
    "\n",
    "y, vjp_fun = jax.vjp(f, jnp.array([1., 2., 3.]))\n",
    "print(y)\n",
    "print(vjp_fun(jnp.array([1., 1., 1.])))"
   ]
  },
  {
   "cell_type": "code",
   "execution_count": 389,
   "metadata": {},
   "outputs": [
    {
     "ename": "TypeError",
     "evalue": "tanh requires ndarray or scalar arguments, got <class 'tuple'> at position 0.",
     "output_type": "error",
     "traceback": [
      "\u001b[1;31m---------------------------------------------------------------------------\u001b[0m",
      "\u001b[1;31mTypeError\u001b[0m                                 Traceback (most recent call last)",
      "Cell \u001b[1;32mIn[389], line 8\u001b[0m\n\u001b[0;32m      5\u001b[0m X \u001b[39m=\u001b[39m random\u001b[39m.\u001b[39mnormal(subkey1, (\u001b[39m30\u001b[39m, \u001b[39m40\u001b[39m))\n\u001b[0;32m      6\u001b[0m V \u001b[39m=\u001b[39m random\u001b[39m.\u001b[39mnormal(subkey2, (\u001b[39m30\u001b[39m, \u001b[39m40\u001b[39m))\n\u001b[1;32m----> 8\u001b[0m ans1 \u001b[39m=\u001b[39m hvp(f, (X,), (V,))\n\u001b[0;32m      9\u001b[0m ans2 \u001b[39m=\u001b[39m jnp\u001b[39m.\u001b[39mtensordot(jax\u001b[39m.\u001b[39mhessian(f)(X), V, \u001b[39m2\u001b[39m)\n\u001b[0;32m     11\u001b[0m \u001b[39mprint\u001b[39m(ans1)\n",
      "Cell \u001b[1;32mIn[388], line 2\u001b[0m, in \u001b[0;36mhvp\u001b[1;34m(f, primals, tangents)\u001b[0m\n\u001b[0;32m      1\u001b[0m \u001b[39mdef\u001b[39;00m \u001b[39mhvp\u001b[39m(f, primals, tangents):\n\u001b[1;32m----> 2\u001b[0m     pri, vjp_fun \u001b[39m=\u001b[39m jax\u001b[39m.\u001b[39;49mvjp(f, primals)\n\u001b[0;32m      3\u001b[0m     \u001b[39mreturn\u001b[39;00m jax\u001b[39m.\u001b[39mjvp(vjp_fun, primals, tangents)\n",
      "File \u001b[1;32mc:\\Users\\neilk\\AppData\\Local\\Programs\\Python\\Python39\\lib\\site-packages\\jax\\_src\\api.py:2647\u001b[0m, in \u001b[0;36mvjp\u001b[1;34m(fun, has_aux, reduce_axes, *primals)\u001b[0m\n\u001b[0;32m   2645\u001b[0m _check_callable(fun)\n\u001b[0;32m   2646\u001b[0m reduce_axes \u001b[39m=\u001b[39m _ensure_str_tuple(reduce_axes)\n\u001b[1;32m-> 2647\u001b[0m \u001b[39mreturn\u001b[39;00m _vjp(\n\u001b[0;32m   2648\u001b[0m     lu\u001b[39m.\u001b[39;49mwrap_init(fun), \u001b[39m*\u001b[39;49mprimals, has_aux\u001b[39m=\u001b[39;49mhas_aux, reduce_axes\u001b[39m=\u001b[39;49mreduce_axes)\n",
      "File \u001b[1;32mc:\\Users\\neilk\\AppData\\Local\\Programs\\Python\\Python39\\lib\\site-packages\\jax\\_src\\api.py:2656\u001b[0m, in \u001b[0;36m_vjp\u001b[1;34m(fun, has_aux, reduce_axes, *primals)\u001b[0m\n\u001b[0;32m   2654\u001b[0m \u001b[39mif\u001b[39;00m \u001b[39mnot\u001b[39;00m has_aux:\n\u001b[0;32m   2655\u001b[0m   flat_fun, out_tree \u001b[39m=\u001b[39m flatten_fun_nokwargs(fun, in_tree)\n\u001b[1;32m-> 2656\u001b[0m   out_primal, out_vjp \u001b[39m=\u001b[39m ad\u001b[39m.\u001b[39;49mvjp(\n\u001b[0;32m   2657\u001b[0m       flat_fun, primals_flat, reduce_axes\u001b[39m=\u001b[39;49mreduce_axes)\n\u001b[0;32m   2658\u001b[0m   out_tree \u001b[39m=\u001b[39m out_tree()\n\u001b[0;32m   2659\u001b[0m \u001b[39melse\u001b[39;00m:\n",
      "File \u001b[1;32mc:\\Users\\neilk\\AppData\\Local\\Programs\\Python\\Python39\\lib\\site-packages\\jax\\interpreters\\ad.py:135\u001b[0m, in \u001b[0;36mvjp\u001b[1;34m(traceable, primals, has_aux, reduce_axes)\u001b[0m\n\u001b[0;32m    133\u001b[0m \u001b[39mdef\u001b[39;00m \u001b[39mvjp\u001b[39m(traceable, primals, has_aux\u001b[39m=\u001b[39m\u001b[39mFalse\u001b[39;00m, reduce_axes\u001b[39m=\u001b[39m()):\n\u001b[0;32m    134\u001b[0m   \u001b[39mif\u001b[39;00m \u001b[39mnot\u001b[39;00m has_aux:\n\u001b[1;32m--> 135\u001b[0m     out_primals, pvals, jaxpr, consts \u001b[39m=\u001b[39m linearize(traceable, \u001b[39m*\u001b[39;49mprimals)\n\u001b[0;32m    136\u001b[0m   \u001b[39melse\u001b[39;00m:\n\u001b[0;32m    137\u001b[0m     out_primals, pvals, jaxpr, consts, aux \u001b[39m=\u001b[39m linearize(traceable, \u001b[39m*\u001b[39mprimals, has_aux\u001b[39m=\u001b[39m\u001b[39mTrue\u001b[39;00m)\n",
      "File \u001b[1;32mc:\\Users\\neilk\\AppData\\Local\\Programs\\Python\\Python39\\lib\\site-packages\\jax\\interpreters\\ad.py:124\u001b[0m, in \u001b[0;36mlinearize\u001b[1;34m(traceable, *primals, **kwargs)\u001b[0m\n\u001b[0;32m    122\u001b[0m _, in_tree \u001b[39m=\u001b[39m tree_flatten(((primals, primals), {}))\n\u001b[0;32m    123\u001b[0m jvpfun_flat, out_tree \u001b[39m=\u001b[39m flatten_fun(jvpfun, in_tree)\n\u001b[1;32m--> 124\u001b[0m jaxpr, out_pvals, consts \u001b[39m=\u001b[39m pe\u001b[39m.\u001b[39;49mtrace_to_jaxpr_nounits(jvpfun_flat, in_pvals)\n\u001b[0;32m    125\u001b[0m out_primals_pvals, out_tangents_pvals \u001b[39m=\u001b[39m tree_unflatten(out_tree(), out_pvals)\n\u001b[0;32m    126\u001b[0m \u001b[39massert\u001b[39;00m \u001b[39mall\u001b[39m(out_primal_pval\u001b[39m.\u001b[39mis_known() \u001b[39mfor\u001b[39;00m out_primal_pval \u001b[39min\u001b[39;00m out_primals_pvals)\n",
      "File \u001b[1;32mc:\\Users\\neilk\\AppData\\Local\\Programs\\Python\\Python39\\lib\\site-packages\\jax\\_src\\profiler.py:314\u001b[0m, in \u001b[0;36mannotate_function.<locals>.wrapper\u001b[1;34m(*args, **kwargs)\u001b[0m\n\u001b[0;32m    311\u001b[0m \u001b[39m@wraps\u001b[39m(func)\n\u001b[0;32m    312\u001b[0m \u001b[39mdef\u001b[39;00m \u001b[39mwrapper\u001b[39m(\u001b[39m*\u001b[39margs, \u001b[39m*\u001b[39m\u001b[39m*\u001b[39mkwargs):\n\u001b[0;32m    313\u001b[0m   \u001b[39mwith\u001b[39;00m TraceAnnotation(name, \u001b[39m*\u001b[39m\u001b[39m*\u001b[39mdecorator_kwargs):\n\u001b[1;32m--> 314\u001b[0m     \u001b[39mreturn\u001b[39;00m func(\u001b[39m*\u001b[39margs, \u001b[39m*\u001b[39m\u001b[39m*\u001b[39mkwargs)\n\u001b[0;32m    315\u001b[0m   \u001b[39mreturn\u001b[39;00m wrapper\n",
      "File \u001b[1;32mc:\\Users\\neilk\\AppData\\Local\\Programs\\Python\\Python39\\lib\\site-packages\\jax\\interpreters\\partial_eval.py:767\u001b[0m, in \u001b[0;36mtrace_to_jaxpr_nounits\u001b[1;34m(fun, pvals, instantiate)\u001b[0m\n\u001b[0;32m    765\u001b[0m \u001b[39mwith\u001b[39;00m core\u001b[39m.\u001b[39mnew_main(JaxprTrace, name_stack\u001b[39m=\u001b[39mcurrent_name_stack) \u001b[39mas\u001b[39;00m main:\n\u001b[0;32m    766\u001b[0m   fun \u001b[39m=\u001b[39m trace_to_subjaxpr_nounits(fun, main, instantiate)\n\u001b[1;32m--> 767\u001b[0m   jaxpr, (out_pvals, consts, env) \u001b[39m=\u001b[39m fun\u001b[39m.\u001b[39;49mcall_wrapped(pvals)\n\u001b[0;32m    768\u001b[0m   \u001b[39massert\u001b[39;00m \u001b[39mnot\u001b[39;00m env\n\u001b[0;32m    769\u001b[0m   \u001b[39mdel\u001b[39;00m main, fun, env\n",
      "File \u001b[1;32mc:\\Users\\neilk\\AppData\\Local\\Programs\\Python\\Python39\\lib\\site-packages\\jax\\linear_util.py:167\u001b[0m, in \u001b[0;36mWrappedFun.call_wrapped\u001b[1;34m(self, *args, **kwargs)\u001b[0m\n\u001b[0;32m    164\u001b[0m gen \u001b[39m=\u001b[39m gen_static_args \u001b[39m=\u001b[39m out_store \u001b[39m=\u001b[39m \u001b[39mNone\u001b[39;00m\n\u001b[0;32m    166\u001b[0m \u001b[39mtry\u001b[39;00m:\n\u001b[1;32m--> 167\u001b[0m   ans \u001b[39m=\u001b[39m \u001b[39mself\u001b[39m\u001b[39m.\u001b[39mf(\u001b[39m*\u001b[39margs, \u001b[39m*\u001b[39m\u001b[39m*\u001b[39m\u001b[39mdict\u001b[39m(\u001b[39mself\u001b[39m\u001b[39m.\u001b[39mparams, \u001b[39m*\u001b[39m\u001b[39m*\u001b[39mkwargs))\n\u001b[0;32m    168\u001b[0m \u001b[39mexcept\u001b[39;00m:\n\u001b[0;32m    169\u001b[0m   \u001b[39m# Some transformations yield from inside context managers, so we have to\u001b[39;00m\n\u001b[0;32m    170\u001b[0m   \u001b[39m# interrupt them before reraising the exception. Otherwise they will only\u001b[39;00m\n\u001b[0;32m    171\u001b[0m   \u001b[39m# get garbage-collected at some later time, running their cleanup tasks\u001b[39;00m\n\u001b[0;32m    172\u001b[0m   \u001b[39m# only after this exception is handled, which can corrupt the global\u001b[39;00m\n\u001b[0;32m    173\u001b[0m   \u001b[39m# state.\u001b[39;00m\n\u001b[0;32m    174\u001b[0m   \u001b[39mwhile\u001b[39;00m stack:\n",
      "Cell \u001b[1;32mIn[389], line 2\u001b[0m, in \u001b[0;36mf\u001b[1;34m(X)\u001b[0m\n\u001b[0;32m      1\u001b[0m \u001b[39mdef\u001b[39;00m \u001b[39mf\u001b[39m(X):\n\u001b[1;32m----> 2\u001b[0m   \u001b[39mreturn\u001b[39;00m jnp\u001b[39m.\u001b[39msum(jnp\u001b[39m.\u001b[39;49mtanh(X)\u001b[39m*\u001b[39m\u001b[39m*\u001b[39m\u001b[39m2\u001b[39m)\n",
      "    \u001b[1;31m[... skipping hidden 17 frame]\u001b[0m\n",
      "File \u001b[1;32mc:\\Users\\neilk\\AppData\\Local\\Programs\\Python\\Python39\\lib\\site-packages\\jax\\_src\\numpy\\ufuncs.py:62\u001b[0m, in \u001b[0;36m_one_to_one_unop.<locals>.<lambda>\u001b[1;34m(x)\u001b[0m\n\u001b[0;32m     58\u001b[0m \u001b[39mdef\u001b[39;00m \u001b[39m_one_to_one_unop\u001b[39m(\n\u001b[0;32m     59\u001b[0m     numpy_fn: Callable[\u001b[39m.\u001b[39m\u001b[39m.\u001b[39m\u001b[39m.\u001b[39m, Any], lax_fn: UnOp,\n\u001b[0;32m     60\u001b[0m     promote_to_inexact: \u001b[39mbool\u001b[39m \u001b[39m=\u001b[39m \u001b[39mFalse\u001b[39;00m, lax_doc: \u001b[39mbool\u001b[39m \u001b[39m=\u001b[39m \u001b[39mFalse\u001b[39;00m) \u001b[39m-\u001b[39m\u001b[39m>\u001b[39m UnOp:\n\u001b[0;32m     61\u001b[0m   \u001b[39mif\u001b[39;00m promote_to_inexact:\n\u001b[1;32m---> 62\u001b[0m     fn \u001b[39m=\u001b[39m \u001b[39mlambda\u001b[39;00m x: lax_fn(\u001b[39m*\u001b[39m_promote_args_inexact(numpy_fn\u001b[39m.\u001b[39;49m\u001b[39m__name__\u001b[39;49m, x))\n\u001b[0;32m     63\u001b[0m   \u001b[39melse\u001b[39;00m:\n\u001b[0;32m     64\u001b[0m     fn \u001b[39m=\u001b[39m \u001b[39mlambda\u001b[39;00m x: lax_fn(\u001b[39m*\u001b[39m_promote_args(numpy_fn\u001b[39m.\u001b[39m\u001b[39m__name__\u001b[39m, x))\n",
      "File \u001b[1;32mc:\\Users\\neilk\\AppData\\Local\\Programs\\Python\\Python39\\lib\\site-packages\\jax\\_src\\numpy\\util.py:378\u001b[0m, in \u001b[0;36m_promote_args_inexact\u001b[1;34m(fun_name, *args)\u001b[0m\n\u001b[0;32m    374\u001b[0m \u001b[39mdef\u001b[39;00m \u001b[39m_promote_args_inexact\u001b[39m(fun_name: \u001b[39mstr\u001b[39m, \u001b[39m*\u001b[39margs: ArrayLike) \u001b[39m-\u001b[39m\u001b[39m>\u001b[39m List[Array]:\n\u001b[0;32m    375\u001b[0m \u001b[39m  \u001b[39m\u001b[39m\"\"\"Convenience function to apply Numpy argument shape and dtype promotion.\u001b[39;00m\n\u001b[0;32m    376\u001b[0m \n\u001b[0;32m    377\u001b[0m \u001b[39m  Promotes non-inexact types to an inexact type.\"\"\"\u001b[39;00m\n\u001b[1;32m--> 378\u001b[0m   _check_arraylike(fun_name, \u001b[39m*\u001b[39;49margs)\n\u001b[0;32m    379\u001b[0m   _check_no_float0s(fun_name, \u001b[39m*\u001b[39margs)\n\u001b[0;32m    380\u001b[0m   \u001b[39mreturn\u001b[39;00m _promote_shapes(fun_name, \u001b[39m*\u001b[39m_promote_dtypes_inexact(\u001b[39m*\u001b[39margs))\n",
      "File \u001b[1;32mc:\\Users\\neilk\\AppData\\Local\\Programs\\Python\\Python39\\lib\\site-packages\\jax\\_src\\numpy\\util.py:345\u001b[0m, in \u001b[0;36m_check_arraylike\u001b[1;34m(fun_name, *args)\u001b[0m\n\u001b[0;32m    342\u001b[0m pos, arg \u001b[39m=\u001b[39m \u001b[39mnext\u001b[39m((i, arg) \u001b[39mfor\u001b[39;00m i, arg \u001b[39min\u001b[39;00m \u001b[39menumerate\u001b[39m(args)\n\u001b[0;32m    343\u001b[0m                 \u001b[39mif\u001b[39;00m \u001b[39mnot\u001b[39;00m _arraylike(arg))\n\u001b[0;32m    344\u001b[0m msg \u001b[39m=\u001b[39m \u001b[39m\"\u001b[39m\u001b[39m{}\u001b[39;00m\u001b[39m requires ndarray or scalar arguments, got \u001b[39m\u001b[39m{}\u001b[39;00m\u001b[39m at position \u001b[39m\u001b[39m{}\u001b[39;00m\u001b[39m.\u001b[39m\u001b[39m\"\u001b[39m\n\u001b[1;32m--> 345\u001b[0m \u001b[39mraise\u001b[39;00m \u001b[39mTypeError\u001b[39;00m(msg\u001b[39m.\u001b[39mformat(fun_name, \u001b[39mtype\u001b[39m(arg), pos))\n",
      "\u001b[1;31mTypeError\u001b[0m: tanh requires ndarray or scalar arguments, got <class 'tuple'> at position 0."
     ]
    }
   ],
   "source": [
    "def f(X):\n",
    "  return jnp.sum(jnp.tanh(X)**2)\n",
    "\n",
    "key, subkey1, subkey2 = random.split(key, 3)\n",
    "X = random.normal(subkey1, (30, 40))\n",
    "V = random.normal(subkey2, (30, 40))\n",
    "\n",
    "ans1 = hvp(f, (X,), (V,))\n",
    "ans2 = jnp.tensordot(jax.hessian(f)(X), V, 2)\n",
    "\n",
    "print(ans1)\n",
    "print(\"-\" * 80)\n",
    "print(ans2)\n",
    "# print(jnp.allclose(ans1, ans2, 1e-4, 1e-4))"
   ]
  },
  {
   "cell_type": "code",
   "execution_count": 278,
   "metadata": {},
   "outputs": [],
   "source": [
    "\n",
    "# def f(x):\n",
    "#   return jnp.asarray(\n",
    "#     [x[0], 5*x[2], 4*x[1]**2 - 2*x[2], x[2] * jnp.sin(x[0])])\n",
    "def f(X):\n",
    "    # return jnp.asarray([jnp.sin(x)])\n",
    "    return (jnp.sum(jnp.sin(X) ** 2),)\n",
    "\n"
   ]
  },
  {
   "cell_type": "code",
   "execution_count": 267,
   "metadata": {},
   "outputs": [],
   "source": [
    "def jacrev_and_vjp(fun: Callable, argnums: Union[int, Sequence[int]] = 0,\n",
    "           has_aux: bool = False, holomorphic: bool = False, allow_int: bool = False) -> Callable:\n",
    "  \"\"\"Jacobian of ``fun`` evaluated row-by-row using reverse-mode AD.\n",
    "\n",
    "  Args:\n",
    "    fun: Function whose Jacobian is to be computed.\n",
    "    argnums: Optional, integer or sequence of integers. Specifies which\n",
    "      positional argument(s) to differentiate with respect to (default ``0``).\n",
    "    has_aux: Optional, bool. Indicates whether ``fun`` returns a pair where the\n",
    "      first element is considered the output of the mathematical function to be\n",
    "      differentiated and the second element is auxiliary data. Default False.\n",
    "    holomorphic: Optional, bool. Indicates whether ``fun`` is promised to be\n",
    "      holomorphic. Default False.\n",
    "    allow_int: Optional, bool. Whether to allow differentiating with\n",
    "      respect to integer valued inputs. The gradient of an integer input will\n",
    "      have a trivial vector-space dtype (float0). Default False.\n",
    "\n",
    "  Returns:\n",
    "    A function with the same arguments as ``fun``, that evaluates the Jacobian of\n",
    "    ``fun`` using reverse-mode automatic differentiation. If ``has_aux`` is True\n",
    "    then a pair of (jacobian, auxiliary_data) is returned.\n",
    "\n",
    "  >>> import jax\n",
    "  >>> import jax.numpy as jnp\n",
    "  >>>\n",
    "  >>> def f(x):\n",
    "  ...   return jnp.asarray(\n",
    "  ...     [x[0], 5*x[2], 4*x[1]**2 - 2*x[2], x[2] * jnp.sin(x[0])])\n",
    "  ...\n",
    "  >>> print(jax.jacrev(f)(jnp.array([1., 2., 3.])))\n",
    "  [[ 1.       0.       0.     ]\n",
    "   [ 0.       0.       5.     ]\n",
    "   [ 0.      16.      -2.     ]\n",
    "   [ 1.6209   0.       0.84147]]\n",
    "  \"\"\"\n",
    "\n",
    "  docstr = (\"Jacobian of {fun} with respect to positional argument(s) \"\n",
    "            \"{argnums}. Takes the same arguments as {fun} but returns the \"\n",
    "            \"jacobian of the output with respect to the arguments at \"\n",
    "            \"positions {argnums}.\")\n",
    "\n",
    "  def jacfun(*args, **kwargs):\n",
    "    f = jax.scipy.linalg.lu.wrap_init(fun, kwargs)\n",
    "    f_partial, dyn_args = argnums_partial(f, argnums, args,\n",
    "                                          require_static_args_hashable=False)\n",
    "    tree_map(partial(_check_input_dtype_jacrev, holomorphic, allow_int), dyn_args)\n",
    "    if not has_aux:\n",
    "      y, pullback = _vjp(f_partial, *dyn_args)\n",
    "    else:\n",
    "      y, pullback, aux = _vjp(f_partial, *dyn_args, has_aux=True)\n",
    "    tree_map(partial(_check_output_dtype_jacrev, holomorphic), y)\n",
    "    jac = vmap(pullback)(_std_basis(y))\n",
    "    jac = jac[0] if isinstance(argnums, int) else jac\n",
    "    example_args = dyn_args[0] if isinstance(argnums, int) else dyn_args\n",
    "    jac_tree = tree_map(partial(_jacrev_unravel, y), example_args, jac)\n",
    "    jac_tree = tree_transpose(tree_structure(example_args), tree_structure(y), jac_tree)\n",
    "    if not has_aux:\n",
    "      return jac_tree, _vjp\n",
    "    else:\n",
    "      return jac_tree, _vjp, aux\n",
    "\n",
    "  return jacfun"
   ]
  },
  {
   "cell_type": "code",
   "execution_count": 17,
   "metadata": {},
   "outputs": [
    {
     "name": "stdout",
     "output_type": "stream",
     "text": [
      "grad value 1 = [4.5 4.5]\n"
     ]
    },
    {
     "ename": "ValueError",
     "evalue": "Shape of cotangent input to vjp pullback function (2,) must be the same as the shape of corresponding primal input ().",
     "output_type": "error",
     "traceback": [
      "\u001b[1;31m---------------------------------------------------------------------------\u001b[0m",
      "\u001b[1;31mValueError\u001b[0m                                Traceback (most recent call last)",
      "Cell \u001b[1;32mIn[17], line 27\u001b[0m\n\u001b[0;32m     25\u001b[0m hess_vp_1 \u001b[39m=\u001b[39m partial(_hvp_1, grad_f_1, alpha)\n\u001b[0;32m     26\u001b[0m \u001b[39mprint\u001b[39m(\u001b[39mf\u001b[39m\u001b[39m\"\u001b[39m\u001b[39mgrad value 1 = \u001b[39m\u001b[39m{\u001b[39;00mgrad_val_1\u001b[39m}\u001b[39;00m\u001b[39m\"\u001b[39m)\n\u001b[1;32m---> 27\u001b[0m \u001b[39mprint\u001b[39m(\u001b[39mf\u001b[39m\u001b[39m\"\u001b[39m\u001b[39mnot hessvp = \u001b[39m\u001b[39m{\u001b[39;00mhess_vp_1(test)\u001b[39m}\u001b[39;00m\u001b[39m\"\u001b[39m)\n\u001b[0;32m     29\u001b[0m \u001b[39m# grad value 1 = [4.5 4.5]\u001b[39;00m\n\u001b[0;32m     30\u001b[0m \u001b[39m# not hessvp = [[9. 9.]\u001b[39;00m\n\u001b[0;32m     31\u001b[0m \u001b[39m#  [9. 9.]]\u001b[39;00m\n\u001b[0;32m     32\u001b[0m \n\u001b[0;32m     33\u001b[0m \u001b[39m# this returns what I need, but does extra amount of work of calling `value_and_grad` twice\u001b[39;00m\n\u001b[0;32m     34\u001b[0m \u001b[39m# once for this call here, and another in the `grad` call inside `_hvp_2`\u001b[39;00m\n\u001b[0;32m     35\u001b[0m val_2, grad_val_2 \u001b[39m=\u001b[39m value_and_grad(func)(alpha)\n",
      "Cell \u001b[1;32mIn[17], line 16\u001b[0m, in \u001b[0;36m_hvp_1\u001b[1;34m(g_f, primals, tangents)\u001b[0m\n\u001b[0;32m     15\u001b[0m \u001b[39mdef\u001b[39;00m \u001b[39m_hvp_1\u001b[39m(g_f, primals, tangents):\n\u001b[1;32m---> 16\u001b[0m     \u001b[39mreturn\u001b[39;00m jvp(g_f, (primals,), (tangents,))[\u001b[39m1\u001b[39m]\n",
      "File \u001b[1;32mc:\\Users\\neilk\\AppData\\Local\\Programs\\Python\\Python39\\lib\\site-packages\\jax\\_src\\api.py:2408\u001b[0m, in \u001b[0;36mjvp\u001b[1;34m(fun, primals, tangents, has_aux)\u001b[0m\n\u001b[0;32m   2370\u001b[0m \u001b[39m\u001b[39m\u001b[39m\"\"\"Computes a (forward-mode) Jacobian-vector product of ``fun``.\u001b[39;00m\n\u001b[0;32m   2371\u001b[0m \n\u001b[0;32m   2372\u001b[0m \u001b[39mArgs:\u001b[39;00m\n\u001b[1;32m   (...)\u001b[0m\n\u001b[0;32m   2405\u001b[0m \u001b[39m0.19900084\u001b[39;00m\n\u001b[0;32m   2406\u001b[0m \u001b[39m\"\"\"\u001b[39;00m\n\u001b[0;32m   2407\u001b[0m _check_callable(fun)\n\u001b[1;32m-> 2408\u001b[0m \u001b[39mreturn\u001b[39;00m _jvp(lu\u001b[39m.\u001b[39;49mwrap_init(fun), primals, tangents, has_aux\u001b[39m=\u001b[39;49mhas_aux)\n",
      "File \u001b[1;32mc:\\Users\\neilk\\AppData\\Local\\Programs\\Python\\Python39\\lib\\site-packages\\jax\\_src\\api.py:2437\u001b[0m, in \u001b[0;36m_jvp\u001b[1;34m(fun, primals, tangents, has_aux)\u001b[0m\n\u001b[0;32m   2435\u001b[0m \u001b[39mif\u001b[39;00m \u001b[39mnot\u001b[39;00m has_aux:\n\u001b[0;32m   2436\u001b[0m   flat_fun, out_tree \u001b[39m=\u001b[39m flatten_fun_nokwargs(fun, tree_def)\n\u001b[1;32m-> 2437\u001b[0m   out_primals, out_tangents \u001b[39m=\u001b[39m ad\u001b[39m.\u001b[39;49mjvp(flat_fun)\u001b[39m.\u001b[39;49mcall_wrapped(ps_flat, ts_flat)\n\u001b[0;32m   2438\u001b[0m   out_tree \u001b[39m=\u001b[39m out_tree()\n\u001b[0;32m   2439\u001b[0m   \u001b[39mreturn\u001b[39;00m (tree_unflatten(out_tree, out_primals),\n\u001b[0;32m   2440\u001b[0m           tree_unflatten(out_tree, out_tangents))\n",
      "File \u001b[1;32mc:\\Users\\neilk\\AppData\\Local\\Programs\\Python\\Python39\\lib\\site-packages\\jax\\linear_util.py:167\u001b[0m, in \u001b[0;36mWrappedFun.call_wrapped\u001b[1;34m(self, *args, **kwargs)\u001b[0m\n\u001b[0;32m    164\u001b[0m gen \u001b[39m=\u001b[39m gen_static_args \u001b[39m=\u001b[39m out_store \u001b[39m=\u001b[39m \u001b[39mNone\u001b[39;00m\n\u001b[0;32m    166\u001b[0m \u001b[39mtry\u001b[39;00m:\n\u001b[1;32m--> 167\u001b[0m   ans \u001b[39m=\u001b[39m \u001b[39mself\u001b[39m\u001b[39m.\u001b[39mf(\u001b[39m*\u001b[39margs, \u001b[39m*\u001b[39m\u001b[39m*\u001b[39m\u001b[39mdict\u001b[39m(\u001b[39mself\u001b[39m\u001b[39m.\u001b[39mparams, \u001b[39m*\u001b[39m\u001b[39m*\u001b[39mkwargs))\n\u001b[0;32m    168\u001b[0m \u001b[39mexcept\u001b[39;00m:\n\u001b[0;32m    169\u001b[0m   \u001b[39m# Some transformations yield from inside context managers, so we have to\u001b[39;00m\n\u001b[0;32m    170\u001b[0m   \u001b[39m# interrupt them before reraising the exception. Otherwise they will only\u001b[39;00m\n\u001b[0;32m    171\u001b[0m   \u001b[39m# get garbage-collected at some later time, running their cleanup tasks\u001b[39;00m\n\u001b[0;32m    172\u001b[0m   \u001b[39m# only after this exception is handled, which can corrupt the global\u001b[39;00m\n\u001b[0;32m    173\u001b[0m   \u001b[39m# state.\u001b[39;00m\n\u001b[0;32m    174\u001b[0m   \u001b[39mwhile\u001b[39;00m stack:\n",
      "Cell \u001b[1;32mIn[17], line 23\u001b[0m, in \u001b[0;36m<lambda>\u001b[1;34m(x)\u001b[0m\n\u001b[0;32m     21\u001b[0m \u001b[39m# this does not compute what I'd like\u001b[39;00m\n\u001b[0;32m     22\u001b[0m val_1, grad_f_ \u001b[39m=\u001b[39m jax\u001b[39m.\u001b[39mvjp(func, alpha)\n\u001b[1;32m---> 23\u001b[0m grad_f_1 \u001b[39m=\u001b[39m \u001b[39mlambda\u001b[39;00m x: grad_f_(x)[\u001b[39m0\u001b[39m]\n\u001b[0;32m     24\u001b[0m grad_val_1 \u001b[39m=\u001b[39m grad_f_1(jnp\u001b[39m.\u001b[39mones(()))\n\u001b[0;32m     25\u001b[0m hess_vp_1 \u001b[39m=\u001b[39m partial(_hvp_1, grad_f_1, alpha)\n",
      "File \u001b[1;32mc:\\Users\\neilk\\AppData\\Local\\Programs\\Python\\Python39\\lib\\site-packages\\jax\\_src\\tree_util.py:301\u001b[0m, in \u001b[0;36m_HashableCallableShim.__call__\u001b[1;34m(self, *args, **kw)\u001b[0m\n\u001b[0;32m    300\u001b[0m \u001b[39mdef\u001b[39;00m \u001b[39m__call__\u001b[39m(\u001b[39mself\u001b[39m, \u001b[39m*\u001b[39margs, \u001b[39m*\u001b[39m\u001b[39m*\u001b[39mkw):\n\u001b[1;32m--> 301\u001b[0m   \u001b[39mreturn\u001b[39;00m \u001b[39mself\u001b[39m\u001b[39m.\u001b[39mfun(\u001b[39m*\u001b[39margs, \u001b[39m*\u001b[39m\u001b[39m*\u001b[39mkw)\n",
      "File \u001b[1;32mc:\\Users\\neilk\\AppData\\Local\\Programs\\Python\\Python39\\lib\\site-packages\\jax\\_src\\api.py:2578\u001b[0m, in \u001b[0;36m_vjp_pullback_wrapper\u001b[1;34m(name, cotangent_dtypes, cotangent_shapes, io_tree, fun, *py_args_)\u001b[0m\n\u001b[0;32m   2573\u001b[0m     \u001b[39mraise\u001b[39;00m \u001b[39mTypeError\u001b[39;00m(\n\u001b[0;32m   2574\u001b[0m         \u001b[39mf\u001b[39m\u001b[39m\"\u001b[39m\u001b[39mType of cotangent input to vjp pullback function (\u001b[39m\u001b[39m{\u001b[39;00mct_dtype\u001b[39m}\u001b[39;00m\u001b[39m) is not \u001b[39m\u001b[39m\"\u001b[39m\n\u001b[0;32m   2575\u001b[0m         \u001b[39mf\u001b[39m\u001b[39m\"\u001b[39m\u001b[39mthe expected tangent type (\u001b[39m\u001b[39m{\u001b[39;00mexpected_tangent_dtype\u001b[39m}\u001b[39;00m\u001b[39m) of corresponding primal output \u001b[39m\u001b[39m\"\u001b[39m\n\u001b[0;32m   2576\u001b[0m         \u001b[39mf\u001b[39m\u001b[39m\"\u001b[39m\u001b[39mwith dtype \u001b[39m\u001b[39m{\u001b[39;00m_dtype(arg)\u001b[39m}\u001b[39;00m\u001b[39m.\u001b[39m\u001b[39m\"\u001b[39m)\n\u001b[0;32m   2577\u001b[0m   \u001b[39mif\u001b[39;00m np\u001b[39m.\u001b[39mshape(arg) \u001b[39m!=\u001b[39m ct_shape:\n\u001b[1;32m-> 2578\u001b[0m     \u001b[39mraise\u001b[39;00m \u001b[39mValueError\u001b[39;00m(\n\u001b[0;32m   2579\u001b[0m         \u001b[39mf\u001b[39m\u001b[39m\"\u001b[39m\u001b[39mShape of cotangent input to vjp pullback function \u001b[39m\u001b[39m{\u001b[39;00mnp\u001b[39m.\u001b[39mshape(arg)\u001b[39m}\u001b[39;00m\u001b[39m \u001b[39m\u001b[39m\"\u001b[39m\n\u001b[0;32m   2580\u001b[0m         \u001b[39m\"\u001b[39m\u001b[39mmust be the same as the shape of corresponding primal input \u001b[39m\u001b[39m\"\u001b[39m\n\u001b[0;32m   2581\u001b[0m         \u001b[39mf\u001b[39m\u001b[39m\"\u001b[39m\u001b[39m{\u001b[39;00mct_shape\u001b[39m}\u001b[39;00m\u001b[39m.\u001b[39m\u001b[39m\"\u001b[39m)\n\u001b[0;32m   2582\u001b[0m ans \u001b[39m=\u001b[39m fun(\u001b[39m*\u001b[39margs)\n\u001b[0;32m   2583\u001b[0m \u001b[39mreturn\u001b[39;00m tree_unflatten(out_tree, ans)\n",
      "\u001b[1;31mValueError\u001b[0m: Shape of cotangent input to vjp pullback function (2,) must be the same as the shape of corresponding primal input ()."
     ]
    }
   ],
   "source": [
    "from jax import jvp, vjp, value_and_grad\n",
    "\n",
    "alpha = jnp.ones(2) # some jnp.ndarray\n",
    "test = jnp.ones(2) * 2 \n",
    "\n",
    "# random data\n",
    "Q = jnp.array([[1., 0.5], [0.5, 1.]])\n",
    "b = 3. * jnp.ones(2)\n",
    "c = 5.\n",
    "\n",
    "# logic removed for now, but computes a scalar function on Rn -> R\n",
    "def func(alpha: jnp.ndarray):\n",
    "    return 0.5 * alpha.T @ Q @ alpha + b.T @ alpha + c \n",
    "\n",
    "def _hvp_1(g_f, primals, tangents):\n",
    "    return jvp(g_f, (primals,), (tangents,))[1]\n",
    "\n",
    "def _hvp_2(f, primals, tangents):\n",
    "    return jvp(grad(f), (primals,), (tangents,))[1]\n",
    "\n",
    "# this does not compute what I'd like\n",
    "val_1, grad_f_ = jax.vjp(func, alpha)\n",
    "grad_f_1 = lambda x: grad_f_(x)[0]\n",
    "grad_val_1 = grad_f_1(jnp.ones(()))\n",
    "hess_vp_1 = partial(_hvp_1, grad_f_1, alpha)\n",
    "print(f\"grad value 1 = {grad_val_1}\")\n",
    "print(f\"not hessvp = {hess_vp_1(test)}\")\n",
    "\n",
    "# grad value 1 = [4.5 4.5]\n",
    "# not hessvp = [[9. 9.]\n",
    "#  [9. 9.]]\n",
    "\n",
    "# this returns what I need, but does extra amount of work of calling `value_and_grad` twice\n",
    "# once for this call here, and another in the `grad` call inside `_hvp_2`\n",
    "val_2, grad_val_2 = value_and_grad(func)(alpha)\n",
    "hess_vp_2 = partial(_hvp_2, func, alpha)\n",
    "print(f\"grad value 2 = {grad_val_2}\")\n",
    "print(f\"hessvp = {hess_vp_2(test)}\")\n",
    "\n",
    "# grad value 2 = [4.5 4.5]\n",
    "# hessvp = [3. 3.]"
   ]
  },
  {
   "cell_type": "code",
   "execution_count": 16,
   "metadata": {},
   "outputs": [
    {
     "ename": "ValueError",
     "evalue": "Shape of cotangent input to vjp pullback function (3,) must be the same as the shape of corresponding primal input ().",
     "output_type": "error",
     "traceback": [
      "\u001b[1;31m---------------------------------------------------------------------------\u001b[0m",
      "\u001b[1;31mValueError\u001b[0m                                Traceback (most recent call last)",
      "Cell \u001b[1;32mIn[16], line 14\u001b[0m\n\u001b[0;32m      8\u001b[0m V \u001b[39m=\u001b[39m jnp\u001b[39m.\u001b[39mones_like(X)\n\u001b[0;32m      9\u001b[0m \u001b[39m# primals, vjp_fun = jax.vjp(model, X)\u001b[39;00m\n\u001b[0;32m     10\u001b[0m \u001b[39m# J, = vmap(vjp_fun)(jnp.eye(len(primals)))\u001b[39;00m\n\u001b[0;32m     11\u001b[0m \n\u001b[0;32m     12\u001b[0m \u001b[39m# jax.jvp(vjp_fun, (X,), (V,))\u001b[39;00m\n\u001b[1;32m---> 14\u001b[0m hess_vp_1 \u001b[39m=\u001b[39m jax\u001b[39m.\u001b[39;49mjvp(\u001b[39mlambda\u001b[39;49;00m x: jax\u001b[39m.\u001b[39;49mvjp(f, X)[\u001b[39m1\u001b[39;49m](x)[\u001b[39m0\u001b[39;49m],\n\u001b[0;32m     15\u001b[0m                 (X,), (V,))[\u001b[39m1\u001b[39m]\n",
      "File \u001b[1;32mc:\\Users\\neilk\\AppData\\Local\\Programs\\Python\\Python39\\lib\\site-packages\\jax\\_src\\api.py:2408\u001b[0m, in \u001b[0;36mjvp\u001b[1;34m(fun, primals, tangents, has_aux)\u001b[0m\n\u001b[0;32m   2370\u001b[0m \u001b[39m\u001b[39m\u001b[39m\"\"\"Computes a (forward-mode) Jacobian-vector product of ``fun``.\u001b[39;00m\n\u001b[0;32m   2371\u001b[0m \n\u001b[0;32m   2372\u001b[0m \u001b[39mArgs:\u001b[39;00m\n\u001b[1;32m   (...)\u001b[0m\n\u001b[0;32m   2405\u001b[0m \u001b[39m0.19900084\u001b[39;00m\n\u001b[0;32m   2406\u001b[0m \u001b[39m\"\"\"\u001b[39;00m\n\u001b[0;32m   2407\u001b[0m _check_callable(fun)\n\u001b[1;32m-> 2408\u001b[0m \u001b[39mreturn\u001b[39;00m _jvp(lu\u001b[39m.\u001b[39;49mwrap_init(fun), primals, tangents, has_aux\u001b[39m=\u001b[39;49mhas_aux)\n",
      "File \u001b[1;32mc:\\Users\\neilk\\AppData\\Local\\Programs\\Python\\Python39\\lib\\site-packages\\jax\\_src\\api.py:2437\u001b[0m, in \u001b[0;36m_jvp\u001b[1;34m(fun, primals, tangents, has_aux)\u001b[0m\n\u001b[0;32m   2435\u001b[0m \u001b[39mif\u001b[39;00m \u001b[39mnot\u001b[39;00m has_aux:\n\u001b[0;32m   2436\u001b[0m   flat_fun, out_tree \u001b[39m=\u001b[39m flatten_fun_nokwargs(fun, tree_def)\n\u001b[1;32m-> 2437\u001b[0m   out_primals, out_tangents \u001b[39m=\u001b[39m ad\u001b[39m.\u001b[39;49mjvp(flat_fun)\u001b[39m.\u001b[39;49mcall_wrapped(ps_flat, ts_flat)\n\u001b[0;32m   2438\u001b[0m   out_tree \u001b[39m=\u001b[39m out_tree()\n\u001b[0;32m   2439\u001b[0m   \u001b[39mreturn\u001b[39;00m (tree_unflatten(out_tree, out_primals),\n\u001b[0;32m   2440\u001b[0m           tree_unflatten(out_tree, out_tangents))\n",
      "File \u001b[1;32mc:\\Users\\neilk\\AppData\\Local\\Programs\\Python\\Python39\\lib\\site-packages\\jax\\linear_util.py:167\u001b[0m, in \u001b[0;36mWrappedFun.call_wrapped\u001b[1;34m(self, *args, **kwargs)\u001b[0m\n\u001b[0;32m    164\u001b[0m gen \u001b[39m=\u001b[39m gen_static_args \u001b[39m=\u001b[39m out_store \u001b[39m=\u001b[39m \u001b[39mNone\u001b[39;00m\n\u001b[0;32m    166\u001b[0m \u001b[39mtry\u001b[39;00m:\n\u001b[1;32m--> 167\u001b[0m   ans \u001b[39m=\u001b[39m \u001b[39mself\u001b[39m\u001b[39m.\u001b[39mf(\u001b[39m*\u001b[39margs, \u001b[39m*\u001b[39m\u001b[39m*\u001b[39m\u001b[39mdict\u001b[39m(\u001b[39mself\u001b[39m\u001b[39m.\u001b[39mparams, \u001b[39m*\u001b[39m\u001b[39m*\u001b[39mkwargs))\n\u001b[0;32m    168\u001b[0m \u001b[39mexcept\u001b[39;00m:\n\u001b[0;32m    169\u001b[0m   \u001b[39m# Some transformations yield from inside context managers, so we have to\u001b[39;00m\n\u001b[0;32m    170\u001b[0m   \u001b[39m# interrupt them before reraising the exception. Otherwise they will only\u001b[39;00m\n\u001b[0;32m    171\u001b[0m   \u001b[39m# get garbage-collected at some later time, running their cleanup tasks\u001b[39;00m\n\u001b[0;32m    172\u001b[0m   \u001b[39m# only after this exception is handled, which can corrupt the global\u001b[39;00m\n\u001b[0;32m    173\u001b[0m   \u001b[39m# state.\u001b[39;00m\n\u001b[0;32m    174\u001b[0m   \u001b[39mwhile\u001b[39;00m stack:\n",
      "Cell \u001b[1;32mIn[16], line 14\u001b[0m, in \u001b[0;36m<lambda>\u001b[1;34m(x)\u001b[0m\n\u001b[0;32m      8\u001b[0m V \u001b[39m=\u001b[39m jnp\u001b[39m.\u001b[39mones_like(X)\n\u001b[0;32m      9\u001b[0m \u001b[39m# primals, vjp_fun = jax.vjp(model, X)\u001b[39;00m\n\u001b[0;32m     10\u001b[0m \u001b[39m# J, = vmap(vjp_fun)(jnp.eye(len(primals)))\u001b[39;00m\n\u001b[0;32m     11\u001b[0m \n\u001b[0;32m     12\u001b[0m \u001b[39m# jax.jvp(vjp_fun, (X,), (V,))\u001b[39;00m\n\u001b[1;32m---> 14\u001b[0m hess_vp_1 \u001b[39m=\u001b[39m jax\u001b[39m.\u001b[39mjvp(\u001b[39mlambda\u001b[39;00m x: jax\u001b[39m.\u001b[39;49mvjp(f, X)[\u001b[39m1\u001b[39;49m](x)[\u001b[39m0\u001b[39m],\n\u001b[0;32m     15\u001b[0m                 (X,), (V,))[\u001b[39m1\u001b[39m]\n",
      "File \u001b[1;32mc:\\Users\\neilk\\AppData\\Local\\Programs\\Python\\Python39\\lib\\site-packages\\jax\\_src\\tree_util.py:301\u001b[0m, in \u001b[0;36m_HashableCallableShim.__call__\u001b[1;34m(self, *args, **kw)\u001b[0m\n\u001b[0;32m    300\u001b[0m \u001b[39mdef\u001b[39;00m \u001b[39m__call__\u001b[39m(\u001b[39mself\u001b[39m, \u001b[39m*\u001b[39margs, \u001b[39m*\u001b[39m\u001b[39m*\u001b[39mkw):\n\u001b[1;32m--> 301\u001b[0m   \u001b[39mreturn\u001b[39;00m \u001b[39mself\u001b[39m\u001b[39m.\u001b[39mfun(\u001b[39m*\u001b[39margs, \u001b[39m*\u001b[39m\u001b[39m*\u001b[39mkw)\n",
      "File \u001b[1;32mc:\\Users\\neilk\\AppData\\Local\\Programs\\Python\\Python39\\lib\\site-packages\\jax\\_src\\api.py:2578\u001b[0m, in \u001b[0;36m_vjp_pullback_wrapper\u001b[1;34m(name, cotangent_dtypes, cotangent_shapes, io_tree, fun, *py_args_)\u001b[0m\n\u001b[0;32m   2573\u001b[0m     \u001b[39mraise\u001b[39;00m \u001b[39mTypeError\u001b[39;00m(\n\u001b[0;32m   2574\u001b[0m         \u001b[39mf\u001b[39m\u001b[39m\"\u001b[39m\u001b[39mType of cotangent input to vjp pullback function (\u001b[39m\u001b[39m{\u001b[39;00mct_dtype\u001b[39m}\u001b[39;00m\u001b[39m) is not \u001b[39m\u001b[39m\"\u001b[39m\n\u001b[0;32m   2575\u001b[0m         \u001b[39mf\u001b[39m\u001b[39m\"\u001b[39m\u001b[39mthe expected tangent type (\u001b[39m\u001b[39m{\u001b[39;00mexpected_tangent_dtype\u001b[39m}\u001b[39;00m\u001b[39m) of corresponding primal output \u001b[39m\u001b[39m\"\u001b[39m\n\u001b[0;32m   2576\u001b[0m         \u001b[39mf\u001b[39m\u001b[39m\"\u001b[39m\u001b[39mwith dtype \u001b[39m\u001b[39m{\u001b[39;00m_dtype(arg)\u001b[39m}\u001b[39;00m\u001b[39m.\u001b[39m\u001b[39m\"\u001b[39m)\n\u001b[0;32m   2577\u001b[0m   \u001b[39mif\u001b[39;00m np\u001b[39m.\u001b[39mshape(arg) \u001b[39m!=\u001b[39m ct_shape:\n\u001b[1;32m-> 2578\u001b[0m     \u001b[39mraise\u001b[39;00m \u001b[39mValueError\u001b[39;00m(\n\u001b[0;32m   2579\u001b[0m         \u001b[39mf\u001b[39m\u001b[39m\"\u001b[39m\u001b[39mShape of cotangent input to vjp pullback function \u001b[39m\u001b[39m{\u001b[39;00mnp\u001b[39m.\u001b[39mshape(arg)\u001b[39m}\u001b[39;00m\u001b[39m \u001b[39m\u001b[39m\"\u001b[39m\n\u001b[0;32m   2580\u001b[0m         \u001b[39m\"\u001b[39m\u001b[39mmust be the same as the shape of corresponding primal input \u001b[39m\u001b[39m\"\u001b[39m\n\u001b[0;32m   2581\u001b[0m         \u001b[39mf\u001b[39m\u001b[39m\"\u001b[39m\u001b[39m{\u001b[39;00mct_shape\u001b[39m}\u001b[39;00m\u001b[39m.\u001b[39m\u001b[39m\"\u001b[39m)\n\u001b[0;32m   2582\u001b[0m ans \u001b[39m=\u001b[39m fun(\u001b[39m*\u001b[39margs)\n\u001b[0;32m   2583\u001b[0m \u001b[39mreturn\u001b[39;00m tree_unflatten(out_tree, ans)\n",
      "\u001b[1;31mValueError\u001b[0m: Shape of cotangent input to vjp pullback function (3,) must be the same as the shape of corresponding primal input ()."
     ]
    }
   ],
   "source": [
    "key = random.PRNGKey(0)\n",
    "key, subkey = random.split(key, 2)\n",
    "model = eqx.nn.MLP(key=subkey, in_size=3, out_size=1, width_size=20, depth=3, activation=jax.nn.elu)\n",
    "\n",
    "# jax.grad(model)(jnp.ones((3,)) * jnp.pi / 2)\n",
    "\n",
    "X = jnp.ones((3,)) * jnp.pi / 2\n",
    "V = jnp.ones_like(X)\n",
    "# primals, vjp_fun = jax.vjp(model, X)\n",
    "# J, = vmap(vjp_fun)(jnp.eye(len(primals)))\n",
    "\n",
    "# jax.jvp(vjp_fun, (X,), (V,))\n",
    "\n",
    "hess_vp_1 = jax.jvp(lambda x: jax.vjp(f, X)[1](x)[0],\n",
    "                (X,), (V,))[1]"
   ]
  },
  {
   "cell_type": "code",
   "execution_count": 377,
   "metadata": {},
   "outputs": [
    {
     "ename": "TypeError",
     "evalue": "dot_general requires contracting dimensions to have the same shape, got (3,) and (1,).",
     "output_type": "error",
     "traceback": [
      "\u001b[1;31m---------------------------------------------------------------------------\u001b[0m",
      "\u001b[1;31mTypeError\u001b[0m                                 Traceback (most recent call last)",
      "Cell \u001b[1;32mIn[377], line 24\u001b[0m\n\u001b[0;32m     17\u001b[0m J, \u001b[39m=\u001b[39m vmap(vjp_fun)(jnp\u001b[39m.\u001b[39meye(\u001b[39mlen\u001b[39m(primals)))\n\u001b[0;32m     19\u001b[0m \u001b[39m# hesse_vector\u001b[39;00m\n\u001b[0;32m     20\u001b[0m \u001b[39m# a, b = jax.jvp(vjp_fun, (J,), (jnp.eye(len(primals)),))\u001b[39;00m\n\u001b[0;32m     21\u001b[0m \n\u001b[0;32m     22\u001b[0m \u001b[39m# a = jax.jacfwd(vjp_fun)(jnp.ones((1,)))\u001b[39;00m\n\u001b[1;32m---> 24\u001b[0m a \u001b[39m=\u001b[39m hvp(model, (jnp\u001b[39m.\u001b[39;49mones(\u001b[39m1\u001b[39;49m,),), (jnp\u001b[39m.\u001b[39;49mones(\u001b[39m1\u001b[39;49m,),))\n\u001b[0;32m     26\u001b[0m \u001b[39m# a, b = jax.jvp(vjp_fun, (primals,), (jnp.array([3.0]),))\u001b[39;00m\n\u001b[0;32m     28\u001b[0m \u001b[39mprint\u001b[39m(\u001b[39m\"\u001b[39m\u001b[39m-\u001b[39m\u001b[39m\"\u001b[39m \u001b[39m*\u001b[39m \u001b[39m80\u001b[39m)\n",
      "Cell \u001b[1;32mIn[172], line 2\u001b[0m, in \u001b[0;36mhvp\u001b[1;34m(f, primals, tangents)\u001b[0m\n\u001b[0;32m      1\u001b[0m \u001b[39mdef\u001b[39;00m \u001b[39mhvp\u001b[39m(f, primals, tangents):\n\u001b[1;32m----> 2\u001b[0m     \u001b[39mreturn\u001b[39;00m jax\u001b[39m.\u001b[39;49mjvp(jax\u001b[39m.\u001b[39;49mgrad(f), primals, tangents)\n",
      "File \u001b[1;32mc:\\Users\\neilk\\AppData\\Local\\Programs\\Python\\Python39\\lib\\site-packages\\jax\\_src\\api.py:2408\u001b[0m, in \u001b[0;36mjvp\u001b[1;34m(fun, primals, tangents, has_aux)\u001b[0m\n\u001b[0;32m   2370\u001b[0m \u001b[39m\u001b[39m\u001b[39m\"\"\"Computes a (forward-mode) Jacobian-vector product of ``fun``.\u001b[39;00m\n\u001b[0;32m   2371\u001b[0m \n\u001b[0;32m   2372\u001b[0m \u001b[39mArgs:\u001b[39;00m\n\u001b[1;32m   (...)\u001b[0m\n\u001b[0;32m   2405\u001b[0m \u001b[39m0.19900084\u001b[39;00m\n\u001b[0;32m   2406\u001b[0m \u001b[39m\"\"\"\u001b[39;00m\n\u001b[0;32m   2407\u001b[0m _check_callable(fun)\n\u001b[1;32m-> 2408\u001b[0m \u001b[39mreturn\u001b[39;00m _jvp(lu\u001b[39m.\u001b[39;49mwrap_init(fun), primals, tangents, has_aux\u001b[39m=\u001b[39;49mhas_aux)\n",
      "File \u001b[1;32mc:\\Users\\neilk\\AppData\\Local\\Programs\\Python\\Python39\\lib\\site-packages\\jax\\_src\\api.py:2437\u001b[0m, in \u001b[0;36m_jvp\u001b[1;34m(fun, primals, tangents, has_aux)\u001b[0m\n\u001b[0;32m   2435\u001b[0m \u001b[39mif\u001b[39;00m \u001b[39mnot\u001b[39;00m has_aux:\n\u001b[0;32m   2436\u001b[0m   flat_fun, out_tree \u001b[39m=\u001b[39m flatten_fun_nokwargs(fun, tree_def)\n\u001b[1;32m-> 2437\u001b[0m   out_primals, out_tangents \u001b[39m=\u001b[39m ad\u001b[39m.\u001b[39;49mjvp(flat_fun)\u001b[39m.\u001b[39;49mcall_wrapped(ps_flat, ts_flat)\n\u001b[0;32m   2438\u001b[0m   out_tree \u001b[39m=\u001b[39m out_tree()\n\u001b[0;32m   2439\u001b[0m   \u001b[39mreturn\u001b[39;00m (tree_unflatten(out_tree, out_primals),\n\u001b[0;32m   2440\u001b[0m           tree_unflatten(out_tree, out_tangents))\n",
      "File \u001b[1;32mc:\\Users\\neilk\\AppData\\Local\\Programs\\Python\\Python39\\lib\\site-packages\\jax\\linear_util.py:167\u001b[0m, in \u001b[0;36mWrappedFun.call_wrapped\u001b[1;34m(self, *args, **kwargs)\u001b[0m\n\u001b[0;32m    164\u001b[0m gen \u001b[39m=\u001b[39m gen_static_args \u001b[39m=\u001b[39m out_store \u001b[39m=\u001b[39m \u001b[39mNone\u001b[39;00m\n\u001b[0;32m    166\u001b[0m \u001b[39mtry\u001b[39;00m:\n\u001b[1;32m--> 167\u001b[0m   ans \u001b[39m=\u001b[39m \u001b[39mself\u001b[39m\u001b[39m.\u001b[39mf(\u001b[39m*\u001b[39margs, \u001b[39m*\u001b[39m\u001b[39m*\u001b[39m\u001b[39mdict\u001b[39m(\u001b[39mself\u001b[39m\u001b[39m.\u001b[39mparams, \u001b[39m*\u001b[39m\u001b[39m*\u001b[39mkwargs))\n\u001b[0;32m    168\u001b[0m \u001b[39mexcept\u001b[39;00m:\n\u001b[0;32m    169\u001b[0m   \u001b[39m# Some transformations yield from inside context managers, so we have to\u001b[39;00m\n\u001b[0;32m    170\u001b[0m   \u001b[39m# interrupt them before reraising the exception. Otherwise they will only\u001b[39;00m\n\u001b[0;32m    171\u001b[0m   \u001b[39m# get garbage-collected at some later time, running their cleanup tasks\u001b[39;00m\n\u001b[0;32m    172\u001b[0m   \u001b[39m# only after this exception is handled, which can corrupt the global\u001b[39;00m\n\u001b[0;32m    173\u001b[0m   \u001b[39m# state.\u001b[39;00m\n\u001b[0;32m    174\u001b[0m   \u001b[39mwhile\u001b[39;00m stack:\n",
      "    \u001b[1;31m[... skipping hidden 10 frame]\u001b[0m\n",
      "File \u001b[1;32mc:\\Users\\neilk\\AppData\\Local\\Programs\\Python\\Python39\\lib\\site-packages\\equinox\\nn\\composed.py:95\u001b[0m, in \u001b[0;36mMLP.__call__\u001b[1;34m(self, x, key)\u001b[0m\n\u001b[0;32m     84\u001b[0m \u001b[39m\u001b[39m\u001b[39m\"\"\"**Arguments:**\u001b[39;00m\n\u001b[0;32m     85\u001b[0m \n\u001b[0;32m     86\u001b[0m \u001b[39m- `x`: A JAX array with shape `(in_size,)`.\u001b[39;00m\n\u001b[1;32m   (...)\u001b[0m\n\u001b[0;32m     92\u001b[0m \u001b[39mA JAX array with shape `(out_size,)`.\u001b[39;00m\n\u001b[0;32m     93\u001b[0m \u001b[39m\"\"\"\u001b[39;00m\n\u001b[0;32m     94\u001b[0m \u001b[39mfor\u001b[39;00m layer \u001b[39min\u001b[39;00m \u001b[39mself\u001b[39m\u001b[39m.\u001b[39mlayers[:\u001b[39m-\u001b[39m\u001b[39m1\u001b[39m]:\n\u001b[1;32m---> 95\u001b[0m     x \u001b[39m=\u001b[39m layer(x)\n\u001b[0;32m     96\u001b[0m     x \u001b[39m=\u001b[39m \u001b[39mself\u001b[39m\u001b[39m.\u001b[39mactivation(x)\n\u001b[0;32m     97\u001b[0m x \u001b[39m=\u001b[39m \u001b[39mself\u001b[39m\u001b[39m.\u001b[39mlayers[\u001b[39m-\u001b[39m\u001b[39m1\u001b[39m](x)\n",
      "File \u001b[1;32mc:\\Users\\neilk\\AppData\\Local\\Programs\\Python\\Python39\\lib\\site-packages\\equinox\\nn\\linear.py:75\u001b[0m, in \u001b[0;36mLinear.__call__\u001b[1;34m(self, x, key)\u001b[0m\n\u001b[0;32m     51\u001b[0m \u001b[39mdef\u001b[39;00m \u001b[39m__call__\u001b[39m(\n\u001b[0;32m     52\u001b[0m     \u001b[39mself\u001b[39m, x: Array, \u001b[39m*\u001b[39m, key: Optional[\u001b[39m\"\u001b[39m\u001b[39mjax.random.PRNGKey\u001b[39m\u001b[39m\"\u001b[39m] \u001b[39m=\u001b[39m \u001b[39mNone\u001b[39;00m\n\u001b[0;32m     53\u001b[0m ) \u001b[39m-\u001b[39m\u001b[39m>\u001b[39m Array:\n\u001b[0;32m     54\u001b[0m \u001b[39m    \u001b[39m\u001b[39m\"\"\"**Arguments:**\u001b[39;00m\n\u001b[0;32m     55\u001b[0m \n\u001b[0;32m     56\u001b[0m \u001b[39m    - `x`: The input. Should be a JAX array of shape `(in_features,)`.\u001b[39;00m\n\u001b[1;32m   (...)\u001b[0m\n\u001b[0;32m     72\u001b[0m \u001b[39m    A JAX array of shape `(out_features,)`\u001b[39;00m\n\u001b[0;32m     73\u001b[0m \u001b[39m    \"\"\"\u001b[39;00m\n\u001b[1;32m---> 75\u001b[0m     x \u001b[39m=\u001b[39m \u001b[39mself\u001b[39;49m\u001b[39m.\u001b[39;49mweight \u001b[39m@\u001b[39;49m x\n\u001b[0;32m     76\u001b[0m     \u001b[39mif\u001b[39;00m \u001b[39mself\u001b[39m\u001b[39m.\u001b[39mbias \u001b[39mis\u001b[39;00m \u001b[39mnot\u001b[39;00m \u001b[39mNone\u001b[39;00m:\n\u001b[0;32m     77\u001b[0m         x \u001b[39m=\u001b[39m x \u001b[39m+\u001b[39m \u001b[39mself\u001b[39m\u001b[39m.\u001b[39mbias\n",
      "File \u001b[1;32mc:\\Users\\neilk\\AppData\\Local\\Programs\\Python\\Python39\\lib\\site-packages\\jax\\_src\\numpy\\lax_numpy.py:4936\u001b[0m, in \u001b[0;36m_defer_to_unrecognized_arg.<locals>.deferring_binary_op\u001b[1;34m(self, other)\u001b[0m\n\u001b[0;32m   4934\u001b[0m args \u001b[39m=\u001b[39m (other, \u001b[39mself\u001b[39m) \u001b[39mif\u001b[39;00m swap \u001b[39melse\u001b[39;00m (\u001b[39mself\u001b[39m, other)\n\u001b[0;32m   4935\u001b[0m \u001b[39mif\u001b[39;00m \u001b[39misinstance\u001b[39m(other, _accepted_binop_types):\n\u001b[1;32m-> 4936\u001b[0m   \u001b[39mreturn\u001b[39;00m binary_op(\u001b[39m*\u001b[39;49margs)\n\u001b[0;32m   4937\u001b[0m \u001b[39mif\u001b[39;00m \u001b[39misinstance\u001b[39m(other, _rejected_binop_types):\n\u001b[0;32m   4938\u001b[0m   \u001b[39mraise\u001b[39;00m \u001b[39mTypeError\u001b[39;00m(\u001b[39mf\u001b[39m\u001b[39m\"\u001b[39m\u001b[39munsupported operand type(s) for \u001b[39m\u001b[39m{\u001b[39;00mopchar\u001b[39m}\u001b[39;00m\u001b[39m: \u001b[39m\u001b[39m\"\u001b[39m\n\u001b[0;32m   4939\u001b[0m                   \u001b[39mf\u001b[39m\u001b[39m\"\u001b[39m\u001b[39m{\u001b[39;00m\u001b[39mtype\u001b[39m(args[\u001b[39m0\u001b[39m])\u001b[39m.\u001b[39m\u001b[39m__name__\u001b[39m\u001b[39m!r}\u001b[39;00m\u001b[39m and \u001b[39m\u001b[39m{\u001b[39;00m\u001b[39mtype\u001b[39m(args[\u001b[39m1\u001b[39m])\u001b[39m.\u001b[39m\u001b[39m__name__\u001b[39m\u001b[39m!r}\u001b[39;00m\u001b[39m\"\u001b[39m)\n",
      "    \u001b[1;31m[... skipping hidden 19 frame]\u001b[0m\n",
      "File \u001b[1;32mc:\\Users\\neilk\\AppData\\Local\\Programs\\Python\\Python39\\lib\\site-packages\\jax\\_src\\numpy\\lax_numpy.py:2979\u001b[0m, in \u001b[0;36mmatmul\u001b[1;34m(a, b, precision)\u001b[0m\n\u001b[0;32m   2977\u001b[0m a \u001b[39m=\u001b[39m lax\u001b[39m.\u001b[39msqueeze(a, \u001b[39mtuple\u001b[39m(a_squeeze))\n\u001b[0;32m   2978\u001b[0m b \u001b[39m=\u001b[39m lax\u001b[39m.\u001b[39msqueeze(b, \u001b[39mtuple\u001b[39m(b_squeeze))\n\u001b[1;32m-> 2979\u001b[0m out \u001b[39m=\u001b[39m lax\u001b[39m.\u001b[39;49mdot_general(\n\u001b[0;32m   2980\u001b[0m   a, b, (((ndim(a) \u001b[39m-\u001b[39;49m \u001b[39m1\u001b[39;49m,), (ndim(b) \u001b[39m-\u001b[39;49m \u001b[39m1\u001b[39;49m \u001b[39m-\u001b[39;49m b_is_mat,)), (a_batch, b_batch)),\n\u001b[0;32m   2981\u001b[0m   precision\u001b[39m=\u001b[39;49mprecision)\n\u001b[0;32m   2982\u001b[0m \u001b[39mreturn\u001b[39;00m lax\u001b[39m.\u001b[39mtranspose(out, perm)\n",
      "    \u001b[1;31m[... skipping hidden 15 frame]\u001b[0m\n",
      "File \u001b[1;32mc:\\Users\\neilk\\AppData\\Local\\Programs\\Python\\Python39\\lib\\site-packages\\jax\\_src\\lax\\lax.py:2544\u001b[0m, in \u001b[0;36m_dot_general_shape_rule\u001b[1;34m(lhs, rhs, dimension_numbers, precision, preferred_element_type)\u001b[0m\n\u001b[0;32m   2541\u001b[0m \u001b[39mif\u001b[39;00m \u001b[39mnot\u001b[39;00m core\u001b[39m.\u001b[39msymbolic_equal_shape(lhs_contracting_shape, rhs_contracting_shape):\n\u001b[0;32m   2542\u001b[0m   msg \u001b[39m=\u001b[39m (\u001b[39m\"\u001b[39m\u001b[39mdot_general requires contracting dimensions to have the same \u001b[39m\u001b[39m\"\u001b[39m\n\u001b[0;32m   2543\u001b[0m          \u001b[39m\"\u001b[39m\u001b[39mshape, got \u001b[39m\u001b[39m{}\u001b[39;00m\u001b[39m and \u001b[39m\u001b[39m{}\u001b[39;00m\u001b[39m.\u001b[39m\u001b[39m\"\u001b[39m)\n\u001b[1;32m-> 2544\u001b[0m   \u001b[39mraise\u001b[39;00m \u001b[39mTypeError\u001b[39;00m(msg\u001b[39m.\u001b[39mformat(lhs_contracting_shape, rhs_contracting_shape))\n\u001b[0;32m   2546\u001b[0m \u001b[39mreturn\u001b[39;00m _dot_general_shape_computation(lhs\u001b[39m.\u001b[39mshape, rhs\u001b[39m.\u001b[39mshape, dimension_numbers)\n",
      "\u001b[1;31mTypeError\u001b[0m: dot_general requires contracting dimensions to have the same shape, got (3,) and (1,)."
     ]
    }
   ],
   "source": [
    "key, subkey = random.split(key, 2)\n",
    "model = eqx.nn.MLP(key=subkey, in_size=3, out_size=1, width_size=20, depth=3, activation=jax.nn.elu)\n",
    "\n",
    "# X = random.normal(subkey1, (3,4))\n",
    "# V = random.normal(subkey2, (3,4))\n",
    "# V = jnp.ones((3,4))\n",
    "\n",
    "# res = hvp(f, (X,), (V,))\n",
    "\n",
    "# X = random.normal(subkey1, (3,))\n",
    "X = jnp.ones((3,)) * jnp.pi / 2\n",
    "V = jnp.ones_like(X)\n",
    "\n",
    "# X = X[..., jnp.newaxis]\n",
    "\n",
    "primals, vjp_fun = jax.vjp(model, X)\n",
    "J, = vmap(vjp_fun)(jnp.eye(len(primals)))\n",
    "\n",
    "# hesse_vector\n",
    "# a, b = jax.jvp(vjp_fun, (J,), (jnp.eye(len(primals)),))\n",
    "\n",
    "# a = jax.jacfwd(vjp_fun)(jnp.ones((1,)))\n",
    "\n",
    "a = hvp(model, (jnp.ones(1,),), (jnp.ones(1,),))\n",
    "\n",
    "# a, b = jax.jvp(vjp_fun, (primals,), (jnp.array([3.0]),))\n",
    "\n",
    "print(\"-\" * 80)\n",
    "print(primals.shape)\n",
    "print(primals)\n",
    "print(J)\n",
    "print(a)\n",
    "print(b)\n",
    "print(\"-\" * 80)\n",
    "\n",
    "print(X.shape)\n",
    "print(res[0].shape)\n",
    "print(res[1].shape)\n",
    "# print(res.shape)\n",
    "print(res)"
   ]
  },
  {
   "cell_type": "code",
   "execution_count": 225,
   "metadata": {},
   "outputs": [
    {
     "data": {
      "text/plain": [
       "(DeviceArray(1., dtype=float32, weak_type=True),\n",
       " DeviceArray(-4.371139e-08, dtype=float32, weak_type=True))"
      ]
     },
     "execution_count": 225,
     "metadata": {},
     "output_type": "execute_result"
    }
   ],
   "source": [
    "jax.jvp(jnp.sin, (jnp.pi / 2, ), (1.0, ))"
   ]
  },
  {
   "cell_type": "code",
   "execution_count": 161,
   "metadata": {},
   "outputs": [
    {
     "name": "stdout",
     "output_type": "stream",
     "text": [
      "[0.20363042]\n",
      "[[0.20363042]\n",
      " [0.20618227]\n",
      " [0.20519818]]\n",
      "test\n",
      "[0.01606509]\n",
      "[[ 0.01606509]\n",
      " [-0.00216613]\n",
      " [ 0.00098517]]\n",
      "[[[[ 0.01606509]\n",
      "   [ 0.        ]\n",
      "   [ 0.        ]]]\n",
      "\n",
      "\n",
      " [[[ 0.        ]\n",
      "   [-0.00216612]\n",
      "   [ 0.        ]]]\n",
      "\n",
      "\n",
      " [[[ 0.        ]\n",
      "   [ 0.        ]\n",
      "   [ 0.00098517]]]]\n"
     ]
    },
    {
     "ename": "TypeError",
     "evalue": "Argument '<function f at 0x0000020EB29E5550>' of type <class 'function'> is not a valid JAX type.",
     "output_type": "error",
     "traceback": [
      "\u001b[1;31m---------------------------------------------------------------------------\u001b[0m",
      "\u001b[1;31mTypeError\u001b[0m                                 Traceback (most recent call last)",
      "Cell \u001b[1;32mIn[161], line 27\u001b[0m\n\u001b[0;32m     25\u001b[0m X \u001b[39m=\u001b[39m xs_train\n\u001b[0;32m     26\u001b[0m Y \u001b[39m=\u001b[39m jnp\u001b[39m.\u001b[39mones_like(xs_train)\n\u001b[1;32m---> 27\u001b[0m res \u001b[39m=\u001b[39m hvp(f, (X, ), (Y, ))\n\u001b[0;32m     28\u001b[0m \u001b[39mprint\u001b[39m(res)\n\u001b[0;32m     29\u001b[0m \u001b[39m# vmap(grad(model))(jnp.array([1.0]))\u001b[39;00m\n\u001b[0;32m     30\u001b[0m \n\u001b[0;32m     31\u001b[0m \u001b[39m# primals, f_vjp = eqx.filter_vjp(model, jnp.array([1.0]))\u001b[39;00m\n\u001b[1;32m   (...)\u001b[0m\n\u001b[0;32m     47\u001b[0m \n\u001b[0;32m     48\u001b[0m \u001b[39m# vmap(model)(x_test)\u001b[39;00m\n",
      "    \u001b[1;31m[... skipping hidden 2 frame]\u001b[0m\n",
      "File \u001b[1;32mc:\\Users\\neilk\\AppData\\Local\\Programs\\Python\\Python39\\lib\\site-packages\\jax\\_src\\api.py:3084\u001b[0m, in \u001b[0;36m_check_arg\u001b[1;34m(arg)\u001b[0m\n\u001b[0;32m   3082\u001b[0m \u001b[39mdef\u001b[39;00m \u001b[39m_check_arg\u001b[39m(arg):\n\u001b[0;32m   3083\u001b[0m   \u001b[39mif\u001b[39;00m \u001b[39mnot\u001b[39;00m (\u001b[39misinstance\u001b[39m(arg, core\u001b[39m.\u001b[39mTracer) \u001b[39mor\u001b[39;00m _valid_jaxtype(arg)):\n\u001b[1;32m-> 3084\u001b[0m     \u001b[39mraise\u001b[39;00m \u001b[39mTypeError\u001b[39;00m(\u001b[39mf\u001b[39m\u001b[39m\"\u001b[39m\u001b[39mArgument \u001b[39m\u001b[39m'\u001b[39m\u001b[39m{\u001b[39;00marg\u001b[39m}\u001b[39;00m\u001b[39m'\u001b[39m\u001b[39m of type \u001b[39m\u001b[39m{\u001b[39;00m\u001b[39mtype\u001b[39m(arg)\u001b[39m}\u001b[39;00m\u001b[39m is not a valid JAX type.\u001b[39m\u001b[39m\"\u001b[39m)\n",
      "\u001b[1;31mTypeError\u001b[0m: Argument '<function f at 0x0000020EB29E5550>' of type <class 'function'> is not a valid JAX type."
     ]
    }
   ],
   "source": [
    "class MakeScalar(eqx.Module):\n",
    "    model: eqx.Module\n",
    "\n",
    "    def __call__(self, *args, **kwargs):\n",
    "        out = self.model(*args, **kwargs)\n",
    "        return jnp.reshape(out, ())\n",
    "\n",
    "model = eqx.nn.MLP(key=subkey, in_size=1, out_size=1, width_size=20, depth=3, activation=jax.nn.elu)\n",
    "print(model(jnp.array([1.0])))\n",
    "\n",
    "\n",
    "xs_train = jnp.array([[1.0], [2.0], [3.0]])\n",
    "print(vmap(model)(xs_train))\n",
    "\n",
    "print(\"test\")\n",
    "g_model = grad(MakeScalar(model))\n",
    "\n",
    "print(g_model(jnp.array([1.0])))\n",
    "print(vmap(g_model)(xs_train))\n",
    "\n",
    "\n",
    "test = jax.jacrev(vmap(model))(jnp.array([[1.0], [2.0], [3.0]]))\n",
    "print(test)\n",
    "\n",
    "X = xs_train\n",
    "Y = jnp.ones_like(xs_train)\n",
    "res = hvp(f, (X, ), (Y, ))\n",
    "print(res)\n",
    "# vmap(grad(model))(jnp.array([1.0]))\n",
    "\n",
    "# primals, f_vjp = eqx.filter_vjp(model, jnp.array([1.0]))\n",
    "\n",
    "# print(primals)\n",
    "# jax.jacrev(f)(jnp.array([1.0, 2.0, 3.0]))\n",
    "\n",
    "# res = jax.jacobian(vmap(model))(jnp.array([0.0, jnp.pi/2, jnp.pi, 2*jnp.pi]))\n",
    "# res = vmap(jax.jacobian(model))(jnp.array([0.0, jnp.pi/2]))\n",
    "\n",
    "# print(res.shape)\n",
    "# print(res)\n",
    "\n",
    "\n",
    "# model = eqx.nn.MLP(key=subkey, in_size=1, out_size=1, width_size=20, depth=3, activation=jax.nn.elu)\n",
    "\n",
    "# print(model(jnp.array([1.0])).shape)\n",
    "# x_test = jnp.array([[1.0], [2.0]])\n",
    "\n",
    "# vmap(model)(x_test)"
   ]
  },
  {
   "cell_type": "code",
   "execution_count": null,
   "metadata": {},
   "outputs": [],
   "source": []
  },
  {
   "cell_type": "code",
   "execution_count": null,
   "metadata": {},
   "outputs": [],
   "source": []
  },
  {
   "cell_type": "code",
   "execution_count": 25,
   "metadata": {},
   "outputs": [],
   "source": [
    "def loss_fn(model: eqx.nn.MLP, x: Float[Array, \"batch\"], y: Float[Array, \"batch\"]) -> Float[Array, \"\"]:\n",
    "    pred_y = vmap(model)(x)\n",
    "    return jnp.mean((y - pred_y) ** 2)"
   ]
  },
  {
   "cell_type": "code",
   "execution_count": 26,
   "metadata": {},
   "outputs": [
    {
     "data": {
      "text/plain": [
       "DeviceArray([[[ 0.00450898]],\n",
       "\n",
       "             [[-0.00172892]],\n",
       "\n",
       "             [[ 0.00161424]]], dtype=float32)"
      ]
     },
     "execution_count": 26,
     "metadata": {},
     "output_type": "execute_result"
    }
   ],
   "source": [
    "vmap(jax.jacrev(model))(xs)"
   ]
  },
  {
   "cell_type": "code",
   "execution_count": 58,
   "metadata": {},
   "outputs": [
    {
     "data": {
      "text/plain": [
       "DeviceArray(8.742278e-08, dtype=float32, weak_type=True)"
      ]
     },
     "execution_count": 58,
     "metadata": {},
     "output_type": "execute_result"
    }
   ],
   "source": [
    "jax.hessian(f)(jnp.pi)"
   ]
  },
  {
   "cell_type": "code",
   "execution_count": 37,
   "metadata": {},
   "outputs": [
    {
     "data": {
      "text/plain": [
       "DeviceArray(-8.742278e-08, dtype=float32, weak_type=True)"
      ]
     },
     "execution_count": 37,
     "metadata": {},
     "output_type": "execute_result"
    }
   ],
   "source": [
    "jnp.sin(jnp.pi)"
   ]
  }
 ],
 "metadata": {
  "kernelspec": {
   "display_name": "Python 3",
   "language": "python",
   "name": "python3"
  },
  "language_info": {
   "codemirror_mode": {
    "name": "ipython",
    "version": 3
   },
   "file_extension": ".py",
   "mimetype": "text/x-python",
   "name": "python",
   "nbconvert_exporter": "python",
   "pygments_lexer": "ipython3",
   "version": "3.9.13"
  },
  "orig_nbformat": 4
 },
 "nbformat": 4,
 "nbformat_minor": 2
}
