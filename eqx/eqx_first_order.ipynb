{
 "cells": [
  {
   "cell_type": "code",
   "execution_count": 1,
   "metadata": {},
   "outputs": [
    {
     "data": {
      "text/plain": [
       "[StreamExecutorGpuDevice(id=0, process_index=0, slice_index=0)]"
      ]
     },
     "execution_count": 1,
     "metadata": {},
     "output_type": "execute_result"
    }
   ],
   "source": [
    "import matplotlib.pyplot as plt\n",
    "\n",
    "import jax.numpy as jnp\n",
    "from jax.scipy.stats import norm\n",
    "from jax import grad, jit, vmap\n",
    "from jax import random\n",
    "import jax\n",
    "\n",
    "from typing import Sequence\n",
    "from jaxtyping import Array, Float, Int, PyTree\n",
    "\n",
    "import equinox as eqx\n",
    "import optax\n",
    "import chex\n",
    "\n",
    "from dataclasses import dataclass\n",
    "from functools import partial\n",
    "\n",
    "jax.devices()"
   ]
  },
  {
   "cell_type": "code",
   "execution_count": 2,
   "metadata": {},
   "outputs": [],
   "source": [
    "# Black Scholes\n",
    "# helper analytics    \n",
    "@jit\n",
    "def bsPrice(spot, strike, vol, T):\n",
    "    d1 = (jnp.log(spot/strike) + 0.5 * vol * vol * T) / vol / jnp.sqrt(T)\n",
    "    d2 = d1 - vol * jnp.sqrt(T)\n",
    "    return spot * norm.cdf(d1) - strike * norm.cdf(d2)\n",
    "\n",
    "@jit\n",
    "def bsDelta(spot, strike, vol, T):\n",
    "    d1 = (jnp.log(spot/strike) + 0.5 * vol * vol * T) / vol / jnp.sqrt(T)\n",
    "    return norm.cdf(d1)\n",
    "\n",
    "@jit\n",
    "def bsVega(spot, strike, vol, T):\n",
    "    d1 = (jnp.log(spot/strike) + 0.5 * vol * vol * T) / vol / jnp.sqrt(T)\n",
    "    return spot * jnp.sqrt(T) * norm.pdf(d1)\n",
    "\n",
    "@dataclass\n",
    "class BlackScholes:\n",
    "    \n",
    "    spot: int = 1\n",
    "    vol: float = 0.2\n",
    "    T1: int = 1\n",
    "    T2: int = 2\n",
    "    K: float = 1.10\n",
    "    volMult: float = 1.5\n",
    "                        \n",
    "    # training set: returns S1 (mx1), C2 (mx1) and dC2/dS1 (mx1)\n",
    "    # @partial(jit, static_argnums=(0,))\n",
    "    def trainingSet(self, m, anti=True, seed=42):\n",
    "    \n",
    "        key = random.PRNGKey(seed)\n",
    "        # 2 sets of normal returns\n",
    "        returns = random.normal(key, shape=(m, 2))\n",
    "\n",
    "        # SDE\n",
    "        vol0 = self.vol * self.volMult\n",
    "        R1 = jnp.exp(-0.5*vol0*vol0*self.T1 + vol0*jnp.sqrt(self.T1)*returns[:,0])\n",
    "        R2 = jnp.exp(-0.5*self.vol*self.vol*(self.T2-self.T1) \\\n",
    "                    + self.vol*jnp.sqrt(self.T2-self.T1)*returns[:,1])\n",
    "        S1 = self.spot * R1\n",
    "        S2 = S1 * R2 \n",
    "\n",
    "        # payoff\n",
    "        pay = jnp.maximum(0, S2 - self.K)\n",
    "        \n",
    "        # two antithetic paths\n",
    "        if anti:\n",
    "            \n",
    "            R2a = jnp.exp(-0.5*self.vol*self.vol*(self.T2-self.T1) \\\n",
    "                    - self.vol*jnp.sqrt(self.T2-self.T1)*returns[:,1])\n",
    "            S2a = S1 * R2a             \n",
    "            paya = jnp.maximum(0, S2a - self.K)\n",
    "            \n",
    "            X = S1\n",
    "            Y = 0.5 * (pay + paya)\n",
    "    \n",
    "            # differentials\n",
    "            Z1 =  jnp.where(S2 > self.K, R2, 0.0).reshape((-1,1)) \n",
    "            Z2 =  jnp.where(S2a > self.K, R2a, 0.0).reshape((-1,1)) \n",
    "            Z = 0.5 * (Z1 + Z2)\n",
    "                    \n",
    "        # standard\n",
    "        else:\n",
    "        \n",
    "            X = S1\n",
    "            Y = pay\n",
    "            \n",
    "            # differentials\n",
    "            Z =  jnp.where(S2 > self.K, R2, 0.0).reshape((-1,1)) \n",
    "        \n",
    "        return X.reshape([-1,1]), Y.reshape([-1,1]), Z.reshape([-1,1])\n",
    "    \n",
    "    # test set: returns a grid of uniform spots \n",
    "    # with corresponding ground true prices, deltas and vegas\n",
    "    def testSet(self, lower=0.35, upper=1.65, num=100, seed=42):\n",
    "        \n",
    "        spots = jnp.linspace(lower, upper, num).reshape((-1, 1))\n",
    "        # compute prices, deltas and vegas\n",
    "        prices = bsPrice(spots, self.K, self.vol, self.T2 - self.T1).reshape((-1, 1))\n",
    "        deltas = bsDelta(spots, self.K, self.vol, self.T2 - self.T1).reshape((-1, 1))\n",
    "        vegas = bsVega(spots, self.K, self.vol, self.T2 - self.T1).reshape((-1, 1))\n",
    "        return spots, spots, prices, deltas, vegas "
   ]
  },
  {
   "cell_type": "code",
   "execution_count": 4,
   "metadata": {},
   "outputs": [],
   "source": [
    "bs = BlackScholes()\n",
    "x_train, y_train, dydx_train = bs.trainingSet(10 * 8192)\n",
    "x_test, x_axis, y_test, dydx_test, vegas = bs.testSet(num=1000)"
   ]
  },
  {
   "cell_type": "code",
   "execution_count": 5,
   "metadata": {},
   "outputs": [],
   "source": [
    "def plot_training_data(x_train, y_train, dydx_train, x_test, y_test, x_axis, dydx_test):\n",
    "    plt.title(\"Training Data\")\n",
    "    # the same as plt.scatter(x_train, y_train) but with a thinner line is:\n",
    "    plt.plot(x_train, y_train, 'r.', markersize=1)\n",
    "    # now the other two with a thinner line:\n",
    "    plt.plot(x_test, y_test, 'b.', markersize=1)\n",
    "    plt.plot(x_train, dydx_train, 'g.', markersize=1)\n",
    "    # plt.plot(x_axis, dydx_test, 'g.', markersize=1)\n",
    "    # corresponding legend:\n",
    "    plt.legend(['Training Data', 'True Price', 'Training Delta'], loc='upper left')\n",
    "    plt.show()"
   ]
  },
  {
   "cell_type": "code",
   "execution_count": 6,
   "metadata": {},
   "outputs": [
    {
     "name": "stdout",
     "output_type": "stream",
     "text": [
      "(81920, 1) (81920, 1) (81920, 1)\n",
      "(1000, 1) (1000, 1) (1000, 1) (1000, 1) (1000, 1)\n"
     ]
    }
   ],
   "source": [
    "print(x_train.shape, y_train.shape, dydx_train.shape)\n",
    "print(x_test.shape, y_test.shape, x_axis.shape, dydx_test.shape, vegas.shape)"
   ]
  },
  {
   "cell_type": "code",
   "execution_count": 7,
   "metadata": {},
   "outputs": [
    {
     "data": {
      "text/plain": [
       "DeviceArray([[1.015608  ],\n",
       "             [0.7214727 ],\n",
       "             [0.71184325],\n",
       "             ...,\n",
       "             [1.2816817 ],\n",
       "             [0.6581382 ],\n",
       "             [0.7271205 ]], dtype=float32)"
      ]
     },
     "execution_count": 7,
     "metadata": {},
     "output_type": "execute_result"
    }
   ],
   "source": [
    "x_train"
   ]
  },
  {
   "cell_type": "code",
   "execution_count": 8,
   "metadata": {},
   "outputs": [
    {
     "data": {
      "image/png": "[encoded data removed]",
      "text/plain": [
       "<Figure size 640x480 with 1 Axes>"
      ]
     },
     "metadata": {},
     "output_type": "display_data"
    }
   ],
   "source": [
    "plot_training_data(x_train, y_train, dydx_train, x_test, y_test, x_axis, dydx_test)"
   ]
  },
  {
   "cell_type": "code",
   "execution_count": 9,
   "metadata": {},
   "outputs": [],
   "source": [
    "def normalize(data: Array):\n",
    "    mean = jnp.mean(data)\n",
    "    std = jnp.std(data)\n",
    "    return (data - mean) / std, mean, std\n",
    "\n",
    "# normalize data\n",
    "x_train, x_train_mean, x_train_std = normalize(x_train)\n",
    "y_train, y_train_mean, y_train_std = normalize(y_train)\n",
    "dydx_train, dydx_train_mean, dydx_train_std = normalize(dydx_train)"
   ]
  },
  {
   "cell_type": "code",
   "execution_count": 10,
   "metadata": {},
   "outputs": [
    {
     "data": {
      "text/plain": [
       "DeviceArray(1., dtype=float32)"
      ]
     },
     "execution_count": 10,
     "metadata": {},
     "output_type": "execute_result"
    }
   ],
   "source": [
    "x_train.std()"
   ]
  },
  {
   "cell_type": "code",
   "execution_count": 56,
   "metadata": {},
   "outputs": [],
   "source": [
    "# Hyperparameters\n",
    "batch_size = 128\n",
    "learning_rate = 0.01\n",
    "num_epochs = 10\n",
    "seed = 42\n",
    "\n",
    "key = jax.random.PRNGKey(seed)"
   ]
  },
  {
   "cell_type": "code",
   "execution_count": 12,
   "metadata": {},
   "outputs": [
    {
     "data": {
      "text/plain": [
       "MLP(\n",
       "  layers=[\n",
       "    Linear(\n",
       "      weight=f32[20,1],\n",
       "      bias=f32[20],\n",
       "      in_features=1,\n",
       "      out_features=20,\n",
       "      use_bias=True\n",
       "    ),\n",
       "    Linear(\n",
       "      weight=f32[20,20],\n",
       "      bias=f32[20],\n",
       "      in_features=20,\n",
       "      out_features=20,\n",
       "      use_bias=True\n",
       "    ),\n",
       "    Linear(\n",
       "      weight=f32[20,20],\n",
       "      bias=f32[20],\n",
       "      in_features=20,\n",
       "      out_features=20,\n",
       "      use_bias=True\n",
       "    ),\n",
       "    Linear(\n",
       "      weight=f32[1,20],\n",
       "      bias=f32[1],\n",
       "      in_features=20,\n",
       "      out_features=1,\n",
       "      use_bias=True\n",
       "    )\n",
       "  ],\n",
       "  activation=<wrapped function elu>,\n",
       "  final_activation=<function _identity>,\n",
       "  in_size=1,\n",
       "  out_size=1,\n",
       "  width_size=20,\n",
       "  depth=3\n",
       ")"
      ]
     },
     "execution_count": 12,
     "metadata": {},
     "output_type": "execute_result"
    }
   ],
   "source": [
    "key, subkey = jax.random.split(key)\n",
    "model = eqx.nn.MLP(key=subkey, in_size=1, out_size=1, width_size=20, depth=3, activation=jax.nn.elu)\n",
    "model"
   ]
  },
  {
   "cell_type": "code",
   "execution_count": 13,
   "metadata": {},
   "outputs": [],
   "source": [
    "# modified initialization\n",
    "\n",
    "def trunc_init(weight: Array, key: jax.random.PRNGKey) -> Array:\n",
    "  out, in_ = weight.shape\n",
    "  stddev = jnp.sqrt(1 / in_)\n",
    "  return jax.nn.initializers.glorot_normal()(key, (out, in_))\n",
    "\n",
    "def init_linear_weight(model, init_fn, key):\n",
    "  is_linear = lambda x: isinstance(x, eqx.nn.Linear)\n",
    "  get_weights = lambda m: [x.weight\n",
    "                           for x in jax.tree_util.tree_leaves(m, is_leaf=is_linear)\n",
    "                           if is_linear(x)]\n",
    "  weights = get_weights(model)\n",
    "  new_weights = [init_fn(weight, subkey)\n",
    "                 for weight, subkey in zip(weights, jax.random.split(key, len(weights)))]\n",
    "  new_model = eqx.tree_at(get_weights, model, new_weights)\n",
    "  return new_model\n",
    "\n",
    "key, subkey = jax.random.split(key)\n",
    "\n",
    "model = init_linear_weight(model, trunc_init, key)"
   ]
  },
  {
   "cell_type": "code",
   "execution_count": 14,
   "metadata": {},
   "outputs": [],
   "source": [
    "@eqx.filter_jit\n",
    "def value_and_jacrev(f, x):\n",
    "    # Function that computes both the values and the Jacobian using reverse mode autodiff\n",
    "    y, vjpfun = jax.vjp(f, x)  # Compute the values and obtain a VJP function\n",
    "    basis = jnp.eye(y.size, dtype=y.dtype)\n",
    "    jac = vmap(vjpfun)(basis)[0]  # Compute the Jacobian using the VJP function\n",
    "    return y, jac, vjpfun\n",
    "\n",
    "@eqx.filter_jit\n",
    "def value_and_jacobian(f, x):\n",
    "    y, jac, _ = value_and_jacrev(f, x)\n",
    "    return y, jac"
   ]
  },
  {
   "cell_type": "code",
   "execution_count": 15,
   "metadata": {},
   "outputs": [],
   "source": [
    "class MakeScalar(eqx.Module):\n",
    "    model: eqx.Module\n",
    "\n",
    "    def __call__(self, *args, **kwargs):\n",
    "        out = self.model(*args, **kwargs)\n",
    "        return jnp.reshape(out, ())\n",
    "\n",
    "model_scalar = MakeScalar(model)"
   ]
  },
  {
   "cell_type": "code",
   "execution_count": 16,
   "metadata": {},
   "outputs": [
    {
     "name": "stdout",
     "output_type": "stream",
     "text": [
      "(DeviceArray([-0.32768852, -0.34796125, -0.3466364 , ..., -0.21479785,\n",
      "             -0.3363753 , -0.34867918], dtype=float32), DeviceArray([[ 0.07963183],\n",
      "             [-0.04042998],\n",
      "             [-0.04453812],\n",
      "             ...,\n",
      "             [ 0.17024711],\n",
      "             [-0.07691903],\n",
      "             [-0.03804263]], dtype=float32))\n"
     ]
    }
   ],
   "source": [
    "res = vmap(eqx.filter_value_and_grad(model_scalar))(x_train)\n",
    "print(res)"
   ]
  },
  {
   "cell_type": "code",
   "execution_count": 70,
   "metadata": {},
   "outputs": [
    {
     "name": "stdout",
     "output_type": "stream",
     "text": [
      "(81920, 1)\n",
      "[[[ 0.07963187]]\n",
      "\n",
      " [[-0.04043   ]]\n",
      "\n",
      " [[-0.04453815]]\n",
      "\n",
      " ...\n",
      "\n",
      " [[ 0.17024711]]\n",
      "\n",
      " [[-0.07691909]]\n",
      "\n",
      " [[-0.03804267]]]\n"
     ]
    }
   ],
   "source": [
    "vmap_vjp = vmap(jax.vjp, in_axes=(None, 0))\n",
    "res_old = vmap_vjp(model, x_train)\n",
    "\n",
    "print(res_old[0].shape)\n",
    "print(res[1])\n",
    "# print(res)\n",
    "\n",
    "# value_and_jacobian(model, x_train[0])\n",
    "# res = eqx.filter_vmap(lambda x: value_and_jacrev(model, x))(x_train)\n",
    "res = eqx.filter_vmap(partial(value_and_jacrev, model))(x_train)\n",
    "# print(res)\n",
    "\n",
    "# print(res[0].shape)\n",
    "# print(res[0] - res_old[0])\n",
    "# print(res_old[1].shape)\n",
    "\n",
    "# eqx.filter_value_and_grad(model)(x_train)\n",
    "\n",
    "# vmap(eqx.filter_value_and_grad(model))(x_train)"
   ]
  },
  {
   "cell_type": "code",
   "execution_count": 66,
   "metadata": {},
   "outputs": [],
   "source": [
    "def loss_fn(model: eqx.nn.MLP, x: Float[Array, \"batch\"], y: Float[Array, \"batch\"], dydx: Float[Array, \"batch\"]) -> Float:\n",
    "    lam = 1\n",
    "    n_dims = x.shape[1]\n",
    "    lambda_scale = lam * n_dims\n",
    "    # alpha = 1.0/(1.0 + lambda_scale)\n",
    "    # beta = lambda_scale/(1.0 + lambda_scale)\n",
    "\n",
    "    alpha = 0.5\n",
    "    beta = 1.0 - alpha\n",
    "    y_pred, dydx_pred = vmap(eqx.filter_value_and_grad(model))(x)\n",
    "    # y_pred, dydx_pred,  = eqx.filter_vmap(partial(value_and_jacrev, model))(x_train)\n",
    "\n",
    "    # y_pred = vmap(model)(x)\n",
    "    y_pred = y_pred[..., jnp.newaxis]\n",
    "    dydx_pred = dydx_pred\n",
    "\n",
    "    assert(y_pred.shape == y.shape)\n",
    "    assert(dydx_pred.shape == dydx.shape)\n",
    "    # y_pred_prev = vmap(model)(x)\n",
    "\n",
    "    # jax.debug.print(\"{norm}\", norm=jnp.linalg.norm(y_pred - y_pred_prev))\n",
    "\n",
    "    # jax.debug.print(\"{y}\", y=y_pred)\n",
    "    # jax.debug.print(\"{y_pred_prev}\", y_pred_prev=y_pred_prev)\n",
    "\n",
    "    # jax.debug.print(\"{y_shape}\", y_shape=y_pred.shape)\n",
    "    # jax.debug.print(\"{dydx_pred}\", dydx_pred=dydx_pred)\n",
    "    # jax.debug.print(\"{dydx_shape}\", dydx_shape=dydx_pred.shape)\n",
    "\n",
    "    loss = alpha * jnp.mean((y_pred - y)**2) + beta * jnp.mean((dydx_pred - dydx)**2)\n",
    "    # loss = alpha * jnp.mean((y_pred - y)**2)\n",
    "    return loss"
   ]
  },
  {
   "cell_type": "code",
   "execution_count": 67,
   "metadata": {},
   "outputs": [],
   "source": [
    "def train(model: eqx.nn.MLP,\n",
    "          x: Float[Array, \"n\"],\n",
    "          y: Float[Array, \"n\"],\n",
    "          dydx: Float[Array, \"n\"],\n",
    "          optim: optax.GradientTransformation,\n",
    "          steps: int\n",
    "          ) -> PyTree:\n",
    "    \n",
    "    @eqx.filter_jit\n",
    "    def train_step(model: eqx.nn.MLP,\n",
    "                   opt_state: PyTree,\n",
    "                   x: Float[Array, \"batch\"],\n",
    "                   y: Float[Array, \"batch\"],\n",
    "                   dydx: Float[Array, \"batch\"],\n",
    "                   ):\n",
    "        loss_value, grads = eqx.filter_value_and_grad(loss_fn)(model, x, y, dydx)\n",
    "        updates, opt_state = optim.update(grads, opt_state)\n",
    "        model = eqx.apply_updates(model, updates)\n",
    "        return model, opt_state, loss_value\n",
    "\n",
    "    opt_state = optim.init(eqx.filter(model, eqx.is_array))\n",
    "    n_batches = (len(x) // batch_size)\n",
    "    for step in range(n_batches):\n",
    "        batch_x = x[step*batch_size:(step+1)*batch_size]\n",
    "        batch_y = y[step*batch_size:(step+1)*batch_size]\n",
    "        batch_dydx = dydx[step*batch_size:(step+1)*batch_size]\n",
    "\n",
    "        model, opt_state, loss_value = train_step(model, opt_state, batch_x, batch_y, batch_dydx)\n",
    "\n",
    "        if (step % 100 == 0) or (step == steps-1):\n",
    "            test_loss = loss_fn(model, (x_test - x_train_mean) / x_train_std, (y_test - y_train_mean) / y_train_std, (dydx_test - dydx_train_mean) / dydx_train_std)\n",
    "            print(f\"step: {step}, train_loss: {loss_value}, test_loss: {test_loss}\")\n",
    "    \n",
    "    return model"
   ]
  },
  {
   "cell_type": "code",
   "execution_count": 68,
   "metadata": {},
   "outputs": [
    {
     "name": "stdout",
     "output_type": "stream",
     "text": [
      "step: 0, train_loss: 0.23197031021118164, test_loss: 0.16124773025512695\n",
      "step: 100, train_loss: 0.34692710638046265, test_loss: 0.1316004991531372\n",
      "step: 200, train_loss: 0.2542960047721863, test_loss: 0.1477731466293335\n",
      "step: 300, train_loss: 0.2715083658695221, test_loss: 0.15391618013381958\n",
      "step: 400, train_loss: 0.27912211418151855, test_loss: 0.12864230573177338\n",
      "step: 500, train_loss: 0.2402639091014862, test_loss: 0.1396210640668869\n",
      "step: 600, train_loss: 0.2682356834411621, test_loss: 0.13710902631282806\n"
     ]
    }
   ],
   "source": [
    "optim = optax.adam(learning_rate)\n",
    "model_scalar = train(model_scalar, x_train, y_train, dydx_train, optim, steps=10000)"
   ]
  },
  {
   "cell_type": "code",
   "execution_count": 49,
   "metadata": {},
   "outputs": [
    {
     "data": {
      "text/plain": [
       "(1000,)"
      ]
     },
     "execution_count": 49,
     "metadata": {},
     "output_type": "execute_result"
    }
   ],
   "source": [
    "vmap(model_scalar)(x_test).shape"
   ]
  },
  {
   "cell_type": "code",
   "execution_count": 50,
   "metadata": {},
   "outputs": [
    {
     "name": "stdout",
     "output_type": "stream",
     "text": [
      "(1000, 1)\n",
      "RMSE: 0.09441976994276047\n"
     ]
    },
    {
     "data": {
      "image/png": "[encoded data removed]",
      "text/plain": [
       "<Figure size 640x480 with 1 Axes>"
      ]
     },
     "metadata": {},
     "output_type": "display_data"
    }
   ],
   "source": [
    "# predict\n",
    "x = (x_test - x_train_mean) / x_train_std\n",
    "# pred = vmap(model_scalar)(x)\n",
    "pred, pred_dydx = vmap(eqx.filter_value_and_grad(model_scalar))(x)\n",
    "\n",
    "pred_y = pred * y_train_std + y_train_mean\n",
    "pred_y = pred_y[..., jnp.newaxis]\n",
    "\n",
    "pred_dydx = pred_dydx * dydx_train_std + dydx_train_mean\n",
    "# pred_dydx = pred_dydx[..., jnp.newaxis]\n",
    "\n",
    "print(pred_y.shape)\n",
    "\n",
    "# evaluate\n",
    "def eval_rmse(y_true: Array, y_pred: Array) -> float:\n",
    "    return jnp.sqrt(jnp.mean((y_true - y_pred) ** 2))\n",
    "\n",
    "# print the above line:\n",
    "print(f\"RMSE: {eval_rmse(y_test, pred_y)}\")\n",
    "\n",
    "plt.title(\"Evaluation\")\n",
    "plt.plot(x_test, pred_y, 'b.', markersize=1)\n",
    "plt.plot(x_test, y_test, 'r.', markersize=1)\n",
    "plt.plot(x_test, pred_dydx, 'b.', markersize=1)\n",
    "plt.plot(x_test, dydx_test, 'g.', markersize=1)\n",
    "plt.legend(['Pred Price', 'True Price', 'Pred Delta', \"True Delta\"], loc='upper left')\n",
    "plt.show()"
   ]
  }
 ],
 "metadata": {
  "kernelspec": {
   "display_name": "Python 3",
   "language": "python",
   "name": "python3"
  },
  "language_info": {
   "codemirror_mode": {
    "name": "ipython",
    "version": 3
   },
   "file_extension": ".py",
   "mimetype": "text/x-python",
   "name": "python",
   "nbconvert_exporter": "python",
   "pygments_lexer": "ipython3",
   "version": "3.9.13"
  },
  "orig_nbformat": 4
 },
 "nbformat": 4,
 "nbformat_minor": 2
}
