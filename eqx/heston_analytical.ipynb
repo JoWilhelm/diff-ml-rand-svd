{
 "cells": [
  {
   "cell_type": "code",
   "execution_count": 47,
   "id": "f9b70a7e-480e-4523-b983-044b33714f59",
   "metadata": {},
   "outputs": [],
   "source": [
    "from functools import partial\n",
    "\n",
    "import jax.numpy as jnp\n",
    "import jax\n",
    "\n",
    "jax.config.update(\"jax_enable_x64\", True)\n"
   ]
  },
  {
   "cell_type": "code",
   "execution_count": 48,
   "id": "98f8e1ef-ae7f-4c5a-92a5-33f1a11dd4e9",
   "metadata": {},
   "outputs": [],
   "source": [
    "# For pricing european options, the Heston model has a semi-closed form solution using the characteristic function (Heston, 73)."
   ]
  },
  {
   "cell_type": "code",
   "execution_count": 90,
   "id": "222c8556-871d-47c5-bdee-5c62027710db",
   "metadata": {},
   "outputs": [],
   "source": [
    "def heston_characteristic_function(phi, S0, v0, T, r, q, kappa, theta, sigma, rho, lamda, j):\n",
    "    # based on (Heston, 73) equation (17)\n",
    "    if j == 1:\n",
    "        u = 0.5\n",
    "        b = kappa + lamda - rho * sigma\n",
    "    else:\n",
    "        u = -0.5\n",
    "        b = kappa + lamda\n",
    "    \n",
    "    a = kappa * theta\n",
    "    d = jnp.sqrt((rho * sigma * phi * 1j - b)**2 - sigma**2 * (2 * u * phi * 1j - phi**2))\n",
    "    g = (b - rho * sigma * phi * 1j + d) / (b - rho * sigma * phi * 1j - d)\n",
    "    C = (r - q) * phi * 1j * T + (a / sigma**2) \\\n",
    "            * ((b - rho * sigma * phi * 1j + d) * T - 2 * jnp.log((1 - g * jnp.exp(d * T))/(1 - g)))\n",
    "    D = (b - rho * sigma * phi * 1j + d) / sigma**2 * ((1 - jnp.exp(d * T)) / (1 - g * jnp.exp(d * T)))\n",
    "    \n",
    "    return jnp.exp(C + D * v0 + 1j * phi * jnp.log(S0))\n",
    "\n",
    "def heston_probability(S0, v0, K, r, q, T, kappa, theta, sigma, rho, lmbda, j):\n",
    "    # based on (Heston, 73) equation (18)\n",
    "    charac_fn = lambda phi: heston_characteristic_function(phi, S0, v0, T, r, q, kappa, theta, sigma, rho, lmbda, j) \n",
    "    integrand = lambda phi: jnp.real(jnp.exp(-1j * phi * jnp.log(K)) * charac_fn(phi) / (1j * phi))    \n",
    "\n",
    "    x = jnp.linspace(1e-7, 100, 100)\n",
    "    y = integrand(x)\n",
    "    integral = jax.scipy.integrate.trapezoid(y, x)\n",
    "    return 0.5 + (1 / jnp.pi) * integral\n",
    "    \n",
    "def heston_european_option_call_price(S0, v0, K, T, r, q, kappa, theta, sigma, rho, lamda):\n",
    "    # based on (Heston, 73) equation (10)\n",
    "    p1 = heston_probability(S0, v0, K, r, q, T, kappa, theta, sigma, rho, lamda, 1)\n",
    "    p2 = heston_probability(S0, v0, K, r, q, T, kappa, theta, sigma, rho, lamda, 2)\n",
    "    return S0 * jnp.exp(-q*T) * p1 - K * jnp.exp(-r*T) * p2\n"
   ]
  },
  {
   "cell_type": "code",
   "execution_count": 91,
   "id": "bc961396-3acf-4be6-868b-08d4f798f9c7",
   "metadata": {},
   "outputs": [
    {
     "name": "stdout",
     "output_type": "stream",
     "text": [
      "European call option price: 9.77379\n"
     ]
    }
   ],
   "source": [
    "# Parameters\n",
    "# based on Case 3 of: https://papers.ssrn.com/sol3/papers.cfm?abstract_id=1718102\n",
    "T = 1         # maturity\n",
    "S0 = 100.0      # spot price\n",
    "K = 100.0       # strike price\n",
    "r = 0.00     # risk-free interest rate\n",
    "q = 0.00     # dividend rate\n",
    "v0 = 0.09    # initial variance\n",
    "rho = -0.3   # correlation between Brownian motions\n",
    "kappa = 1.0    # mean reversion rate\n",
    "theta = 0.09 # Long term mean of variance\n",
    "sigma = 1.0  # volatility of volatility\n",
    "lamda = 0.0    # market price of volatility risk\n",
    "\n",
    "# Option values\n",
    "option_price = heston_european_option_call_price(S0, v0, K, T, r, q, kappa, theta, sigma, rho, lmbda)\n",
    "\n",
    "print(f\"European call option price: {option_price:.6}\")"
   ]
  },
  {
   "cell_type": "code",
   "execution_count": 92,
   "id": "603dfec2-d9ca-4731-8438-e32ffdc15ff9",
   "metadata": {},
   "outputs": [
    {
     "name": "stdout",
     "output_type": "stream",
     "text": [
      "dS: 0.608057\n",
      "dV: 39.4946\n"
     ]
    }
   ],
   "source": [
    "# Option greeks\n",
    "dS = jax.grad(partial(heston_european_option_call_price, K=K, T=T, r=r, q=q, kappa=kappa, theta=theta, sigma=sigma, rho=rho, lamda=lamda))(S0, v0)\n",
    "dV = jax.grad(partial(heston_european_option_call_price, K=K, T=T, r=r, q=q, kappa=kappa, theta=theta, sigma=sigma, rho=rho, lamda=lamda), 1)(S0, v0)\n",
    "print(f\"dS: {dS:.6}\")\n",
    "print(f\"dV: {dV:.6}\")"
   ]
  },
  {
   "cell_type": "code",
   "execution_count": 93,
   "id": "7a9de028-3947-46b9-acd0-78fe56848900",
   "metadata": {},
   "outputs": [
    {
     "name": "stdout",
     "output_type": "stream",
     "text": [
      "dSdS: 0.0215111\n",
      "dVdV: -109.28\n"
     ]
    }
   ],
   "source": [
    "# Option second-order greeks\n",
    "dSdS = jax.hessian(partial(heston_european_option_call_price, K=K, T=T, r=r, q=q, kappa=kappa, theta=theta, sigma=sigma, rho=rho, lamda=lamda))(S0, v0)\n",
    "dVdV = jax.hessian(partial(heston_european_option_call_price, K=K, T=T, r=r, q=q, kappa=kappa, theta=theta, sigma=sigma, rho=rho, lamda=lamda), 1)(S0, v0)\n",
    "print(f\"dSdS: {dSdS:.6}\")\n",
    "print(f\"dVdV: {dVdV:.6}\")"
   ]
  },
  {
   "cell_type": "code",
   "execution_count": null,
   "id": "525475a2-7a50-4826-8124-2a769a7f7eb5",
   "metadata": {},
   "outputs": [],
   "source": []
  }
 ],
 "metadata": {
  "kernelspec": {
   "display_name": "Python 3 (ipykernel)",
   "language": "python",
   "name": "python3"
  },
  "language_info": {
   "codemirror_mode": {
    "name": "ipython",
    "version": 3
   },
   "file_extension": ".py",
   "mimetype": "text/x-python",
   "name": "python",
   "nbconvert_exporter": "python",
   "pygments_lexer": "ipython3",
   "version": "3.10.12"
  }
 },
 "nbformat": 4,
 "nbformat_minor": 5
}
