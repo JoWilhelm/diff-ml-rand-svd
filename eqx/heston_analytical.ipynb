{
 "cells": [
  {
   "cell_type": "code",
   "execution_count": 1,
   "id": "f9b70a7e-480e-4523-b983-044b33714f59",
   "metadata": {},
   "outputs": [],
   "source": [
    "from functools import partial\n",
    "\n",
    "import jax.numpy as jnp\n",
    "import jax\n",
    "\n",
    "jax.config.update(\"jax_enable_x64\", True)\n"
   ]
  },
  {
   "cell_type": "code",
   "execution_count": null,
   "id": "98f8e1ef-ae7f-4c5a-92a5-33f1a11dd4e9",
   "metadata": {},
   "outputs": [],
   "source": [
    "# For pricing european options, the Heston model has a semi-closed form solution using the characteristic function (Heston, 73)."
   ]
  },
  {
   "cell_type": "code",
   "execution_count": 2,
   "id": "222c8556-871d-47c5-bdee-5c62027710db",
   "metadata": {},
   "outputs": [],
   "source": [
    "def heston_characteristic_function(phi, S0, v0, T, r, q, kappa, theta, sigma, rho, lamda, j):\n",
    "    # based on (Heston, 73) equation (17)\n",
    "    if j == 1:\n",
    "        u = 0.5\n",
    "        b = kappa + lamda - rho * sigma\n",
    "    else:\n",
    "        u = -0.5\n",
    "        b = kappa + lamda\n",
    "    \n",
    "    a = kappa * theta\n",
    "    d = jnp.sqrt((rho * sigma * phi * 1j - b)**2 - sigma**2 * (2 * u * phi * 1j - phi**2))\n",
    "    g = (b - rho * sigma * phi * 1j + d) / (b - rho * sigma * phi * 1j - d)\n",
    "    C = (r - q) * phi * 1j * T + (a / sigma**2) \\\n",
    "            * ((b - rho * sigma * phi * 1j + d) * T - 2 * jnp.log((1 - g * jnp.exp(d * T))/(1 - g)))\n",
    "    D = (b - rho * sigma * phi * 1j + d) / sigma**2 * ((1 - jnp.exp(d * T)) / (1 - g * jnp.exp(d * T)))\n",
    "    \n",
    "    return jnp.exp(C + D * v0 + 1j * phi * jnp.log(S0))\n",
    "\n",
    "def heston_probability(S0, v0, K, r, q, T, kappa, theta, sigma, rho, lmbda, j):\n",
    "    # based on (Heston, 73) equation (18)\n",
    "    charac_fn = lambda phi: heston_characteristic_function(phi, S0, v0, T, r, q, kappa, theta, sigma, rho, lmbda, j) \n",
    "    integrand = lambda phi: jnp.real(jnp.exp(-1j * phi * jnp.log(K)) * charac_fn(phi) / (1j * phi))    \n",
    "\n",
    "    x = jnp.linspace(1e-7, 100, 100)\n",
    "    y = integrand(x)\n",
    "    integral = jax.scipy.integrate.trapezoid(y, x)\n",
    "    return 0.5 + (1 / jnp.pi) * integral\n",
    "    \n",
    "def heston_european_option_call_price(S0, v0, K, T, r, q, kappa, theta, sigma, rho, lamda):\n",
    "    # based on (Heston, 73) equation (10)\n",
    "    p1 = heston_probability(S0, v0, K, r, q, T, kappa, theta, sigma, rho, lamda, 1)\n",
    "    p2 = heston_probability(S0, v0, K, r, q, T, kappa, theta, sigma, rho, lamda, 2)\n",
    "    return S0 * jnp.exp(-q*T) * p1 - K * jnp.exp(-r*T) * p2\n"
   ]
  },
  {
   "cell_type": "code",
   "execution_count": 3,
   "id": "bc961396-3acf-4be6-868b-08d4f798f9c7",
   "metadata": {},
   "outputs": [
    {
     "name": "stdout",
     "output_type": "stream",
     "text": [
      "European call option price: 9.77379\n"
     ]
    }
   ],
   "source": [
    "# Parameters\n",
    "# based on Case 3 of: https://papers.ssrn.com/sol3/papers.cfm?abstract_id=1718102\n",
    "T = 1         # maturity\n",
    "S0 = 100.0      # spot price\n",
    "K = 100.0       # strike price\n",
    "r = 0.00     # risk-free interest rate\n",
    "q = 0.00     # dividend rate\n",
    "v0 = 0.09    # initial variance\n",
    "rho = -0.3   # correlation between Brownian motions\n",
    "kappa = 1.0    # mean reversion rate\n",
    "theta = 0.09 # Long term mean of variance\n",
    "sigma = 1.0  # volatility of volatility\n",
    "lamda = 0.0    # market price of volatility risk\n",
    "\n",
    "# Option values\n",
    "option_price = heston_european_option_call_price(S0, v0, K, T, r, q, kappa, theta, sigma, rho, lamda)\n",
    "\n",
    "print(f\"European call option price: {option_price:.6}\")"
   ]
  },
  {
   "cell_type": "code",
   "execution_count": 4,
   "id": "603dfec2-d9ca-4731-8438-e32ffdc15ff9",
   "metadata": {},
   "outputs": [
    {
     "name": "stdout",
     "output_type": "stream",
     "text": [
      "dS: 0.608057\n",
      "dV: 39.4946\n"
     ]
    }
   ],
   "source": [
    "# Option greeks\n",
    "dS = jax.grad(partial(heston_european_option_call_price, K=K, T=T, r=r, q=q, kappa=kappa, theta=theta, sigma=sigma, rho=rho, lamda=lamda))(S0, v0)\n",
    "dV = jax.grad(partial(heston_european_option_call_price, K=K, T=T, r=r, q=q, kappa=kappa, theta=theta, sigma=sigma, rho=rho, lamda=lamda), 1)(S0, v0)\n",
    "print(f\"dS: {dS:.6}\")\n",
    "print(f\"dV: {dV:.6}\")"
   ]
  },
  {
   "cell_type": "code",
   "execution_count": 5,
   "id": "7a9de028-3947-46b9-acd0-78fe56848900",
   "metadata": {},
   "outputs": [
    {
     "name": "stdout",
     "output_type": "stream",
     "text": [
      "dSdS: 0.0215111\n",
      "dVdV: -109.28\n"
     ]
    }
   ],
   "source": [
    "# Option second-order greeks\n",
    "dSdS = jax.hessian(partial(heston_european_option_call_price, K=K, T=T, r=r, q=q, kappa=kappa, theta=theta, sigma=sigma, rho=rho, lamda=lamda))(S0, v0)\n",
    "dVdV = jax.hessian(partial(heston_european_option_call_price, K=K, T=T, r=r, q=q, kappa=kappa, theta=theta, sigma=sigma, rho=rho, lamda=lamda), 1)(S0, v0)\n",
    "print(f\"dSdS: {dSdS:.6}\")\n",
    "print(f\"dVdV: {dVdV:.6}\")"
   ]
  },
  {
   "cell_type": "code",
   "execution_count": 6,
   "id": "525475a2-7a50-4826-8124-2a769a7f7eb5",
   "metadata": {},
   "outputs": [
    {
     "name": "stdout",
     "output_type": "stream",
     "text": [
      "European call option price: 2.0613\n"
     ]
    }
   ],
   "source": [
    "\n",
    "S0 = 100.0      \n",
    "K = 100.0   \n",
    "r = 0.0319\n",
    "v0 = 0.010201\n",
    "T = 5.0\n",
    "rho = -0.7\n",
    "kappa = 6.21\n",
    "theta = 0.019\n",
    "sigma = 0.61\n",
    "\n",
    "\n",
    "option_price = heston_european_option_call_price(S0, v0, K, T, r, q, kappa, theta, sigma, rho, lamda)\n",
    "\n",
    "print(f\"European call option price: {option_price:.6}\")"
   ]
  },
  {
   "cell_type": "code",
   "execution_count": 7,
   "id": "991d06f9-bbe0-4119-a1da-eb1dee74f9ca",
   "metadata": {},
   "outputs": [
    {
     "name": "stdout",
     "output_type": "stream",
     "text": [
      "European call option price: 35.7931\n"
     ]
    }
   ],
   "source": [
    "S: float = 100.0\n",
    "K: float = 100.0        # Strike price\n",
    "r: float = 0.05         # Risk-free rate\n",
    "T: float = 5.0          # n years until expiry, i.e. T2 - T1\n",
    "rho: float = -0.3       # Correlation of asset and volatility\n",
    "kappa: float = 2.00     # Mean-reversion rate\n",
    "theta: float = 0.09     # Long run average volatility\n",
    "xi: float = 1.00    \n",
    "sigma=xi\n",
    "\n",
    "option_price = heston_european_option_call_price(S0, v0, K, T, r, q, kappa, theta, sigma, rho, lamda)\n",
    "\n",
    "print(f\"European call option price: {option_price:.6}\")"
   ]
  },
  {
   "cell_type": "code",
   "execution_count": 11,
   "id": "90e2c7d7-4921-4053-ab36-4acbf49a83a1",
   "metadata": {},
   "outputs": [
    {
     "name": "stdout",
     "output_type": "stream",
     "text": [
      "European call option price: 7.42399\n"
     ]
    }
   ],
   "source": [
    "# S0 = 100.0\n",
    "S0 = 85.0\n",
    "v0 = 0.028087\n",
    "K: float = 90.0        # Strike price\n",
    "r: float = 0.00135         # Risk-free rate\n",
    "T: float = 1.0          # n years until expiry, i.e. T2 - T1\n",
    "rho: float = -0.5       # Correlation of asset and volatility\n",
    "kappa: float = 2.931465     # Mean-reversion rate\n",
    "theta: float = 0.101     # Long run average volatility\n",
    "sigma: float = 0.01        # Volatility of volatility\n",
    "\n",
    "\n",
    "option_price = heston_european_option_call_price(S0, v0, K, T, r, q, kappa, theta, sigma, rho, lamda)\n",
    "\n",
    "print(f\"European call option price: {option_price:.6}\")"
   ]
  },
  {
   "cell_type": "code",
   "execution_count": 12,
   "id": "caca6918-ab55-4d63-8b18-5e7b7b58a0cd",
   "metadata": {},
   "outputs": [
    {
     "name": "stdout",
     "output_type": "stream",
     "text": [
      "dS: 0.476206\n",
      "dV: 19.6308\n"
     ]
    }
   ],
   "source": [
    "dS = jax.grad(partial(heston_european_option_call_price, K=K, T=T, r=r, q=q, kappa=kappa, theta=theta, sigma=sigma, rho=rho, lamda=lamda))(S0, v0)\n",
    "dV = jax.grad(partial(heston_european_option_call_price, K=K, T=T, r=r, q=q, kappa=kappa, theta=theta, sigma=sigma, rho=rho, lamda=lamda), 1)(S0, v0)\n",
    "print(f\"dS: {dS:.6}\")\n",
    "print(f\"dV: {dV:.6}\")"
   ]
  },
  {
   "cell_type": "code",
   "execution_count": 13,
   "id": "4f4e4273-6c84-4f17-bda6-4115f9e05356",
   "metadata": {},
   "outputs": [
    {
     "name": "stdout",
     "output_type": "stream",
     "text": [
      "dSdS: 0.0168568\n",
      "dVdV: -40.0388\n"
     ]
    }
   ],
   "source": [
    "# Option second-order greeks\n",
    "dSdS = jax.hessian(partial(heston_european_option_call_price, K=K, T=T, r=r, q=q, kappa=kappa, theta=theta, sigma=sigma, rho=rho, lamda=lamda))(S0, v0)\n",
    "dVdV = jax.hessian(partial(heston_european_option_call_price, K=K, T=T, r=r, q=q, kappa=kappa, theta=theta, sigma=sigma, rho=rho, lamda=lamda), 1)(S0, v0)\n",
    "print(f\"dSdS: {dSdS:.6}\")\n",
    "print(f\"dVdV: {dVdV:.6}\")"
   ]
  },
  {
   "cell_type": "code",
   "execution_count": null,
   "id": "d2e86aad-d725-4e6a-a887-714494691973",
   "metadata": {},
   "outputs": [],
   "source": [
    "0.001"
   ]
  }
 ],
 "metadata": {
  "kernelspec": {
   "display_name": "Python 3 (ipykernel)",
   "language": "python",
   "name": "python3"
  },
  "language_info": {
   "codemirror_mode": {
    "name": "ipython",
    "version": 3
   },
   "file_extension": ".py",
   "mimetype": "text/x-python",
   "name": "python",
   "nbconvert_exporter": "python",
   "pygments_lexer": "ipython3",
   "version": "3.10.12"
  }
 },
 "nbformat": 4,
 "nbformat_minor": 5
}
