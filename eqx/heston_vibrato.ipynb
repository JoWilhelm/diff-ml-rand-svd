{
 "cells": [
  {
   "cell_type": "code",
   "execution_count": 20,
   "id": "5d6bb853-aad1-4c74-9678-a0aa18f514c0",
   "metadata": {},
   "outputs": [
    {
     "data": {
      "text/plain": [
       "[gpu(id=0)]"
      ]
     },
     "execution_count": 20,
     "metadata": {},
     "output_type": "execute_result"
    }
   ],
   "source": [
    "import matplotlib.pyplot as plt\n",
    "\n",
    "import jax.numpy as jnp\n",
    "from jax.scipy.stats import norm\n",
    "from jax import grad, jit, vmap\n",
    "from jax import random as jrandom\n",
    "import jax\n",
    "\n",
    "from jax import config\n",
    "config.update(\"jax_debug_nans\", True)\n",
    "config.update(\"jax_enable_x64\", True)\n",
    "\n",
    "from typing import Sequence, Tuple, Union, Optional, Callable, Literal, Protocol\n",
    "from jaxtyping import Array, ArrayLike, Float, Int, PyTree, PRNGKeyArray, ScalarLike\n",
    "\n",
    "from jax_tqdm import scan_tqdm\n",
    "\n",
    "import equinox as eqx\n",
    "\n",
    "from dataclasses import dataclass, asdict, astuple\n",
    "from functools import partial\n",
    "\n",
    "jax.enable_checks = True\n",
    "\n",
    "jax.devices()"
   ]
  },
  {
   "cell_type": "code",
   "execution_count": 2,
   "id": "4b20cc0a-03a8-4982-9495-7390c3b38cff",
   "metadata": {},
   "outputs": [],
   "source": [
    "\n",
    "def plot_smoothing(xs, ys, dys):\n",
    "    plt.plot(xs, ys, 'b.', markersize=1.0, label=\"values\")\n",
    "    plt.plot(xs, dys, 'r.', markersize=1.0, label=\"grads\")\n",
    "    plt.legend()\n",
    "    plt.xlim([-1e-2, 1e-2])\n",
    "    plt.ylim([-0.01, .01])\n",
    "    # plt.show()"
   ]
  },
  {
   "cell_type": "code",
   "execution_count": 3,
   "id": "41a7e587-eefb-4a1c-9a5a-0d2dff4f94c2",
   "metadata": {},
   "outputs": [],
   "source": [
    "sharpness = 1e-2\n",
    "bias = sharpness\n",
    "smooth_max_fn = lambda x: jax.nn.celu(x=x, alpha=sharpness) + bias\n",
    "\n",
    "def smooth_european_payoff(x, k):\n",
    "    return jax.nn.celu(x=x-k, alpha=sharpness) + bias"
   ]
  },
  {
   "cell_type": "code",
   "execution_count": 4,
   "id": "6ff7e3e8-60b1-40c0-af20-6d2ff8eb09e3",
   "metadata": {},
   "outputs": [
    {
     "name": "stdout",
     "output_type": "stream",
     "text": [
      "ys_error 0.005049866680661472\n"
     ]
    },
    {
     "data": {
      "image/png": "[encoded data removed]",
      "text/plain": [
       "<Figure size 640x480 with 1 Axes>"
      ]
     },
     "metadata": {},
     "output_type": "display_data"
    }
   ],
   "source": [
    "xs = jnp.linspace(-1, 1, 1000)\n",
    "ys_true = jnp.maximum(0.0, xs)\n",
    "fn = smooth_max_fn\n",
    "ys, dys = jax.vmap(jax.value_and_grad(fn))(xs)\n",
    "ddys = jax.vmap(jax.hessian(fn))(xs)\n",
    "\n",
    "print(\"ys_error\", jnp.mean(ys-ys_true))\n",
    "\n",
    "plt.plot(xs, ys, 'b.', markersize=1.0, label=\"values\")\n",
    "plt.plot(xs, dys, 'r.', markersize=1.0, label=\"grads\")\n",
    "plt.plot(xs, ddys, 'g.', markersize=1.0, label=\"grads^2\")\n",
    "plt.legend()\n",
    "# plt.xlim([-1e0, 1e0])\n",
    "plt.ylim([-.1, 1.1])\n",
    "plt.show()"
   ]
  },
  {
   "cell_type": "code",
   "execution_count": 5,
   "id": "7289451c-82d5-481e-8ea4-0ab5c213a255",
   "metadata": {},
   "outputs": [
    {
     "data": {
      "text/plain": [
       "Array(1., dtype=float64, weak_type=True)"
      ]
     },
     "execution_count": 5,
     "metadata": {},
     "output_type": "execute_result"
    }
   ],
   "source": [
    "jax.grad(lambda x: jnp.maximum(x, 0.0))(0.6)"
   ]
  },
  {
   "cell_type": "code",
   "execution_count": 6,
   "id": "b32f8173-3cf7-453a-838f-cc8c3ae47f86",
   "metadata": {},
   "outputs": [],
   "source": [
    "class ModelState(eqx.Module):\n",
    "    S0: float\n",
    "    v0: float\n",
    "    \n",
    "class Heston(eqx.Module):\n",
    "\n",
    "    # the state of the model at any given \n",
    "    class State(eqx.Module):\n",
    "        S0: float\n",
    "        v0: float\n",
    "        \n",
    "    # European call option price is at 34.99 for the following config: \n",
    "    class Parameters(eqx.Module):\n",
    "        K: float = 100.0        # Strike price\n",
    "        r: float = 0.05         # Risk-free rate\n",
    "        T: float = 5.0          # n years until expiry, i.e. T2 - T1\n",
    "        rho: float = -0.3       # Correlation of asset and volatility\n",
    "        kappa: float = 2.00     # Mean-reversion rate\n",
    "        theta: float = 0.09     # Long run average volatility\n",
    "        xi: float = 1.00        # Volatility of volatility\n",
    "     \n",
    "    K: float = 100.0        # Strike price\n",
    "    r: float = 0.05         # Risk-free rate\n",
    "    T: float = 5.0          # n years until expiry, i.e. T2 - T1\n",
    "    rho: float = -0.3       # Correlation of asset and volatility\n",
    "    kappa: float = 2.00     # Mean-reversion rate\n",
    "    theta: float = 0.09     # Long run average volatility\n",
    "    xi: float = 1.00        # Volatility of volatility\n",
    "\n",
    "    S0: float = 100.0       # Initial spot price\n",
    "    v0: float = 0.09        # Initial volatility\n",
    "\n",
    "    @classmethod\n",
    "    def from_parameters(cls, parameters: Parameters, **kwargs):\n",
    "        return cls(*astuple(parameters), **kwargs)\n",
    "    \n",
    "    @property\n",
    "    def model_state(self) -> ModelState:\n",
    "        return ModelState(self.S0, self.v0)\n"
   ]
  },
  {
   "cell_type": "code",
   "execution_count": 7,
   "id": "f6457faa-0143-458a-9200-979790b3af04",
   "metadata": {},
   "outputs": [],
   "source": [
    "# https://arxiv.org/pdf/1606.06143.pdf"
   ]
  },
  {
   "cell_type": "code",
   "execution_count": 8,
   "id": "b8a72db9-1147-4630-8dfe-d5da6d2eb8a4",
   "metadata": {},
   "outputs": [],
   "source": [
    "def volatility_path(self, vol_draws):\n",
    "    n_steps = len(vol_draws)\n",
    "    dt = self.T / n_steps\n",
    "\n",
    "    def vol_path_iter(prev_vol_path, vol_draw):\n",
    "        # v_truncated = smooth_max_fn(prev_vol_path)\n",
    "        v_truncated = jnp.maximum(prev_vol_path, 0)\n",
    "        prev_path_contribution = prev_vol_path + self.kappa * dt * (self.theta - v_truncated)\n",
    "        randomness = self.xi * jnp.sqrt(v_truncated * dt) * vol_draw\n",
    "        current = prev_path_contribution + randomness\n",
    "        return current, current # use current both for carry and for y\n",
    "\n",
    "    carry, vol_path = jax.lax.scan(vol_path_iter, jnp.array(self.v0), vol_draws, length=n_steps)\n",
    "    \n",
    "    # we now have iteration 1 at position 0. Place initial v0 at the end and rotate into initial slot\n",
    "    vol_path = jnp.roll(vol_path.at[-1].set(self.v0), 1)\n",
    "    return vol_path\n",
    "\n",
    "\n",
    "def spot_path(self, spot_draws: Array, vol_path: Array) -> Array:\n",
    "    n_steps = len(spot_draws)\n",
    "    dt = self.T / n_steps\n",
    "\n",
    "    def spot_path_iter(prev_spot_path, iter_pair):\n",
    "        spot_draw = iter_pair[0]\n",
    "        vol = iter_pair[1]\n",
    "        # v_truncated = smooth_max_fn(vol)\n",
    "        v_truncated = jnp.maximum(vol, 0)\n",
    "        # path_new_spot = prev_spot_path * jnp.exp((self.r - 0.5 * v_truncated) * dt + jnp.sqrt(v_truncated) * jnp.sqrt(dt) * spot_draw)\n",
    "        \n",
    "        path_new_spot = prev_spot_path + self.r * prev_spot_path * dt + jnp.sqrt(v_truncated) * prev_spot_path * jnp.sqrt(dt) * spot_draw\n",
    "        \n",
    "        return path_new_spot, path_new_spot\n",
    "\n",
    "    iter_values = jnp.column_stack((spot_draws, vol_path))\n",
    "    carry, spot_paths = jax.lax.scan(spot_path_iter, jnp.array(self.S0), iter_values, length=n_steps)\n",
    "    \n",
    "    # we now have iteration 1 at position 0. Place initial S0 at the end and rotate into initial slot\n",
    "    spot_paths = jnp.roll(spot_paths.at[-1].set(self.S0), 1)\n",
    "    return spot_paths[-1]\n",
    "\n",
    "\n",
    "def state_path(self, vol_draws: Array, spot_draws: Array) -> Array:\n",
    "    n_steps = len(spot_draws)\n",
    "    dt = self.T / n_steps\n",
    "\n",
    "    def state_path_iter(prev_state, iter_rng_pair):\n",
    "        vol_draw, spot_draw = iter_rng_pair\n",
    "        v, S = prev_state\n",
    "        v_truncated = smooth_max_fn(v)\n",
    "        # v_truncated = jnp.maximum(v, 0)\n",
    "        v = v + self.kappa * (self.theta - v_truncated) * dt + self.xi * jnp.sqrt(v_truncated * dt) * vol_draw\n",
    "        S = S + self.r * S * dt + jnp.sqrt(v_truncated) * S * jnp.sqrt(dt) * spot_draw\n",
    "        # S = S * jnp.exp((self.r - 0.5 * v_truncated) * dt + jnp.sqrt(v_truncated * dt) * spot_draw)\n",
    "        \n",
    "        state = (v, S)\n",
    "        return state, state\n",
    "\n",
    "    iter_values = jnp.column_stack((vol_draws, spot_draws))\n",
    "    init_state = (self.v0, self.S0)\n",
    "    end_state, path = jax.lax.scan(state_path_iter, init_state, iter_values, length=n_steps)\n",
    "    return end_state"
   ]
  },
  {
   "cell_type": "code",
   "execution_count": 9,
   "id": "60d00a25-823d-42bc-940c-cf3f58fc8e9f",
   "metadata": {},
   "outputs": [],
   "source": [
    "\n",
    "def payoff(self, spot_path):\n",
    "    spot_maturity = spot_path#[-1] # taking only the last element is specific to the european payoff\n",
    "    # smooth_payoff_fn = cubic_spline_smoothing(payoff_fn)\n",
    "    smooth_payoff_fn = smooth_european_payoff\n",
    "    payoff = smooth_payoff_fn(spot_maturity, self.K)\n",
    "    return payoff\n",
    "\n",
    "# def model_state_path(self: Heston, vol_draws, spot_draws):\n",
    "#     vol_path = volatility_path(self, vol_draws)\n",
    "#     # X_n_1, Y_n_1 = jax.value_and_grad(spot_path)(self, spot_draws, vol_path)\n",
    "#     X_n_1, vjp_fn = jax.vjp(partial(spot_path, spot_draws=spot_draws, vol_path=vol_path), self)\n",
    "#     Y_n_1 = vjp_fn(jnp.ones(X_n_1.shape))[0]\n",
    "#     print(Y_n_1.S0)\n",
    "    \n",
    "#     V_n_1 = vol_path[-1]\n",
    "#     return V_n_1, X_n_1, Y_n_1 \n",
    "\n",
    "\n",
    "def model_state_path(h: Heston, vol_draws, spot_draws):\n",
    "    # X_n_1, Y_n_1 = jax.value_and_grad(state_path)(h, vol_draws, spot_draws)\n",
    "    (V_n_1, X_n_1), vjp_fn = jax.vjp(partial(state_path, vol_draws=vol_draws, spot_draws=spot_draws), h)\n",
    "    Y_n_1 = vjp_fn((1.0, 1.0))[0]\n",
    "    return V_n_1, X_n_1, Y_n_1\n",
    "\n",
    "\n",
    "def path_and_payoff(self, vol_draws, spot_draws):\n",
    "\n",
    "    n = vol_draws.shape[0]\n",
    "    # time step\n",
    "    h = self.T / n\n",
    "    \n",
    "    # spot_path is X^n\n",
    "    # adjoint_path is Y^n\n",
    "    V_n_1, X_n_1, Y_n_1 = model_state_path(self, vol_draws, spot_draws)\n",
    "    V_n_1 = jnp.maximum(V_n_1, 1e-7)\n",
    "    # print(Y_n_1)\n",
    "    Z_n_1 = spot_draws[-1]\n",
    "\n",
    "    # TODO: right now we preselect S0 to get the delta and gamma. In general we might be interested in other greeks.\n",
    "    # jax.tree_util.tree_map(lambda x: print(x), Y_n_1)\n",
    "    # print(jax.tree_util.tree_structure(Y_n_1))\n",
    "    \n",
    "    # Y_n_1 = Y_n_1.S0\n",
    "    \n",
    "    # V_T is the payoff\n",
    "    V_T = payoff(self, X_n_1)\n",
    "    # V_n_1 = jnp.maximum(V_n_1, 0.0)\n",
    "    # assert(V_n_1 >= 0.0)\n",
    "    # print(V_n_1)\n",
    "\n",
    "    def delta_n_fn(V_n_1, X_n_1, Y_n_1, Z_n_1):\n",
    "        \n",
    "        X_Tp   = X_n_1 + self.r * h * X_n_1 + jnp.sqrt(V_n_1) * X_n_1 * jnp.sqrt(h) * Z_n_1\n",
    "        X_Tm   = X_n_1 + self.r * h * X_n_1 - jnp.sqrt(V_n_1) * X_n_1 * jnp.sqrt(h) * Z_n_1\n",
    "        X_Tdot = X_n_1 + self.r * h * X_n_1\n",
    "        V_Tp   = payoff(self, X_Tp)\n",
    "        V_Tm   = payoff(self, X_Tm)\n",
    "        V_Tdot = payoff(self, X_Tdot)\n",
    "        \n",
    "        # Pathwise delta using vibrato at maturity using eq. (6.6), Gilles Pages\n",
    "        delta_n = Y_n_1 * (1.0 + self.r * h) * 1/2 * (V_Tp - V_Tm) * Z_n_1 / (X_n_1 * jnp.sqrt(V_n_1) * jnp.sqrt(h)) \\\n",
    "                + Y_n_1 * jnp.sqrt(V_n_1) * jnp.sqrt(h) * 1/2 * (V_Tp - 2.0 * V_Tdot + V_Tm) * (Z_n_1**2 - 1.0) / (X_n_1 * jnp.sqrt(V_n_1) * jnp.sqrt(h))\n",
    "\n",
    "        return delta_n\n",
    "\n",
    "    # these are really only pathwise \"deltas\"/\"gammas\"\n",
    "    delta_n, gamma_n = jax.value_and_grad(delta_n_fn, 1)(V_n_1, X_n_1, Y_n_1.S0, Z_n_1)\n",
    "    vega_n, vomma_n = jax.value_and_grad(delta_n_fn, 0)(V_n_1, X_n_1, Y_n_1.v0, Z_n_1)\n",
    "    \n",
    "\n",
    "    # computing the last step\n",
    "    # adding the vibrato\n",
    "    # page 7 first equation\n",
    "    # Y_hat = \n",
    "\n",
    "    return V_T, delta_n, gamma_n, vega_n, vomma_n\n",
    "\n",
    "\n",
    "# def path_and_payoff(self, vol_draws, spot_draws):\n",
    "#     V_n_1, X_n_1, Y_n_1 = model_state_path(self, vol_draws, spot_draws)\n",
    "#     return payoff(self, X_n_1)"
   ]
  },
  {
   "cell_type": "code",
   "execution_count": 10,
   "id": "3f2a506d-7f32-47f3-ac10-135ad32d9dac",
   "metadata": {},
   "outputs": [],
   "source": [
    "\n",
    "@eqx.filter_jit\n",
    "def correlated_draws(self: Heston, key, n_samples: int):\n",
    "    mean = jnp.zeros(2)\n",
    "    cov = jnp.array([[1.0, self.rho], [self.rho, 1.0]])\n",
    "    \n",
    "    correlated_samples = jrandom.multivariate_normal(key, mean, cov, shape=(n_samples,))\n",
    "    vol_draws = correlated_samples[:, 0]\n",
    "    spot_draws = correlated_samples[:, 1]\n",
    "    return vol_draws, spot_draws\n",
    "    \n",
    "def path(self: Heston, key: PRNGKeyArray, n_time_steps: int = 1024):\n",
    "    vol_draws, spot_draws = correlated_draws(self, key, n_time_steps)\n",
    "    return path_and_payoff(self, vol_draws, spot_draws)\n",
    "\n",
    "\n",
    "def differential_path(self: Heston, key: PRNGKeyArray, n_time_steps: int = 1024):\n",
    "    vol_draws, spot_draws = correlated_draws(self, key, n_time_steps)\n",
    "    return jax.value_and_grad(path_and_payoff)(self, vol_draws, spot_draws)"
   ]
  },
  {
   "cell_type": "code",
   "execution_count": 11,
   "id": "83a6fb38-c393-4b90-a288-5b942310175e",
   "metadata": {},
   "outputs": [
    {
     "data": {
      "text/plain": [
       "(Array(8.19357185, dtype=float64),\n",
       " Array(1.54322915, dtype=float64),\n",
       " Array(0., dtype=float64),\n",
       " Array(-47.7593455, dtype=float64),\n",
       " Array(-0.00120065, dtype=float64))"
      ]
     },
     "execution_count": 11,
     "metadata": {},
     "output_type": "execute_result"
    }
   ],
   "source": [
    "key = jrandom.PRNGKey(0)\n",
    "\n",
    "h = Heston(\n",
    "    S0 = 100.0,       \n",
    "    K = 100.0,   \n",
    "    r = 0.00,\n",
    "    v0 = 0.09, \n",
    "    T = 1.0,\n",
    "    rho = -0.3,\n",
    "    kappa = 1.0,\n",
    "    theta = 0.09,\n",
    "    xi = 1.0,\n",
    ")\n",
    "\n",
    "h2 = Heston(\n",
    "    S0 = 100.0,       \n",
    "    K = 100.0,   \n",
    "    r = 0.0319,\n",
    "    v0 = 0.010201, \n",
    "    T = 1.0,\n",
    "    rho = -0.7,\n",
    "    kappa = 6.21,\n",
    "    theta = 0.019,\n",
    "    xi = 0.61,\n",
    ")\n",
    "\n",
    "h3 = Heston(\n",
    "    S0 = 100.0,\n",
    "    v0 = 0.028087,\n",
    "    K = 90.0,        # Strike price\n",
    "    r = 0.00135,         # Risk-free rate\n",
    "    T = 1.0,          # n years until expiry, i.e. T2 - T1\n",
    "    rho = 0.5,       # Correlation of asset and volatility\n",
    "    kappa = 2.931465,     # Mean-reversion rate\n",
    "    theta = 0.101,     # Long run average volatility\n",
    "    xi = 0.01,        # Volatility of volatility\n",
    ")\n",
    "\n",
    "h4 = Heston(\n",
    "    S0 = 100.0,       \n",
    "    K = 100.0,   \n",
    "    r = 0.00,\n",
    "    v0 = 0.04, \n",
    "    T = 1.0,\n",
    "    rho = -0.9,\n",
    "    kappa = 0.5,\n",
    "    theta = 0.04,\n",
    "    xi = 1.00,\n",
    ")\n",
    "\n",
    "h = h\n",
    "path(h, key)\n",
    "# differential_path(h, key)"
   ]
  },
  {
   "cell_type": "code",
   "execution_count": 12,
   "id": "aee60d88-ed21-4b13-8f7a-13536ac931c1",
   "metadata": {},
   "outputs": [
    {
     "name": "stdout",
     "output_type": "stream",
     "text": [
      "((Array(10.20540898, dtype=float64), Array(0.61697125, dtype=float64), Array(0.01601881, dtype=float64), Array(37.82677203, dtype=float64), Array(-151.08970558, dtype=float64)),)\n"
     ]
    }
   ],
   "source": [
    "key = jrandom.PRNGKey(0)\n",
    "keys = jrandom.split(key, 10000)\n",
    "\n",
    "paths = jax.jit(jax.vmap(partial(path, h, n_time_steps=1024)))(keys)\n",
    "# price, delta, gamma, vega, vomma = jax.tree_util.tree_map(lambda x: jnp.mean(x) * jnp.exp(-h.r * h.T), paths)\n",
    "\n",
    "# print(price)\n",
    "# print(delta)\n",
    "# print(gamma)\n",
    "# print(vega)\n",
    "# print(vomma)\n",
    "price = jax.tree_util.tree_map(lambda x: jnp.mean(x) * jnp.exp(-h.r * h.T), (paths,))\n",
    "print(price)\n",
    "# print(greeks.v0)"
   ]
  },
  {
   "cell_type": "code",
   "execution_count": 49,
   "id": "98441b32-f4a0-42d5-9c9b-0deac710063b",
   "metadata": {},
   "outputs": [
    {
     "name": "stdout",
     "output_type": "stream",
     "text": [
      "(Traced<ShapedArray(int64[])>with<DynamicJaxprTrace(level=1/0)>, Traced<ShapedArray(uint32[2])>with<DynamicJaxprTrace(level=1/0)>)\n"
     ]
    },
    {
     "data": {
      "application/vnd.jupyter.widget-view+json": {
       "model_id": "daf111cf2c6e4d9eb6d2344062234445",
       "version_major": 2,
       "version_minor": 0
      },
      "text/plain": [
       "  0%|          | 0/10000 [00:00<?, ?it/s]"
      ]
     },
     "metadata": {},
     "output_type": "display_data"
    }
   ],
   "source": [
    "def test_readme_scan_example(print_rate):\n",
    "    \"\"\"Just test that README scan example runs correctly\"\"\"\n",
    "\n",
    "    n = 10_000\n",
    "\n",
    "    @scan_tqdm(n)\n",
    "    def step(carry, x):\n",
    "        print(x)\n",
    "        # jax.debug.print(\"{}\", x)\n",
    "        return carry + 1, carry + 1\n",
    "\n",
    "    key = jrandom.PRNGKey(0)\n",
    "    keys = jrandom.split(key, n)\n",
    "    last_number, all_numbers = jax.lax.scan(step, 0, (jnp.arange(n), keys))\n",
    "\n",
    "    assert int(last_number) == n\n",
    "    assert jnp.array_equal(all_numbers, 1 + jnp.arange(n))\n",
    "\n",
    "\n",
    "test_readme_scan_example(10)"
   ]
  },
  {
   "cell_type": "code",
   "execution_count": null,
   "id": "6d71ceb2-e345-4ebb-86d5-76961c4f8247",
   "metadata": {
    "jupyter": {
     "source_hidden": true
    }
   },
   "outputs": [],
   "source": [
    "class ScanState(eqx.Module):\n",
    "    payoff_sum: Array\n",
    "    dpayoff_sum: ModelState\n",
    "    \n",
    "    def __iter__(self):\n",
    "        return iter(astuple(self))\n",
    "\n",
    "@eqx.filter_jit\n",
    "def price(heston: Heston, *, key: PRNGKeyArray, n_multiplier: int = 1):\n",
    "    n_simulations = 100000 * n_multiplier\n",
    "    n_outside_iter = 100 * n_multiplier\n",
    "    n_sims_per_iter = n_simulations // n_outside_iter\n",
    "    payoff_sum: float = 0.0\n",
    "    n_states = heston.S0.shape[0]\n",
    "\n",
    "    if n_simulations % n_states:\n",
    "        raise ValueError(\"n_states must be divisor of 1000\")\n",
    "\n",
    "    def pathwise_payoff_fn(pp: ScanState, key):\n",
    "        payoff_sum = pp.payoff_sum\n",
    "        dpayoff_sum = pp.dpayoff_sum\n",
    "        \n",
    "        def payoff(heston, key):\n",
    "            keys_path = jrandom.split(key, num=n_sims_per_iter)\n",
    "            keys_path = jnp.reshape(keys_path, (n_sims_per_iter//n_states, n_states, 2))\n",
    "            \n",
    "            res, dres = jax.vmap(lambda x: eqx.filter_vmap(path)(heston, x))(keys_path)\n",
    "            # print(\"res.shape: \", res)\n",
    "            pathwise_payoff = jnp.reshape(res, n_sims_per_iter)\n",
    "            dpayoff = dres\n",
    "            return pathwise_payoff, dpayoff\n",
    "\n",
    "\n",
    "        pathwise_payoff, dpayoff = payoff(heston, key)\n",
    "        \n",
    "        dpayoff_sum_iter = jax.tree_util.tree_map(lambda x: jnp.sum(x, axis=0), dpayoff)\n",
    "        # print(\"dpayoff_sum_iter: {}\", dpayoff_sum_iter)\n",
    "        \n",
    "        payoff_sum_iter = jnp.sum(pathwise_payoff, axis=0)\n",
    "        payoff_sum += payoff_sum_iter\n",
    "        dpayoff_sum = ModelState(dpayoff_sum.S0 + dpayoff_sum_iter.S0, dpayoff_sum.v0 + dpayoff_sum_iter.v0)\n",
    "        # dpayoff_sum \n",
    "        return ScanState(payoff_sum, dpayoff_sum), pathwise_payoff\n",
    "        # return pp, payoff_sum_iter\n",
    "\n",
    "    keys = jrandom.split(key, num=n_outside_iter)\n",
    "    \n",
    "    # print(\"heston.n_states: :\", n_states)\n",
    "    (payoff_sum, dpayoff_sum), pathwise_payoffs = jax.lax.scan(pathwise_payoff_fn, ScanState(jnp.zeros(n_states), ModelState(jnp.zeros(n_states), jnp.zeros(n_states))), keys, length=n_outside_iter)\n",
    "    # print(payoff_sum)\n",
    "    # option_price = (payoff_sum / n_simulations) * jnp.exp(-heston.r * heston.T)\n",
    "    return (payoff_sum, dpayoff_sum), pathwise_payoffs"
   ]
  },
  {
   "cell_type": "code",
   "execution_count": 58,
   "id": "3af0b33a-2036-4199-9444-5db37c24f82c",
   "metadata": {},
   "outputs": [],
   "source": [
    "class Range(eqx.Module):\n",
    "    minval: float = 0.0\n",
    "    maxval: float = 1.0\n",
    "    \n",
    "@eqx.filter_jit\n",
    "def test_set_precomputed(params: Heston.Parameters, *, key: PRNGKeyArray, spot_range: Range, vol_range: Range):\n",
    "\n",
    "    minvals = jnp.array([spot_range.minval, vol_range.minval])\n",
    "    maxvals = jnp.array([spot_range.maxval, vol_range.maxval])\n",
    "    n_outer_paths = 2**10\n",
    "    \n",
    "    @scan_tqdm(n_outer_paths, print_rate=10)\n",
    "    def monte_carlo(carry, key):\n",
    "        _, key = key\n",
    "        n_inner_paths = 2**13\n",
    "        key, key_state = jrandom.split(key)\n",
    "\n",
    "        # inisde the inner loop of the test set we always use the same initial state to determine the price afterwards.\n",
    "        initial_states = jnp.ones((n_inner_paths, 2)) * jrandom.uniform(key_state, shape=(2,), minval=minvals, maxval=maxvals)\n",
    "        initial_spots = initial_states[:, 0]\n",
    "        initial_vols = initial_states[:, 1]\n",
    "        \n",
    "        # jax.debug.print(\"initial spots {}\", initial_spots)\n",
    "        \n",
    "        hs = Heston.from_parameters(params, S0=initial_spots, v0=initial_vols)\n",
    "        \n",
    "        path_seeds = jrandom.split(key, n_inner_paths)\n",
    "        # ps, dps, ddps, dvs, ddvs = eqx.filter_vmap(partial(path, n_time_steps=1024))(hs, path_seeds)\n",
    "        res = eqx.filter_vmap(partial(path, n_time_steps=1024))(hs, path_seeds)\n",
    "        \n",
    "        # jax.debug.print(\"finished price calcuation {}\", carry)\n",
    "        return carry + 1, res\n",
    "    \n",
    "    # due to limited vram of gpu we need to split up the computation into outer and inner paths.\n",
    "\n",
    "    key, subkey = jrandom.split(key)\n",
    "    key_rngs = jrandom.split(subkey, n_outer_paths)\n",
    "    carry, ds = jax.lax.scan(monte_carlo, 0, (jnp.arange(n_outer_paths), key_rngs))\n",
    "\n",
    "    # jax.debug.print(\"ds payoffs {}\", ds.payoffs.shape)\n",
    "    # jax.debug.print(\"ds payoffs {}\", ds.payoffs)\n",
    "\n",
    "    def discounted_avg(x, h: Heston.Parameters):\n",
    "        return jnp.mean(x, axis=1) * jnp.exp(-h.r * h.T) \n",
    "    \n",
    "    test_set = jax.tree_util.tree_map(partial(discounted_avg, h=hs_params), ds)\n",
    "\n",
    "    # jax.debug.print(\"test set {}\", test_set)\n",
    "    \n",
    "    return test_set"
   ]
  },
  {
   "cell_type": "code",
   "execution_count": 56,
   "id": "f514770f-d715-4c3a-a826-fe21792844db",
   "metadata": {
    "scrolled": true
   },
   "outputs": [
    {
     "data": {
      "application/vnd.jupyter.widget-view+json": {
       "model_id": "d4a6750dc246443a92fa41a12a942619",
       "version_major": 2,
       "version_minor": 0
      },
      "text/plain": [
       "  0%|          | 0/1024 [00:00<?, ?it/s]"
      ]
     },
     "metadata": {},
     "output_type": "display_data"
    }
   ],
   "source": [
    "key = jrandom.PRNGKey(0)\n",
    "\n",
    "spot_range = Range(100.0, 100.0)\n",
    "vol_range = Range(0.09, 0.09)\n",
    "\n",
    "hs_params = Heston.Parameters(\n",
    "    K = 100.0,   \n",
    "    r = 0.00,\n",
    "    T = 1.0,\n",
    "    rho = -0.3,\n",
    "    kappa = 1.0,\n",
    "    theta = 0.09,\n",
    "    xi = 1.0,\n",
    ")\n",
    "\n",
    "# spot_range = Range(100.0, 100.0)\n",
    "# vol_range = Range(0.04, 0.04)\n",
    "\n",
    "# hs_params = Heston.Parameters(\n",
    "#     K = 100.0,   \n",
    "#     r = 0.00,\n",
    "#     T = 1.0,\n",
    "#     rho = -0.9,\n",
    "#     kappa = 0.5,\n",
    "#     theta = 0.04,\n",
    "#     xi = 1.00,\n",
    "# )\n",
    "\n",
    "# spot_range = Range(100.0, 100.0)\n",
    "# vol_range = Range(0.010201, 0.010201)\n",
    "\n",
    "# hs_params = Heston.Parameters(\n",
    "#     K = 100.0,   \n",
    "#     r = 0.0319,\n",
    "#     T = 1.0,\n",
    "#     rho = -0.7,\n",
    "#     kappa = 6.21,\n",
    "#     theta = 0.019,\n",
    "#     xi = 0.61,\n",
    "# )\n",
    "\n",
    "# spot_range = Range(85.0, 85.0)\n",
    "# vol_range = Range(0.028087, 0.028087)\n",
    "\n",
    "# hs_params = Heston.Parameters(\n",
    "#     K = 90.0,        # Strike price\n",
    "#     r = 0.00135,         # Risk-free rate\n",
    "#     T = 1.0,          # n years until expiry, i.e. T2 - T1\n",
    "#     rho = 0.5,       # Correlation of asset and volatility\n",
    "#     kappa = 2.931465,     # Mean-reversion rate\n",
    "#     theta = 0.101,     # Long run average volatility\n",
    "#     xi = 0.01,        # Volatility of volatility\n",
    "# )\n",
    "\n",
    "test_set = test_set_precomputed(params=hs_params, key=key, spot_range=spot_range, vol_range=vol_range)"
   ]
  },
  {
   "cell_type": "code",
   "execution_count": 57,
   "id": "5c5e6214-6b81-4172-b537-adaee494dc57",
   "metadata": {},
   "outputs": [
    {
     "data": {
      "text/plain": [
       "(Array(10.33799513, dtype=float64),\n",
       " Array(0.60833827, dtype=float64),\n",
       " Array(0.01995386, dtype=float64),\n",
       " Array(37.55093936, dtype=float64),\n",
       " Array(-37.14237625, dtype=float64))"
      ]
     },
     "execution_count": 57,
     "metadata": {},
     "output_type": "execute_result"
    }
   ],
   "source": [
    "jax.tree_util.tree_map(jnp.mean, test_set)"
   ]
  },
  {
   "cell_type": "code",
   "execution_count": 59,
   "id": "1d7b6380-4918-4009-b520-869516bffe0f",
   "metadata": {},
   "outputs": [
    {
     "data": {
      "application/vnd.jupyter.widget-view+json": {
       "model_id": "3a94f274e6d44e169df459d15ec97dbc",
       "version_major": 2,
       "version_minor": 0
      },
      "text/plain": [
       "  0%|          | 0/1024 [00:00<?, ?it/s]"
      ]
     },
     "metadata": {},
     "output_type": "display_data"
    }
   ],
   "source": [
    "key = jrandom.PRNGKey(0)\n",
    "\n",
    "spot_range = Range(50.0, 150.0)\n",
    "vol_range = Range(0.01, 0.09)\n",
    "\n",
    "hs_params = Heston.Parameters(\n",
    "    K = 100.0,   \n",
    "    r = 0.00,\n",
    "    T = 1.0,\n",
    "    rho = -0.3,\n",
    "    kappa = 1.0,\n",
    "    theta = 0.09,\n",
    "    xi = 1.0,\n",
    ")\n",
    "\n",
    "test_set_multi = test_set_precomputed(params=hs_params, key=key, spot_range=spot_range, vol_range=vol_range)"
   ]
  },
  {
   "cell_type": "code",
   "execution_count": 61,
   "id": "960b0567-2aa6-4e38-a064-9143441dfd9c",
   "metadata": {},
   "outputs": [
    {
     "data": {
      "text/plain": [
       "(Array([ 0.24555982,  7.65789949, 43.82444434, ...,  1.35262695,\n",
       "        12.79364764, 16.71101206], dtype=float64),\n",
       " Array([0.02517534, 0.58656588, 0.92340884, ..., 0.11474347, 0.76915896,\n",
       "        0.7564169 ], dtype=float64),\n",
       " Array([0.00100867, 0.02012668, 0.00235638, ..., 0.00491723, 0.00890027,\n",
       "        0.01301886], dtype=float64),\n",
       " Array([ 2.95930474, 41.07077406, 19.04977071, ..., 18.87508196,\n",
       "        50.74581443, 36.45878445], dtype=float64),\n",
       " Array([  0.3802552 , 284.34007461,  -0.62085043, ...,   9.6326711 ,\n",
       "         -8.56319256, -58.94314521], dtype=float64))"
      ]
     },
     "execution_count": 61,
     "metadata": {},
     "output_type": "execute_result"
    }
   ],
   "source": [
    "test_set_multi"
   ]
  },
  {
   "cell_type": "code",
   "execution_count": 60,
   "id": "cbb79530-3010-4ddd-a5ba-6c47de52be92",
   "metadata": {},
   "outputs": [
    {
     "ename": "AttributeError",
     "evalue": "'tuple' object has no attribute 'initial_states'",
     "output_type": "error",
     "traceback": [
      "\u001b[0;31m---------------------------------------------------------------------------\u001b[0m",
      "\u001b[0;31mAttributeError\u001b[0m                            Traceback (most recent call last)",
      "Cell \u001b[0;32mIn[60], line 2\u001b[0m\n\u001b[1;32m      1\u001b[0m test_set_snd_order \u001b[38;5;241m=\u001b[39m test_set_multi\n\u001b[0;32m----> 2\u001b[0m xs \u001b[38;5;241m=\u001b[39m \u001b[43mtest_set_snd_order\u001b[49m\u001b[38;5;241;43m.\u001b[39;49m\u001b[43minitial_states\u001b[49m\n\u001b[1;32m      3\u001b[0m xs, ys \u001b[38;5;241m=\u001b[39m xs[:, \u001b[38;5;241m0\u001b[39m], xs[:, \u001b[38;5;241m1\u001b[39m]\n\u001b[1;32m      4\u001b[0m dsds \u001b[38;5;241m=\u001b[39m test_set_snd_order\u001b[38;5;241m.\u001b[39msnd_order_ds[\u001b[38;5;241m-\u001b[39m\u001b[38;5;241m2\u001b[39m]\n",
      "\u001b[0;31mAttributeError\u001b[0m: 'tuple' object has no attribute 'initial_states'"
     ]
    }
   ],
   "source": [
    "test_set_snd_order = test_set_multi\n",
    "xs = test_set_snd_order.initial_states\n",
    "xs, ys = xs[:, 0], xs[:, 1]\n",
    "dsds = test_set_snd_order.snd_order_ds[-2]\n",
    "dsdv = test_set_snd_order.snd_order_ds[-1]\n",
    "dvds = test_set_snd_order.snd_order_dv[-2]\n",
    "dvdv = test_set_snd_order.snd_order_dv[-1]\n",
    "fig_dSdS = plot_3d_differential_data(xs, ys, dsds, \"test dSdS\")\n",
    "fig_dSdV = plot_3d_differential_data(xs, ys, dsdv, \"test dSdv\")\n",
    "fig_dVdS = plot_3d_differential_data(xs, ys, dvds, \"test dVdS\")\n",
    "fig_dVdV = plot_3d_differential_data(xs, ys, dvdv, \"test dVdv\")"
   ]
  }
 ],
 "metadata": {
  "kernelspec": {
   "display_name": "Python 3 (ipykernel)",
   "language": "python",
   "name": "python3"
  },
  "language_info": {
   "codemirror_mode": {
    "name": "ipython",
    "version": 3
   },
   "file_extension": ".py",
   "mimetype": "text/x-python",
   "name": "python",
   "nbconvert_exporter": "python",
   "pygments_lexer": "ipython3",
   "version": "3.10.12"
  }
 },
 "nbformat": 4,
 "nbformat_minor": 5
}
