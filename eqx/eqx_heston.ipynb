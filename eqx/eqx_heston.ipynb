{
 "cells": [
  {
   "cell_type": "code",
   "execution_count": 1,
   "id": "088da22a-359a-4472-a47c-592bfa4a83c5",
   "metadata": {},
   "outputs": [
    {
     "name": "stderr",
     "output_type": "stream",
     "text": [
      "2023-08-22 17:35:51.015306: W tensorflow/compiler/tf2tensorrt/utils/py_utils.cc:38] TF-TRT Warning: Could not find TensorRT\n",
      "2023-08-22 17:35:53.241665: W tensorflow/core/common_runtime/gpu/gpu_device.cc:1956] Cannot dlopen some GPU libraries. Please make sure the missing libraries mentioned above are installed properly if you would like to use GPU. Follow the guide at https://www.tensorflow.org/install/gpu for how to download and setup the required libraries for your platform.\n",
      "Skipping registering GPU devices...\n"
     ]
    },
    {
     "data": {
      "text/plain": [
       "[gpu(id=0)]"
      ]
     },
     "execution_count": 1,
     "metadata": {},
     "output_type": "execute_result"
    }
   ],
   "source": [
    "import matplotlib.pyplot as plt\n",
    "\n",
    "import jax.numpy as jnp\n",
    "from jax.scipy.stats import norm\n",
    "from jax import grad, jit, vmap\n",
    "from jax import random as jrandom\n",
    "import jax\n",
    "\n",
    "from jax import config\n",
    "config.update(\"jax_enable_x64\", True)\n",
    "\n",
    "from typing import Sequence, Tuple, Union\n",
    "from jaxtyping import Array, ArrayLike, Float, Int, PyTree, ScalarLike\n",
    "\n",
    "import equinox as eqx\n",
    "import optax\n",
    "import chex\n",
    "\n",
    "import tensorflow as tf\n",
    "# Ensure TF does not see GPU and grab all GPU memory.\n",
    "tf.config.set_visible_devices([], device_type='GPU')\n",
    "\n",
    "import tensorflow_datasets as tfds\n",
    "\n",
    "from dataclasses import dataclass, astuple\n",
    "from functools import partial\n",
    "\n",
    "import numpy as np\n",
    "\n",
    "import pytest\n",
    "import pytest_benchmark\n",
    "\n",
    "jax.enable_checks = True\n",
    "\n",
    "jax.devices()"
   ]
  },
  {
   "cell_type": "code",
   "execution_count": 2,
   "id": "0c0df3ba-e4b8-4428-9be0-ae202aefa719",
   "metadata": {},
   "outputs": [],
   "source": [
    "class EuropeanPayoff:\n",
    "    @staticmethod\n",
    "    def call(maturity_prices: Float[ArrayLike, \" n\"], strike_prices: Float[ScalarLike, \"\"]) -> Float[Array, \" n\"]:\n",
    "        return jnp.maximum(jnp.subtract(maturity_prices, strike_prices), 0.0)\n",
    "\n",
    "    @staticmethod\n",
    "    def put(maturity_prices: Float[ArrayLike, \" n\"], strike_prices: Float[ScalarLike, \"\"]) -> Float[Array, \" n\"]:\n",
    "        return jnp.maximum(jnp.subtract(strike_prices, maturity_prices), 0.0)"
   ]
  },
  {
   "cell_type": "code",
   "execution_count": 18,
   "id": "4f853a96-5448-4414-964c-2072f285bf42",
   "metadata": {},
   "outputs": [],
   "source": [
    "@dataclass\n",
    "class Heston:\n",
    "    \n",
    "\n",
    "    S0 : float = 105.0;    # Initial spot price\n",
    "    K : float = 100.0;     # Strike price\n",
    "    T : float = 1.0;       # One year until expiry\n",
    "    rho : float = 0.0;     # Correlation of asset and volatility\n",
    "    xi : float = 0.1;      # Vol of vol\n",
    "    v0 : float = 0.01;     # Initial volatility\n",
    "    \n",
    "    r : float = 0.00;      # Risk-free rate\n",
    "    kappa : float = 2.0;   # Mean-reversion rate\n",
    "    theta : float = 0.01;  # Long run average volatility\n",
    "\n",
    "    \n",
    "\n",
    "    # TODO: store vol_path inside class?\n",
    "    def spot_path_for_loop(self, spot_draws: Array, vol_path: Array) -> Array:\n",
    "        vec_size = len(spot_draws)\n",
    "        dt = self.T / vec_size\n",
    "        spot_paths = jnp.zeros_like(vol_path)\n",
    "        spot_paths = spot_paths.at[0].set(self.S0)\n",
    "        \n",
    "        for i in range(1, vec_size):\n",
    "            v_truncated = jnp.maximum(0.0, vol_path[i-1])\n",
    "            prev_path_contribution = spot_paths[i-1] * jnp.exp((self.r - 0.5 * v_truncated)) * dt\n",
    "            randomness = jnp.sqrt(v_truncated * dt) * spot_draws[i-1]\n",
    "            spot_paths = spot_paths.at[i].set(prev_path_contribution + randomness) # change this in optimized loop to build up the end array?\n",
    "\n",
    "        return spot_paths\n",
    "\n",
    "    def spot_path(self, spot_draws: Array, vol_path: Array) -> Array:\n",
    "        n_iter = len(spot_draws)\n",
    "        dt = self.T / n_iter\n",
    "\n",
    "        def spot_path_iter(prev_spot_path, iter_pair):\n",
    "            spot_draw = iter_pair[0]\n",
    "            vol = iter_pair[1]\n",
    "            v_truncated = jnp.maximum(0.0, vol)\n",
    "            prev_path_contribution = prev_spot_path * jnp.exp((self.r - 0.5 * v_truncated)) * dt\n",
    "            randomness = jnp.sqrt(v_truncated * dt) * spot_draw\n",
    "            current_spot_path = prev_path_contribution + randomness\n",
    "            return current_spot_path, current_spot_path\n",
    "\n",
    "        iter_values = jnp.column_stack((spot_draws, vol_path))\n",
    "        carry, spot_paths = jax.lax.scan(spot_path_iter, jnp.array(self.S0), iter_values, length=n_iter)\n",
    "\n",
    "        spot_paths = jnp.roll(spot_paths.at[-1].set(self.S0), 1)\n",
    "        return spot_paths\n",
    "    \n",
    "    def volatility_path_for_loop(self, vol_draws: Float[Array, \"n ...\"]) -> Float[Array, \"n ...\"]:\n",
    "        vec_size = len(vol_draws)\n",
    "        dt = self.T / vec_size\n",
    "\n",
    "        vol_path = jnp.zeros_like(vol_draws)\n",
    "        vol_path = vol_path.at[0].set(self.v0)\n",
    "\n",
    "        for i in range(1, vec_size):\n",
    "            v_truncated = jnp.maximum(0.0, vol_path[i-1])\n",
    "            prev_path_contribution = vol_path[i-1] + self.kappa * dt * (self.theta - v_truncated)\n",
    "            randomness = self.xi * jnp.sqrt(v_truncated * dt) * vol_draws[i-1]\n",
    "            vol_path = vol_path.at[i].set(prev_path_contribution + randomness)\n",
    "        \n",
    "        return vol_path\n",
    "\n",
    "    def volatility_path(self, vol_draws):\n",
    "        n_iter = len(vol_draws)\n",
    "        dt = self.T / n_iter\n",
    "\n",
    "        def vol_path_iter(prev_vol_path, vol_draw):\n",
    "            v_truncated = jnp.maximum(0.0, prev_vol_path)\n",
    "            prev_path_contribution = prev_vol_path + self.kappa * dt * (self.theta - v_truncated)\n",
    "            randomness = self.xi * jnp.sqrt(v_truncated * dt) * vol_draw\n",
    "            current = prev_path_contribution + randomness\n",
    "            return current, current # use current both for carry and for y\n",
    "\n",
    "        carry, vol_path = jax.lax.scan(vol_path_iter, jnp.array(self.v0), vol_draws, length=n_iter)\n",
    "\n",
    "        # we now have iteration 1 at position 0. Place initial v0 at the end and rotate into initial slot\n",
    "        vol_path = jnp.roll(vol_path.at[-1].set(self.v0), 1)\n",
    "        return vol_path\n"
   ]
  },
  {
   "cell_type": "code",
   "execution_count": 19,
   "id": "44e49d3f-44b7-459f-905c-dd2ee2d2f77c",
   "metadata": {},
   "outputs": [],
   "source": [
    "n_sims : int = 1000000\n",
    "n_intervals: int = 1000\n",
    "\n",
    "payoff_sum: float = 0.0\n",
    "\n"
   ]
  },
  {
   "cell_type": "code",
   "execution_count": 20,
   "id": "5226b488-10db-4aba-99ce-0f8b3fc02cc5",
   "metadata": {},
   "outputs": [],
   "source": [
    "heston = Heston()"
   ]
  },
  {
   "cell_type": "code",
   "execution_count": 21,
   "id": "f55f7e20-c5e0-4ee0-bbe1-27d4616954b6",
   "metadata": {},
   "outputs": [],
   "source": [
    "key = jrandom.PRNGKey(0)\n",
    "\n",
    "key, subkey = jrandom.split(key)\n",
    "vol_draws = jrandom.normal(key=subkey, shape=(100, ))\n",
    "#print(vol_draws)\n",
    "\n",
    "vol_path_for = heston.volatility_path_for_loop(vol_draws)\n",
    "vol_path = heston.volatility_path(vol_draws)\n",
    "assert(jnp.allclose(vol_path_for, vol_path))"
   ]
  },
  {
   "cell_type": "code",
   "execution_count": 25,
   "id": "84931ad5-04cf-454d-8e7b-69783694f663",
   "metadata": {},
   "outputs": [],
   "source": [
    "key, subkey = jrandom.split(key)\n",
    "spot_draws = jrandom.normal(key=subkey, shape=(100, ))\n",
    "\n",
    "spot_path_for = heston.spot_path_for_loop(spot_draws, vol_path)\n",
    "spot_path = heston.spot_path(spot_draws, vol_path)\n",
    "assert(jnp.allclose(spot_path_for, spot_path))"
   ]
  }
 ],
 "metadata": {
  "kernelspec": {
   "display_name": "Python 3 (ipykernel)",
   "language": "python",
   "name": "python3"
  },
  "language_info": {
   "codemirror_mode": {
    "name": "ipython",
    "version": 3
   },
   "file_extension": ".py",
   "mimetype": "text/x-python",
   "name": "python",
   "nbconvert_exporter": "python",
   "pygments_lexer": "ipython3",
   "version": "3.10.12"
  }
 },
 "nbformat": 4,
 "nbformat_minor": 5
}
