{
  "cells": [
    {
      "cell_type": "code",
      "execution_count": 2,
      "metadata": {
        "colab": {
          "base_uri": "https://localhost:8080/"
        },
        "id": "bPO3E0Jcw85E",
        "outputId": "e57002f8-5b5b-4598-b79f-fa5562acdb6c"
      },
      "outputs": [
        {
          "output_type": "stream",
          "name": "stdout",
          "text": [
            "Collecting jaxtyping\n",
            "  Downloading jaxtyping-0.2.21-py3-none-any.whl (25 kB)\n",
            "Requirement already satisfied: numpy>=1.20.0 in /usr/local/lib/python3.10/dist-packages (from jaxtyping) (1.23.5)\n",
            "Collecting typeguard>=2.13.3 (from jaxtyping)\n",
            "  Downloading typeguard-4.1.3-py3-none-any.whl (33 kB)\n",
            "Requirement already satisfied: typing-extensions>=3.7.4.1 in /usr/local/lib/python3.10/dist-packages (from jaxtyping) (4.7.1)\n",
            "Installing collected packages: typeguard, jaxtyping\n",
            "Successfully installed jaxtyping-0.2.21 typeguard-4.1.3\n",
            "Collecting equinox\n",
            "  Downloading equinox-0.10.11-py3-none-any.whl (137 kB)\n",
            "\u001b[2K     \u001b[90m━━━━━━━━━━━━━━━━━━━━━━━━━━━━━━━━━━━━━━━\u001b[0m \u001b[32m137.1/137.1 kB\u001b[0m \u001b[31m2.6 MB/s\u001b[0m eta \u001b[36m0:00:00\u001b[0m\n",
            "\u001b[?25hRequirement already satisfied: jax>=0.4.13 in /usr/local/lib/python3.10/dist-packages (from equinox) (0.4.14)\n",
            "Requirement already satisfied: jaxtyping>=0.2.20 in /usr/local/lib/python3.10/dist-packages (from equinox) (0.2.21)\n",
            "Requirement already satisfied: typing-extensions>=4.5.0 in /usr/local/lib/python3.10/dist-packages (from equinox) (4.7.1)\n",
            "Requirement already satisfied: ml-dtypes>=0.2.0 in /usr/local/lib/python3.10/dist-packages (from jax>=0.4.13->equinox) (0.2.0)\n",
            "Requirement already satisfied: numpy>=1.22 in /usr/local/lib/python3.10/dist-packages (from jax>=0.4.13->equinox) (1.23.5)\n",
            "Requirement already satisfied: opt-einsum in /usr/local/lib/python3.10/dist-packages (from jax>=0.4.13->equinox) (3.3.0)\n",
            "Requirement already satisfied: scipy>=1.7 in /usr/local/lib/python3.10/dist-packages (from jax>=0.4.13->equinox) (1.10.1)\n",
            "Requirement already satisfied: typeguard>=2.13.3 in /usr/local/lib/python3.10/dist-packages (from jaxtyping>=0.2.20->equinox) (4.1.3)\n",
            "Installing collected packages: equinox\n",
            "Successfully installed equinox-0.10.11\n"
          ]
        }
      ],
      "source": [
        "# For Google Colab\n",
        "%pip install jaxtyping\n",
        "%pip install equinox"
      ],
      "id": "bPO3E0Jcw85E"
    },
    {
      "cell_type": "code",
      "execution_count": 3,
      "id": "088da22a-359a-4472-a47c-592bfa4a83c5",
      "metadata": {
        "colab": {
          "base_uri": "https://localhost:8080/"
        },
        "id": "088da22a-359a-4472-a47c-592bfa4a83c5",
        "outputId": "3139f267-8667-4829-b02c-078e117a366b"
      },
      "outputs": [
        {
          "output_type": "execute_result",
          "data": {
            "text/plain": [
              "[gpu(id=0)]"
            ]
          },
          "metadata": {},
          "execution_count": 3
        }
      ],
      "source": [
        "import matplotlib.pyplot as plt\n",
        "\n",
        "import jax.numpy as jnp\n",
        "from jax.scipy.stats import norm\n",
        "from jax import grad, jit, vmap\n",
        "from jax import random as jrandom\n",
        "import jax\n",
        "\n",
        "from jax import config\n",
        "config.update(\"jax_enable_x64\", True)\n",
        "\n",
        "from typing import Sequence, Tuple, Union, Optional\n",
        "from jaxtyping import Array, ArrayLike, Float, Int, PyTree, PRNGKeyArray, ScalarLike\n",
        "\n",
        "import equinox as eqx\n",
        "import optax\n",
        "import chex\n",
        "\n",
        "import tensorflow as tf\n",
        "# Ensure TF does not see GPU and grab all GPU memory.\n",
        "tf.config.set_visible_devices([], device_type='GPU')\n",
        "\n",
        "import tensorflow_datasets as tfds\n",
        "\n",
        "from dataclasses import dataclass, astuple\n",
        "from functools import partial\n",
        "\n",
        "import numpy as np\n",
        "\n",
        "jax.enable_checks = True\n",
        "\n",
        "jax.devices()"
      ]
    },
    {
      "cell_type": "markdown",
      "id": "98099460-30ff-461d-a07a-bcb115c72155",
      "metadata": {
        "id": "98099460-30ff-461d-a07a-bcb115c72155"
      },
      "source": [
        "# Model Definition"
      ]
    },
    {
      "cell_type": "code",
      "execution_count": 23,
      "id": "0c0df3ba-e4b8-4428-9be0-ae202aefa719",
      "metadata": {
        "id": "0c0df3ba-e4b8-4428-9be0-ae202aefa719"
      },
      "outputs": [],
      "source": [
        "class EuropeanPayoff:\n",
        "    @staticmethod\n",
        "    def call(maturity_prices: Float[ArrayLike, \" n\"], strike_prices: Float[ScalarLike, \"\"]) -> Float[Array, \" n\"]:\n",
        "        return jnp.maximum(jnp.subtract(maturity_prices, strike_prices), 0.0)\n",
        "\n",
        "    @staticmethod\n",
        "    def put(maturity_prices: Float[ArrayLike, \" n\"], strike_prices: Float[ScalarLike, \"\"]) -> Float[Array, \" n\"]:\n",
        "        return jnp.maximum(jnp.subtract(strike_prices, maturity_prices), 0.0)\n",
        "\n",
        "    @staticmethod\n",
        "    def payoff(spot_path, K, payoff_fn = call):\n",
        "        spot_maturity = spot_path[..., -1]\n",
        "        payoff = payoff_fn(spot_maturity, K)\n",
        "        return payoff\n"
      ]
    },
    {
      "cell_type": "code",
      "execution_count": 5,
      "id": "4f853a96-5448-4414-964c-2072f285bf42",
      "metadata": {
        "id": "4f853a96-5448-4414-964c-2072f285bf42"
      },
      "outputs": [],
      "source": [
        "\n",
        "# class HestonState\n",
        "# class MarkovState\n",
        "\n",
        "@dataclass\n",
        "class Heston:\n",
        "\n",
        "    # S0: float = 100.0       # Initial spot price\n",
        "    # K: float = 100.0        # Strike price\n",
        "    # r: float = 0.0319       # Risk-free rate\n",
        "    # v0: float = 0.010201    # Initial volatility\n",
        "    # T: float = 1.00         # One year until expiry\n",
        "    # rho: float = -0.7       # Correlation of asset and volatility\n",
        "    # kappa: float = 6.21     # Mean-reversion rate\n",
        "    # theta: float = 0.019    # Long run average volatility\n",
        "    # xi: float = 0.61        # Volatility of volatility\n",
        "\n",
        "    S0: float = 100.0       # Initial spot price\n",
        "    K: float = 100.0        # Strike price\n",
        "    r: float = 0.05         # Risk-free rate\n",
        "    v0: float = 0.09        # Initial volatility\n",
        "    T: float = 5.00         # n years until expiry, i.e. T2 - T1\n",
        "    rho: float = -0.3       # Correlation of asset and volatility\n",
        "    kappa: float = 2.00     # Mean-reversion rate\n",
        "    theta: float = 0.09     # Long run average volatility\n",
        "    xi: float = 1.00        # Volatility of volatility\n",
        "\n",
        "\n",
        "    # def spot_path_lsm(self):\n",
        "    #     # vols\n",
        "\n",
        "    #     # vol_path = jnp.zeros_like(vol_draws)\n",
        "    #     # vol_path = vol_path.at[0].set(self.v0)\n",
        "\n",
        "    #     v0 = self.v0\n",
        "    #     v_truncated = jnp.maximum(0.0, v0)\n",
        "    #     v1 = v0 + self.kappa * T * (self.theta - v_truncated) + self.xi * jnp.sqrt(v_truncated * T) * vol_draws[i-1]\n",
        "\n",
        "    #         v_truncated = jnp.maximum(0.0, vol_path[i-1])\n",
        "    #         prev_path_contribution = vol_path[i-1] + self.kappa * dt * (self.theta - v_truncated)\n",
        "    #         randomness = self.xi * jnp.sqrt(v_truncated * dt) * vol_draws[i-1]\n",
        "    #         vol_path = vol_path.at[i].set(prev_path_contribution + randomness)\n",
        "\n",
        "    #     return vol_path\n",
        "\n",
        "\n",
        "    #     vec_size = len(spot_draws)\n",
        "    #     dt = self.T / vec_size\n",
        "    #     spot_paths = jnp.zeros_like(vol_path)\n",
        "    #     spot_paths = spot_paths.at[0].set(self.S0)\n",
        "\n",
        "    #     for i in range(1, vec_size):\n",
        "    #         v_truncated = jnp.maximum(0.0, vol_path[i-1])\n",
        "    #         path_new_spot = spot_paths[i-1] * jnp.exp((self.r - 0.5 * v_truncated) * dt + jnp.sqrt(v_truncated * dt) * spot_draws[i-1])\n",
        "    #         spot_paths = spot_paths.at[i].set(path_new_spot)\n",
        "    #     return spot_paths\n",
        "\n",
        "    # TODO: store vol_path inside class?\n",
        "    def spot_path_for_loop(self, spot_draws: Array, vol_path: Array) -> Array:\n",
        "        vec_size = len(spot_draws)\n",
        "        dt = self.T / vec_size\n",
        "        spot_paths = jnp.zeros_like(vol_path)\n",
        "        spot_paths = spot_paths.at[0].set(self.S0)\n",
        "\n",
        "\n",
        "        for i in range(1, vec_size):\n",
        "            v_truncated = jnp.maximum(0.0, vol_path[i-1])\n",
        "            path_new_spot = spot_paths[i-1] * jnp.exp((self.r - 0.5 * v_truncated) * dt + jnp.sqrt(v_truncated * dt) * spot_draws[i-1])\n",
        "            spot_paths = spot_paths.at[i].set(path_new_spot)\n",
        "        return spot_paths\n",
        "\n",
        "    def spot_path(self, spot_draws: Array, vol_path: Array) -> Array:\n",
        "        n_iter = len(spot_draws)\n",
        "        dt = self.T / n_iter\n",
        "\n",
        "        def spot_path_iter(prev_spot_path, iter_pair):\n",
        "            spot_draw = iter_pair[0]\n",
        "            vol = iter_pair[1]\n",
        "            v_truncated = jnp.maximum(0.0, vol)\n",
        "            path_new_spot = prev_spot_path * jnp.exp((self.r - 0.5 * v_truncated) * dt + jnp.sqrt(v_truncated * dt) * spot_draw)\n",
        "            return path_new_spot, path_new_spot\n",
        "\n",
        "        iter_values = jnp.column_stack((spot_draws, vol_path))\n",
        "        carry, spot_paths = jax.lax.scan(spot_path_iter, jnp.array(self.S0), iter_values, length=n_iter)\n",
        "\n",
        "        spot_paths = jnp.roll(spot_paths.at[-1].set(self.S0), 1)\n",
        "        return spot_paths\n",
        "\n",
        "    def volatility_path_for_loop(self, vol_draws: Float[Array, \"n ...\"]) -> Float[Array, \"n ...\"]:\n",
        "        vec_size = len(vol_draws)\n",
        "        dt = self.T / vec_size\n",
        "\n",
        "        vol_path = jnp.zeros_like(vol_draws)\n",
        "        vol_path = vol_path.at[0].set(self.v0)\n",
        "\n",
        "        for i in range(1, vec_size):\n",
        "            v_truncated = jnp.maximum(0.0, vol_path[i-1])\n",
        "            prev_path_contribution = vol_path[i-1] + self.kappa * dt * (self.theta - v_truncated)\n",
        "            randomness = self.xi * jnp.sqrt(v_truncated * dt) * vol_draws[i-1]\n",
        "            vol_path = vol_path.at[i].set(prev_path_contribution + randomness)\n",
        "\n",
        "        return vol_path\n",
        "\n",
        "    def volatility_path(self, vol_draws):\n",
        "        n_iter = len(vol_draws)\n",
        "        dt = self.T / n_iter\n",
        "\n",
        "        def vol_path_iter(prev_vol_path, vol_draw):\n",
        "            v_truncated = jnp.maximum(0.0, prev_vol_path)\n",
        "            prev_path_contribution = prev_vol_path + self.kappa * dt * (self.theta - v_truncated)\n",
        "            randomness = self.xi * jnp.sqrt(v_truncated * dt) * vol_draw\n",
        "            current = prev_path_contribution + randomness\n",
        "            return current, current # use current both for carry and for y\n",
        "\n",
        "        carry, vol_path = jax.lax.scan(vol_path_iter, jnp.array(self.v0), vol_draws, length=n_iter)\n",
        "\n",
        "        # we now have iteration 1 at position 0. Place initial v0 at the end and rotate into initial slot\n",
        "        vol_path = jnp.roll(vol_path.at[-1].set(self.v0), 1)\n",
        "        return vol_path\n",
        "\n",
        "    def path(self, key: PRNGKeyArray, n_intervals: int = 1000):\n",
        "        mean = jnp.zeros(2)\n",
        "        cov = jnp.array([[1.0, self.rho], [self.rho, 1.0]])\n",
        "\n",
        "        correlated_samples = jrandom.multivariate_normal(key, mean, cov, shape=(n_intervals,))\n",
        "\n",
        "        vol_draws = correlated_samples[:, 0]\n",
        "        spot_draws = correlated_samples[:, 1]\n",
        "\n",
        "        vol_path = self.volatility_path(vol_draws)\n",
        "        spot_path = self.spot_path(spot_draws, vol_path)\n",
        "        return vol_path, spot_path\n",
        "\n",
        "    def payoff(self, key: PRNGKeyArray, n_intervals: int = 1000, payoff_fn = EuropeanPayoff.call):\n",
        "        _, spot_path = self.path(key, n_intervals)\n",
        "        spot_maturity = spot_path[-1]\n",
        "        payoff = payoff_fn(spot_maturity, self.K)\n",
        "        return payoff\n"
      ]
    },
    {
      "cell_type": "markdown",
      "id": "5267dd13-4223-4fa4-a7a3-465bfc083c21",
      "metadata": {
        "jp-MarkdownHeadingCollapsed": true,
        "id": "5267dd13-4223-4fa4-a7a3-465bfc083c21"
      },
      "source": [
        "# Exploration"
      ]
    },
    {
      "cell_type": "code",
      "execution_count": 6,
      "id": "44e49d3f-44b7-459f-905c-dd2ee2d2f77c",
      "metadata": {
        "id": "44e49d3f-44b7-459f-905c-dd2ee2d2f77c"
      },
      "outputs": [],
      "source": [
        "n_sims : int = 1000000\n",
        "n_intervals: int = 1000\n",
        "heston = Heston()"
      ]
    },
    {
      "cell_type": "code",
      "execution_count": 7,
      "id": "f55f7e20-c5e0-4ee0-bbe1-27d4616954b6",
      "metadata": {
        "id": "f55f7e20-c5e0-4ee0-bbe1-27d4616954b6"
      },
      "outputs": [],
      "source": [
        "key = jrandom.PRNGKey(0)\n",
        "\n",
        "key, subkey = jrandom.split(key)\n",
        "vol_draws = jrandom.normal(key=subkey, shape=(100, ))\n",
        "# print(vol_draws)\n",
        "\n",
        "vol_path_for = heston.volatility_path_for_loop(vol_draws)\n",
        "vol_path = heston.volatility_path(vol_draws)\n",
        "assert(jnp.allclose(vol_path_for, vol_path))"
      ]
    },
    {
      "cell_type": "code",
      "execution_count": 8,
      "id": "84931ad5-04cf-454d-8e7b-69783694f663",
      "metadata": {
        "editable": true,
        "tags": [],
        "id": "84931ad5-04cf-454d-8e7b-69783694f663"
      },
      "outputs": [],
      "source": [
        "key, subkey = jrandom.split(key)\n",
        "spot_draws = jrandom.normal(key=subkey, shape=(100, ))\n",
        "\n",
        "spot_path_for = heston.spot_path_for_loop(spot_draws, vol_path)\n",
        "spot_path = heston.spot_path(spot_draws, vol_path)\n",
        "assert(jnp.allclose(spot_path_for, spot_path))"
      ]
    },
    {
      "cell_type": "code",
      "execution_count": 9,
      "id": "12c0b510-9849-48e0-b091-01e67d573b8e",
      "metadata": {
        "colab": {
          "base_uri": "https://localhost:8080/"
        },
        "id": "12c0b510-9849-48e0-b091-01e67d573b8e",
        "outputId": "396516d5-c15e-4c29-f525-eee8611e7456"
      },
      "outputs": [
        {
          "output_type": "stream",
          "name": "stdout",
          "text": [
            "[[ 1.  -0.3]\n",
            " [-0.3  1. ]]\n"
          ]
        },
        {
          "output_type": "execute_result",
          "data": {
            "text/plain": [
              "(100000, 2)"
            ]
          },
          "metadata": {},
          "execution_count": 9
        }
      ],
      "source": [
        "key, subkey = jrandom.split(key)\n",
        "\n",
        "mean = jnp.zeros(2)\n",
        "cov = jnp.array([[1, heston.rho], [heston.rho, 1]])\n",
        "\n",
        "print(cov)\n",
        "correlated_samples = jrandom.multivariate_normal(key, mean, cov, shape=(100000,))\n",
        "correlated_samples.shape"
      ]
    },
    {
      "cell_type": "code",
      "execution_count": 10,
      "id": "1292dfe4-d214-46c3-bf54-58538b44ef67",
      "metadata": {
        "id": "1292dfe4-d214-46c3-bf54-58538b44ef67"
      },
      "outputs": [],
      "source": [
        "sample_mean = jnp.mean(correlated_samples, axis=0)\n",
        "assert(jnp.allclose(sample_mean, mean, atol=1e-2))"
      ]
    },
    {
      "cell_type": "code",
      "execution_count": 11,
      "id": "421ff660-2108-4045-8db7-149b5f3037ea",
      "metadata": {
        "id": "421ff660-2108-4045-8db7-149b5f3037ea"
      },
      "outputs": [],
      "source": [
        "sample_cov = jnp.cov(correlated_samples.T)\n",
        "assert(jnp.allclose(sample_cov, cov, atol=1e-2))"
      ]
    },
    {
      "cell_type": "code",
      "execution_count": 12,
      "id": "fc9bb850-5fd8-4522-abf5-8b707380d52b",
      "metadata": {
        "colab": {
          "base_uri": "https://localhost:8080/"
        },
        "id": "fc9bb850-5fd8-4522-abf5-8b707380d52b",
        "outputId": "2e28fe4e-e6b6-4405-bac6-2c30731ace8e"
      },
      "outputs": [
        {
          "output_type": "execute_result",
          "data": {
            "text/plain": [
              "Array(-0.30700636, dtype=float64)"
            ]
          },
          "metadata": {},
          "execution_count": 12
        }
      ],
      "source": [
        "jnp.corrcoef(correlated_samples.T)[0, 1]"
      ]
    },
    {
      "cell_type": "code",
      "execution_count": 13,
      "id": "c6672e7e-8337-4a78-addb-e201a7b1869f",
      "metadata": {
        "colab": {
          "base_uri": "https://localhost:8080/"
        },
        "id": "c6672e7e-8337-4a78-addb-e201a7b1869f",
        "outputId": "db24c407-2c57-4f10-8380-ac5536b192f2"
      },
      "outputs": [
        {
          "output_type": "execute_result",
          "data": {
            "text/plain": [
              "Array([[ 1.        , -0.30700636],\n",
              "       [-0.30700636,  1.        ]], dtype=float64)"
            ]
          },
          "metadata": {},
          "execution_count": 13
        }
      ],
      "source": [
        "jnp.corrcoef(correlated_samples[:, 0], correlated_samples[:, 1])"
      ]
    },
    {
      "cell_type": "code",
      "execution_count": 14,
      "id": "0cda8345-c409-45ff-a535-083c16d0650d",
      "metadata": {
        "colab": {
          "base_uri": "https://localhost:8080/"
        },
        "id": "0cda8345-c409-45ff-a535-083c16d0650d",
        "outputId": "4131d0d9-eabf-4ae1-c0e6-2f964097ea2e"
      },
      "outputs": [
        {
          "output_type": "stream",
          "name": "stdout",
          "text": [
            "[[ 1.  -0.3]\n",
            " [-0.3  1. ]]\n"
          ]
        }
      ],
      "source": [
        "mean = jnp.zeros(2)\n",
        "cov = jnp.array([[1, heston.rho], [heston.rho, 1]])\n",
        "\n",
        "print(cov)"
      ]
    },
    {
      "cell_type": "markdown",
      "id": "68ec4325-de92-40cd-9c35-a3ceb145355a",
      "metadata": {
        "id": "68ec4325-de92-40cd-9c35-a3ceb145355a"
      },
      "source": [
        "# Price"
      ]
    },
    {
      "cell_type": "code",
      "execution_count": 15,
      "id": "a230ff1a-7340-4d8f-8eb6-6f5dbc3bc1fe",
      "metadata": {
        "id": "a230ff1a-7340-4d8f-8eb6-6f5dbc3bc1fe"
      },
      "outputs": [],
      "source": [
        "# Price calculation of heston model on european call option\n",
        "def price(key):\n",
        "    n_multiplier = 1\n",
        "    n_simulations = 1000000 * n_multiplier\n",
        "    n_outside_iter = 10 * n_multiplier\n",
        "    n_sims_per_iter = n_simulations // n_outside_iter\n",
        "    payoff_sum: float = 0.0\n",
        "    key, subkey = jrandom.split(key)\n",
        "\n",
        "    def pathwise_payoff_fn(payoff_sum, key):\n",
        "        keys = jrandom.split(key, num=n_sims_per_iter)\n",
        "        pathwise_payoff = vmap(heston.payoff)(keys)\n",
        "\n",
        "        payoff_sum_iter = jnp.sum(pathwise_payoff)\n",
        "        payoff_sum += payoff_sum_iter\n",
        "        return payoff_sum, payoff_sum_iter\n",
        "\n",
        "    keys = jrandom.split(subkey, num=n_outside_iter)\n",
        "    payoff_sum, _ = jax.lax.scan(pathwise_payoff_fn, 0.0, keys, length=n_outside_iter)\n",
        "\n",
        "    price = (payoff_sum / n_simulations) * jnp.exp(-heston.r * heston.T)\n",
        "    jax.debug.print(\"price {}\", price)\n"
      ]
    },
    {
      "cell_type": "code",
      "execution_count": 16,
      "id": "72c401a9-62d7-472c-81b1-9fa795c758f5",
      "metadata": {
        "id": "72c401a9-62d7-472c-81b1-9fa795c758f5"
      },
      "outputs": [],
      "source": [
        "key = jrandom.PRNGKey(0)\n",
        "heston = Heston()"
      ]
    },
    {
      "cell_type": "code",
      "execution_count": 17,
      "id": "23612dcc-8ee7-455f-95ef-678879b656da",
      "metadata": {
        "id": "23612dcc-8ee7-455f-95ef-678879b656da"
      },
      "outputs": [],
      "source": [
        "price_fn = jit(price)"
      ]
    },
    {
      "cell_type": "code",
      "execution_count": 72,
      "id": "2bd88a05-d68c-4732-9da9-006ca1584245",
      "metadata": {
        "collapsed": true,
        "jupyter": {
          "outputs_hidden": true
        },
        "colab": {
          "base_uri": "https://localhost:8080/"
        },
        "id": "2bd88a05-d68c-4732-9da9-006ca1584245",
        "outputId": "7011ea5f-f383-4e56-c5b5-841a3bfee5ab"
      },
      "outputs": [
        {
          "output_type": "stream",
          "name": "stdout",
          "text": [
            "price 34.93229832368327\n",
            "price 34.93229832368327\n",
            "price 34.93229832368327\n",
            "price 34.93229832368327\n",
            "price 34.93229832368327\n",
            "price 34.93229832368327\n",
            "price 34.93229832368327\n",
            "price 34.93229832368327\n",
            "8.99 s ± 17.8 ms per loop (mean ± std. dev. of 7 runs, 1 loop each)\n"
          ]
        }
      ],
      "source": [
        "%timeit price_fn(key)"
      ]
    },
    {
      "cell_type": "code",
      "execution_count": 34,
      "id": "b40e2670-3d47-4f2d-aa60-9e19ceceeb08",
      "metadata": {
        "colab": {
          "base_uri": "https://localhost:8080/"
        },
        "id": "b40e2670-3d47-4f2d-aa60-9e19ceceeb08",
        "outputId": "b118fad5-5815-48f3-81de-7d7826d225a3"
      },
      "outputs": [
        {
          "output_type": "stream",
          "name": "stdout",
          "text": [
            "price 34.93229832368327\n"
          ]
        }
      ],
      "source": [
        "price_fn(key)"
      ]
    },
    {
      "cell_type": "markdown",
      "id": "b65c0b19-3b0e-44fd-9c67-f014b0ed211f",
      "metadata": {
        "id": "b65c0b19-3b0e-44fd-9c67-f014b0ed211f"
      },
      "source": [
        "# Visualize Data"
      ]
    },
    {
      "cell_type": "code",
      "execution_count": 24,
      "id": "2dc6de81-4378-41ac-873b-07c82e81f741",
      "metadata": {
        "id": "2dc6de81-4378-41ac-873b-07c82e81f741"
      },
      "outputs": [],
      "source": [
        "n_sims : int = 100000\n",
        "n_intervals: int = 1000\n",
        "heston = Heston()"
      ]
    },
    {
      "cell_type": "code",
      "source": [
        "heston_payoff_fn = jit(vmap(heston.payoff))"
      ],
      "metadata": {
        "id": "yI33axDLW-zE"
      },
      "id": "yI33axDLW-zE",
      "execution_count": 30,
      "outputs": []
    },
    {
      "cell_type": "code",
      "source": [
        "key, subkey = jrandom.split(key)\n",
        "keys = jrandom.split(key, num=n_sims)\n",
        "\n",
        "payoffs = heston_payoff_fn(keys)\n",
        "print(payoffs.shape)"
      ],
      "metadata": {
        "colab": {
          "base_uri": "https://localhost:8080/"
        },
        "id": "kAChfT71V9kU",
        "outputId": "020a2b70-6130-4da5-88e1-998e8cf19b6e"
      },
      "id": "kAChfT71V9kU",
      "execution_count": 31,
      "outputs": [
        {
          "output_type": "stream",
          "name": "stdout",
          "text": [
            "(100000,)\n"
          ]
        }
      ]
    },
    {
      "cell_type": "code",
      "execution_count": 32,
      "id": "4f1b5c58-fa8d-4c39-a450-cfe51dac7aa9",
      "metadata": {
        "id": "4f1b5c58-fa8d-4c39-a450-cfe51dac7aa9"
      },
      "outputs": [],
      "source": [
        "heston_paths_fn = jit(vmap(heston.path))"
      ]
    },
    {
      "cell_type": "code",
      "execution_count": 36,
      "id": "5d88d42d-23c6-4e76-99ca-c17dfa7216cb",
      "metadata": {
        "colab": {
          "base_uri": "https://localhost:8080/"
        },
        "id": "5d88d42d-23c6-4e76-99ca-c17dfa7216cb",
        "outputId": "24243fa1-d397-48e2-ef9c-5357c579aa5a"
      },
      "outputs": [
        {
          "output_type": "stream",
          "name": "stdout",
          "text": [
            "(100000,)\n",
            "(100000, 1000)\n",
            "[[100.          98.43100014  94.50448194 ...  24.34189295  23.11289191\n",
            "   22.04966621]\n",
            " [100.          97.37876261  97.11160382 ...  20.35443659  20.34570842\n",
            "   20.52663431]\n",
            " [100.         103.67970768 103.78909442 ...  26.02349527  26.12516714\n",
            "   30.08314914]\n",
            " ...\n",
            " [100.         100.84983778 100.88391506 ...  35.55724144  35.66480622\n",
            "   35.4446042 ]\n",
            " [100.         101.08009739  97.46910456 ...  96.32388458  96.34796856\n",
            "   96.37205856]\n",
            " [100.          99.1591889   99.78829431 ... 126.41074661 126.58211752\n",
            "  126.52589298]]\n",
            "[ 0.          0.          0.         ...  0.          0.\n",
            " 26.52589298]\n",
            "(100000,)\n"
          ]
        }
      ],
      "source": [
        "key, subkey = jrandom.split(key)\n",
        "keys = jrandom.split(key, num=n_sims)\n",
        "vol_paths, spot_paths = heston_paths_fn(keys)\n",
        "\n",
        "\n",
        "print(spot_paths[..., -1].shape)\n",
        "print(spot_paths.shape)\n",
        "print(spot_paths)\n",
        "pathwise_payoff = EuropeanPayoff.payoff(spot_paths, heston.K)\n",
        "\n",
        "print(pathwise_payoff)\n",
        "print(pathwise_payoff.shape)\n"
      ]
    },
    {
      "cell_type": "code",
      "source": [
        "# TODO: generate payoff samples for a bunch of other starting spots. Those spots\n",
        "#       can either be found via MC or using some grid...\n",
        "#\n",
        "#       look into page 19 training inputs"
      ],
      "metadata": {
        "id": "LOnhC4cpZrwR"
      },
      "id": "LOnhC4cpZrwR",
      "execution_count": null,
      "outputs": []
    },
    {
      "cell_type": "code",
      "source": [
        "print(spot_paths[:, 0])"
      ],
      "metadata": {
        "colab": {
          "base_uri": "https://localhost:8080/"
        },
        "id": "X_izu9wmYksT",
        "outputId": "7fc4b6ca-9fac-4f63-c971-d91e70034552"
      },
      "id": "X_izu9wmYksT",
      "execution_count": 42,
      "outputs": [
        {
          "output_type": "stream",
          "name": "stdout",
          "text": [
            "[100. 100. 100. ... 100. 100. 100.]\n"
          ]
        }
      ]
    },
    {
      "cell_type": "code",
      "source": [
        "print(pathwise_payoff)"
      ],
      "metadata": {
        "colab": {
          "base_uri": "https://localhost:8080/"
        },
        "id": "7_GmzT14Zdo0",
        "outputId": "ee61436c-f0e8-4bb5-e14f-d2e0a164a097"
      },
      "id": "7_GmzT14Zdo0",
      "execution_count": 43,
      "outputs": [
        {
          "output_type": "stream",
          "name": "stdout",
          "text": [
            "[ 0.          0.          0.         ...  0.          0.\n",
            " 26.52589298]\n"
          ]
        }
      ]
    },
    {
      "cell_type": "code",
      "source": [
        "plt.plot(spot_paths[:, 0], pathwise_payoff, \"b.\")"
      ],
      "metadata": {
        "colab": {
          "base_uri": "https://localhost:8080/",
          "height": 448
        },
        "id": "IgC6JPGE9TkI",
        "outputId": "fe4c57f2-eec5-4f15-f8fe-13d9572ea011"
      },
      "id": "IgC6JPGE9TkI",
      "execution_count": 44,
      "outputs": [
        {
          "output_type": "execute_result",
          "data": {
            "text/plain": [
              "[<matplotlib.lines.Line2D at 0x7db39170ce80>]"
            ]
          },
          "metadata": {},
          "execution_count": 44
        },
        {
          "output_type": "display_data",
          "data": {
            "text/plain": [
              "<Figure size 640x480 with 1 Axes>"
            ],
            "image/png": "[encoded data removed]"
          },
          "metadata": {}
        }
      ]
    },
    {
      "cell_type": "code",
      "source": [
        ""
      ],
      "metadata": {
        "id": "bZnjmV56_jkY"
      },
      "id": "bZnjmV56_jkY",
      "execution_count": null,
      "outputs": []
    }
  ],
  "metadata": {
    "kernelspec": {
      "display_name": "Python 3",
      "name": "python3"
    },
    "language_info": {
      "codemirror_mode": {
        "name": "ipython",
        "version": 3
      },
      "file_extension": ".py",
      "mimetype": "text/x-python",
      "name": "python",
      "nbconvert_exporter": "python",
      "pygments_lexer": "ipython3",
      "version": "3.10.12"
    },
    "colab": {
      "provenance": [],
      "gpuType": "T4"
    },
    "accelerator": "GPU"
  },
  "nbformat": 4,
  "nbformat_minor": 5
}