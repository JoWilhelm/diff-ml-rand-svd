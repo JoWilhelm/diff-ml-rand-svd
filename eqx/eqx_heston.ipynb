{
 "cells": [
  {
   "cell_type": "code",
   "execution_count": 1,
   "id": "088da22a-359a-4472-a47c-592bfa4a83c5",
   "metadata": {},
   "outputs": [
    {
     "name": "stderr",
     "output_type": "stream",
     "text": [
      "2023-08-28 15:23:38.573251: W tensorflow/compiler/tf2tensorrt/utils/py_utils.cc:38] TF-TRT Warning: Could not find TensorRT\n",
      "2023-08-28 15:23:39.358005: W tensorflow/core/common_runtime/gpu/gpu_device.cc:1956] Cannot dlopen some GPU libraries. Please make sure the missing libraries mentioned above are installed properly if you would like to use GPU. Follow the guide at https://www.tensorflow.org/install/gpu for how to download and setup the required libraries for your platform.\n",
      "Skipping registering GPU devices...\n"
     ]
    },
    {
     "data": {
      "text/plain": [
       "[gpu(id=0)]"
      ]
     },
     "execution_count": 1,
     "metadata": {},
     "output_type": "execute_result"
    }
   ],
   "source": [
    "import matplotlib.pyplot as plt\n",
    "\n",
    "import jax.numpy as jnp\n",
    "from jax.scipy.stats import norm\n",
    "from jax import grad, jit, vmap\n",
    "from jax import random as jrandom\n",
    "import jax\n",
    "\n",
    "from jax import config\n",
    "config.update(\"jax_enable_x64\", True)\n",
    "\n",
    "from typing import Sequence, Tuple, Union, Optional\n",
    "from jaxtyping import Array, ArrayLike, Float, Int, PyTree, PRNGKeyArray, ScalarLike\n",
    "\n",
    "import equinox as eqx\n",
    "import optax\n",
    "import chex\n",
    "\n",
    "import tensorflow as tf\n",
    "# Ensure TF does not see GPU and grab all GPU memory.\n",
    "tf.config.set_visible_devices([], device_type='GPU')\n",
    "\n",
    "import tensorflow_datasets as tfds\n",
    "\n",
    "from dataclasses import dataclass, astuple\n",
    "from functools import partial\n",
    "\n",
    "import numpy as np\n",
    "\n",
    "import pytest\n",
    "import pytest_benchmark\n",
    "\n",
    "jax.enable_checks = True\n",
    "\n",
    "jax.devices()"
   ]
  },
  {
   "cell_type": "markdown",
   "id": "98099460-30ff-461d-a07a-bcb115c72155",
   "metadata": {},
   "source": [
    "# Model Definition"
   ]
  },
  {
   "cell_type": "code",
   "execution_count": 2,
   "id": "0c0df3ba-e4b8-4428-9be0-ae202aefa719",
   "metadata": {},
   "outputs": [],
   "source": [
    "class EuropeanPayoff:\n",
    "    @staticmethod\n",
    "    def call(maturity_prices: Float[ArrayLike, \" n\"], strike_prices: Float[ScalarLike, \"\"]) -> Float[Array, \" n\"]:\n",
    "        return jnp.maximum(jnp.subtract(maturity_prices, strike_prices), 0.0)\n",
    "\n",
    "    @staticmethod\n",
    "    def put(maturity_prices: Float[ArrayLike, \" n\"], strike_prices: Float[ScalarLike, \"\"]) -> Float[Array, \" n\"]:\n",
    "        return jnp.maximum(jnp.subtract(strike_prices, maturity_prices), 0.0)"
   ]
  },
  {
   "cell_type": "code",
   "execution_count": 3,
   "id": "4f853a96-5448-4414-964c-2072f285bf42",
   "metadata": {},
   "outputs": [],
   "source": [
    "\n",
    "# class HestonState\n",
    "# class MarkovState\n",
    "\n",
    "@dataclass\n",
    "class Heston:\n",
    "        \n",
    "    # S0: float = 100.0       # Initial spot price\n",
    "    # K: float = 100.0        # Strike price\n",
    "    # r: float = 0.0319       # Risk-free rate\n",
    "    # v0: float = 0.010201    # Initial volatility\n",
    "    # T: float = 1.00         # One year until expiry\n",
    "    # rho: float = -0.7       # Correlation of asset and volatility\n",
    "    # kappa: float = 6.21     # Mean-reversion rate\n",
    "    # theta: float = 0.019    # Long run average volatility\n",
    "    # xi: float = 0.61        # Volatility of volatility\n",
    "\n",
    "    S0: float = 100.0       # Initial spot price\n",
    "    K: float = 100.0        # Strike price\n",
    "    r: float = 0.05         # Risk-free rate\n",
    "    v0: float = 0.09        # Initial volatility\n",
    "    T: float = 5.00         # One year until expiry\n",
    "    rho: float = -0.3       # Correlation of asset and volatility\n",
    "    kappa: float = 2.00     # Mean-reversion rate\n",
    "    theta: float = 0.09     # Long run average volatility\n",
    "    xi: float = 1.00        # Volatility of volatility\n",
    "\n",
    "    \n",
    "    # TODO: store vol_path inside class?\n",
    "    def spot_path_for_loop(self, spot_draws: Array, vol_path: Array) -> Array:\n",
    "        vec_size = len(spot_draws)\n",
    "        dt = self.T / vec_size\n",
    "        spot_paths = jnp.zeros_like(vol_path)\n",
    "        spot_paths = spot_paths.at[0].set(self.S0)\n",
    "\n",
    "        \n",
    "        for i in range(1, vec_size):\n",
    "            v_truncated = jnp.maximum(0.0, vol_path[i-1])\n",
    "            path_new_spot = spot_paths[i-1] * jnp.exp((self.r - 0.5 * v_truncated) * dt + jnp.sqrt(v_truncated * dt) * spot_draws[i-1])\n",
    "            spot_paths = spot_paths.at[i].set(path_new_spot)\n",
    "        return spot_paths\n",
    "\n",
    "    def spot_path(self, spot_draws: Array, vol_path: Array) -> Array:\n",
    "        n_iter = len(spot_draws)\n",
    "        dt = self.T / n_iter\n",
    "\n",
    "        def spot_path_iter(prev_spot_path, iter_pair):\n",
    "            spot_draw = iter_pair[0]\n",
    "            vol = iter_pair[1]\n",
    "            v_truncated = jnp.maximum(0.0, vol)\n",
    "            path_new_spot = prev_spot_path * jnp.exp((self.r - 0.5 * v_truncated) * dt + jnp.sqrt(v_truncated * dt) * spot_draw)\n",
    "            return path_new_spot, path_new_spot\n",
    "\n",
    "        iter_values = jnp.column_stack((spot_draws, vol_path))\n",
    "        carry, spot_paths = jax.lax.scan(spot_path_iter, jnp.array(self.S0), iter_values, length=n_iter)\n",
    "\n",
    "        spot_paths = jnp.roll(spot_paths.at[-1].set(self.S0), 1)\n",
    "        return spot_paths\n",
    "    \n",
    "    def volatility_path_for_loop(self, vol_draws: Float[Array, \"n ...\"]) -> Float[Array, \"n ...\"]:\n",
    "        vec_size = len(vol_draws)\n",
    "        dt = self.T / vec_size\n",
    "\n",
    "        vol_path = jnp.zeros_like(vol_draws)\n",
    "        vol_path = vol_path.at[0].set(self.v0)\n",
    "\n",
    "        for i in range(1, vec_size):\n",
    "            v_truncated = jnp.maximum(0.0, vol_path[i-1])\n",
    "            prev_path_contribution = vol_path[i-1] + self.kappa * dt * (self.theta - v_truncated)\n",
    "            randomness = self.xi * jnp.sqrt(v_truncated * dt) * vol_draws[i-1]\n",
    "            vol_path = vol_path.at[i].set(prev_path_contribution + randomness)\n",
    "        \n",
    "        return vol_path\n",
    "\n",
    "    def volatility_path(self, vol_draws):\n",
    "        n_iter = len(vol_draws)\n",
    "        dt = self.T / n_iter\n",
    "\n",
    "        def vol_path_iter(prev_vol_path, vol_draw):\n",
    "            v_truncated = jnp.maximum(0.0, prev_vol_path)\n",
    "            prev_path_contribution = prev_vol_path + self.kappa * dt * (self.theta - v_truncated)\n",
    "            randomness = self.xi * jnp.sqrt(v_truncated * dt) * vol_draw\n",
    "            current = prev_path_contribution + randomness\n",
    "            return current, current # use current both for carry and for y\n",
    "\n",
    "        carry, vol_path = jax.lax.scan(vol_path_iter, jnp.array(self.v0), vol_draws, length=n_iter)\n",
    "\n",
    "        # we now have iteration 1 at position 0. Place initial v0 at the end and rotate into initial slot\n",
    "        vol_path = jnp.roll(vol_path.at[-1].set(self.v0), 1)\n",
    "        return vol_path\n",
    "\n",
    "    def path(self, key: PRNGKeyArray, n_intervals: int = 1000): #, payoff_fn = EuropeanPayoff.call):\n",
    "        mean = jnp.zeros(2)\n",
    "        cov = jnp.array([[1.0, heston.rho], [heston.rho, 1.0]])\n",
    "        \n",
    "        correlated_samples = jrandom.multivariate_normal(key, mean, cov, shape=(n_intervals,))\n",
    "        \n",
    "        vol_draws = correlated_samples[:, 0]\n",
    "        spot_draws = correlated_samples[:, 1]\n",
    "        \n",
    "        vol_path = heston.volatility_path(vol_draws)\n",
    "        spot_path = heston.spot_path(spot_draws, vol_path)\n",
    "        \n",
    "        #spot_maturity = spot_path[-1]\n",
    "        #payoff = payoff_fn(spot_maturity, self.K)\n",
    "        return spot_path\n",
    "\n",
    "    def data(self, key: PRNGKeyArray, n_intervals: int = 1000, payoff_fn = EuropeanPayoff.call):\n",
    "        pass\n",
    "        \n"
   ]
  },
  {
   "cell_type": "markdown",
   "id": "5267dd13-4223-4fa4-a7a3-465bfc083c21",
   "metadata": {
    "jp-MarkdownHeadingCollapsed": true
   },
   "source": [
    "# Exploration"
   ]
  },
  {
   "cell_type": "code",
   "execution_count": 23,
   "id": "44e49d3f-44b7-459f-905c-dd2ee2d2f77c",
   "metadata": {},
   "outputs": [],
   "source": [
    "n_sims : int = 1000000\n",
    "n_intervals: int = 1000\n",
    "heston = Heston()"
   ]
  },
  {
   "cell_type": "code",
   "execution_count": 24,
   "id": "f55f7e20-c5e0-4ee0-bbe1-27d4616954b6",
   "metadata": {},
   "outputs": [],
   "source": [
    "key = jrandom.PRNGKey(0)\n",
    "\n",
    "key, subkey = jrandom.split(key)\n",
    "vol_draws = jrandom.normal(key=subkey, shape=(100, ))\n",
    "# print(vol_draws)\n",
    "\n",
    "vol_path_for = heston.volatility_path_for_loop(vol_draws)\n",
    "vol_path = heston.volatility_path(vol_draws)\n",
    "assert(jnp.allclose(vol_path_for, vol_path))"
   ]
  },
  {
   "cell_type": "code",
   "execution_count": 25,
   "id": "84931ad5-04cf-454d-8e7b-69783694f663",
   "metadata": {
    "editable": true,
    "slideshow": {
     "slide_type": ""
    },
    "tags": []
   },
   "outputs": [],
   "source": [
    "key, subkey = jrandom.split(key)\n",
    "spot_draws = jrandom.normal(key=subkey, shape=(100, ))\n",
    "\n",
    "spot_path_for = heston.spot_path_for_loop(spot_draws, vol_path)\n",
    "spot_path = heston.spot_path(spot_draws, vol_path)\n",
    "assert(jnp.allclose(spot_path_for, spot_path))"
   ]
  },
  {
   "cell_type": "code",
   "execution_count": 26,
   "id": "12c0b510-9849-48e0-b091-01e67d573b8e",
   "metadata": {},
   "outputs": [
    {
     "name": "stdout",
     "output_type": "stream",
     "text": [
      "[[ 1.  -0.3]\n",
      " [-0.3  1. ]]\n"
     ]
    },
    {
     "data": {
      "text/plain": [
       "(100000, 2)"
      ]
     },
     "execution_count": 26,
     "metadata": {},
     "output_type": "execute_result"
    }
   ],
   "source": [
    "key, subkey = jrandom.split(key)\n",
    "\n",
    "mean = jnp.zeros(2)\n",
    "cov = jnp.array([[1, heston.rho], [heston.rho, 1]])\n",
    "\n",
    "print(cov)\n",
    "correlated_samples = jrandom.multivariate_normal(key, mean, cov, shape=(100000,))\n",
    "correlated_samples.shape"
   ]
  },
  {
   "cell_type": "code",
   "execution_count": 27,
   "id": "1292dfe4-d214-46c3-bf54-58538b44ef67",
   "metadata": {},
   "outputs": [],
   "source": [
    "sample_mean = jnp.mean(correlated_samples, axis=0)\n",
    "assert(jnp.allclose(sample_mean, mean, atol=1e-2))"
   ]
  },
  {
   "cell_type": "code",
   "execution_count": 28,
   "id": "421ff660-2108-4045-8db7-149b5f3037ea",
   "metadata": {},
   "outputs": [],
   "source": [
    "sample_cov = jnp.cov(correlated_samples.T)\n",
    "assert(jnp.allclose(sample_cov, cov, atol=1e-2))"
   ]
  },
  {
   "cell_type": "code",
   "execution_count": 29,
   "id": "fc9bb850-5fd8-4522-abf5-8b707380d52b",
   "metadata": {},
   "outputs": [
    {
     "data": {
      "text/plain": [
       "Array(-0.30700636, dtype=float64)"
      ]
     },
     "execution_count": 29,
     "metadata": {},
     "output_type": "execute_result"
    }
   ],
   "source": [
    "jnp.corrcoef(correlated_samples.T)[0, 1]"
   ]
  },
  {
   "cell_type": "code",
   "execution_count": 30,
   "id": "c6672e7e-8337-4a78-addb-e201a7b1869f",
   "metadata": {},
   "outputs": [
    {
     "data": {
      "text/plain": [
       "Array([[ 1.        , -0.30700636],\n",
       "       [-0.30700636,  1.        ]], dtype=float64)"
      ]
     },
     "execution_count": 30,
     "metadata": {},
     "output_type": "execute_result"
    }
   ],
   "source": [
    "jnp.corrcoef(correlated_samples[:, 0], correlated_samples[:, 1])"
   ]
  },
  {
   "cell_type": "code",
   "execution_count": 31,
   "id": "0cda8345-c409-45ff-a535-083c16d0650d",
   "metadata": {},
   "outputs": [
    {
     "name": "stdout",
     "output_type": "stream",
     "text": [
      "[[ 1.  -0.3]\n",
      " [-0.3  1. ]]\n"
     ]
    }
   ],
   "source": [
    "mean = jnp.zeros(2)\n",
    "cov = jnp.array([[1, heston.rho], [heston.rho, 1]])\n",
    "\n",
    "print(cov)"
   ]
  },
  {
   "cell_type": "markdown",
   "id": "68ec4325-de92-40cd-9c35-a3ceb145355a",
   "metadata": {},
   "source": [
    "# Price"
   ]
  },
  {
   "cell_type": "code",
   "execution_count": 4,
   "id": "a230ff1a-7340-4d8f-8eb6-6f5dbc3bc1fe",
   "metadata": {},
   "outputs": [],
   "source": [
    "# Price calculation of heston model on european call option\n",
    "def price(key):\n",
    "    n_multiplier = 10\n",
    "    n_simulations = 1000000 * n_multiplier\n",
    "    n_outside_iter = 10 * n_multiplier\n",
    "    n_sims_per_iter = n_simulations // n_outside_iter\n",
    "    payoff_sum: float = 0.0\n",
    "    key, subkey = jrandom.split(key)\n",
    "    \n",
    "    def pathwise_payoff_fn(payoff_sum, key):\n",
    "        keys = jrandom.split(key, num=n_sims_per_iter)\n",
    "        pathwise_payoff = vmap(heston.payoff)(keys)\n",
    "        payoff_sum_iter = jnp.sum(pathwise_payoff)\n",
    "        payoff_sum += payoff_sum_iter\n",
    "        return payoff_sum, payoff_sum_iter  \n",
    "    \n",
    "    keys = jrandom.split(subkey, num=n_outside_iter)\n",
    "    payoff_sum, _ = jax.lax.scan(pathwise_payoff_fn, 0.0, keys, length=n_outside_iter)\n",
    "    \n",
    "    price = (payoff_sum / n_simulations) * jnp.exp(-heston.r * heston.T)\n",
    "    jax.debug.print(\"price {}\", price)\n"
   ]
  },
  {
   "cell_type": "code",
   "execution_count": 9,
   "id": "72c401a9-62d7-472c-81b1-9fa795c758f5",
   "metadata": {},
   "outputs": [],
   "source": [
    "key = jrandom.PRNGKey(0)\n",
    "heston = Heston()"
   ]
  },
  {
   "cell_type": "code",
   "execution_count": 10,
   "id": "23612dcc-8ee7-455f-95ef-678879b656da",
   "metadata": {},
   "outputs": [],
   "source": [
    "price_fn = jit(price)"
   ]
  },
  {
   "cell_type": "code",
   "execution_count": 96,
   "id": "2bd88a05-d68c-4732-9da9-006ca1584245",
   "metadata": {
    "collapsed": true,
    "jupyter": {
     "outputs_hidden": true
    }
   },
   "outputs": [
    {
     "name": "stdout",
     "output_type": "stream",
     "text": [
      "price 35.0712355975864\n"
     ]
    },
    {
     "name": "stderr",
     "output_type": "stream",
     "text": [
      "2023-08-28 15:22:50.764056: W external/xla/xla/service/gpu/runtime/support.cc:58] Intercepted XLA runtime error:\n",
      "INTERNAL: CpuCallback error: KeyboardInterrupt: <EMPTY MESSAGE>\n",
      "\n",
      "At:\n",
      "  /home/neil/miniconda3/lib/python3.10/site-packages/jax/_src/interpreters/mlir.py(1963): _wrapped_callback\n",
      "  /home/neil/miniconda3/lib/python3.10/site-packages/jax/_src/interpreters/pxla.py(1221): __call__\n",
      "  /home/neil/miniconda3/lib/python3.10/site-packages/jax/_src/profiler.py(314): wrapper\n",
      "  /home/neil/miniconda3/lib/python3.10/site-packages/jax/_src/pjit.py(1148): _pjit_call_impl_python\n",
      "  /home/neil/miniconda3/lib/python3.10/site-packages/jax/_src/pjit.py(1192): call_impl_cache_miss\n",
      "  /home/neil/miniconda3/lib/python3.10/site-packages/jax/_src/pjit.py(1209): _pjit_call_impl\n",
      "  /home/neil/miniconda3/lib/python3.10/site-packages/jax/_src/core.py(821): process_primitive\n",
      "  /home/neil/miniconda3/lib/python3.10/site-packages/jax/_src/core.py(389): bind_with_trace\n",
      "  /home/neil/miniconda3/lib/python3.10/site-packages/jax/_src/core.py(2596): bind\n",
      "  /home/neil/miniconda3/lib/python3.10/site-packages/jax/_src/pjit.py(166): _python_pjit_helper\n",
      "  /home/neil/miniconda3/lib/python3.10/site-packages/jax/_src/pjit.py(253): cache_miss\n",
      "  /home/neil/miniconda3/lib/python3.10/site-packages/jax/_src/traceback_util.py(166): reraise_with_filtered_traceback\n",
      "  <magic-timeit>(1): inner\n",
      "  /home/neil/.local/lib/python3.10/site-packages/IPython/core/magics/execution.py(158): timeit\n",
      "  /home/neil/miniconda3/lib/python3.10/timeit.py(206): repeat\n",
      "  /home/neil/.local/lib/python3.10/site-packages/IPython/core/magics/execution.py(1168): timeit\n",
      "  /home/neil/.local/lib/python3.10/site-packages/IPython/core/interactiveshell.py(2369): run_line_magic\n",
      "  /tmp/ipykernel_1152/2421794830.py(1): <module>\n",
      "  /home/neil/.local/lib/python3.10/site-packages/IPython/core/interactiveshell.py(3460): run_code\n",
      "  /home/neil/.local/lib/python3.10/site-packages/IPython/core/interactiveshell.py(3400): run_ast_nodes\n",
      "  /home/neil/.local/lib/python3.10/site-packages/IPython/core/interactiveshell.py(3221): run_cell_async\n",
      "  /home/neil/.local/lib/python3.10/site-packages/IPython/core/async_helpers.py(129): _pseudo_sync_runner\n",
      "  /home/neil/.local/lib/python3.10/site-packages/IPython/core/interactiveshell.py(3016): _run_cell\n",
      "  /home/neil/.local/lib/python3.10/site-packages/IPython/core/interactiveshell.py(2961): run_cell\n",
      "  /home/neil/.local/lib/python3.10/site-packages/ipykernel/zmqshell.py(540): run_cell\n",
      "  /home/neil/.local/lib/python3.10/site-packages/ipykernel/ipkernel.py(422): do_execute\n",
      "  /home/neil/.local/lib/python3.10/site-packages/ipykernel/kernelbase.py(729): execute_request\n",
      "  /home/neil/.local/lib/python3.10/site-packages/ipykernel/kernelbase.py(409): dispatch_shell\n",
      "  /home/neil/.local/lib/python3.10/site-packages/ipykernel/kernelbase.py(502): process_one\n",
      "  /home/neil/.local/lib/python3.10/site-packages/ipykernel/kernelbase.py(513): dispatch_queue\n",
      "  /home/neil/miniconda3/lib/python3.10/asyncio/events.py(80): _run\n",
      "  /home/neil/miniconda3/lib/python3.10/asyncio/base_events.py(1909): _run_once\n",
      "  /home/neil/miniconda3/lib/python3.10/asyncio/base_events.py(603): run_forever\n",
      "  /home/neil/.local/lib/python3.10/site-packages/tornado/platform/asyncio.py(215): start\n",
      "  /home/neil/.local/lib/python3.10/site-packages/ipykernel/kernelapp.py(725): start\n",
      "  /home/neil/.local/lib/python3.10/site-packages/traitlets/config/application.py(1043): launch_instance\n",
      "  /home/neil/.local/lib/python3.10/site-packages/ipykernel_launcher.py(17): <module>\n",
      "  /home/neil/miniconda3/lib/python3.10/runpy.py(86): _run_code\n",
      "  /home/neil/miniconda3/lib/python3.10/runpy.py(196): _run_module_as_main\n",
      "\n",
      "2023-08-28 15:22:50.764122: E external/xla/xla/pjrt/pjrt_stream_executor_client.cc:2593] Execution of replica 0 failed: INTERNAL: Failed to execute XLA Runtime executable: run time error: custom call 'xla.gpu.custom_call' failed: CpuCallback error: KeyboardInterrupt: <EMPTY MESSAGE>\n",
      "\n",
      "At:\n",
      "  /home/neil/miniconda3/lib/python3.10/site-packages/jax/_src/interpreters/mlir.py(1963): _wrapped_callback\n",
      "  /home/neil/miniconda3/lib/python3.10/site-packages/jax/_src/interpreters/pxla.py(1221): __call__\n",
      "  /home/neil/miniconda3/lib/python3.10/site-packages/jax/_src/profiler.py(314): wrapper\n",
      "  /home/neil/miniconda3/lib/python3.10/site-packages/jax/_src/pjit.py(1148): _pjit_call_impl_python\n",
      "  /home/neil/miniconda3/lib/python3.10/site-packages/jax/_src/pjit.py(1192): call_impl_cache_miss\n",
      "  /home/neil/miniconda3/lib/python3.10/site-packages/jax/_src/pjit.py(1209): _pjit_call_impl\n",
      "  /home/neil/miniconda3/lib/python3.10/site-packages/jax/_src/core.py(821): process_primitive\n",
      "  /home/neil/miniconda3/lib/python3.10/site-packages/jax/_src/core.py(389): bind_with_trace\n",
      "  /home/neil/miniconda3/lib/python3.10/site-packages/jax/_src/core.py(2596): bind\n",
      "  /home/neil/miniconda3/lib/python3.10/site-packages/jax/_src/pjit.py(166): _python_pjit_helper\n",
      "  /home/neil/miniconda3/lib/python3.10/site-packages/jax/_src/pjit.py(253): cache_miss\n",
      "  /home/neil/miniconda3/lib/python3.10/site-packages/jax/_src/traceback_util.py(166): reraise_with_filtered_traceback\n",
      "  <magic-timeit>(1): inner\n",
      "  /home/neil/.local/lib/python3.10/site-packages/IPython/core/magics/execution.py(158): timeit\n",
      "  /home/neil/miniconda3/lib/python3.10/timeit.py(206): repeat\n",
      "  /home/neil/.local/lib/python3.10/site-packages/IPython/core/magics/execution.py(1168): timeit\n",
      "  /home/neil/.local/lib/python3.10/site-packages/IPython/core/interactiveshell.py(2369): run_line_magic\n",
      "  /tmp/ipykernel_1152/2421794830.py(1): <module>\n",
      "  /home/neil/.local/lib/python3.10/site-packages/IPython/core/interactiveshell.py(3460): run_code\n",
      "  /home/neil/.local/lib/python3.10/site-packages/IPython/core/interactiveshell.py(3400): run_ast_nodes\n",
      "  /home/neil/.local/lib/python3.10/site-packages/IPython/core/interactiveshell.py(3221): run_cell_async\n",
      "  /home/neil/.local/lib/python3.10/site-packages/IPython/core/async_helpers.py(129): _pseudo_sync_runner\n",
      "  /home/neil/.local/lib/python3.10/site-packages/IPython/core/interactiveshell.py(3016): _run_cell\n",
      "  /home/neil/.local/lib/python3.10/site-packages/IPython/core/interactiveshell.py(2961): run_cell\n",
      "  /home/neil/.local/lib/python3.10/site-packages/ipykernel/zmqshell.py(540): run_cell\n",
      "  /home/neil/.local/lib/python3.10/site-packages/ipykernel/ipkernel.py(422): do_execute\n",
      "  /home/neil/.local/lib/python3.10/site-packages/ipykernel/kernelbase.py(729): execute_request\n",
      "  /home/neil/.local/lib/python3.10/site-packages/ipykernel/kernelbase.py(409): dispatch_shell\n",
      "  /home/neil/.local/lib/python3.10/site-packages/ipykernel/kernelbase.py(502): process_one\n",
      "  /home/neil/.local/lib/python3.10/site-packages/ipykernel/kernelbase.py(513): dispatch_queue\n",
      "  /home/neil/miniconda3/lib/python3.10/asyncio/events.py(80): _run\n",
      "  /home/neil/miniconda3/lib/python3.10/asyncio/base_events.py(1909): _run_once\n",
      "  /home/neil/miniconda3/lib/python3.10/asyncio/base_events.py(603): run_forever\n",
      "  /home/neil/.local/lib/python3.10/site-packages/tornado/platform/asyncio.py(215): start\n",
      "  /home/neil/.local/lib/python3.10/site-packages/ipykernel/kernelapp.py(725): start\n",
      "  /home/neil/.local/lib/python3.10/site-packages/traitlets/config/application.py(1043): launch_instance\n",
      "  /home/neil/.local/lib/python3.10/site-packages/ipykernel_launcher.py(17): <module>\n",
      "  /home/neil/miniconda3/lib/python3.10/runpy.py(86): _run_code\n",
      "  /home/neil/miniconda3/lib/python3.10/runpy.py(196): _run_module_as_main\n",
      "; current tracing scope: custom-call.597; current profiling annotation: XlaModule:#hlo_module=jit_price,program_id=464#.\n"
     ]
    },
    {
     "ename": "XlaRuntimeError",
     "evalue": "INTERNAL: Failed to execute XLA Runtime executable: run time error: custom call 'xla.gpu.custom_call' failed: CpuCallback error: KeyboardInterrupt: <EMPTY MESSAGE>\n\nAt:\n  /home/neil/miniconda3/lib/python3.10/site-packages/jax/_src/interpreters/mlir.py(1963): _wrapped_callback\n  /home/neil/miniconda3/lib/python3.10/site-packages/jax/_src/interpreters/pxla.py(1221): __call__\n  /home/neil/miniconda3/lib/python3.10/site-packages/jax/_src/profiler.py(314): wrapper\n  /home/neil/miniconda3/lib/python3.10/site-packages/jax/_src/pjit.py(1148): _pjit_call_impl_python\n  /home/neil/miniconda3/lib/python3.10/site-packages/jax/_src/pjit.py(1192): call_impl_cache_miss\n  /home/neil/miniconda3/lib/python3.10/site-packages/jax/_src/pjit.py(1209): _pjit_call_impl\n  /home/neil/miniconda3/lib/python3.10/site-packages/jax/_src/core.py(821): process_primitive\n  /home/neil/miniconda3/lib/python3.10/site-packages/jax/_src/core.py(389): bind_with_trace\n  /home/neil/miniconda3/lib/python3.10/site-packages/jax/_src/core.py(2596): bind\n  /home/neil/miniconda3/lib/python3.10/site-packages/jax/_src/pjit.py(166): _python_pjit_helper\n  /home/neil/miniconda3/lib/python3.10/site-packages/jax/_src/pjit.py(253): cache_miss\n  /home/neil/miniconda3/lib/python3.10/site-packages/jax/_src/traceback_util.py(166): reraise_with_filtered_traceback\n  <magic-timeit>(1): inner\n  /home/neil/.local/lib/python3.10/site-packages/IPython/core/magics/execution.py(158): timeit\n  /home/neil/miniconda3/lib/python3.10/timeit.py(206): repeat\n  /home/neil/.local/lib/python3.10/site-packages/IPython/core/magics/execution.py(1168): timeit\n  /home/neil/.local/lib/python3.10/site-packages/IPython/core/interactiveshell.py(2369): run_line_magic\n  /tmp/ipykernel_1152/2421794830.py(1): <module>\n  /home/neil/.local/lib/python3.10/site-packages/IPython/core/interactiveshell.py(3460): run_code\n  /home/neil/.local/lib/python3.10/site-packages/IPython/core/interactiveshell.py(3400): run_ast_nodes\n  /home/neil/.local/lib/python3.10/site-packages/IPython/core/interactiveshell.py(3221): run_cell_async\n  /home/neil/.local/lib/python3.10/site-packages/IPython/core/async_helpers.py(129): _pseudo_sync_runner\n  /home/neil/.local/lib/python3.10/site-packages/IPython/core/interactiveshell.py(3016): _run_cell\n  /home/neil/.local/lib/python3.10/site-packages/IPython/core/interactiveshell.py(2961): run_cell\n  /home/neil/.local/lib/python3.10/site-packages/ipykernel/zmqshell.py(540): run_cell\n  /home/neil/.local/lib/python3.10/site-packages/ipykernel/ipkernel.py(422): do_execute\n  /home/neil/.local/lib/python3.10/site-packages/ipykernel/kernelbase.py(729): execute_request\n  /home/neil/.local/lib/python3.10/site-packages/ipykernel/kernelbase.py(409): dispatch_shell\n  /home/neil/.local/lib/python3.10/site-packages/ipykernel/kernelbase.py(502): process_one\n  /home/neil/.local/lib/python3.10/site-packages/ipykernel/kernelbase.py(513): dispatch_queue\n  /home/neil/miniconda3/lib/python3.10/asyncio/events.py(80): _run\n  /home/neil/miniconda3/lib/python3.10/asyncio/base_events.py(1909): _run_once\n  /home/neil/miniconda3/lib/python3.10/asyncio/base_events.py(603): run_forever\n  /home/neil/.local/lib/python3.10/site-packages/tornado/platform/asyncio.py(215): start\n  /home/neil/.local/lib/python3.10/site-packages/ipykernel/kernelapp.py(725): start\n  /home/neil/.local/lib/python3.10/site-packages/traitlets/config/application.py(1043): launch_instance\n  /home/neil/.local/lib/python3.10/site-packages/ipykernel_launcher.py(17): <module>\n  /home/neil/miniconda3/lib/python3.10/runpy.py(86): _run_code\n  /home/neil/miniconda3/lib/python3.10/runpy.py(196): _run_module_as_main\n; current tracing scope: custom-call.597; current profiling annotation: XlaModule:#hlo_module=jit_price,program_id=464#.",
     "output_type": "error",
     "traceback": [
      "\u001b[0;31m---------------------------------------------------------------------------\u001b[0m",
      "\u001b[0;31mXlaRuntimeError\u001b[0m                           Traceback (most recent call last)",
      "Cell \u001b[0;32mIn[96], line 1\u001b[0m\n\u001b[0;32m----> 1\u001b[0m \u001b[43mget_ipython\u001b[49m\u001b[43m(\u001b[49m\u001b[43m)\u001b[49m\u001b[38;5;241;43m.\u001b[39;49m\u001b[43mrun_line_magic\u001b[49m\u001b[43m(\u001b[49m\u001b[38;5;124;43m'\u001b[39;49m\u001b[38;5;124;43mtimeit\u001b[39;49m\u001b[38;5;124;43m'\u001b[39;49m\u001b[43m,\u001b[49m\u001b[43m \u001b[49m\u001b[38;5;124;43m'\u001b[39;49m\u001b[38;5;124;43mprice_fn(key)\u001b[39;49m\u001b[38;5;124;43m'\u001b[39;49m\u001b[43m)\u001b[49m\n",
      "File \u001b[0;32m~/.local/lib/python3.10/site-packages/IPython/core/interactiveshell.py:2369\u001b[0m, in \u001b[0;36mInteractiveShell.run_line_magic\u001b[0;34m(self, magic_name, line, _stack_depth)\u001b[0m\n\u001b[1;32m   2367\u001b[0m     kwargs[\u001b[38;5;124m'\u001b[39m\u001b[38;5;124mlocal_ns\u001b[39m\u001b[38;5;124m'\u001b[39m] \u001b[38;5;241m=\u001b[39m \u001b[38;5;28mself\u001b[39m\u001b[38;5;241m.\u001b[39mget_local_scope(stack_depth)\n\u001b[1;32m   2368\u001b[0m \u001b[38;5;28;01mwith\u001b[39;00m \u001b[38;5;28mself\u001b[39m\u001b[38;5;241m.\u001b[39mbuiltin_trap:\n\u001b[0;32m-> 2369\u001b[0m     result \u001b[38;5;241m=\u001b[39m \u001b[43mfn\u001b[49m\u001b[43m(\u001b[49m\u001b[38;5;241;43m*\u001b[39;49m\u001b[43margs\u001b[49m\u001b[43m,\u001b[49m\u001b[43m \u001b[49m\u001b[38;5;241;43m*\u001b[39;49m\u001b[38;5;241;43m*\u001b[39;49m\u001b[43mkwargs\u001b[49m\u001b[43m)\u001b[49m\n\u001b[1;32m   2371\u001b[0m \u001b[38;5;66;03m# The code below prevents the output from being displayed\u001b[39;00m\n\u001b[1;32m   2372\u001b[0m \u001b[38;5;66;03m# when using magics with decodator @output_can_be_silenced\u001b[39;00m\n\u001b[1;32m   2373\u001b[0m \u001b[38;5;66;03m# when the last Python token in the expression is a ';'.\u001b[39;00m\n\u001b[1;32m   2374\u001b[0m \u001b[38;5;28;01mif\u001b[39;00m \u001b[38;5;28mgetattr\u001b[39m(fn, magic\u001b[38;5;241m.\u001b[39mMAGIC_OUTPUT_CAN_BE_SILENCED, \u001b[38;5;28;01mFalse\u001b[39;00m):\n",
      "File \u001b[0;32m~/.local/lib/python3.10/site-packages/IPython/core/magics/execution.py:1168\u001b[0m, in \u001b[0;36mExecutionMagics.timeit\u001b[0;34m(self, line, cell, local_ns)\u001b[0m\n\u001b[1;32m   1165\u001b[0m         \u001b[38;5;28;01mif\u001b[39;00m time_number \u001b[38;5;241m>\u001b[39m\u001b[38;5;241m=\u001b[39m \u001b[38;5;241m0.2\u001b[39m:\n\u001b[1;32m   1166\u001b[0m             \u001b[38;5;28;01mbreak\u001b[39;00m\n\u001b[0;32m-> 1168\u001b[0m all_runs \u001b[38;5;241m=\u001b[39m \u001b[43mtimer\u001b[49m\u001b[38;5;241;43m.\u001b[39;49m\u001b[43mrepeat\u001b[49m\u001b[43m(\u001b[49m\u001b[43mrepeat\u001b[49m\u001b[43m,\u001b[49m\u001b[43m \u001b[49m\u001b[43mnumber\u001b[49m\u001b[43m)\u001b[49m\n\u001b[1;32m   1169\u001b[0m best \u001b[38;5;241m=\u001b[39m \u001b[38;5;28mmin\u001b[39m(all_runs) \u001b[38;5;241m/\u001b[39m number\n\u001b[1;32m   1170\u001b[0m worst \u001b[38;5;241m=\u001b[39m \u001b[38;5;28mmax\u001b[39m(all_runs) \u001b[38;5;241m/\u001b[39m number\n",
      "File \u001b[0;32m~/miniconda3/lib/python3.10/timeit.py:206\u001b[0m, in \u001b[0;36mTimer.repeat\u001b[0;34m(self, repeat, number)\u001b[0m\n\u001b[1;32m    204\u001b[0m r \u001b[38;5;241m=\u001b[39m []\n\u001b[1;32m    205\u001b[0m \u001b[38;5;28;01mfor\u001b[39;00m i \u001b[38;5;129;01min\u001b[39;00m \u001b[38;5;28mrange\u001b[39m(repeat):\n\u001b[0;32m--> 206\u001b[0m     t \u001b[38;5;241m=\u001b[39m \u001b[38;5;28;43mself\u001b[39;49m\u001b[38;5;241;43m.\u001b[39;49m\u001b[43mtimeit\u001b[49m\u001b[43m(\u001b[49m\u001b[43mnumber\u001b[49m\u001b[43m)\u001b[49m\n\u001b[1;32m    207\u001b[0m     r\u001b[38;5;241m.\u001b[39mappend(t)\n\u001b[1;32m    208\u001b[0m \u001b[38;5;28;01mreturn\u001b[39;00m r\n",
      "File \u001b[0;32m~/.local/lib/python3.10/site-packages/IPython/core/magics/execution.py:158\u001b[0m, in \u001b[0;36mTimer.timeit\u001b[0;34m(self, number)\u001b[0m\n\u001b[1;32m    156\u001b[0m gc\u001b[38;5;241m.\u001b[39mdisable()\n\u001b[1;32m    157\u001b[0m \u001b[38;5;28;01mtry\u001b[39;00m:\n\u001b[0;32m--> 158\u001b[0m     timing \u001b[38;5;241m=\u001b[39m \u001b[38;5;28;43mself\u001b[39;49m\u001b[38;5;241;43m.\u001b[39;49m\u001b[43minner\u001b[49m\u001b[43m(\u001b[49m\u001b[43mit\u001b[49m\u001b[43m,\u001b[49m\u001b[43m \u001b[49m\u001b[38;5;28;43mself\u001b[39;49m\u001b[38;5;241;43m.\u001b[39;49m\u001b[43mtimer\u001b[49m\u001b[43m)\u001b[49m\n\u001b[1;32m    159\u001b[0m \u001b[38;5;28;01mfinally\u001b[39;00m:\n\u001b[1;32m    160\u001b[0m     \u001b[38;5;28;01mif\u001b[39;00m gcold:\n",
      "File \u001b[0;32m<magic-timeit>:1\u001b[0m, in \u001b[0;36minner\u001b[0;34m(_it, _timer)\u001b[0m\n",
      "    \u001b[0;31m[... skipping hidden 10 frame]\u001b[0m\n",
      "File \u001b[0;32m~/miniconda3/lib/python3.10/site-packages/jax/_src/interpreters/pxla.py:1221\u001b[0m, in \u001b[0;36mExecuteReplicated.__call__\u001b[0;34m(self, *args)\u001b[0m\n\u001b[1;32m   1218\u001b[0m \u001b[38;5;28;01mif\u001b[39;00m (\u001b[38;5;28mself\u001b[39m\u001b[38;5;241m.\u001b[39mordered_effects \u001b[38;5;129;01mor\u001b[39;00m \u001b[38;5;28mself\u001b[39m\u001b[38;5;241m.\u001b[39mhas_unordered_effects\n\u001b[1;32m   1219\u001b[0m     \u001b[38;5;129;01mor\u001b[39;00m \u001b[38;5;28mself\u001b[39m\u001b[38;5;241m.\u001b[39mhas_host_callbacks):\n\u001b[1;32m   1220\u001b[0m   input_bufs \u001b[38;5;241m=\u001b[39m \u001b[38;5;28mself\u001b[39m\u001b[38;5;241m.\u001b[39m_add_tokens_to_inputs(input_bufs)\n\u001b[0;32m-> 1221\u001b[0m   results \u001b[38;5;241m=\u001b[39m \u001b[38;5;28;43mself\u001b[39;49m\u001b[38;5;241;43m.\u001b[39;49m\u001b[43mxla_executable\u001b[49m\u001b[38;5;241;43m.\u001b[39;49m\u001b[43mexecute_sharded\u001b[49m\u001b[43m(\u001b[49m\n\u001b[1;32m   1222\u001b[0m \u001b[43m      \u001b[49m\u001b[43minput_bufs\u001b[49m\u001b[43m,\u001b[49m\u001b[43m \u001b[49m\u001b[43mwith_tokens\u001b[49m\u001b[38;5;241;43m=\u001b[39;49m\u001b[38;5;28;43;01mTrue\u001b[39;49;00m\n\u001b[1;32m   1223\u001b[0m \u001b[43m  \u001b[49m\u001b[43m)\u001b[49m\n\u001b[1;32m   1224\u001b[0m   \u001b[38;5;28mself\u001b[39m\u001b[38;5;241m.\u001b[39m_handle_token_bufs(\n\u001b[1;32m   1225\u001b[0m       results\u001b[38;5;241m.\u001b[39mdisassemble_prefix_into_single_device_arrays(\n\u001b[1;32m   1226\u001b[0m           \u001b[38;5;28mlen\u001b[39m(\u001b[38;5;28mself\u001b[39m\u001b[38;5;241m.\u001b[39mordered_effects)),\n\u001b[1;32m   1227\u001b[0m       results\u001b[38;5;241m.\u001b[39mconsume_token())\n\u001b[1;32m   1228\u001b[0m \u001b[38;5;28;01melse\u001b[39;00m:\n",
      "\u001b[0;31mXlaRuntimeError\u001b[0m: INTERNAL: Failed to execute XLA Runtime executable: run time error: custom call 'xla.gpu.custom_call' failed: CpuCallback error: KeyboardInterrupt: <EMPTY MESSAGE>\n\nAt:\n  /home/neil/miniconda3/lib/python3.10/site-packages/jax/_src/interpreters/mlir.py(1963): _wrapped_callback\n  /home/neil/miniconda3/lib/python3.10/site-packages/jax/_src/interpreters/pxla.py(1221): __call__\n  /home/neil/miniconda3/lib/python3.10/site-packages/jax/_src/profiler.py(314): wrapper\n  /home/neil/miniconda3/lib/python3.10/site-packages/jax/_src/pjit.py(1148): _pjit_call_impl_python\n  /home/neil/miniconda3/lib/python3.10/site-packages/jax/_src/pjit.py(1192): call_impl_cache_miss\n  /home/neil/miniconda3/lib/python3.10/site-packages/jax/_src/pjit.py(1209): _pjit_call_impl\n  /home/neil/miniconda3/lib/python3.10/site-packages/jax/_src/core.py(821): process_primitive\n  /home/neil/miniconda3/lib/python3.10/site-packages/jax/_src/core.py(389): bind_with_trace\n  /home/neil/miniconda3/lib/python3.10/site-packages/jax/_src/core.py(2596): bind\n  /home/neil/miniconda3/lib/python3.10/site-packages/jax/_src/pjit.py(166): _python_pjit_helper\n  /home/neil/miniconda3/lib/python3.10/site-packages/jax/_src/pjit.py(253): cache_miss\n  /home/neil/miniconda3/lib/python3.10/site-packages/jax/_src/traceback_util.py(166): reraise_with_filtered_traceback\n  <magic-timeit>(1): inner\n  /home/neil/.local/lib/python3.10/site-packages/IPython/core/magics/execution.py(158): timeit\n  /home/neil/miniconda3/lib/python3.10/timeit.py(206): repeat\n  /home/neil/.local/lib/python3.10/site-packages/IPython/core/magics/execution.py(1168): timeit\n  /home/neil/.local/lib/python3.10/site-packages/IPython/core/interactiveshell.py(2369): run_line_magic\n  /tmp/ipykernel_1152/2421794830.py(1): <module>\n  /home/neil/.local/lib/python3.10/site-packages/IPython/core/interactiveshell.py(3460): run_code\n  /home/neil/.local/lib/python3.10/site-packages/IPython/core/interactiveshell.py(3400): run_ast_nodes\n  /home/neil/.local/lib/python3.10/site-packages/IPython/core/interactiveshell.py(3221): run_cell_async\n  /home/neil/.local/lib/python3.10/site-packages/IPython/core/async_helpers.py(129): _pseudo_sync_runner\n  /home/neil/.local/lib/python3.10/site-packages/IPython/core/interactiveshell.py(3016): _run_cell\n  /home/neil/.local/lib/python3.10/site-packages/IPython/core/interactiveshell.py(2961): run_cell\n  /home/neil/.local/lib/python3.10/site-packages/ipykernel/zmqshell.py(540): run_cell\n  /home/neil/.local/lib/python3.10/site-packages/ipykernel/ipkernel.py(422): do_execute\n  /home/neil/.local/lib/python3.10/site-packages/ipykernel/kernelbase.py(729): execute_request\n  /home/neil/.local/lib/python3.10/site-packages/ipykernel/kernelbase.py(409): dispatch_shell\n  /home/neil/.local/lib/python3.10/site-packages/ipykernel/kernelbase.py(502): process_one\n  /home/neil/.local/lib/python3.10/site-packages/ipykernel/kernelbase.py(513): dispatch_queue\n  /home/neil/miniconda3/lib/python3.10/asyncio/events.py(80): _run\n  /home/neil/miniconda3/lib/python3.10/asyncio/base_events.py(1909): _run_once\n  /home/neil/miniconda3/lib/python3.10/asyncio/base_events.py(603): run_forever\n  /home/neil/.local/lib/python3.10/site-packages/tornado/platform/asyncio.py(215): start\n  /home/neil/.local/lib/python3.10/site-packages/ipykernel/kernelapp.py(725): start\n  /home/neil/.local/lib/python3.10/site-packages/traitlets/config/application.py(1043): launch_instance\n  /home/neil/.local/lib/python3.10/site-packages/ipykernel_launcher.py(17): <module>\n  /home/neil/miniconda3/lib/python3.10/runpy.py(86): _run_code\n  /home/neil/miniconda3/lib/python3.10/runpy.py(196): _run_module_as_main\n; current tracing scope: custom-call.597; current profiling annotation: XlaModule:#hlo_module=jit_price,program_id=464#."
     ]
    }
   ],
   "source": [
    "%timeit price_fn(key)"
   ]
  },
  {
   "cell_type": "code",
   "execution_count": 11,
   "id": "b40e2670-3d47-4f2d-aa60-9e19ceceeb08",
   "metadata": {},
   "outputs": [
    {
     "name": "stdout",
     "output_type": "stream",
     "text": [
      "price 34.96811035689572\n"
     ]
    }
   ],
   "source": [
    "price_fn(key)"
   ]
  },
  {
   "cell_type": "markdown",
   "id": "b65c0b19-3b0e-44fd-9c67-f014b0ed211f",
   "metadata": {},
   "source": [
    "# Visualize Data"
   ]
  },
  {
   "cell_type": "code",
   "execution_count": 80,
   "id": "2dc6de81-4378-41ac-873b-07c82e81f741",
   "metadata": {},
   "outputs": [],
   "source": [
    "n_sims : int = 100000\n",
    "n_intervals: int = 1000\n",
    "heston = Heston()"
   ]
  },
  {
   "cell_type": "code",
   "execution_count": 81,
   "id": "4f1b5c58-fa8d-4c39-a450-cfe51dac7aa9",
   "metadata": {},
   "outputs": [],
   "source": [
    "heston_pathwise_payoffs_fn = jit(vmap(heston.payoff))"
   ]
  },
  {
   "cell_type": "code",
   "execution_count": 85,
   "id": "5d88d42d-23c6-4e76-99ca-c17dfa7216cb",
   "metadata": {},
   "outputs": [
    {
     "name": "stdout",
     "output_type": "stream",
     "text": [
      "[  0.           8.59688653  81.09357113 ... 118.6389061   51.95726374\n",
      "   7.62013775]\n",
      "(100000,)\n"
     ]
    }
   ],
   "source": [
    "key, subkey = jrandom.split(key)\n",
    "keys = jrandom.split(key, num=n_sims)\n",
    "pathwise_payoff = heston_pathwise_payoffs_fn(keys)\n",
    "\n",
    "print(pathwise_payoff)\n",
    "print(pathwise_payoff.shape)\n",
    "\n",
    "#heston.payoff(key=subkey, n_intervals=n_intervals)"
   ]
  },
  {
   "cell_type": "code",
   "execution_count": 34,
   "id": "97227d55-1f75-4e42-ae13-fbd8efd09716",
   "metadata": {},
   "outputs": [
    {
     "data": {
      "text/plain": [
       "(100,)"
      ]
     },
     "execution_count": 34,
     "metadata": {},
     "output_type": "execute_result"
    }
   ],
   "source": [
    "vol_draws.shape"
   ]
  }
 ],
 "metadata": {
  "kernelspec": {
   "display_name": "Python 3 (ipykernel)",
   "language": "python",
   "name": "python3"
  },
  "language_info": {
   "codemirror_mode": {
    "name": "ipython",
    "version": 3
   },
   "file_extension": ".py",
   "mimetype": "text/x-python",
   "name": "python",
   "nbconvert_exporter": "python",
   "pygments_lexer": "ipython3",
   "version": "3.10.12"
  }
 },
 "nbformat": 4,
 "nbformat_minor": 5
}
