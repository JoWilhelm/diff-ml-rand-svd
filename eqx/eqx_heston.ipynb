{
 "cells": [
  {
   "cell_type": "code",
   "execution_count": 101,
   "id": "bPO3E0Jcw85E",
   "metadata": {
    "colab": {
     "base_uri": "https://localhost:8080/"
    },
    "id": "bPO3E0Jcw85E",
    "outputId": "40ef7d52-b182-436b-999f-d7202c205449"
   },
   "outputs": [
    {
     "name": "stdout",
     "output_type": "stream",
     "text": [
      "Requirement already satisfied: jaxtyping in /home/neil/.local/lib/python3.10/site-packages (0.2.20)\n",
      "Requirement already satisfied: numpy>=1.20.0 in /home/neil/.local/lib/python3.10/site-packages (from jaxtyping) (1.23.5)\n",
      "Requirement already satisfied: typeguard>=2.13.3 in /home/neil/miniconda3/lib/python3.10/site-packages (from jaxtyping) (3.0.2)\n",
      "Requirement already satisfied: typing-extensions>=3.7.4.1 in /home/neil/.local/lib/python3.10/site-packages (from jaxtyping) (4.5.0)\n",
      "Note: you may need to restart the kernel to use updated packages.\n",
      "Requirement already satisfied: equinox in /home/neil/.local/lib/python3.10/site-packages (0.10.5)\n",
      "Requirement already satisfied: jax>=0.4.11 in /home/neil/miniconda3/lib/python3.10/site-packages (from equinox) (0.4.14)\n",
      "Requirement already satisfied: jaxtyping>=0.2.20 in /home/neil/.local/lib/python3.10/site-packages (from equinox) (0.2.20)\n",
      "Requirement already satisfied: typing-extensions>=4.5.0 in /home/neil/.local/lib/python3.10/site-packages (from equinox) (4.5.0)\n",
      "Requirement already satisfied: ml-dtypes>=0.2.0 in /home/neil/.local/lib/python3.10/site-packages (from jax>=0.4.11->equinox) (0.2.0)\n",
      "Requirement already satisfied: numpy>=1.22 in /home/neil/.local/lib/python3.10/site-packages (from jax>=0.4.11->equinox) (1.23.5)\n",
      "Requirement already satisfied: opt-einsum in /home/neil/.local/lib/python3.10/site-packages (from jax>=0.4.11->equinox) (3.3.0)\n",
      "Requirement already satisfied: scipy>=1.7 in /home/neil/.local/lib/python3.10/site-packages (from jax>=0.4.11->equinox) (1.10.1)\n",
      "Requirement already satisfied: typeguard>=2.13.3 in /home/neil/miniconda3/lib/python3.10/site-packages (from jaxtyping>=0.2.20->equinox) (3.0.2)\n",
      "Note: you may need to restart the kernel to use updated packages.\n"
     ]
    }
   ],
   "source": [
    "# For Google Colab\n",
    "%pip install jaxtyping\n",
    "%pip install equinox"
   ]
  },
  {
   "cell_type": "code",
   "execution_count": 1,
   "id": "088da22a-359a-4472-a47c-592bfa4a83c5",
   "metadata": {
    "colab": {
     "base_uri": "https://localhost:8080/"
    },
    "id": "088da22a-359a-4472-a47c-592bfa4a83c5",
    "outputId": "08bb58f5-cf7c-4935-d236-6d89dcc02de3"
   },
   "outputs": [
    {
     "name": "stderr",
     "output_type": "stream",
     "text": [
      "2023-08-31 17:56:23.081513: W tensorflow/compiler/tf2tensorrt/utils/py_utils.cc:38] TF-TRT Warning: Could not find TensorRT\n",
      "2023-08-31 17:56:25.339725: W tensorflow/core/common_runtime/gpu/gpu_device.cc:1956] Cannot dlopen some GPU libraries. Please make sure the missing libraries mentioned above are installed properly if you would like to use GPU. Follow the guide at https://www.tensorflow.org/install/gpu for how to download and setup the required libraries for your platform.\n",
      "Skipping registering GPU devices...\n"
     ]
    },
    {
     "data": {
      "text/plain": [
       "[gpu(id=0)]"
      ]
     },
     "execution_count": 1,
     "metadata": {},
     "output_type": "execute_result"
    }
   ],
   "source": [
    "import matplotlib.pyplot as plt\n",
    "\n",
    "import jax.numpy as jnp\n",
    "from jax.scipy.stats import norm\n",
    "from jax import grad, jit, vmap\n",
    "from jax import random as jrandom\n",
    "import jax\n",
    "\n",
    "from jax import config\n",
    "config.update(\"jax_enable_x64\", True)\n",
    "\n",
    "from typing import Sequence, Tuple, Union, Optional\n",
    "from jaxtyping import Array, ArrayLike, Float, Int, PyTree, PRNGKeyArray, ScalarLike\n",
    "\n",
    "import equinox as eqx\n",
    "import optax\n",
    "import chex\n",
    "\n",
    "import tensorflow as tf\n",
    "# Ensure TF does not see GPU and grab all GPU memory.\n",
    "tf.config.set_visible_devices([], device_type='GPU')\n",
    "\n",
    "import tensorflow_datasets as tfds\n",
    "\n",
    "from dataclasses import dataclass, astuple\n",
    "from functools import partial\n",
    "\n",
    "import numpy as np\n",
    "\n",
    "jax.enable_checks = True\n",
    "\n",
    "jax.devices()"
   ]
  },
  {
   "cell_type": "markdown",
   "id": "98099460-30ff-461d-a07a-bcb115c72155",
   "metadata": {
    "id": "98099460-30ff-461d-a07a-bcb115c72155"
   },
   "source": [
    "# Model Definition"
   ]
  },
  {
   "cell_type": "code",
   "execution_count": 26,
   "id": "0c0df3ba-e4b8-4428-9be0-ae202aefa719",
   "metadata": {
    "id": "0c0df3ba-e4b8-4428-9be0-ae202aefa719"
   },
   "outputs": [],
   "source": [
    "class EuropeanPayoff:\n",
    "    @staticmethod\n",
    "    def call(maturity_prices: Float[ArrayLike, \" n\"], strike_prices: Float[ScalarLike, \"\"]) -> Float[Array, \" n\"]:\n",
    "        return jnp.maximum(jnp.subtract(maturity_prices, strike_prices), 0.0)\n",
    "\n",
    "    @staticmethod\n",
    "    def put(maturity_prices: Float[ArrayLike, \" n\"], strike_prices: Float[ScalarLike, \"\"]) -> Float[Array, \" n\"]:\n",
    "        return jnp.maximum(jnp.subtract(strike_prices, maturity_prices), 0.0)\n",
    "\n",
    "    @staticmethod\n",
    "    def payoff(spot_path, K, payoff_fn = call):\n",
    "        spot_maturity = spot_path[..., -1]\n",
    "        payoff = payoff_fn(spot_maturity, K)\n",
    "        return payoff\n",
    "\n",
    "\n",
    "def european_payoff(spot_path, K, payoff_fn = EuropeanPayoff.call):\n",
    "    spot_maturity = spot_path[..., -1]\n",
    "    payoff = payoff_fn(spot_maturity, K)\n",
    "    return payoff\n",
    "\n",
    "def european_payoff_and_deriv(spot_path, K, payoff_fn = EuropeanPayoff.call):\n",
    "    spot_maturity = spot_path[..., -1]\n",
    "    # payoff = payoff_fn(spot_maturity, K)\n",
    "    payoff, dpayoff = jax.value_and_grad(payoff_fn)(spot_maturity, K)\n",
    "    return payoff, dpayoff"
   ]
  },
  {
   "cell_type": "code",
   "execution_count": 27,
   "id": "dec34bc3-8d4a-4d77-af68-42737f08d758",
   "metadata": {},
   "outputs": [
    {
     "name": "stdout",
     "output_type": "stream",
     "text": [
      "[8.07676784e-01 8.16649383e-01 6.92618365e-01 7.07883981e-01\n",
      " 7.45093451e-01 2.97956058e-01 3.45751930e-01 4.83979862e-01\n",
      " 8.60938431e-01 5.12450007e-01 3.18727513e-01 8.54852768e-01\n",
      " 8.49312532e-01 4.84552624e-01 2.74401232e-01 3.39336360e-01\n",
      " 5.33114039e-01 4.85713126e-01 3.58909636e-01 4.82734975e-01\n",
      " 7.68816625e-01 9.66432894e-01 9.41210526e-01 2.15436381e-01\n",
      " 7.57104369e-01 7.83739145e-02 2.58091500e-02 2.80141753e-01\n",
      " 8.97083744e-01 3.72210994e-01 7.31339489e-01 1.07938412e-01\n",
      " 6.81433684e-01 4.58013028e-01 7.44458351e-01 6.86915710e-01\n",
      " 7.33442404e-01 5.96436425e-01 2.88450505e-04 8.35000313e-02\n",
      " 9.45446134e-02 5.96247853e-01 9.23704823e-01 8.01373631e-01\n",
      " 9.69430195e-01 3.32758402e-02 6.33893423e-01 7.56767994e-01\n",
      " 2.99471645e-01 7.40613759e-01 1.05007984e-01 6.96113797e-02\n",
      " 8.35169470e-02 4.38146482e-01 7.47259834e-01 9.52343860e-01\n",
      " 9.35097377e-01 4.97360182e-01 8.39483385e-01 7.04631866e-01\n",
      " 1.16651419e-03 5.92934080e-01 8.87070614e-01 5.45035394e-01\n",
      " 9.72520832e-01 5.90719862e-01 9.45422627e-01 8.34990080e-02\n",
      " 4.48645587e-01 5.38876456e-01 2.46031103e-01 5.43396540e-01\n",
      " 9.22422897e-01 5.43097926e-01 9.50758788e-01 8.69680432e-01\n",
      " 7.60842869e-01 3.79933914e-01 5.73189104e-01 8.40813101e-01\n",
      " 9.57116420e-01 1.04546008e-01 3.85648134e-01 4.98717199e-01\n",
      " 7.00660141e-01 6.31059379e-01 5.90374374e-01 9.21621015e-01\n",
      " 5.37548713e-01 4.18353742e-01 5.79755333e-01 8.02196724e-01\n",
      " 3.49065647e-01 9.86315501e-01 1.33051353e-01 7.02158911e-04\n",
      " 4.17389965e-01 3.75177564e-01 2.88413705e-02 5.42800671e-01]\n",
      "(Array(0.04280067, dtype=float64), Array(1., dtype=float64))\n"
     ]
    },
    {
     "data": {
      "text/plain": [
       "Array([0., 0., 0., 0., 0., 0., 0., 0., 0., 0., 0., 0., 0., 0., 0., 0., 0.,\n",
       "       0., 0., 0., 0., 0., 0., 0., 0., 0., 0., 0., 0., 0., 0., 0., 0., 0.,\n",
       "       0., 0., 0., 0., 0., 0., 0., 0., 0., 0., 0., 0., 0., 0., 0., 0., 0.,\n",
       "       0., 0., 0., 0., 0., 0., 0., 0., 0., 0., 0., 0., 0., 0., 0., 0., 0.,\n",
       "       0., 0., 0., 0., 0., 0., 0., 0., 0., 0., 0., 0., 0., 0., 0., 0., 0.,\n",
       "       0., 0., 0., 0., 0., 0., 0., 0., 0., 0., 0., 0., 0., 0., 1.],      dtype=float64)"
      ]
     },
     "execution_count": 27,
     "metadata": {},
     "output_type": "execute_result"
    }
   ],
   "source": [
    "key = jrandom.PRNGKey(0)\n",
    "key, subkey = jrandom.split(key)\n",
    "spot_path = jrandom.uniform(key=subkey, shape=(100,))\n",
    "print(spot_path)\n",
    "K = jnp.array(.5)\n",
    "\n",
    "print(european_payoff_and_deriv(spot_path, K))\n",
    "\n",
    "grad(partial(european_payoff, K=K))(spot_path)\n",
    "\n",
    "# print(K)\n",
    "# fn = grad(lambda spots: european_payoff(spots, K=K))\n",
    "# fn = grad(partial(european_payoff, K=K))\n",
    "# fn = grad(european_payoff)\n",
    "# fn(spot_path, K)\n"
   ]
  },
  {
   "cell_type": "code",
   "execution_count": 46,
   "id": "eib16KpM4JfJ",
   "metadata": {
    "colab": {
     "base_uri": "https://localhost:8080/"
    },
    "id": "eib16KpM4JfJ",
    "outputId": "e5f6d0a3-8c53-439c-c17e-a504aa326c02"
   },
   "outputs": [
    {
     "name": "stdout",
     "output_type": "stream",
     "text": [
      "payoff and deriv:  Partial(<function HestonSoA.payoff_and_deriv at 0x7f41eb3e68c0>, HestonSoA(\n",
      "  n_states=1,\n",
      "  initial_spot_prices=f64[1],\n",
      "  initial_vols=f64[1],\n",
      "  K=100.0,\n",
      "  r=0.05,\n",
      "  T=5.0,\n",
      "  rho=-0.3,\n",
      "  kappa=2.0,\n",
      "  theta=0.09,\n",
      "  xi=1.0\n",
      "))\n",
      "(1000, 1, 2)\n",
      "(1000, 1)\n",
      "spot_draws  (1000, 1)\n",
      "0.03577292657026345\n",
      "(1000, 1, 2)\n",
      "(1000, 1)\n",
      "spot_draws  (1000, 1)\n",
      "0.03577292657026345\n",
      "initial vol [0.02678053]\n",
      "initial spot value: [100.34736212]\n",
      "maturity  Traced<ConcreteArray([106.00922561], dtype=float64)>with<JVPTrace(level=2/0)> with\n",
      "  primal = Array([106.00922561], dtype=float64)\n",
      "  tangent = Traced<ShapedArray(float64[1])>with<JaxprTrace(level=1/0)> with\n",
      "    pval = (ShapedArray(float64[1]), None)\n",
      "    recipe = JaxprEqnRecipe(eqn_id=<object object at 0x7f41eb4c2380>, in_tracers=(Traced<ShapedArray(float64[1,1]):JaxprTrace(level=1/0)>,), out_tracer_refs=[<weakref at 0x7f41eb54b830; to 'JaxprTracer' at 0x7f41eb54b380>], out_avals=[ShapedArray(float64[1])], primitive=squeeze, params={'dimensions': (0,)}, effects=set(), source_info=SourceInfo(traceback=<jaxlib.xla_extension.Traceback object at 0x7f41d3bb14f0>, name_stack=NameStack(stack=(Transform(name='jvp'),))))\n",
      "grad of test [1.05642264]\n",
      " [nan]\n"
     ]
    }
   ],
   "source": [
    "@dataclass\n",
    "class Range:\n",
    "    min: float = 0.0\n",
    "    max: float = 1.0\n",
    "\n",
    "class HestonSoA(eqx.Module):\n",
    "\n",
    "    n_states: int\n",
    "    initial_spot_prices: Float[Array, \" n\"] # Array of initial spot prices\n",
    "    initial_vols: Float[Array, \" n\"] # Array of initial volatility\n",
    "\n",
    "    K: float = 100.0        # Strike price\n",
    "    r: float = 0.05         # Risk-free rate\n",
    "    T: float = 5.00         # n years until expiry, i.e. T2 - T1\n",
    "    rho: float = -0.3       # Correlation of asset and volatility\n",
    "    kappa: float = 2.00     # Mean-reversion rate\n",
    "    theta: float = 0.09     # Long run average volatility\n",
    "    xi: float = 1.00        # Volatility of volatility\n",
    "\n",
    "\n",
    "    def __init__(self, key: PRNGKeyArray, n_states: int, spot_range: Range, vol_range: Range):\n",
    "        self.n_states = n_states\n",
    "        key, subkey = jrandom.split(key)\n",
    "        self.initial_spot_prices = jrandom.uniform(subkey, shape=(n_states,), minval=spot_range.min, maxval=spot_range.max)\n",
    "        # self.initial_spot_prices = jnp.ones(n_states) * 100\n",
    "        key, subkey = jrandom.split(key)\n",
    "        # self.initial_vols = jnp.ones(n_states) * 0.09\n",
    "        self.initial_vols = jrandom.uniform(subkey, shape=(n_states, ), minval=vol_range.min, maxval=vol_range.max)\n",
    "\n",
    "    def volatility_path(self, vol_draws):\n",
    "        # n_iter = len(vol_draws)\n",
    "        n_iter = vol_draws.shape[0]\n",
    "        dt = self.T / n_iter\n",
    "\n",
    "        def vol_path_iter(prev_vols_path, vol_draws):\n",
    "            v_truncated = jnp.maximum(0.0, prev_vols_path)\n",
    "            prev_path_contribution = prev_vols_path + self.kappa * dt * (self.theta - v_truncated)\n",
    "            randomness = self.xi * jnp.sqrt(v_truncated * dt) * vol_draws\n",
    "            current = prev_path_contribution + randomness\n",
    "            return current, current # use current both for carry and for y\n",
    "\n",
    "        # carry, vol_path = jax.lax.scan(vol_path_iter, jnp.array(self.v0), vol_draws, length=n_iter)\n",
    "        carry, vol_path = jax.lax.scan(vol_path_iter, self.initial_vols, vol_draws, length=n_iter)\n",
    "\n",
    "        # we now have iteration 1 at position 0. Place initial v0 at the end and rotate into initial slot\n",
    "        vol_path = jnp.roll(vol_path.at[-1, :].set(self.initial_vols), 1, axis=0)\n",
    "        return vol_path\n",
    "\n",
    "    def spot_path(self, spot_draws: Array, vol_path: Array) -> Array:\n",
    "        n_iter = spot_draws.shape[0]\n",
    "        dt = self.T / n_iter\n",
    "\n",
    "        def spot_path_iter(prev_spot_path, iter_pair):\n",
    "            # print(\"iter pair \", iter_pair.shape)\n",
    "            spot_draw = iter_pair[0]\n",
    "            vol = iter_pair[1]\n",
    "            v_truncated = jnp.maximum(0.0, vol)\n",
    "            path_new_spot = prev_spot_path * jnp.exp((self.r - 0.5 * v_truncated) * dt + jnp.sqrt(v_truncated * dt) * spot_draw)\n",
    "            return path_new_spot, path_new_spot\n",
    "\n",
    "        # print(\"spot draws.shape \", spot_draws.shape)\n",
    "        # print(\"vol path.shape \", vol_path.shape)\n",
    "        iter_values = jnp.stack((spot_draws, vol_path), axis=1)\n",
    "        # print(\"itervalues \", iter_values.shape)\n",
    "        carry, spot_paths = jax.lax.scan(spot_path_iter, self.initial_spot_prices, iter_values, length=n_iter)\n",
    "\n",
    "        # print(\"Spot path.shape \", spot_paths.shape)\n",
    "        # spot_paths = jnp.roll(spot_paths.at[-1, :].set(self.initial_spot_prices), 1)\n",
    "        spot_paths = jnp.roll(spot_paths.at[-1, :].set(self.initial_spot_prices), 1, axis=0)\n",
    "        return spot_paths\n",
    "\n",
    "    def path(self, key: PRNGKeyArray, n_intervals: int = 1000):\n",
    "        mean = jnp.zeros(2)\n",
    "        cov = jnp.array([[1.0, self.rho], [self.rho, 1.0]])\n",
    "\n",
    "        correlated_samples = jrandom.multivariate_normal(key, mean, cov, shape=(n_intervals, self.n_states))\n",
    "        print(correlated_samples.shape)\n",
    "\n",
    "        vol_draws = correlated_samples[..., 0]\n",
    "        spot_draws = correlated_samples[..., 1]\n",
    "        print(vol_draws.shape)\n",
    "        print(\"spot_draws \", spot_draws.shape)\n",
    "\n",
    "        sample_mean = jnp.mean(vol_draws)\n",
    "        print(sample_mean)\n",
    "\n",
    "        vol_path = self.volatility_path(vol_draws)\n",
    "        spot_path = self.spot_path(spot_draws, vol_path)\n",
    "        return vol_path, spot_path\n",
    "        \n",
    "    def payoff(self, key: PRNGKeyArray, n_intervals: int = 1000, payoff_fn = EuropeanPayoff.call):\n",
    "        vol_path, spot_path = self.path(key, n_intervals)\n",
    "        jax.debug.print(\"initial vol {}\", vol_path[0])\n",
    "        jax.debug.print(\"initial spot value: {}\", spot_path[0])\n",
    "        spot_maturity = spot_path[-1, :]\n",
    "        print(\"maturity \", spot_maturity)\n",
    "        payoff = payoff_fn(spot_maturity, self.K)\n",
    "        return payoff[0]\n",
    "        \n",
    "    def payoff_and_deriv(self, key: PRNGKeyArray, n_intervals: int = 1000, payoff_fn = EuropeanPayoff.call):\n",
    "        _, spot_path = self.path(key, n_intervals)\n",
    "        spot_maturity = spot_path[-1, :]\n",
    "        print(\"maturity \", spot_maturity)\n",
    "        payoff_check = payoff_fn(spot_maturity, self.K)\n",
    "        # payoff, dpayoff = jax.value_and_grad(payoff_fn)(spot_maturity, self.K)\n",
    "        payoff, dpayoff_fn = eqx.filter_vjp(payoff_fn, spot_maturity, self.K)\n",
    "\n",
    "        assert(jnp.allclose(payoff_check, payoff))\n",
    "        dpayoff = dpayoff_fn(jnp.ones(payoff.size))[0]\n",
    "        # print(\"payoff \", payoff.shape)\n",
    "        return payoff, dpayoff\n",
    "\n",
    "key = jrandom.PRNGKey(0)\n",
    "key, subkey = jrandom.split(key)\n",
    "spot_range = Range(50.0, 150.0)\n",
    "vol_range = Range(0.01, 0.1)\n",
    "n_states = 1\n",
    "hset = HestonSoA(key, n_states, spot_range, vol_range)\n",
    "print(\"payoff and deriv: \", hset.payoff_and_deriv)\n",
    "\n",
    "def test(h: HestonSoA):\n",
    "    samples = h.path(key)\n",
    "    payoff_value = h.payoff(key)\n",
    "    return payoff_value\n",
    "\n",
    "res = grad(test, allow_int=True)(hset)\n",
    "print(\"grad of test\", res.initial_spot_prices)\n",
    "print(\"\", res.initial_vols)"
   ]
  },
  {
   "cell_type": "code",
   "execution_count": 15,
   "id": "0ac16568-c8e1-416f-ba39-34037aa1d177",
   "metadata": {},
   "outputs": [
    {
     "name": "stdout",
     "output_type": "stream",
     "text": [
      "---------------\n",
      "initial spot prices:  [ 71.23759105  67.59776184  72.92572055  87.31156436 121.30761088\n",
      " 143.48740889  88.97484359 133.68901506  60.79846016 103.77466965]\n",
      "initial vol:  [0.06565494 0.01397305 0.01400376 0.09173707 0.04556025 0.02251488\n",
      " 0.07689682 0.09349058 0.07524755 0.06728141]\n",
      "(1000, 10, 2)\n",
      "(1000, 10)\n",
      "spot_draws  (1000, 10)\n",
      "-0.0016968514609961524\n",
      "(1000, 10, 2)\n",
      "(1000, 10)\n",
      "spot_draws  (1000, 10)\n",
      "-0.0016968514609961524\n",
      "maturity:  [ 35.78182354  69.70201193 307.63492166 174.97861017  69.41527086\n",
      " 105.10820315 126.0157536  129.22147422  42.82081099 136.01745421]\n",
      "payoff in fn (10,)\n",
      "ratio:   [0.         0.         0.67493937 0.42850158 0.         0.04859947\n",
      " 0.20644842 0.22613482 0.         0.26480024]\n",
      "direct payoff calc:  [  0.           0.         207.63492166  74.97861017   0.\n",
      "   5.10820315  26.0157536   29.22147422   0.          36.01745421]\n",
      "(1000, 10, 2)\n",
      "(1000, 10)\n",
      "spot_draws  (1000, 10)\n",
      "-0.0016968514609961524\n",
      "maturity:  Traced<ConcreteArray([ 35.78182354  69.70201193 307.63492166 174.97861017  69.41527086\n",
      " 105.10820315 126.0157536  129.22147422  42.82081099 136.01745421], dtype=float64)>with<JVPTrace(level=2/0)> with\n",
      "  primal = Array([ 35.78182354,  69.70201193, 307.63492166, 174.97861017,\n",
      "        69.41527086, 105.10820315, 126.0157536 , 129.22147422,\n",
      "        42.82081099, 136.01745421], dtype=float64)\n",
      "  tangent = Traced<ShapedArray(float64[10])>with<JaxprTrace(level=1/0)> with\n",
      "    pval = (ShapedArray(float64[10]), None)\n",
      "    recipe = JaxprEqnRecipe(eqn_id=<object object at 0x7f42341f0490>, in_tracers=(Traced<ShapedArray(float64[1,10]):JaxprTrace(level=1/0)>,), out_tracer_refs=[<weakref at 0x7f4254176f20; to 'JaxprTracer' at 0x7f4254174bd0>], out_avals=[ShapedArray(float64[10])], primitive=squeeze, params={'dimensions': (0,)}, effects=set(), source_info=SourceInfo(traceback=<jaxlib.xla_extension.Traceback object at 0x7f423419c2f0>, name_stack=NameStack(stack=(Transform(name='jvp'),))))\n",
      "payoff in fn (10,)\n",
      "ratio:   Traced<ConcreteArray([0.         0.         0.67493937 0.42850158 0.         0.04859947\n",
      " 0.20644842 0.22613482 0.         0.26480024], dtype=float64)>with<JVPTrace(level=2/0)> with\n",
      "  primal = Array([0.        , 0.        , 0.67493937, 0.42850158, 0.        ,\n",
      "       0.04859947, 0.20644842, 0.22613482, 0.        , 0.26480024],      dtype=float64)\n",
      "  tangent = Traced<ShapedArray(float64[10])>with<JaxprTrace(level=1/0)> with\n",
      "    pval = (ShapedArray(float64[10]), None)\n",
      "    recipe = JaxprEqnRecipe(eqn_id=<object object at 0x7f4254307580>, in_tracers=(Traced<ShapedArray(float64[10]):JaxprTrace(level=1/0)>, Traced<ShapedArray(float64[10]):JaxprTrace(level=1/0)>, Traced<ConcreteArray([ 35.78182354  69.70201193 307.63492166 174.97861017  69.41527086\n",
      " 105.10820315 126.0157536  129.22147422  42.82081099 136.01745421], dtype=float64):JaxprTrace(level=1/0)>, Traced<ConcreteArray([  0.           0.         207.63492166  74.97861017   0.\n",
      "   5.10820315  26.0157536   29.22147422   0.          36.01745421], dtype=float64):JaxprTrace(level=1/0)>, Traced<ConcreteArray([7.81043209e-04 2.05830331e-04 1.05664410e-05 3.26610449e-05\n",
      " 2.07534334e-04 9.05162965e-05 6.29724105e-05 5.98867324e-05\n",
      " 5.45368718e-04 5.40518690e-05], dtype=float64):JaxprTrace(level=1/0)>), out_tracer_refs=[<weakref at 0x7f423422c450; to 'JaxprTracer' at 0x7f423422cc20>], out_avals=[ShapedArray(float64[10])], primitive=pjit, params={'jaxpr': { lambda ; a:f64[10] b:f64[10] c:f64[10] d:f64[10] e:f64[10]. let\n",
      "    f:f64[10] = div a c\n",
      "    g:f64[10] = neg b\n",
      "    h:f64[10] = mul g d\n",
      "    i:f64[10] = mul h e\n",
      "    j:f64[10] = add_any f i\n",
      "  in (j,) }, 'in_shardings': (UnspecifiedValue, UnspecifiedValue, UnspecifiedValue, UnspecifiedValue, UnspecifiedValue), 'out_shardings': (UnspecifiedValue,), 'resource_env': None, 'donated_invars': (False, False, False, False, False), 'name': 'true_divide', 'keep_unused': False, 'inline': True}, effects=set(), source_info=SourceInfo(traceback=<jaxlib.xla_extension.Traceback object at 0x7f423420ccf0>, name_stack=NameStack(stack=(Transform(name='jvp'),))))\n",
      "Y_vjp payoff:  [  0.           0.         207.63492166  74.97861017   0.\n",
      "   5.10820315  26.0157536   29.22147422   0.          36.01745421]\n",
      "initial spot prices grad  [0.         0.         4.21846941 2.00407141 0.         0.73252562\n",
      " 1.41630767 0.96658259 0.         1.31069995]\n",
      "initial vol grad  [nan nan nan nan nan nan nan nan nan nan]\n",
      "dpayoff  HestonSoAParams(\n",
      "  n_states=None,\n",
      "  initial_spot_prices=f64[10],\n",
      "  initial_vols=f64[10],\n",
      "  K=100.0,\n",
      "  r=0.05,\n",
      "  T=5.0,\n",
      "  rho=-0.3,\n",
      "  kappa=2.0,\n",
      "  theta=0.09,\n",
      "  xi=1.0\n",
      ")\n"
     ]
    }
   ],
   "source": [
    "@dataclass\n",
    "class Range:\n",
    "    min: float = 0.0\n",
    "    max: float = 1.0\n",
    "\n",
    "class HestonSoAParams(eqx.Module):\n",
    "\n",
    "    n_states: int\n",
    "    initial_spot_prices: Float[Array, \" n\"] # Array of initial spot prices\n",
    "    initial_vols: Float[Array, \" n\"] # Array of initial volatility\n",
    "\n",
    "    K: float = 100.0        # Strike price\n",
    "    r: float = 0.05         # Risk-free rate\n",
    "    T: float = 5.00         # n years until expiry, i.e. T2 - T1\n",
    "    rho: float = -0.3       # Correlation of asset and volatility\n",
    "    kappa: float = 2.00     # Mean-reversion rate\n",
    "    theta: float = 0.09     # Long run average volatility\n",
    "    xi: float = 1.00        # Volatility of volatility\n",
    "\n",
    "\n",
    "    def __init__(self, key: PRNGKeyArray, n_states: int, spot_range: Range, vol_range: Range):\n",
    "        self.n_states = n_states\n",
    "        key, subkey = jrandom.split(key)\n",
    "        self.initial_spot_prices = jrandom.uniform(subkey, shape=(n_states,), minval=spot_range.min, maxval=spot_range.max)\n",
    "        # self.initial_spot_prices = jnp.ones(n_states) * 100\n",
    "        key, subkey = jrandom.split(key)\n",
    "        self.initial_vols = jrandom.uniform(subkey, shape=(n_states, ), minval=vol_range.min, maxval=vol_range.max)\n",
    "        # self.initial_vols = jnp.ones(n_states) * 0.09\n",
    "        \n",
    "def volatility_path(self, vol_draws):\n",
    "    # n_iter = len(vol_draws)\n",
    "    n_iter = vol_draws.shape[0]\n",
    "    dt = self.T / n_iter\n",
    "\n",
    "    def vol_path_iter(prev_vols_path, vol_draws):\n",
    "        v_truncated = jnp.maximum(0.0, prev_vols_path)\n",
    "        prev_path_contribution = prev_vols_path + self.kappa * dt * (self.theta - v_truncated)\n",
    "        randomness = self.xi * jnp.sqrt(v_truncated * dt) * vol_draws\n",
    "        current = prev_path_contribution + randomness\n",
    "        return current, current # use current both for carry and for y\n",
    "\n",
    "    # carry, vol_path = jax.lax.scan(vol_path_iter, jnp.array(self.v0), vol_draws, length=n_iter)\n",
    "    carry, vol_path = jax.lax.scan(vol_path_iter, self.initial_vols, vol_draws, length=n_iter)\n",
    "\n",
    "    # we now have iteration 1 at position 0. Place initial v0 at the end and rotate into initial slot\n",
    "    vol_path = jnp.roll(vol_path.at[-1, :].set(self.initial_vols), 1, axis=0)\n",
    "    return vol_path\n",
    "\n",
    "def spot_path_fn(self, spot_draws: Array, vol_path: Array) -> Array:\n",
    "    n_iter = spot_draws.shape[0]\n",
    "    dt = self.T / n_iter\n",
    "\n",
    "    def spot_path_iter(prev_spot_path, iter_pair):\n",
    "        # print(\"iter pair \", iter_pair.shape)\n",
    "        spot_draw = iter_pair[0]\n",
    "        vol = iter_pair[1]\n",
    "        v_truncated = jnp.maximum(0.0, vol)\n",
    "        path_new_spot = prev_spot_path * jnp.exp((self.r - 0.5 * v_truncated) * dt + jnp.sqrt(v_truncated * dt) * spot_draw)\n",
    "        return path_new_spot, path_new_spot\n",
    "\n",
    "    # print(\"spot draws.shape \", spot_draws.shape)\n",
    "    # print(\"vol path.shape \", vol_path.shape)\n",
    "    iter_values = jnp.stack((spot_draws, vol_path), axis=1)\n",
    "    # print(\"itervalues \", iter_values.shape)\n",
    "    carry, spot_paths = jax.lax.scan(spot_path_iter, self.initial_spot_prices, iter_values, length=n_iter)\n",
    "\n",
    "    # print(\"Spot path.shape \", spot_paths.shape)\n",
    "    # spot_paths = jnp.roll(spot_paths.at[-1, :].set(self.initial_spot_prices), 1)\n",
    "    spot_paths = jnp.roll(spot_paths.at[-1, :].set(self.initial_spot_prices), 1, axis=0)\n",
    "    return spot_paths\n",
    "\n",
    "def path(self, key: PRNGKeyArray, n_intervals: int = 1000):\n",
    "    mean = jnp.zeros(2)\n",
    "    cov = jnp.array([[1.0, self.rho], [self.rho, 1.0]])\n",
    "\n",
    "    correlated_samples = jrandom.multivariate_normal(key, mean, cov, shape=(n_intervals, self.n_states))\n",
    "    print(correlated_samples.shape)\n",
    "\n",
    "    vol_draws = correlated_samples[..., 0]\n",
    "    spot_draws = correlated_samples[..., 1]\n",
    "    print(vol_draws.shape)\n",
    "    print(\"spot_draws \", spot_draws.shape)\n",
    "\n",
    "    sample_mean = jnp.mean(vol_draws)\n",
    "    print(sample_mean)\n",
    "\n",
    "    vol_path = volatility_path(self, vol_draws)\n",
    "    spot_path = spot_path_fn(self, spot_draws, vol_path)\n",
    "    return vol_path, spot_path\n",
    "\n",
    "def payoff(self, key: PRNGKeyArray, n_intervals: int = 1000, payoff_fn = EuropeanPayoff.call):\n",
    "    vol_path, spot_path = path(self, key, n_intervals)\n",
    "    spot_maturity = spot_path[-1, :]\n",
    "    print(\"maturity: \", spot_maturity)\n",
    "    \n",
    "    payoff = payoff_fn(spot_maturity, self.K)\n",
    "    print(\"payoff in fn\", payoff.shape)\n",
    "    print(\"ratio:  \", jnp.divide(payoff, spot_maturity))\n",
    "    return payoff\n",
    "\n",
    "key = jrandom.PRNGKey(0)\n",
    "key, subkey = jrandom.split(key)\n",
    "spot_range = Range(50.0, 150.0)\n",
    "vol_range = Range(0.01, 0.1)\n",
    "n_states = 10\n",
    "hset = HestonSoAParams(key, n_states, spot_range, vol_range)\n",
    "print(\"-\" * 15)\n",
    "print(\"initial spot prices: \", hset.initial_spot_prices)\n",
    "print(\"initial vol: \", hset.initial_vols)\n",
    "\n",
    "samples = path(hset, key)\n",
    "payoffs = payoff(hset, key)\n",
    "print(\"direct payoff calc: \", payoffs)\n",
    "\n",
    "# payoff_, dpayoff = eqx.filter_value_and_grad(payoff, allow_int=True)(hset, key)\n",
    "# print(dpayoff)\n",
    "# print(\"initial spot prices grad \", dpayoff.initial_spot_prices)\n",
    "# print(\"initial vol grad \", dpayoff.initial_vols)\n",
    "\n",
    "Y_vjp, dpayoff_fn = eqx.filter_vjp(payoff, hset, key)\n",
    "\n",
    "print(\"Y_vjp payoff: \", Y_vjp)\n",
    "\n",
    "dpayoff = dpayoff_fn(jnp.ones(Y_vjp.size))[0]\n",
    "print(\"initial spot prices grad \", dpayoff.initial_spot_prices)\n",
    "print(\"initial vol grad \", dpayoff.initial_vols)\n",
    "print(\"dpayoff \", dpayoff)\n",
    "\n",
    "\n",
    "if 0:\n",
    "    res = jax.jacrev(payoff, allow_int=True)(hset, key)\n",
    "    print(\"d n_state: \", res.n_states)\n",
    "    print(\"d initial_spot_prices \", res.initial_spot_prices)\n",
    "    print(\"d initial_vols\", res.initial_vols)"
   ]
  },
  {
   "cell_type": "code",
   "execution_count": 107,
   "id": "eee582d4-3ee2-43ef-88b4-30971a2e096f",
   "metadata": {},
   "outputs": [
    {
     "data": {
      "text/plain": [
       "Array([  0.        ,   0.        , 207.63492166,  74.97861017,\n",
       "         0.        ,   5.10820315,  26.0157536 ,  29.22147422,\n",
       "         0.        ,  36.01745421], dtype=float64)"
      ]
     },
     "execution_count": 107,
     "metadata": {},
     "output_type": "execute_result"
    }
   ],
   "source": [
    "payoff_"
   ]
  },
  {
   "cell_type": "code",
   "execution_count": 108,
   "id": "e1896176-649c-49a6-9058-ef1167c5fdc0",
   "metadata": {},
   "outputs": [
    {
     "data": {
      "text/plain": [
       "Array([  0.        ,   0.        , 207.63492166,  74.97861017,\n",
       "         0.        ,   5.10820315,  26.0157536 ,  29.22147422,\n",
       "         0.        ,  36.01745421], dtype=float64)"
      ]
     },
     "execution_count": 108,
     "metadata": {},
     "output_type": "execute_result"
    }
   ],
   "source": [
    "payoffs"
   ]
  },
  {
   "cell_type": "code",
   "execution_count": 109,
   "id": "Xgt-s9_S9otV",
   "metadata": {
    "id": "Xgt-s9_S9otV"
   },
   "outputs": [],
   "source": [
    "# Price calculation of heston model on european call option\n",
    "def price(key, heston: HestonSoA):\n",
    "    n_multiplier = 10\n",
    "    n_simulations = 10000 * n_multiplier\n",
    "    n_outside_iter = 10 * n_multiplier\n",
    "    n_sims_per_iter = n_simulations // n_outside_iter\n",
    "    payoff_sum: float = 0.0\n",
    "    key, subkey = jrandom.split(key)\n",
    "\n",
    "    def pathwise_payoff_fn(payoff_sum, key):\n",
    "        # print(\"Payoff sum shape\", payoff_sum.shape)\n",
    "        keys = jrandom.split(key, num=n_sims_per_iter)\n",
    "        pathwise_payoff = vmap(heston.payoff)(keys)\n",
    "        # print(\"pathwise payoff\", pathwise_payoff.shape)\n",
    "\n",
    "        payoff_sum_iter = jnp.sum(pathwise_payoff, axis=0)\n",
    "        # print(\"payoff sum iter\", payoff_sum_iter.shape)\n",
    "        payoff_sum += payoff_sum_iter\n",
    "        return payoff_sum, payoff_sum_iter\n",
    "\n",
    "    keys = jrandom.split(subkey, num=n_outside_iter)\n",
    "    payoff_sum, _ = jax.lax.scan(pathwise_payoff_fn, jnp.zeros(heston.n_states), keys, length=n_outside_iter)\n",
    "\n",
    "    price = (payoff_sum / n_simulations) * jnp.exp(-heston.r * heston.T)\n",
    "    return price[0]\n"
   ]
  },
  {
   "cell_type": "code",
   "execution_count": 110,
   "id": "OLOiIg2M-Isb",
   "metadata": {
    "colab": {
     "base_uri": "https://localhost:8080/"
    },
    "id": "OLOiIg2M-Isb",
    "outputId": "7cc5e148-47d7-4460-c445-d3688ac3bda2",
    "scrolled": true
   },
   "outputs": [
    {
     "name": "stdout",
     "output_type": "stream",
     "text": [
      "(1000, 1, 2)\n",
      "(1000, 1)\n",
      "spot_draws  (1000, 1)\n",
      "Traced<ShapedArray(float64[])>with<BatchTrace(level=2/0)> with\n",
      "  val = Traced<ShapedArray(float64[1000])>with<DynamicJaxprTrace(level=1/0)>\n",
      "  batch_dim = 0\n",
      "payoff  (1,)\n"
     ]
    },
    {
     "name": "stderr",
     "output_type": "stream",
     "text": [
      "2023-08-31 01:29:35.695529: W external/tsl/tsl/framework/bfc_allocator.cc:485] Allocator (GPU_0_bfc) ran out of memory trying to allocate 45.78MiB (rounded to 48001280)requested by op \n",
      "2023-08-31 01:29:35.695716: W external/tsl/tsl/framework/bfc_allocator.cc:497] ****************************************************************************************************\n",
      "2023-08-31 01:29:35.695905: E external/xla/xla/pjrt/pjrt_stream_executor_client.cc:2593] Execution of replica 0 failed: RESOURCE_EXHAUSTED: Out of memory while trying to allocate 48001208 bytes.\n",
      "BufferAssignment OOM Debugging.\n",
      "BufferAssignment stats:\n",
      "             parameter allocation:       856B\n",
      "              constant allocation:        80B\n",
      "        maybe_live_out allocation:       824B\n",
      "     preallocated temp allocation:   45.78MiB\n",
      "                 total allocation:   45.78MiB\n",
      "Peak buffers:\n",
      "\tBuffer 1:\n",
      "\t\tSize: 7.63MiB\n",
      "\t\tOperator: op_name=\"jit(scan)/jit(main)/while/body/vmap(jit(_multivariate_normal))/jit(_normal)/jit(_normal_real)/jit(_uniform)/threefry2x32\" source_file=\"/tmp/ipykernel_372/2736093939.py\" source_line=76\n",
      "\t\tXLA Label: custom-call\n",
      "\t\tShape: u32[1000,2000]\n",
      "\t\t==========================\n",
      "\n",
      "\tBuffer 2:\n",
      "\t\tSize: 7.63MiB\n",
      "\t\tOperator: op_name=\"jit(scan)/jit(main)/while/body/vmap(jit(_multivariate_normal))/jit(_normal)/jit(_normal_real)/jit(_uniform)/threefry2x32\" source_file=\"/tmp/ipykernel_372/2736093939.py\" source_line=76\n",
      "\t\tXLA Label: custom-call\n",
      "\t\tShape: u32[1000,2000]\n",
      "\t\t==========================\n",
      "\n",
      "\tBuffer 3:\n",
      "\t\tSize: 7.63MiB\n",
      "\t\tOperator: op_name=\"jit(scan)/jit(main)/while/body/vmap(jit(_multivariate_normal))/jit(_normal)/jit(_normal_real)/jit(_uniform)/threefry2x32\" source_file=\"/tmp/ipykernel_372/2736093939.py\" source_line=76\n",
      "\t\tXLA Label: fusion\n",
      "\t\tShape: u32[1000,2000]\n",
      "\t\t==========================\n",
      "\n",
      "\tBuffer 4:\n",
      "\t\tSize: 7.63MiB\n",
      "\t\tOperator: op_name=\"jit(scan)/jit(main)/while/body/vmap(jit(_multivariate_normal))/jit(_normal)/jit(_normal_real)/jit(_uniform)/threefry2x32\" source_file=\"/tmp/ipykernel_372/2736093939.py\" source_line=76\n",
      "\t\tXLA Label: fusion\n",
      "\t\tShape: u32[1000,2000]\n",
      "\t\t==========================\n",
      "\n",
      "\tBuffer 5:\n",
      "\t\tSize: 7.63MiB\n",
      "\t\tOperator: op_name=\"jit(scan)/jit(main)/while/body/vmap(jit(_multivariate_normal))/jit(_normal)/jit(_normal_real)/jit(_uniform)/threefry2x32\" source_file=\"/tmp/ipykernel_372/2736093939.py\" source_line=76\n",
      "\t\tXLA Label: fusion\n",
      "\t\tShape: u32[1000,2000]\n",
      "\t\t==========================\n",
      "\n",
      "\tBuffer 6:\n",
      "\t\tSize: 7.63MiB\n",
      "\t\tOperator: op_name=\"jit(scan)/jit(main)/while/body/vmap(jit(_multivariate_normal))/jit(_normal)/jit(_normal_real)/jit(_uniform)/threefry2x32\" source_file=\"/tmp/ipykernel_372/2736093939.py\" source_line=76\n",
      "\t\tXLA Label: fusion\n",
      "\t\tShape: u32[1000,2000]\n",
      "\t\t==========================\n",
      "\n",
      "\tBuffer 7:\n",
      "\t\tSize: 800B\n",
      "\t\tEntry Parameter Subshape: u32[100,2]\n",
      "\t\t==========================\n",
      "\n",
      "\tBuffer 8:\n",
      "\t\tSize: 800B\n",
      "\t\tOperator: op_name=\"jit(scan)/jit(main)/while/body/dynamic_update_slice\" source_file=\"/tmp/ipykernel_372/544401990.py\" source_line=22\n",
      "\t\tXLA Label: fusion\n",
      "\t\tShape: f64[100,1]\n",
      "\t\t==========================\n",
      "\n",
      "\tBuffer 9:\n",
      "\t\tSize: 56B\n",
      "\t\tXLA Label: tuple\n",
      "\t\tShape: (s64[], f64[1], f64[100,1], u32[100,2], f64[2,2], /*index=5*/f64[1], f64[1])\n",
      "\t\t==========================\n",
      "\n",
      "\tBuffer 10:\n",
      "\t\tSize: 32B\n",
      "\t\tXLA Label: tuple\n",
      "\t\tShape: (s64[], f64[1000,1], f64[1000,1000,1], f64[1000,1000,1])\n",
      "\t\t==========================\n",
      "\n",
      "\tBuffer 11:\n",
      "\t\tSize: 32B\n",
      "\t\tXLA Label: tuple\n",
      "\t\tShape: (s64[], f64[1000,1], f64[1000,1000,1], f64[1000,1000,2,1])\n",
      "\t\t==========================\n",
      "\n",
      "\tBuffer 12:\n",
      "\t\tSize: 32B\n",
      "\t\tEntry Parameter Subshape: f64[2,2]\n",
      "\t\t==========================\n",
      "\n",
      "\tBuffer 13:\n",
      "\t\tSize: 24B\n",
      "\t\tOperator: op_name=\"jit(scan)/jit(main)/while/body/vmap(jit(_multivariate_normal))/jit(cholesky)/cholesky\" source_file=\"/tmp/ipykernel_372/1602492535.py\" source_line=76\n",
      "\t\tXLA Label: custom-call\n",
      "\t\tShape: (f64[2,2], f64[20], s32[])\n",
      "\t\t==========================\n",
      "\n",
      "\tBuffer 14:\n",
      "\t\tSize: 16B\n",
      "\t\tOperator: op_name=\"jit(scan)/jit(main)/while/body/jit(_threefry_split)/threefry2x32\" source_file=\"/tmp/ipykernel_372/3976749096.py\" source_line=12\n",
      "\t\tXLA Label: fusion\n",
      "\t\tShape: (u32[1000], u32[1000])\n",
      "\t\t==========================\n",
      "\n",
      "\tBuffer 15:\n",
      "\t\tSize: 16B\n",
      "\t\tOperator: op_name=\"jit(scan)/jit(main)/while/body/jit(_threefry_split)/threefry2x32\" source_file=\"/tmp/ipykernel_372/3976749096.py\" source_line=12\n",
      "\t\tXLA Label: custom-call\n",
      "\t\tShape: (u32[1000], u32[1000])\n",
      "\t\t==========================\n",
      "\n",
      "\n"
     ]
    },
    {
     "ename": "XlaRuntimeError",
     "evalue": "RESOURCE_EXHAUSTED: Out of memory while trying to allocate 48001208 bytes.\nBufferAssignment OOM Debugging.\nBufferAssignment stats:\n             parameter allocation:       856B\n              constant allocation:        80B\n        maybe_live_out allocation:       824B\n     preallocated temp allocation:   45.78MiB\n                 total allocation:   45.78MiB\nPeak buffers:\n\tBuffer 1:\n\t\tSize: 7.63MiB\n\t\tOperator: op_name=\"jit(scan)/jit(main)/while/body/vmap(jit(_multivariate_normal))/jit(_normal)/jit(_normal_real)/jit(_uniform)/threefry2x32\" source_file=\"/tmp/ipykernel_372/2736093939.py\" source_line=76\n\t\tXLA Label: custom-call\n\t\tShape: u32[1000,2000]\n\t\t==========================\n\n\tBuffer 2:\n\t\tSize: 7.63MiB\n\t\tOperator: op_name=\"jit(scan)/jit(main)/while/body/vmap(jit(_multivariate_normal))/jit(_normal)/jit(_normal_real)/jit(_uniform)/threefry2x32\" source_file=\"/tmp/ipykernel_372/2736093939.py\" source_line=76\n\t\tXLA Label: custom-call\n\t\tShape: u32[1000,2000]\n\t\t==========================\n\n\tBuffer 3:\n\t\tSize: 7.63MiB\n\t\tOperator: op_name=\"jit(scan)/jit(main)/while/body/vmap(jit(_multivariate_normal))/jit(_normal)/jit(_normal_real)/jit(_uniform)/threefry2x32\" source_file=\"/tmp/ipykernel_372/2736093939.py\" source_line=76\n\t\tXLA Label: fusion\n\t\tShape: u32[1000,2000]\n\t\t==========================\n\n\tBuffer 4:\n\t\tSize: 7.63MiB\n\t\tOperator: op_name=\"jit(scan)/jit(main)/while/body/vmap(jit(_multivariate_normal))/jit(_normal)/jit(_normal_real)/jit(_uniform)/threefry2x32\" source_file=\"/tmp/ipykernel_372/2736093939.py\" source_line=76\n\t\tXLA Label: fusion\n\t\tShape: u32[1000,2000]\n\t\t==========================\n\n\tBuffer 5:\n\t\tSize: 7.63MiB\n\t\tOperator: op_name=\"jit(scan)/jit(main)/while/body/vmap(jit(_multivariate_normal))/jit(_normal)/jit(_normal_real)/jit(_uniform)/threefry2x32\" source_file=\"/tmp/ipykernel_372/2736093939.py\" source_line=76\n\t\tXLA Label: fusion\n\t\tShape: u32[1000,2000]\n\t\t==========================\n\n\tBuffer 6:\n\t\tSize: 7.63MiB\n\t\tOperator: op_name=\"jit(scan)/jit(main)/while/body/vmap(jit(_multivariate_normal))/jit(_normal)/jit(_normal_real)/jit(_uniform)/threefry2x32\" source_file=\"/tmp/ipykernel_372/2736093939.py\" source_line=76\n\t\tXLA Label: fusion\n\t\tShape: u32[1000,2000]\n\t\t==========================\n\n\tBuffer 7:\n\t\tSize: 800B\n\t\tEntry Parameter Subshape: u32[100,2]\n\t\t==========================\n\n\tBuffer 8:\n\t\tSize: 800B\n\t\tOperator: op_name=\"jit(scan)/jit(main)/while/body/dynamic_update_slice\" source_file=\"/tmp/ipykernel_372/544401990.py\" source_line=22\n\t\tXLA Label: fusion\n\t\tShape: f64[100,1]\n\t\t==========================\n\n\tBuffer 9:\n\t\tSize: 56B\n\t\tXLA Label: tuple\n\t\tShape: (s64[], f64[1], f64[100,1], u32[100,2], f64[2,2], /*index=5*/f64[1], f64[1])\n\t\t==========================\n\n\tBuffer 10:\n\t\tSize: 32B\n\t\tXLA Label: tuple\n\t\tShape: (s64[], f64[1000,1], f64[1000,1000,1], f64[1000,1000,1])\n\t\t==========================\n\n\tBuffer 11:\n\t\tSize: 32B\n\t\tXLA Label: tuple\n\t\tShape: (s64[], f64[1000,1], f64[1000,1000,1], f64[1000,1000,2,1])\n\t\t==========================\n\n\tBuffer 12:\n\t\tSize: 32B\n\t\tEntry Parameter Subshape: f64[2,2]\n\t\t==========================\n\n\tBuffer 13:\n\t\tSize: 24B\n\t\tOperator: op_name=\"jit(scan)/jit(main)/while/body/vmap(jit(_multivariate_normal))/jit(cholesky)/cholesky\" source_file=\"/tmp/ipykernel_372/1602492535.py\" source_line=76\n\t\tXLA Label: custom-call\n\t\tShape: (f64[2,2], f64[20], s32[])\n\t\t==========================\n\n\tBuffer 14:\n\t\tSize: 16B\n\t\tOperator: op_name=\"jit(scan)/jit(main)/while/body/jit(_threefry_split)/threefry2x32\" source_file=\"/tmp/ipykernel_372/3976749096.py\" source_line=12\n\t\tXLA Label: fusion\n\t\tShape: (u32[1000], u32[1000])\n\t\t==========================\n\n\tBuffer 15:\n\t\tSize: 16B\n\t\tOperator: op_name=\"jit(scan)/jit(main)/while/body/jit(_threefry_split)/threefry2x32\" source_file=\"/tmp/ipykernel_372/3976749096.py\" source_line=12\n\t\tXLA Label: custom-call\n\t\tShape: (u32[1000], u32[1000])\n\t\t==========================\n\n",
     "output_type": "error",
     "traceback": [
      "\u001b[0;31m---------------------------------------------------------------------------\u001b[0m",
      "\u001b[0;31mXlaRuntimeError\u001b[0m                           Traceback (most recent call last)",
      "Cell \u001b[0;32mIn[110], line 7\u001b[0m\n\u001b[1;32m      5\u001b[0m hset \u001b[38;5;241m=\u001b[39m HestonSoA(key\u001b[38;5;241m=\u001b[39msubkey, n_states\u001b[38;5;241m=\u001b[39mn_states, spot_range\u001b[38;5;241m=\u001b[39mspot_range, vol_range\u001b[38;5;241m=\u001b[39mvol_range)\n\u001b[1;32m      6\u001b[0m key, subkey \u001b[38;5;241m=\u001b[39m jrandom\u001b[38;5;241m.\u001b[39msplit(key)\n\u001b[0;32m----> 7\u001b[0m prices \u001b[38;5;241m=\u001b[39m \u001b[43mprice\u001b[49m\u001b[43m(\u001b[49m\u001b[43msubkey\u001b[49m\u001b[43m,\u001b[49m\u001b[43m \u001b[49m\u001b[43mhset\u001b[49m\u001b[43m)\u001b[49m\n\u001b[1;32m      8\u001b[0m jax\u001b[38;5;241m.\u001b[39mdebug\u001b[38;5;241m.\u001b[39mprint(\u001b[38;5;124m\"\u001b[39m\u001b[38;5;124mprices \u001b[39m\u001b[38;5;132;01m{}\u001b[39;00m\u001b[38;5;124m\"\u001b[39m, prices)\n",
      "Cell \u001b[0;32mIn[109], line 22\u001b[0m, in \u001b[0;36mprice\u001b[0;34m(key, heston)\u001b[0m\n\u001b[1;32m     19\u001b[0m     \u001b[38;5;28;01mreturn\u001b[39;00m payoff_sum, payoff_sum_iter\n\u001b[1;32m     21\u001b[0m keys \u001b[38;5;241m=\u001b[39m jrandom\u001b[38;5;241m.\u001b[39msplit(subkey, num\u001b[38;5;241m=\u001b[39mn_outside_iter)\n\u001b[0;32m---> 22\u001b[0m payoff_sum, _ \u001b[38;5;241m=\u001b[39m \u001b[43mjax\u001b[49m\u001b[38;5;241;43m.\u001b[39;49m\u001b[43mlax\u001b[49m\u001b[38;5;241;43m.\u001b[39;49m\u001b[43mscan\u001b[49m\u001b[43m(\u001b[49m\u001b[43mpathwise_payoff_fn\u001b[49m\u001b[43m,\u001b[49m\u001b[43m \u001b[49m\u001b[43mjnp\u001b[49m\u001b[38;5;241;43m.\u001b[39;49m\u001b[43mzeros\u001b[49m\u001b[43m(\u001b[49m\u001b[43mheston\u001b[49m\u001b[38;5;241;43m.\u001b[39;49m\u001b[43mn_states\u001b[49m\u001b[43m)\u001b[49m\u001b[43m,\u001b[49m\u001b[43m \u001b[49m\u001b[43mkeys\u001b[49m\u001b[43m,\u001b[49m\u001b[43m \u001b[49m\u001b[43mlength\u001b[49m\u001b[38;5;241;43m=\u001b[39;49m\u001b[43mn_outside_iter\u001b[49m\u001b[43m)\u001b[49m\n\u001b[1;32m     24\u001b[0m price \u001b[38;5;241m=\u001b[39m (payoff_sum \u001b[38;5;241m/\u001b[39m n_simulations) \u001b[38;5;241m*\u001b[39m jnp\u001b[38;5;241m.\u001b[39mexp(\u001b[38;5;241m-\u001b[39mheston\u001b[38;5;241m.\u001b[39mr \u001b[38;5;241m*\u001b[39m heston\u001b[38;5;241m.\u001b[39mT)\n\u001b[1;32m     25\u001b[0m \u001b[38;5;28;01mreturn\u001b[39;00m price[\u001b[38;5;241m0\u001b[39m]\n",
      "    \u001b[0;31m[... skipping hidden 8 frame]\u001b[0m\n",
      "File \u001b[0;32m~/miniconda3/lib/python3.10/site-packages/jax/_src/interpreters/pxla.py:1229\u001b[0m, in \u001b[0;36mExecuteReplicated.__call__\u001b[0;34m(self, *args)\u001b[0m\n\u001b[1;32m   1224\u001b[0m   \u001b[38;5;28mself\u001b[39m\u001b[38;5;241m.\u001b[39m_handle_token_bufs(\n\u001b[1;32m   1225\u001b[0m       results\u001b[38;5;241m.\u001b[39mdisassemble_prefix_into_single_device_arrays(\n\u001b[1;32m   1226\u001b[0m           \u001b[38;5;28mlen\u001b[39m(\u001b[38;5;28mself\u001b[39m\u001b[38;5;241m.\u001b[39mordered_effects)),\n\u001b[1;32m   1227\u001b[0m       results\u001b[38;5;241m.\u001b[39mconsume_token())\n\u001b[1;32m   1228\u001b[0m \u001b[38;5;28;01melse\u001b[39;00m:\n\u001b[0;32m-> 1229\u001b[0m   results \u001b[38;5;241m=\u001b[39m \u001b[38;5;28;43mself\u001b[39;49m\u001b[38;5;241;43m.\u001b[39;49m\u001b[43mxla_executable\u001b[49m\u001b[38;5;241;43m.\u001b[39;49m\u001b[43mexecute_sharded\u001b[49m\u001b[43m(\u001b[49m\u001b[43minput_bufs\u001b[49m\u001b[43m)\u001b[49m\n\u001b[1;32m   1230\u001b[0m \u001b[38;5;28;01mif\u001b[39;00m dispatch\u001b[38;5;241m.\u001b[39mneeds_check_special():\n\u001b[1;32m   1231\u001b[0m   out_arrays \u001b[38;5;241m=\u001b[39m results\u001b[38;5;241m.\u001b[39mdisassemble_into_single_device_arrays()\n",
      "\u001b[0;31mXlaRuntimeError\u001b[0m: RESOURCE_EXHAUSTED: Out of memory while trying to allocate 48001208 bytes.\nBufferAssignment OOM Debugging.\nBufferAssignment stats:\n             parameter allocation:       856B\n              constant allocation:        80B\n        maybe_live_out allocation:       824B\n     preallocated temp allocation:   45.78MiB\n                 total allocation:   45.78MiB\nPeak buffers:\n\tBuffer 1:\n\t\tSize: 7.63MiB\n\t\tOperator: op_name=\"jit(scan)/jit(main)/while/body/vmap(jit(_multivariate_normal))/jit(_normal)/jit(_normal_real)/jit(_uniform)/threefry2x32\" source_file=\"/tmp/ipykernel_372/2736093939.py\" source_line=76\n\t\tXLA Label: custom-call\n\t\tShape: u32[1000,2000]\n\t\t==========================\n\n\tBuffer 2:\n\t\tSize: 7.63MiB\n\t\tOperator: op_name=\"jit(scan)/jit(main)/while/body/vmap(jit(_multivariate_normal))/jit(_normal)/jit(_normal_real)/jit(_uniform)/threefry2x32\" source_file=\"/tmp/ipykernel_372/2736093939.py\" source_line=76\n\t\tXLA Label: custom-call\n\t\tShape: u32[1000,2000]\n\t\t==========================\n\n\tBuffer 3:\n\t\tSize: 7.63MiB\n\t\tOperator: op_name=\"jit(scan)/jit(main)/while/body/vmap(jit(_multivariate_normal))/jit(_normal)/jit(_normal_real)/jit(_uniform)/threefry2x32\" source_file=\"/tmp/ipykernel_372/2736093939.py\" source_line=76\n\t\tXLA Label: fusion\n\t\tShape: u32[1000,2000]\n\t\t==========================\n\n\tBuffer 4:\n\t\tSize: 7.63MiB\n\t\tOperator: op_name=\"jit(scan)/jit(main)/while/body/vmap(jit(_multivariate_normal))/jit(_normal)/jit(_normal_real)/jit(_uniform)/threefry2x32\" source_file=\"/tmp/ipykernel_372/2736093939.py\" source_line=76\n\t\tXLA Label: fusion\n\t\tShape: u32[1000,2000]\n\t\t==========================\n\n\tBuffer 5:\n\t\tSize: 7.63MiB\n\t\tOperator: op_name=\"jit(scan)/jit(main)/while/body/vmap(jit(_multivariate_normal))/jit(_normal)/jit(_normal_real)/jit(_uniform)/threefry2x32\" source_file=\"/tmp/ipykernel_372/2736093939.py\" source_line=76\n\t\tXLA Label: fusion\n\t\tShape: u32[1000,2000]\n\t\t==========================\n\n\tBuffer 6:\n\t\tSize: 7.63MiB\n\t\tOperator: op_name=\"jit(scan)/jit(main)/while/body/vmap(jit(_multivariate_normal))/jit(_normal)/jit(_normal_real)/jit(_uniform)/threefry2x32\" source_file=\"/tmp/ipykernel_372/2736093939.py\" source_line=76\n\t\tXLA Label: fusion\n\t\tShape: u32[1000,2000]\n\t\t==========================\n\n\tBuffer 7:\n\t\tSize: 800B\n\t\tEntry Parameter Subshape: u32[100,2]\n\t\t==========================\n\n\tBuffer 8:\n\t\tSize: 800B\n\t\tOperator: op_name=\"jit(scan)/jit(main)/while/body/dynamic_update_slice\" source_file=\"/tmp/ipykernel_372/544401990.py\" source_line=22\n\t\tXLA Label: fusion\n\t\tShape: f64[100,1]\n\t\t==========================\n\n\tBuffer 9:\n\t\tSize: 56B\n\t\tXLA Label: tuple\n\t\tShape: (s64[], f64[1], f64[100,1], u32[100,2], f64[2,2], /*index=5*/f64[1], f64[1])\n\t\t==========================\n\n\tBuffer 10:\n\t\tSize: 32B\n\t\tXLA Label: tuple\n\t\tShape: (s64[], f64[1000,1], f64[1000,1000,1], f64[1000,1000,1])\n\t\t==========================\n\n\tBuffer 11:\n\t\tSize: 32B\n\t\tXLA Label: tuple\n\t\tShape: (s64[], f64[1000,1], f64[1000,1000,1], f64[1000,1000,2,1])\n\t\t==========================\n\n\tBuffer 12:\n\t\tSize: 32B\n\t\tEntry Parameter Subshape: f64[2,2]\n\t\t==========================\n\n\tBuffer 13:\n\t\tSize: 24B\n\t\tOperator: op_name=\"jit(scan)/jit(main)/while/body/vmap(jit(_multivariate_normal))/jit(cholesky)/cholesky\" source_file=\"/tmp/ipykernel_372/1602492535.py\" source_line=76\n\t\tXLA Label: custom-call\n\t\tShape: (f64[2,2], f64[20], s32[])\n\t\t==========================\n\n\tBuffer 14:\n\t\tSize: 16B\n\t\tOperator: op_name=\"jit(scan)/jit(main)/while/body/jit(_threefry_split)/threefry2x32\" source_file=\"/tmp/ipykernel_372/3976749096.py\" source_line=12\n\t\tXLA Label: fusion\n\t\tShape: (u32[1000], u32[1000])\n\t\t==========================\n\n\tBuffer 15:\n\t\tSize: 16B\n\t\tOperator: op_name=\"jit(scan)/jit(main)/while/body/jit(_threefry_split)/threefry2x32\" source_file=\"/tmp/ipykernel_372/3976749096.py\" source_line=12\n\t\tXLA Label: custom-call\n\t\tShape: (u32[1000], u32[1000])\n\t\t==========================\n\n"
     ]
    }
   ],
   "source": [
    "key, subkey = jrandom.split(key)\n",
    "spot_range = Range(50.0, 150.0)\n",
    "vol_range = Range(0.01, 0.1)\n",
    "n_states = 1\n",
    "hset = HestonSoA(key=subkey, n_states=n_states, spot_range=spot_range, vol_range=vol_range)\n",
    "key, subkey = jrandom.split(key)\n",
    "prices = price(subkey, hset)\n",
    "jax.debug.print(\"prices {}\", prices)"
   ]
  },
  {
   "cell_type": "code",
   "execution_count": null,
   "id": "0d4c2161-0b0d-4c2f-a733-fc22fdcb0dfe",
   "metadata": {},
   "outputs": [],
   "source": [
    "\n",
    "Y_vjp, dpayoff_fn = eqx.filter_vjp(price, subkey, hset)\n",
    "\n",
    "print(\"payoff\", Y_vjp)\n",
    "\n",
    "dpayoff = dpayoff_fn(jnp.ones(Y_vjp.size))[0]\n",
    "print(\"initial spot prices grad \", dpayoff.initial_spot_prices)\n",
    "print(\"initial vol grad \", dpayoff.initial_vols)\n"
   ]
  },
  {
   "cell_type": "code",
   "execution_count": 100,
   "id": "996afc99-7987-4e8e-b3a7-d429012e4fc7",
   "metadata": {
    "scrolled": true
   },
   "outputs": [
    {
     "name": "stdout",
     "output_type": "stream",
     "text": [
      "(1000, 1, 2)\n",
      "(1000, 1)\n",
      "spot_draws  (1000, 1)\n",
      "Traced<ShapedArray(float64[])>with<BatchTrace(level=4/0)> with\n",
      "  val = Traced<ShapedArray(float64[1000])>with<DynamicJaxprTrace(level=3/0)>\n",
      "  batch_dim = 0\n",
      "payoff  (1,)\n"
     ]
    },
    {
     "name": "stderr",
     "output_type": "stream",
     "text": [
      "2023-08-31 01:28:07.279121: W external/tsl/tsl/framework/bfc_allocator.cc:485] Allocator (GPU_0_bfc) ran out of memory trying to allocate 45.78MiB (rounded to 48001280)requested by op \n",
      "2023-08-31 01:28:07.279311: W external/tsl/tsl/framework/bfc_allocator.cc:497] ****************************************************************************************************\n",
      "2023-08-31 01:28:07.279476: E external/xla/xla/pjrt/pjrt_stream_executor_client.cc:2593] Execution of replica 0 failed: RESOURCE_EXHAUSTED: Out of memory while trying to allocate 48001208 bytes.\n",
      "BufferAssignment OOM Debugging.\n",
      "BufferAssignment stats:\n",
      "             parameter allocation:       856B\n",
      "              constant allocation:        80B\n",
      "        maybe_live_out allocation:       824B\n",
      "     preallocated temp allocation:   45.78MiB\n",
      "                 total allocation:   45.78MiB\n",
      "Peak buffers:\n",
      "\tBuffer 1:\n",
      "\t\tSize: 7.63MiB\n",
      "\t\tOperator: op_name=\"jit(scan)/jit(main)/while/body/vmap(jit(_multivariate_normal))/jit(_normal)/jit(_normal_real)/jit(_uniform)/threefry2x32\" source_file=\"/tmp/ipykernel_372/2736093939.py\" source_line=76\n",
      "\t\tXLA Label: custom-call\n",
      "\t\tShape: u32[1000,2000]\n",
      "\t\t==========================\n",
      "\n",
      "\tBuffer 2:\n",
      "\t\tSize: 7.63MiB\n",
      "\t\tOperator: op_name=\"jit(scan)/jit(main)/while/body/vmap(jit(_multivariate_normal))/jit(_normal)/jit(_normal_real)/jit(_uniform)/threefry2x32\" source_file=\"/tmp/ipykernel_372/2736093939.py\" source_line=76\n",
      "\t\tXLA Label: custom-call\n",
      "\t\tShape: u32[1000,2000]\n",
      "\t\t==========================\n",
      "\n",
      "\tBuffer 3:\n",
      "\t\tSize: 7.63MiB\n",
      "\t\tOperator: op_name=\"jit(scan)/jit(main)/while/body/vmap(jit(_multivariate_normal))/jit(_normal)/jit(_normal_real)/jit(_uniform)/threefry2x32\" source_file=\"/tmp/ipykernel_372/2736093939.py\" source_line=76\n",
      "\t\tXLA Label: fusion\n",
      "\t\tShape: u32[1000,2000]\n",
      "\t\t==========================\n",
      "\n",
      "\tBuffer 4:\n",
      "\t\tSize: 7.63MiB\n",
      "\t\tOperator: op_name=\"jit(scan)/jit(main)/while/body/vmap(jit(_multivariate_normal))/jit(_normal)/jit(_normal_real)/jit(_uniform)/threefry2x32\" source_file=\"/tmp/ipykernel_372/2736093939.py\" source_line=76\n",
      "\t\tXLA Label: fusion\n",
      "\t\tShape: u32[1000,2000]\n",
      "\t\t==========================\n",
      "\n",
      "\tBuffer 5:\n",
      "\t\tSize: 7.63MiB\n",
      "\t\tOperator: op_name=\"jit(scan)/jit(main)/while/body/vmap(jit(_multivariate_normal))/jit(_normal)/jit(_normal_real)/jit(_uniform)/threefry2x32\" source_file=\"/tmp/ipykernel_372/2736093939.py\" source_line=76\n",
      "\t\tXLA Label: fusion\n",
      "\t\tShape: u32[1000,2000]\n",
      "\t\t==========================\n",
      "\n",
      "\tBuffer 6:\n",
      "\t\tSize: 7.63MiB\n",
      "\t\tOperator: op_name=\"jit(scan)/jit(main)/while/body/vmap(jit(_multivariate_normal))/jit(_normal)/jit(_normal_real)/jit(_uniform)/threefry2x32\" source_file=\"/tmp/ipykernel_372/2736093939.py\" source_line=76\n",
      "\t\tXLA Label: fusion\n",
      "\t\tShape: u32[1000,2000]\n",
      "\t\t==========================\n",
      "\n",
      "\tBuffer 7:\n",
      "\t\tSize: 800B\n",
      "\t\tEntry Parameter Subshape: u32[100,2]\n",
      "\t\t==========================\n",
      "\n",
      "\tBuffer 8:\n",
      "\t\tSize: 800B\n",
      "\t\tOperator: op_name=\"jit(scan)/jit(main)/while/body/dynamic_update_slice\" source_file=\"/tmp/ipykernel_372/544401990.py\" source_line=22\n",
      "\t\tXLA Label: fusion\n",
      "\t\tShape: f64[100,1]\n",
      "\t\t==========================\n",
      "\n",
      "\tBuffer 9:\n",
      "\t\tSize: 56B\n",
      "\t\tXLA Label: tuple\n",
      "\t\tShape: (s64[], f64[1], f64[100,1], u32[100,2], f64[2,2], /*index=5*/f64[1], f64[1])\n",
      "\t\t==========================\n",
      "\n",
      "\tBuffer 10:\n",
      "\t\tSize: 32B\n",
      "\t\tXLA Label: tuple\n",
      "\t\tShape: (s64[], f64[1000,1], f64[1000,1000,1], f64[1000,1000,1])\n",
      "\t\t==========================\n",
      "\n",
      "\tBuffer 11:\n",
      "\t\tSize: 32B\n",
      "\t\tXLA Label: tuple\n",
      "\t\tShape: (s64[], f64[1000,1], f64[1000,1000,1], f64[1000,1000,2,1])\n",
      "\t\t==========================\n",
      "\n",
      "\tBuffer 12:\n",
      "\t\tSize: 32B\n",
      "\t\tEntry Parameter Subshape: f64[2,2]\n",
      "\t\t==========================\n",
      "\n",
      "\tBuffer 13:\n",
      "\t\tSize: 24B\n",
      "\t\tOperator: op_name=\"jit(scan)/jit(main)/while/body/vmap(jit(_multivariate_normal))/jit(cholesky)/cholesky\" source_file=\"/tmp/ipykernel_372/1602492535.py\" source_line=76\n",
      "\t\tXLA Label: custom-call\n",
      "\t\tShape: (f64[2,2], f64[20], s32[])\n",
      "\t\t==========================\n",
      "\n",
      "\tBuffer 14:\n",
      "\t\tSize: 16B\n",
      "\t\tOperator: op_name=\"jit(scan)/jit(main)/while/body/jit(_threefry_split)/threefry2x32\" source_file=\"/tmp/ipykernel_372/3976749096.py\" source_line=12\n",
      "\t\tXLA Label: fusion\n",
      "\t\tShape: (u32[1000], u32[1000])\n",
      "\t\t==========================\n",
      "\n",
      "\tBuffer 15:\n",
      "\t\tSize: 16B\n",
      "\t\tOperator: op_name=\"jit(scan)/jit(main)/while/body/jit(_threefry_split)/threefry2x32\" source_file=\"/tmp/ipykernel_372/3976749096.py\" source_line=12\n",
      "\t\tXLA Label: custom-call\n",
      "\t\tShape: (u32[1000], u32[1000])\n",
      "\t\t==========================\n",
      "\n",
      "\n"
     ]
    },
    {
     "ename": "XlaRuntimeError",
     "evalue": "RESOURCE_EXHAUSTED: Out of memory while trying to allocate 48001208 bytes.\nBufferAssignment OOM Debugging.\nBufferAssignment stats:\n             parameter allocation:       856B\n              constant allocation:        80B\n        maybe_live_out allocation:       824B\n     preallocated temp allocation:   45.78MiB\n                 total allocation:   45.78MiB\nPeak buffers:\n\tBuffer 1:\n\t\tSize: 7.63MiB\n\t\tOperator: op_name=\"jit(scan)/jit(main)/while/body/vmap(jit(_multivariate_normal))/jit(_normal)/jit(_normal_real)/jit(_uniform)/threefry2x32\" source_file=\"/tmp/ipykernel_372/2736093939.py\" source_line=76\n\t\tXLA Label: custom-call\n\t\tShape: u32[1000,2000]\n\t\t==========================\n\n\tBuffer 2:\n\t\tSize: 7.63MiB\n\t\tOperator: op_name=\"jit(scan)/jit(main)/while/body/vmap(jit(_multivariate_normal))/jit(_normal)/jit(_normal_real)/jit(_uniform)/threefry2x32\" source_file=\"/tmp/ipykernel_372/2736093939.py\" source_line=76\n\t\tXLA Label: custom-call\n\t\tShape: u32[1000,2000]\n\t\t==========================\n\n\tBuffer 3:\n\t\tSize: 7.63MiB\n\t\tOperator: op_name=\"jit(scan)/jit(main)/while/body/vmap(jit(_multivariate_normal))/jit(_normal)/jit(_normal_real)/jit(_uniform)/threefry2x32\" source_file=\"/tmp/ipykernel_372/2736093939.py\" source_line=76\n\t\tXLA Label: fusion\n\t\tShape: u32[1000,2000]\n\t\t==========================\n\n\tBuffer 4:\n\t\tSize: 7.63MiB\n\t\tOperator: op_name=\"jit(scan)/jit(main)/while/body/vmap(jit(_multivariate_normal))/jit(_normal)/jit(_normal_real)/jit(_uniform)/threefry2x32\" source_file=\"/tmp/ipykernel_372/2736093939.py\" source_line=76\n\t\tXLA Label: fusion\n\t\tShape: u32[1000,2000]\n\t\t==========================\n\n\tBuffer 5:\n\t\tSize: 7.63MiB\n\t\tOperator: op_name=\"jit(scan)/jit(main)/while/body/vmap(jit(_multivariate_normal))/jit(_normal)/jit(_normal_real)/jit(_uniform)/threefry2x32\" source_file=\"/tmp/ipykernel_372/2736093939.py\" source_line=76\n\t\tXLA Label: fusion\n\t\tShape: u32[1000,2000]\n\t\t==========================\n\n\tBuffer 6:\n\t\tSize: 7.63MiB\n\t\tOperator: op_name=\"jit(scan)/jit(main)/while/body/vmap(jit(_multivariate_normal))/jit(_normal)/jit(_normal_real)/jit(_uniform)/threefry2x32\" source_file=\"/tmp/ipykernel_372/2736093939.py\" source_line=76\n\t\tXLA Label: fusion\n\t\tShape: u32[1000,2000]\n\t\t==========================\n\n\tBuffer 7:\n\t\tSize: 800B\n\t\tEntry Parameter Subshape: u32[100,2]\n\t\t==========================\n\n\tBuffer 8:\n\t\tSize: 800B\n\t\tOperator: op_name=\"jit(scan)/jit(main)/while/body/dynamic_update_slice\" source_file=\"/tmp/ipykernel_372/544401990.py\" source_line=22\n\t\tXLA Label: fusion\n\t\tShape: f64[100,1]\n\t\t==========================\n\n\tBuffer 9:\n\t\tSize: 56B\n\t\tXLA Label: tuple\n\t\tShape: (s64[], f64[1], f64[100,1], u32[100,2], f64[2,2], /*index=5*/f64[1], f64[1])\n\t\t==========================\n\n\tBuffer 10:\n\t\tSize: 32B\n\t\tXLA Label: tuple\n\t\tShape: (s64[], f64[1000,1], f64[1000,1000,1], f64[1000,1000,1])\n\t\t==========================\n\n\tBuffer 11:\n\t\tSize: 32B\n\t\tXLA Label: tuple\n\t\tShape: (s64[], f64[1000,1], f64[1000,1000,1], f64[1000,1000,2,1])\n\t\t==========================\n\n\tBuffer 12:\n\t\tSize: 32B\n\t\tEntry Parameter Subshape: f64[2,2]\n\t\t==========================\n\n\tBuffer 13:\n\t\tSize: 24B\n\t\tOperator: op_name=\"jit(scan)/jit(main)/while/body/vmap(jit(_multivariate_normal))/jit(cholesky)/cholesky\" source_file=\"/tmp/ipykernel_372/1602492535.py\" source_line=76\n\t\tXLA Label: custom-call\n\t\tShape: (f64[2,2], f64[20], s32[])\n\t\t==========================\n\n\tBuffer 14:\n\t\tSize: 16B\n\t\tOperator: op_name=\"jit(scan)/jit(main)/while/body/jit(_threefry_split)/threefry2x32\" source_file=\"/tmp/ipykernel_372/3976749096.py\" source_line=12\n\t\tXLA Label: fusion\n\t\tShape: (u32[1000], u32[1000])\n\t\t==========================\n\n\tBuffer 15:\n\t\tSize: 16B\n\t\tOperator: op_name=\"jit(scan)/jit(main)/while/body/jit(_threefry_split)/threefry2x32\" source_file=\"/tmp/ipykernel_372/3976749096.py\" source_line=12\n\t\tXLA Label: custom-call\n\t\tShape: (u32[1000], u32[1000])\n\t\t==========================\n\n",
     "output_type": "error",
     "traceback": [
      "\u001b[0;31m---------------------------------------------------------------------------\u001b[0m",
      "\u001b[0;31mXlaRuntimeError\u001b[0m                           Traceback (most recent call last)",
      "Cell \u001b[0;32mIn[100], line 1\u001b[0m\n\u001b[0;32m----> 1\u001b[0m \u001b[43mgrad\u001b[49m\u001b[43m(\u001b[49m\u001b[43mprice\u001b[49m\u001b[43m,\u001b[49m\u001b[43m \u001b[49m\u001b[43mallow_int\u001b[49m\u001b[38;5;241;43m=\u001b[39;49m\u001b[38;5;28;43;01mTrue\u001b[39;49;00m\u001b[43m)\u001b[49m\u001b[43m(\u001b[49m\u001b[43msubkey\u001b[49m\u001b[43m,\u001b[49m\u001b[43m \u001b[49m\u001b[43mhset\u001b[49m\u001b[43m)\u001b[49m\n",
      "    \u001b[0;31m[... skipping hidden 10 frame]\u001b[0m\n",
      "Cell \u001b[0;32mIn[97], line 22\u001b[0m, in \u001b[0;36mprice\u001b[0;34m(key, heston)\u001b[0m\n\u001b[1;32m     19\u001b[0m     \u001b[38;5;28;01mreturn\u001b[39;00m payoff_sum, payoff_sum_iter\n\u001b[1;32m     21\u001b[0m keys \u001b[38;5;241m=\u001b[39m jrandom\u001b[38;5;241m.\u001b[39msplit(subkey, num\u001b[38;5;241m=\u001b[39mn_outside_iter)\n\u001b[0;32m---> 22\u001b[0m payoff_sum, _ \u001b[38;5;241m=\u001b[39m \u001b[43mjax\u001b[49m\u001b[38;5;241;43m.\u001b[39;49m\u001b[43mlax\u001b[49m\u001b[38;5;241;43m.\u001b[39;49m\u001b[43mscan\u001b[49m\u001b[43m(\u001b[49m\u001b[43mpathwise_payoff_fn\u001b[49m\u001b[43m,\u001b[49m\u001b[43m \u001b[49m\u001b[43mjnp\u001b[49m\u001b[38;5;241;43m.\u001b[39;49m\u001b[43mzeros\u001b[49m\u001b[43m(\u001b[49m\u001b[43mheston\u001b[49m\u001b[38;5;241;43m.\u001b[39;49m\u001b[43mn_states\u001b[49m\u001b[43m)\u001b[49m\u001b[43m,\u001b[49m\u001b[43m \u001b[49m\u001b[43mkeys\u001b[49m\u001b[43m,\u001b[49m\u001b[43m \u001b[49m\u001b[43mlength\u001b[49m\u001b[38;5;241;43m=\u001b[39;49m\u001b[43mn_outside_iter\u001b[49m\u001b[43m)\u001b[49m\n\u001b[1;32m     24\u001b[0m price \u001b[38;5;241m=\u001b[39m (payoff_sum \u001b[38;5;241m/\u001b[39m n_simulations) \u001b[38;5;241m*\u001b[39m jnp\u001b[38;5;241m.\u001b[39mexp(\u001b[38;5;241m-\u001b[39mheston\u001b[38;5;241m.\u001b[39mr \u001b[38;5;241m*\u001b[39m heston\u001b[38;5;241m.\u001b[39mT)\n\u001b[1;32m     25\u001b[0m \u001b[38;5;28;01mreturn\u001b[39;00m price[\u001b[38;5;241m0\u001b[39m]\n",
      "    \u001b[0;31m[... skipping hidden 8 frame]\u001b[0m\n",
      "File \u001b[0;32m~/miniconda3/lib/python3.10/site-packages/jax/_src/interpreters/pxla.py:1229\u001b[0m, in \u001b[0;36mExecuteReplicated.__call__\u001b[0;34m(self, *args)\u001b[0m\n\u001b[1;32m   1224\u001b[0m   \u001b[38;5;28mself\u001b[39m\u001b[38;5;241m.\u001b[39m_handle_token_bufs(\n\u001b[1;32m   1225\u001b[0m       results\u001b[38;5;241m.\u001b[39mdisassemble_prefix_into_single_device_arrays(\n\u001b[1;32m   1226\u001b[0m           \u001b[38;5;28mlen\u001b[39m(\u001b[38;5;28mself\u001b[39m\u001b[38;5;241m.\u001b[39mordered_effects)),\n\u001b[1;32m   1227\u001b[0m       results\u001b[38;5;241m.\u001b[39mconsume_token())\n\u001b[1;32m   1228\u001b[0m \u001b[38;5;28;01melse\u001b[39;00m:\n\u001b[0;32m-> 1229\u001b[0m   results \u001b[38;5;241m=\u001b[39m \u001b[38;5;28;43mself\u001b[39;49m\u001b[38;5;241;43m.\u001b[39;49m\u001b[43mxla_executable\u001b[49m\u001b[38;5;241;43m.\u001b[39;49m\u001b[43mexecute_sharded\u001b[49m\u001b[43m(\u001b[49m\u001b[43minput_bufs\u001b[49m\u001b[43m)\u001b[49m\n\u001b[1;32m   1230\u001b[0m \u001b[38;5;28;01mif\u001b[39;00m dispatch\u001b[38;5;241m.\u001b[39mneeds_check_special():\n\u001b[1;32m   1231\u001b[0m   out_arrays \u001b[38;5;241m=\u001b[39m results\u001b[38;5;241m.\u001b[39mdisassemble_into_single_device_arrays()\n",
      "\u001b[0;31mXlaRuntimeError\u001b[0m: RESOURCE_EXHAUSTED: Out of memory while trying to allocate 48001208 bytes.\nBufferAssignment OOM Debugging.\nBufferAssignment stats:\n             parameter allocation:       856B\n              constant allocation:        80B\n        maybe_live_out allocation:       824B\n     preallocated temp allocation:   45.78MiB\n                 total allocation:   45.78MiB\nPeak buffers:\n\tBuffer 1:\n\t\tSize: 7.63MiB\n\t\tOperator: op_name=\"jit(scan)/jit(main)/while/body/vmap(jit(_multivariate_normal))/jit(_normal)/jit(_normal_real)/jit(_uniform)/threefry2x32\" source_file=\"/tmp/ipykernel_372/2736093939.py\" source_line=76\n\t\tXLA Label: custom-call\n\t\tShape: u32[1000,2000]\n\t\t==========================\n\n\tBuffer 2:\n\t\tSize: 7.63MiB\n\t\tOperator: op_name=\"jit(scan)/jit(main)/while/body/vmap(jit(_multivariate_normal))/jit(_normal)/jit(_normal_real)/jit(_uniform)/threefry2x32\" source_file=\"/tmp/ipykernel_372/2736093939.py\" source_line=76\n\t\tXLA Label: custom-call\n\t\tShape: u32[1000,2000]\n\t\t==========================\n\n\tBuffer 3:\n\t\tSize: 7.63MiB\n\t\tOperator: op_name=\"jit(scan)/jit(main)/while/body/vmap(jit(_multivariate_normal))/jit(_normal)/jit(_normal_real)/jit(_uniform)/threefry2x32\" source_file=\"/tmp/ipykernel_372/2736093939.py\" source_line=76\n\t\tXLA Label: fusion\n\t\tShape: u32[1000,2000]\n\t\t==========================\n\n\tBuffer 4:\n\t\tSize: 7.63MiB\n\t\tOperator: op_name=\"jit(scan)/jit(main)/while/body/vmap(jit(_multivariate_normal))/jit(_normal)/jit(_normal_real)/jit(_uniform)/threefry2x32\" source_file=\"/tmp/ipykernel_372/2736093939.py\" source_line=76\n\t\tXLA Label: fusion\n\t\tShape: u32[1000,2000]\n\t\t==========================\n\n\tBuffer 5:\n\t\tSize: 7.63MiB\n\t\tOperator: op_name=\"jit(scan)/jit(main)/while/body/vmap(jit(_multivariate_normal))/jit(_normal)/jit(_normal_real)/jit(_uniform)/threefry2x32\" source_file=\"/tmp/ipykernel_372/2736093939.py\" source_line=76\n\t\tXLA Label: fusion\n\t\tShape: u32[1000,2000]\n\t\t==========================\n\n\tBuffer 6:\n\t\tSize: 7.63MiB\n\t\tOperator: op_name=\"jit(scan)/jit(main)/while/body/vmap(jit(_multivariate_normal))/jit(_normal)/jit(_normal_real)/jit(_uniform)/threefry2x32\" source_file=\"/tmp/ipykernel_372/2736093939.py\" source_line=76\n\t\tXLA Label: fusion\n\t\tShape: u32[1000,2000]\n\t\t==========================\n\n\tBuffer 7:\n\t\tSize: 800B\n\t\tEntry Parameter Subshape: u32[100,2]\n\t\t==========================\n\n\tBuffer 8:\n\t\tSize: 800B\n\t\tOperator: op_name=\"jit(scan)/jit(main)/while/body/dynamic_update_slice\" source_file=\"/tmp/ipykernel_372/544401990.py\" source_line=22\n\t\tXLA Label: fusion\n\t\tShape: f64[100,1]\n\t\t==========================\n\n\tBuffer 9:\n\t\tSize: 56B\n\t\tXLA Label: tuple\n\t\tShape: (s64[], f64[1], f64[100,1], u32[100,2], f64[2,2], /*index=5*/f64[1], f64[1])\n\t\t==========================\n\n\tBuffer 10:\n\t\tSize: 32B\n\t\tXLA Label: tuple\n\t\tShape: (s64[], f64[1000,1], f64[1000,1000,1], f64[1000,1000,1])\n\t\t==========================\n\n\tBuffer 11:\n\t\tSize: 32B\n\t\tXLA Label: tuple\n\t\tShape: (s64[], f64[1000,1], f64[1000,1000,1], f64[1000,1000,2,1])\n\t\t==========================\n\n\tBuffer 12:\n\t\tSize: 32B\n\t\tEntry Parameter Subshape: f64[2,2]\n\t\t==========================\n\n\tBuffer 13:\n\t\tSize: 24B\n\t\tOperator: op_name=\"jit(scan)/jit(main)/while/body/vmap(jit(_multivariate_normal))/jit(cholesky)/cholesky\" source_file=\"/tmp/ipykernel_372/1602492535.py\" source_line=76\n\t\tXLA Label: custom-call\n\t\tShape: (f64[2,2], f64[20], s32[])\n\t\t==========================\n\n\tBuffer 14:\n\t\tSize: 16B\n\t\tOperator: op_name=\"jit(scan)/jit(main)/while/body/jit(_threefry_split)/threefry2x32\" source_file=\"/tmp/ipykernel_372/3976749096.py\" source_line=12\n\t\tXLA Label: fusion\n\t\tShape: (u32[1000], u32[1000])\n\t\t==========================\n\n\tBuffer 15:\n\t\tSize: 16B\n\t\tOperator: op_name=\"jit(scan)/jit(main)/while/body/jit(_threefry_split)/threefry2x32\" source_file=\"/tmp/ipykernel_372/3976749096.py\" source_line=12\n\t\tXLA Label: custom-call\n\t\tShape: (u32[1000], u32[1000])\n\t\t==========================\n\n"
     ]
    }
   ],
   "source": [
    "grad(price, allow_int=True)(subkey, hset)"
   ]
  },
  {
   "cell_type": "code",
   "execution_count": 92,
   "id": "oU_GYlofOjj4",
   "metadata": {
    "colab": {
     "base_uri": "https://localhost:8080/",
     "height": 472
    },
    "id": "oU_GYlofOjj4",
    "outputId": "8c8aef66-71b0-4c95-894f-f89e85741460"
   },
   "outputs": [
    {
     "data": {
      "image/png": "[encoded data removed]",
      "text/plain": [
       "<Figure size 640x480 with 1 Axes>"
      ]
     },
     "metadata": {},
     "output_type": "display_data"
    }
   ],
   "source": [
    "plt.title(\"Heston Model European Opiton Price\")\n",
    "plt.plot(hset.initial_spot_prices, prices, 'b.')\n",
    "plt.xlabel(\"initial spot price\")\n",
    "plt.ylabel(\"option price\")\n",
    "plt.show()"
   ]
  },
  {
   "cell_type": "code",
   "execution_count": 8,
   "id": "q-iO9Dh5RtnO",
   "metadata": {
    "colab": {
     "base_uri": "https://localhost:8080/",
     "height": 409
    },
    "id": "q-iO9Dh5RtnO",
    "outputId": "1d92eda1-94ec-4c6a-b835-bf50c938b657"
   },
   "outputs": [
    {
     "name": "stderr",
     "output_type": "stream",
     "text": [
      "/tmp/ipykernel_372/1860905182.py:10: UserWarning: Matplotlib is currently using module://matplotlib_inline.backend_inline, which is a non-GUI backend, so cannot show the figure.\n",
      "  fig.show()\n"
     ]
    },
    {
     "data": {
      "image/png": "[encoded data removed]",
      "text/plain": [
       "<Figure size 640x480 with 1 Axes>"
      ]
     },
     "metadata": {},
     "output_type": "display_data"
    }
   ],
   "source": [
    "# fig, ax = plt.subplots(subplot_kw={\"projection\": \"3d\"})\n",
    "fig = plt.figure()\n",
    "ax = fig.add_subplot(111, projection='3d')\n",
    "# ax.plot_trisurf(hset.initial_spot_prices, hset.initial_vols, prices, linewidth=0.2)\n",
    "ax.scatter(hset.initial_spot_prices, hset.initial_vols, prices)\n",
    "\n",
    "ax.set_xlabel(\"initial spot price\")\n",
    "ax.set_ylabel(\"initial volatility\")\n",
    "ax.set_zlabel(\"option price\")\n",
    "fig.show()"
   ]
  },
  {
   "cell_type": "code",
   "execution_count": 10,
   "id": "7tFZxNF0PHxt",
   "metadata": {
    "colab": {
     "base_uri": "https://localhost:8080/",
     "height": 769
    },
    "id": "7tFZxNF0PHxt",
    "outputId": "c804de0e-8a66-49f3-862a-a957a5ca826d"
   },
   "outputs": [
    {
     "name": "stdout",
     "output_type": "stream",
     "text": [
      "(1000, 100, 2)\n",
      "(1000, 100)\n",
      "spot_draws  (1000, 100)\n",
      "Traced<ShapedArray(float64[])>with<BatchTrace(level=2/0)> with\n",
      "  val = Traced<ShapedArray(float64[1000])>with<DynamicJaxprTrace(level=1/0)>\n",
      "  batch_dim = 0\n",
      "(1000, 100)\n",
      "[[ 21.29299089 318.289849    16.7012547  ... 146.08390438   0.\n",
      "    0.        ]\n",
      " [243.46458269 131.04076049   6.9113556  ...  28.32562438 253.33490675\n",
      "    0.        ]\n",
      " [  0.         120.70232263 101.01219475 ...  16.84827503   0.\n",
      "    0.        ]\n",
      " ...\n",
      " [  0.          85.93845297   0.         ...  78.53352728 123.42978575\n",
      "   15.52003103]\n",
      " [129.99935355 109.92830443  27.34461678 ...   0.           0.\n",
      "    0.        ]\n",
      " [ 69.64610877   9.27372199  27.09650837 ... 108.99927263  84.00294824\n",
      "  137.79480214]]\n"
     ]
    },
    {
     "name": "stderr",
     "output_type": "stream",
     "text": [
      "/tmp/ipykernel_372/2749131945.py:29: UserWarning: Matplotlib is currently using module://matplotlib_inline.backend_inline, which is a non-GUI backend, so cannot show the figure.\n",
      "  fig.show()\n"
     ]
    },
    {
     "data": {
      "image/png": "[encoded data removed]",
      "text/plain": [
       "<Figure size 640x480 with 1 Axes>"
      ]
     },
     "metadata": {},
     "output_type": "display_data"
    }
   ],
   "source": [
    "key, subkey = jrandom.split(key)\n",
    "spot_range = Range(50.0, 150.0)\n",
    "vol_range = Range(0.01, 0.1)\n",
    "n_states = 100\n",
    "h = HestonSoA(key=subkey, n_states=n_states, spot_range=spot_range, vol_range=vol_range)\n",
    "\n",
    "h_payoff = jit(vmap(h.payoff))\n",
    "key, subkey = jrandom.split(key)\n",
    "keys = jrandom.split(subkey, num=1000)\n",
    "payoffs = h_payoff(keys)\n",
    "print(payoffs.shape)\n",
    "print(payoffs)\n",
    "\n",
    "init_spots = h.initial_spot_prices\n",
    "init_spots = jnp.broadcast_to(init_spots, payoffs.shape)\n",
    "\n",
    "init_vols = h.initial_vols\n",
    "init_vols = jnp.broadcast_to(init_vols, payoffs.shape)\n",
    "\n",
    "fig = plt.figure()\n",
    "ax = fig.add_subplot(111, projection='3d')\n",
    "# ax.plot_trisurf(hset.initial_spot_prices, hset.initial_vols, prices, linewidth=0.2)\n",
    "ax.scatter(init_spots, init_vols, payoffs)\n",
    "ax.scatter(hset.initial_spot_prices, hset.initial_vols, prices)\n",
    "\n",
    "ax.set_xlabel(\"initial spot price\")\n",
    "ax.set_ylabel(\"initial volatility\")\n",
    "ax.set_zlabel(\"payoff\")\n",
    "fig.show()\n",
    "\n",
    "# plot one state configuration with many path sims\n",
    "# plt.plot(payoffs[:, 0])\n",
    "# key, subkey = jrandom.split(key)\n",
    "# prices = price(subkey, hset)\n",
    "# jax.debug.print(\"prices {}\", prices)"
   ]
  },
  {
   "cell_type": "code",
   "execution_count": 11,
   "id": "1rXz_tO0a0xS",
   "metadata": {
    "colab": {
     "base_uri": "https://localhost:8080/",
     "height": 455
    },
    "id": "1rXz_tO0a0xS",
    "outputId": "304aaa4d-44bf-47e4-b215-1c9d20cfb49e"
   },
   "outputs": [
    {
     "data": {
      "image/png": "[encoded data removed]",
      "text/plain": [
       "<Figure size 640x480 with 1 Axes>"
      ]
     },
     "metadata": {},
     "output_type": "display_data"
    }
   ],
   "source": [
    "\n",
    "plt.plot(init_spots, payoffs, 'b.', markersize=0.5)\n",
    "plt.plot(hset.initial_spot_prices, prices, 'r.', markersize=3, label='price')\n",
    "plt.legend()\n",
    "plt.xlabel('initial spot price')\n",
    "plt.ylabel('payoff')\n",
    "plt.ylim(-1, 1000)\n",
    "plt.show()\n"
   ]
  },
  {
   "cell_type": "code",
   "execution_count": 103,
   "id": "4f853a96-5448-4414-964c-2072f285bf42",
   "metadata": {
    "id": "4f853a96-5448-4414-964c-2072f285bf42"
   },
   "outputs": [],
   "source": [
    "\n",
    "# class HestonState\n",
    "# class MarkovState\n",
    "# dataclass\n",
    "\n",
    "class Heston(eqx.Module):\n",
    "\n",
    "    # S0: float = 100.0       # Initial spot price\n",
    "    # K: float = 100.0        # Strike price\n",
    "    # r: float = 0.0319       # Risk-free rate\n",
    "    # v0: float = 0.010201    # Initial volatility\n",
    "    # T: float = 1.00         # One year until expiry\n",
    "    # rho: float = -0.7       # Correlation of asset and volatility\n",
    "    # kappa: float = 6.21     # Mean-reversion rate\n",
    "    # theta: float = 0.019    # Long run average volatility\n",
    "    # xi: float = 0.61        # Volatility of volatility\n",
    "\n",
    "    S0: float = 100.0       # Initial spot price\n",
    "    K: float = 100.0        # Strike price\n",
    "    r: float = 0.05         # Risk-free rate\n",
    "    v0: float = 0.09        # Initial volatility\n",
    "    T: float = 5.00         # n years until expiry, i.e. T2 - T1\n",
    "    rho: float = -0.3       # Correlation of asset and volatility\n",
    "    kappa: float = 2.00     # Mean-reversion rate\n",
    "    theta: float = 0.09     # Long run average volatility\n",
    "    xi: float = 1.00        # Volatility of volatility\n",
    "\n",
    "    # def spot_path_lsm(self):\n",
    "    #     # vols\n",
    "\n",
    "    #     # vol_path = jnp.zeros_like(vol_draws)\n",
    "    #     # vol_path = vol_path.at[0].set(self.v0)\n",
    "\n",
    "    #     v0 = self.v0\n",
    "    #     v_truncated = jnp.maximum(0.0, v0)\n",
    "    #     v1 = v0 + self.kappa * T * (self.theta - v_truncated) + self.xi * jnp.sqrt(v_truncated * T) * vol_draws[i-1]\n",
    "\n",
    "    #         v_truncated = jnp.maximum(0.0, vol_path[i-1])\n",
    "    #         prev_path_contribution = vol_path[i-1] + self.kappa * dt * (self.theta - v_truncated)\n",
    "    #         randomness = self.xi * jnp.sqrt(v_truncated * dt) * vol_draws[i-1]\n",
    "    #         vol_path = vol_path.at[i].set(prev_path_contribution + randomness)\n",
    "\n",
    "    #     return vol_path\n",
    "\n",
    "\n",
    "    #     vec_size = len(spot_draws)\n",
    "    #     dt = self.T / vec_size\n",
    "    #     spot_paths = jnp.zeros_like(vol_path)\n",
    "    #     spot_paths = spot_paths.at[0].set(self.S0)\n",
    "\n",
    "    #     for i in range(1, vec_size):\n",
    "    #         v_truncated = jnp.maximum(0.0, vol_path[i-1])\n",
    "    #         path_new_spot = spot_paths[i-1] * jnp.exp((self.r - 0.5 * v_truncated) * dt + jnp.sqrt(v_truncated * dt) * spot_draws[i-1])\n",
    "    #         spot_paths = spot_paths.at[i].set(path_new_spot)\n",
    "    #     return spot_paths\n",
    "\n",
    "    # TODO: store vol_path inside class?\n",
    "    def spot_path_for_loop(self, spot_draws: Array, vol_path: Array) -> Array:\n",
    "        vec_size = len(spot_draws)\n",
    "        dt = self.T / vec_size\n",
    "        spot_paths = jnp.zeros_like(vol_path)\n",
    "        spot_paths = spot_paths.at[0].set(self.S0)\n",
    "\n",
    "\n",
    "        for i in range(1, vec_size):\n",
    "            v_truncated = jnp.maximum(0.0, vol_path[i-1])\n",
    "            path_new_spot = spot_paths[i-1] * jnp.exp((self.r - 0.5 * v_truncated) * dt + jnp.sqrt(v_truncated * dt) * spot_draws[i-1])\n",
    "            spot_paths = spot_paths.at[i].set(path_new_spot)\n",
    "        return spot_paths\n",
    "\n",
    "    def spot_path(self, spot_draws: Array, vol_path: Array) -> Array:\n",
    "        n_iter = len(spot_draws)\n",
    "        dt = self.T / n_iter\n",
    "\n",
    "        def spot_path_iter(prev_spot_path, iter_pair):\n",
    "            spot_draw = iter_pair[0]\n",
    "            vol = iter_pair[1]\n",
    "            v_truncated = jnp.maximum(0.0, vol)\n",
    "            path_new_spot = prev_spot_path * jnp.exp((self.r - 0.5 * v_truncated) * dt + jnp.sqrt(v_truncated * dt) * spot_draw)\n",
    "            return path_new_spot, path_new_spot\n",
    "\n",
    "        iter_values = jnp.column_stack((spot_draws, vol_path))\n",
    "        carry, spot_paths = jax.lax.scan(spot_path_iter, jnp.array(self.S0), iter_values, length=n_iter)\n",
    "\n",
    "        spot_paths = jnp.roll(spot_paths.at[-1].set(self.S0), 1)\n",
    "        return spot_paths\n",
    "\n",
    "    def volatility_path_for_loop(self, vol_draws: Float[Array, \"n ...\"]) -> Float[Array, \"n ...\"]:\n",
    "        vec_size = len(vol_draws)\n",
    "        dt = self.T / vec_size\n",
    "\n",
    "        vol_path = jnp.zeros_like(vol_draws)\n",
    "        vol_path = vol_path.at[0].set(self.v0)\n",
    "\n",
    "        for i in range(1, vec_size):\n",
    "            v_truncated = jnp.maximum(0.0, vol_path[i-1])\n",
    "            prev_path_contribution = vol_path[i-1] + self.kappa * dt * (self.theta - v_truncated)\n",
    "            randomness = self.xi * jnp.sqrt(v_truncated * dt) * vol_draws[i-1]\n",
    "            vol_path = vol_path.at[i].set(prev_path_contribution + randomness)\n",
    "\n",
    "        return vol_path\n",
    "\n",
    "    def volatility_path(self, vol_draws):\n",
    "        n_iter = len(vol_draws)\n",
    "        dt = self.T / n_iter\n",
    "\n",
    "        def vol_path_iter(prev_vol_path, vol_draw):\n",
    "            v_truncated = jnp.maximum(0.0, prev_vol_path)\n",
    "            prev_path_contribution = prev_vol_path + self.kappa * dt * (self.theta - v_truncated)\n",
    "            randomness = self.xi * jnp.sqrt(v_truncated * dt) * vol_draw\n",
    "            current = prev_path_contribution + randomness\n",
    "            return current, current # use current both for carry and for y\n",
    "\n",
    "        carry, vol_path = jax.lax.scan(vol_path_iter, jnp.array(self.v0), vol_draws, length=n_iter)\n",
    "\n",
    "        # we now have iteration 1 at position 0. Place initial v0 at the end and rotate into initial slot\n",
    "        vol_path = jnp.roll(vol_path.at[-1].set(self.v0), 1)\n",
    "        return vol_path\n",
    "\n",
    "    def path(self, key: PRNGKeyArray, n_intervals: int = 1000):\n",
    "        mean = jnp.zeros(2)\n",
    "        cov = jnp.array([[1.0, self.rho], [self.rho, 1.0]])\n",
    "\n",
    "        correlated_samples = jrandom.multivariate_normal(key, mean, cov, shape=(n_intervals,))\n",
    "\n",
    "        vol_draws = correlated_samples[:, 0]\n",
    "        spot_draws = correlated_samples[:, 1]\n",
    "\n",
    "        vol_path = self.volatility_path(vol_draws)\n",
    "        spot_path = self.spot_path(spot_draws, vol_path)\n",
    "        return vol_path, spot_path\n",
    "\n",
    "    def payoff(self, key: PRNGKeyArray, n_intervals: int = 1000, payoff_fn = EuropeanPayoff.call):\n",
    "        _, spot_path = self.path(key, n_intervals)\n",
    "        spot_maturity = spot_path[-1]\n",
    "        payoff = payoff_fn(spot_maturity, self.K)\n",
    "        return payoff\n",
    "        \n",
    "    def payoff_and_d(self, key: PRNGKeyArray, n_intervals: int = 1000, payoff_fn = EuropeanPayoff.call):\n",
    "        vol_path, spot_path = self.path(key, n_intervals)\n",
    "        spot_maturity = spot_path[-1]\n",
    "        payoff = payoff_fn(spot_maturity, self.K)\n",
    "        return payoff\n",
    "\n",
    "\n",
    "class ModelState(eqx.Module):\n",
    "    S0: float\n",
    "    v0: float\n",
    "\n",
    "def payoff(self, spot_path, payoff_fn = EuropeanPayoff.call):\n",
    "    spot_maturity = spot_path[-1]\n",
    "    payoff = payoff_fn(spot_maturity, self.K)\n",
    "    return payoff\n",
    "\n",
    "def volatility_path(v0, vol_draws, self):\n",
    "    n_iter = len(vol_draws)\n",
    "    dt = self.T / n_iter\n",
    "\n",
    "    def vol_path_iter(prev_vol_path, vol_draw):\n",
    "        v_truncated = jnp.maximum(0.0, prev_vol_path)\n",
    "        prev_path_contribution = prev_vol_path + self.kappa * dt * (self.theta - v_truncated)\n",
    "        randomness = self.xi * jnp.sqrt(v_truncated * dt) * vol_draw\n",
    "        current = prev_path_contribution + randomness\n",
    "        return current, current # use current both for carry and for y\n",
    "\n",
    "    carry, vol_path = jax.lax.scan(vol_path_iter, jnp.array(self.v0), vol_draws, length=n_iter)\n",
    "\n",
    "    # we now have iteration 1 at position 0. Place initial v0 at the end and rotate into initial slot\n",
    "    vol_path = jnp.roll(vol_path.at[-1].set(v0), 1)\n",
    "    return vol_path\n",
    "\n",
    "\n",
    "def spot_path(S0, self, spot_draws: Array, vol_path: Array) -> Array:\n",
    "    n_iter = len(spot_draws)\n",
    "    dt = self.T / n_iter\n",
    "\n",
    "    def spot_path_iter(prev_spot_path, iter_pair):\n",
    "        spot_draw = iter_pair[0]\n",
    "        vol = iter_pair[1]\n",
    "        v_truncated = jnp.maximum(0.0, vol)\n",
    "        path_new_spot = prev_spot_path * jnp.exp((self.r - 0.5 * v_truncated) * dt + jnp.sqrt(v_truncated * dt) * spot_draw)\n",
    "        return path_new_spot, path_new_spot\n",
    "\n",
    "    iter_values = jnp.column_stack((spot_draws, vol_path))\n",
    "    carry, spot_paths = jax.lax.scan(spot_path_iter, jnp.array(S0), iter_values, length=n_iter)\n",
    "\n",
    "    spot_paths = jnp.roll(spot_paths.at[-1].set(S0), 1)\n",
    "    return spot_paths\n",
    "\n",
    "\n",
    "def path_and_payoff(state: ModelState, self, vol_draws, spot_draws):\n",
    "    vol_path = volatility_path(state.v0, vol_draws, self)\n",
    "    s_path = spot_path(state.S0, self, spot_draws, vol_path)\n",
    "    \n",
    "    jax.debug.print(\"spot initial: {}\", s_path[0])\n",
    "    jax.debug.print(\"spot maturity: {}\", s_path[-1])\n",
    "\n",
    "    \n",
    "    jax.debug.print(\"vol initial: {}\", vol_path[0])\n",
    "    jax.debug.print(\"vol end: {}\", vol_path[-1])\n",
    "\n",
    "    p = payoff(self, s_path)\n",
    "    return p\n",
    "    \n",
    "def path_initial(self, key: PRNGKeyArray, n_intervals: int = 1000):\n",
    "    mean = jnp.zeros(2)\n",
    "    cov = jnp.array([[1.0, self.rho], [self.rho, 1.0]])\n",
    "\n",
    "    correlated_samples = jrandom.multivariate_normal(key, mean, cov, shape=(n_intervals,))\n",
    "\n",
    "    vol_draws = correlated_samples[:, 0]\n",
    "    spot_draws = correlated_samples[:, 1]\n",
    "\n",
    "    p, dp = jax.value_and_grad(path_and_payoff)(ModelState(self.S0, self.v0), self, vol_draws, spot_draws)\n",
    "    jax.debug.print(\"dp is {} {}\", dp.v0, dp.S0)\n",
    "    \n",
    "    return p, dp"
   ]
  },
  {
   "cell_type": "code",
   "execution_count": 105,
   "id": "b2994a93-63e2-4f6d-80bc-56f6f210af2b",
   "metadata": {},
   "outputs": [
    {
     "name": "stdout",
     "output_type": "stream",
     "text": [
      "spot initial: 100.0\n",
      "spot maturity: 172.1496809096212\n",
      "vol initial: 0.09\n",
      "vol end: 0.7641136467791223\n",
      "dp is 5.453201300377142 1.7214968090962144\n"
     ]
    },
    {
     "data": {
      "text/plain": [
       "(Array(72.14968091, dtype=float64), ModelState(S0=f64[], v0=f64[]))"
      ]
     },
     "execution_count": 105,
     "metadata": {},
     "output_type": "execute_result"
    }
   ],
   "source": [
    "key = jrandom.PRNGKey(4)\n",
    "heston = Heston()\n",
    "path_initial(heston, key)"
   ]
  },
  {
   "cell_type": "markdown",
   "id": "5267dd13-4223-4fa4-a7a3-465bfc083c21",
   "metadata": {
    "id": "5267dd13-4223-4fa4-a7a3-465bfc083c21",
    "jp-MarkdownHeadingCollapsed": true
   },
   "source": [
    "# Exploration"
   ]
  },
  {
   "cell_type": "code",
   "execution_count": 51,
   "id": "44e49d3f-44b7-459f-905c-dd2ee2d2f77c",
   "metadata": {
    "id": "44e49d3f-44b7-459f-905c-dd2ee2d2f77c"
   },
   "outputs": [],
   "source": [
    "n_sims : int = 1000000\n",
    "n_intervals: int = 1000\n",
    "heston = Heston()"
   ]
  },
  {
   "cell_type": "code",
   "execution_count": 52,
   "id": "f55f7e20-c5e0-4ee0-bbe1-27d4616954b6",
   "metadata": {
    "id": "f55f7e20-c5e0-4ee0-bbe1-27d4616954b6"
   },
   "outputs": [],
   "source": [
    "key = jrandom.PRNGKey(0)\n",
    "\n",
    "key, subkey = jrandom.split(key)\n",
    "vol_draws = jrandom.normal(key=subkey, shape=(100, ))\n",
    "# print(vol_draws)\n",
    "\n",
    "vol_path_for = heston.volatility_path_for_loop(vol_draws)\n",
    "vol_path = heston.volatility_path(vol_draws)\n",
    "assert(jnp.allclose(vol_path_for, vol_path))"
   ]
  },
  {
   "cell_type": "code",
   "execution_count": 53,
   "id": "84931ad5-04cf-454d-8e7b-69783694f663",
   "metadata": {
    "editable": true,
    "id": "84931ad5-04cf-454d-8e7b-69783694f663",
    "tags": []
   },
   "outputs": [],
   "source": [
    "key, subkey = jrandom.split(key)\n",
    "spot_draws = jrandom.normal(key=subkey, shape=(100, ))\n",
    "\n",
    "spot_path_for = heston.spot_path_for_loop(spot_draws, vol_path)\n",
    "spot_path = heston.spot_path(spot_draws, vol_path)\n",
    "assert(jnp.allclose(spot_path_for, spot_path))"
   ]
  },
  {
   "cell_type": "code",
   "execution_count": 90,
   "id": "12c0b510-9849-48e0-b091-01e67d573b8e",
   "metadata": {
    "colab": {
     "base_uri": "https://localhost:8080/"
    },
    "id": "12c0b510-9849-48e0-b091-01e67d573b8e",
    "outputId": "d2ae0a4d-9deb-49a6-fba4-d068b91e3e1f"
   },
   "outputs": [
    {
     "name": "stdout",
     "output_type": "stream",
     "text": [
      "[[ 1.  -0.3]\n",
      " [-0.3  1. ]]\n"
     ]
    },
    {
     "data": {
      "text/plain": [
       "(100000, 2)"
      ]
     },
     "execution_count": 90,
     "metadata": {},
     "output_type": "execute_result"
    }
   ],
   "source": [
    "key, subkey = jrandom.split(key)\n",
    "\n",
    "mean = jnp.zeros(2)\n",
    "cov = jnp.array([[1, heston.rho], [heston.rho, 1]])\n",
    "\n",
    "print(cov)\n",
    "correlated_samples = jrandom.multivariate_normal(key, mean, cov, shape=(100000,))\n",
    "correlated_samples.shape"
   ]
  },
  {
   "cell_type": "code",
   "execution_count": 91,
   "id": "1292dfe4-d214-46c3-bf54-58538b44ef67",
   "metadata": {
    "id": "1292dfe4-d214-46c3-bf54-58538b44ef67"
   },
   "outputs": [],
   "source": [
    "sample_mean = jnp.mean(correlated_samples, axis=0)\n",
    "assert(jnp.allclose(sample_mean, mean, atol=1e-2))"
   ]
  },
  {
   "cell_type": "code",
   "execution_count": 92,
   "id": "421ff660-2108-4045-8db7-149b5f3037ea",
   "metadata": {
    "id": "421ff660-2108-4045-8db7-149b5f3037ea"
   },
   "outputs": [],
   "source": [
    "sample_cov = jnp.cov(correlated_samples.T)\n",
    "assert(jnp.allclose(sample_cov, cov, atol=1e-2))"
   ]
  },
  {
   "cell_type": "code",
   "execution_count": 93,
   "id": "fc9bb850-5fd8-4522-abf5-8b707380d52b",
   "metadata": {
    "colab": {
     "base_uri": "https://localhost:8080/"
    },
    "id": "fc9bb850-5fd8-4522-abf5-8b707380d52b",
    "outputId": "b49e9670-9289-44a3-b8ae-64fdc53943d9"
   },
   "outputs": [
    {
     "data": {
      "text/plain": [
       "Array(-0.30700636, dtype=float64)"
      ]
     },
     "execution_count": 93,
     "metadata": {},
     "output_type": "execute_result"
    }
   ],
   "source": [
    "jnp.corrcoef(correlated_samples.T)[0, 1]"
   ]
  },
  {
   "cell_type": "code",
   "execution_count": 94,
   "id": "c6672e7e-8337-4a78-addb-e201a7b1869f",
   "metadata": {
    "colab": {
     "base_uri": "https://localhost:8080/"
    },
    "id": "c6672e7e-8337-4a78-addb-e201a7b1869f",
    "outputId": "30369b3b-d181-45e8-9966-99f41ad55fb3"
   },
   "outputs": [
    {
     "data": {
      "text/plain": [
       "Array([[ 1.        , -0.30700636],\n",
       "       [-0.30700636,  1.        ]], dtype=float64)"
      ]
     },
     "execution_count": 94,
     "metadata": {},
     "output_type": "execute_result"
    }
   ],
   "source": [
    "jnp.corrcoef(correlated_samples[:, 0], correlated_samples[:, 1])"
   ]
  },
  {
   "cell_type": "code",
   "execution_count": 95,
   "id": "0cda8345-c409-45ff-a535-083c16d0650d",
   "metadata": {
    "colab": {
     "base_uri": "https://localhost:8080/"
    },
    "id": "0cda8345-c409-45ff-a535-083c16d0650d",
    "outputId": "7e6c760d-a6ac-4c10-eb19-27595fe6ca75"
   },
   "outputs": [
    {
     "name": "stdout",
     "output_type": "stream",
     "text": [
      "[[ 1.  -0.3]\n",
      " [-0.3  1. ]]\n"
     ]
    }
   ],
   "source": [
    "mean = jnp.zeros(2)\n",
    "cov = jnp.array([[1, heston.rho], [heston.rho, 1]])\n",
    "\n",
    "print(cov)"
   ]
  },
  {
   "cell_type": "markdown",
   "id": "68ec4325-de92-40cd-9c35-a3ceb145355a",
   "metadata": {
    "id": "68ec4325-de92-40cd-9c35-a3ceb145355a"
   },
   "source": [
    "# Price"
   ]
  },
  {
   "cell_type": "code",
   "execution_count": 13,
   "id": "a230ff1a-7340-4d8f-8eb6-6f5dbc3bc1fe",
   "metadata": {
    "id": "a230ff1a-7340-4d8f-8eb6-6f5dbc3bc1fe"
   },
   "outputs": [],
   "source": [
    "# Price calculation of heston model on european call option\n",
    "def price(key):\n",
    "    n_multiplier = 1\n",
    "    n_simulations = 1000000 * n_multiplier\n",
    "    n_outside_iter = 10 * n_multiplier\n",
    "    n_sims_per_iter = n_simulations // n_outside_iter\n",
    "    payoff_sum: float = 0.0\n",
    "    key, subkey = jrandom.split(key)\n",
    "\n",
    "    def pathwise_payoff_fn(payoff_sum, key):\n",
    "        keys = jrandom.split(key, num=n_sims_per_iter)\n",
    "        pathwise_payoff = vmap(heston.payoff)(keys)\n",
    "\n",
    "        payoff_sum_iter = jnp.sum(pathwise_payoff)\n",
    "        payoff_sum += payoff_sum_iter\n",
    "        return payoff_sum, payoff_sum_iter\n",
    "\n",
    "    keys = jrandom.split(subkey, num=n_outside_iter)\n",
    "    payoff_sum, _ = jax.lax.scan(pathwise_payoff_fn, 0.0, keys, length=n_outside_iter)\n",
    "\n",
    "    price = (payoff_sum / n_simulations) * jnp.exp(-heston.r * heston.T)\n",
    "    jax.debug.print(\"price {}\", price)\n"
   ]
  },
  {
   "cell_type": "code",
   "execution_count": 14,
   "id": "72c401a9-62d7-472c-81b1-9fa795c758f5",
   "metadata": {
    "id": "72c401a9-62d7-472c-81b1-9fa795c758f5"
   },
   "outputs": [],
   "source": [
    "key = jrandom.PRNGKey(0)\n",
    "heston = Heston()"
   ]
  },
  {
   "cell_type": "code",
   "execution_count": 15,
   "id": "23612dcc-8ee7-455f-95ef-678879b656da",
   "metadata": {
    "id": "23612dcc-8ee7-455f-95ef-678879b656da"
   },
   "outputs": [],
   "source": [
    "price_fn = jit(price)"
   ]
  },
  {
   "cell_type": "code",
   "execution_count": null,
   "id": "2bd88a05-d68c-4732-9da9-006ca1584245",
   "metadata": {
    "colab": {
     "base_uri": "https://localhost:8080/"
    },
    "collapsed": true,
    "id": "2bd88a05-d68c-4732-9da9-006ca1584245",
    "jupyter": {
     "outputs_hidden": true
    },
    "outputId": "7011ea5f-f383-4e56-c5b5-841a3bfee5ab"
   },
   "outputs": [
    {
     "name": "stdout",
     "output_type": "stream",
     "text": [
      "price 34.93229832368327\n",
      "price 34.93229832368327\n",
      "price 34.93229832368327\n",
      "price 34.93229832368327\n",
      "price 34.93229832368327\n",
      "price 34.93229832368327\n",
      "price 34.93229832368327\n",
      "price 34.93229832368327\n",
      "8.99 s ± 17.8 ms per loop (mean ± std. dev. of 7 runs, 1 loop each)\n"
     ]
    }
   ],
   "source": [
    "%timeit price_fn(key)"
   ]
  },
  {
   "cell_type": "code",
   "execution_count": 16,
   "id": "b40e2670-3d47-4f2d-aa60-9e19ceceeb08",
   "metadata": {
    "id": "b40e2670-3d47-4f2d-aa60-9e19ceceeb08"
   },
   "outputs": [
    {
     "name": "stdout",
     "output_type": "stream",
     "text": [
      "price 34.93229832368327\n"
     ]
    }
   ],
   "source": [
    "price_fn(key)"
   ]
  },
  {
   "cell_type": "markdown",
   "id": "WCoCN3BNrU3A",
   "metadata": {
    "id": "WCoCN3BNrU3A"
   },
   "source": [
    "# Different initial States"
   ]
  },
  {
   "cell_type": "code",
   "execution_count": 19,
   "id": "83DIAywDrS0S",
   "metadata": {
    "colab": {
     "base_uri": "https://localhost:8080/"
    },
    "id": "83DIAywDrS0S",
    "outputId": "a07917bc-38c4-4493-e25c-863aa692c63a"
   },
   "outputs": [],
   "source": [
    "# heston_factory = lambda params: Heston(S0=params[0], v0=params[1])\n",
    "\n",
    "def heston_factory(params):\n",
    "  return Heston(S0=params[0], v0=params[1])\n",
    "\n",
    "key, subkey = jrandom.split(key)\n",
    "random_initial_spots = jrandom.uniform(key, shape=(100,), minval=50, maxval=150)\n",
    "random_initial_vols = jrandom.uniform(key, shape=(100,), minval=0.01, maxval=0.1)\n",
    "params = jnp.column_stack((random_initial_spots, random_initial_vols))\n",
    "\n",
    "# params = zip(jnp.ones(100), jnp.ones(100))\n",
    "# params = jnp.ones(shape=(100, 2))\n",
    "# print(params.shape)\n",
    "# hes = heston_factory(50, 0.09)\n",
    "# hes = vmap(heston_factory)(random_initial_spots, random_initial_vols)\n",
    "\n",
    "hes = [heston_factory(ps) for ps in params]\n",
    "#print(hes)\n",
    "# print(hes[1])\n",
    "# print(hes.shape)\n",
    "# initial_model_states ="
   ]
  },
  {
   "cell_type": "markdown",
   "id": "b65c0b19-3b0e-44fd-9c67-f014b0ed211f",
   "metadata": {
    "id": "b65c0b19-3b0e-44fd-9c67-f014b0ed211f"
   },
   "source": [
    "# Visualize Data"
   ]
  },
  {
   "cell_type": "code",
   "execution_count": 18,
   "id": "2dc6de81-4378-41ac-873b-07c82e81f741",
   "metadata": {
    "id": "2dc6de81-4378-41ac-873b-07c82e81f741"
   },
   "outputs": [
    {
     "ename": "FrozenInstanceError",
     "evalue": "cannot assign to field 'S0'",
     "output_type": "error",
     "traceback": [
      "\u001b[0;31m---------------------------------------------------------------------------\u001b[0m",
      "\u001b[0;31mFrozenInstanceError\u001b[0m                       Traceback (most recent call last)",
      "Cell \u001b[0;32mIn[18], line 4\u001b[0m\n\u001b[1;32m      2\u001b[0m n_intervals: \u001b[38;5;28mint\u001b[39m \u001b[38;5;241m=\u001b[39m \u001b[38;5;241m1000\u001b[39m\n\u001b[1;32m      3\u001b[0m heston \u001b[38;5;241m=\u001b[39m Heston()\n\u001b[0;32m----> 4\u001b[0m \u001b[43mheston\u001b[49m\u001b[38;5;241;43m.\u001b[39;49m\u001b[43mS0\u001b[49m \u001b[38;5;241m=\u001b[39m \u001b[38;5;241m150\u001b[39m\n",
      "File \u001b[0;32m<string>:4\u001b[0m, in \u001b[0;36m__setattr__\u001b[0;34m(self, name, value)\u001b[0m\n",
      "\u001b[0;31mFrozenInstanceError\u001b[0m: cannot assign to field 'S0'"
     ]
    }
   ],
   "source": [
    "n_sims : int = 10000\n",
    "n_intervals: int = 1000\n",
    "heston = Heston()\n",
    "heston.S0 = 150"
   ]
  },
  {
   "cell_type": "code",
   "execution_count": 68,
   "id": "yI33axDLW-zE",
   "metadata": {
    "id": "yI33axDLW-zE"
   },
   "outputs": [],
   "source": [
    "heston_payoff_fn = jit(vmap(heston.payoff))"
   ]
  },
  {
   "cell_type": "code",
   "execution_count": 69,
   "id": "kAChfT71V9kU",
   "metadata": {
    "colab": {
     "base_uri": "https://localhost:8080/"
    },
    "id": "kAChfT71V9kU",
    "outputId": "75b0a242-1808-4051-c1f7-cee74777ddab"
   },
   "outputs": [
    {
     "name": "stdout",
     "output_type": "stream",
     "text": [
      "(10000,)\n",
      "[112.45826534 145.11717678 119.75498397 ...  39.00841261   0.\n",
      "   0.        ]\n"
     ]
    }
   ],
   "source": [
    "key, subkey = jrandom.split(key)\n",
    "keys = jrandom.split(key, num=n_sims)\n",
    "\n",
    "payoffs = heston_payoff_fn(keys)\n",
    "print(payoffs.shape)\n",
    "print(payoffs)"
   ]
  },
  {
   "cell_type": "code",
   "execution_count": 57,
   "id": "4f1b5c58-fa8d-4c39-a450-cfe51dac7aa9",
   "metadata": {
    "id": "4f1b5c58-fa8d-4c39-a450-cfe51dac7aa9"
   },
   "outputs": [],
   "source": [
    "heston_paths_fn = jit(vmap(heston.path))"
   ]
  },
  {
   "cell_type": "code",
   "execution_count": 58,
   "id": "5d88d42d-23c6-4e76-99ca-c17dfa7216cb",
   "metadata": {
    "colab": {
     "base_uri": "https://localhost:8080/"
    },
    "id": "5d88d42d-23c6-4e76-99ca-c17dfa7216cb",
    "outputId": "aacd9c43-95ee-46e0-9dbd-6619f1218fa7"
   },
   "outputs": [
    {
     "name": "stdout",
     "output_type": "stream",
     "text": [
      "(10000,)\n",
      "(10000, 1000)\n",
      "[[150.         149.85831638 153.22912623 ...  60.41005565  61.33104319\n",
      "   59.78024655]\n",
      " [150.         152.383271   155.8651444  ... 440.98795614 450.03061919\n",
      "  453.41677085]\n",
      " [150.         149.61379331 150.99725368 ...  23.73788578  23.33855944\n",
      "   23.84407058]\n",
      " ...\n",
      " [150.         149.29709691 150.83942968 ...  60.25295097  60.0998801\n",
      "   60.26146953]\n",
      " [150.         154.55633329 156.44737144 ... 400.14274201 399.86755058\n",
      "  401.32089951]\n",
      " [150.         148.98407531 149.18099084 ...  88.71331659  88.73549769\n",
      "   88.75768434]]\n",
      "[  0.         353.41677085   0.         ...   0.         301.32089951\n",
      "   0.        ]\n",
      "(10000,)\n"
     ]
    }
   ],
   "source": [
    "key, subkey = jrandom.split(key)\n",
    "keys = jrandom.split(key, num=n_sims)\n",
    "vol_paths, spot_paths = heston_paths_fn(keys)\n",
    "\n",
    "\n",
    "print(spot_paths[..., -1].shape)\n",
    "print(spot_paths.shape)\n",
    "print(spot_paths)\n",
    "pathwise_payoff = EuropeanPayoff.payoff(spot_paths, heston.K)\n",
    "\n",
    "print(pathwise_payoff)\n",
    "print(pathwise_payoff.shape)\n"
   ]
  },
  {
   "cell_type": "code",
   "execution_count": 59,
   "id": "LOnhC4cpZrwR",
   "metadata": {
    "id": "LOnhC4cpZrwR"
   },
   "outputs": [],
   "source": [
    "# TODO: generate payoff samples for a bunch of other starting spots. Those spots\n",
    "#       can either be found via MC or using some grid...\n",
    "#\n",
    "#       look into page 19 training inputs"
   ]
  },
  {
   "cell_type": "code",
   "execution_count": 60,
   "id": "X_izu9wmYksT",
   "metadata": {
    "colab": {
     "base_uri": "https://localhost:8080/"
    },
    "id": "X_izu9wmYksT",
    "outputId": "b792412b-7613-4b13-ef1e-b771173309c1"
   },
   "outputs": [
    {
     "name": "stdout",
     "output_type": "stream",
     "text": [
      "[150. 150. 150. ... 150. 150. 150.]\n"
     ]
    }
   ],
   "source": [
    "print(spot_paths[:, 0])"
   ]
  },
  {
   "cell_type": "code",
   "execution_count": 61,
   "id": "7_GmzT14Zdo0",
   "metadata": {
    "colab": {
     "base_uri": "https://localhost:8080/"
    },
    "id": "7_GmzT14Zdo0",
    "outputId": "101c17b4-684c-46a3-b782-45c5da3e4396"
   },
   "outputs": [
    {
     "name": "stdout",
     "output_type": "stream",
     "text": [
      "2268\n"
     ]
    }
   ],
   "source": [
    "print(jnp.sum(pathwise_payoff == 0.))"
   ]
  },
  {
   "cell_type": "code",
   "execution_count": 62,
   "id": "IgC6JPGE9TkI",
   "metadata": {
    "colab": {
     "base_uri": "https://localhost:8080/",
     "height": 448
    },
    "id": "IgC6JPGE9TkI",
    "outputId": "9b6bada7-f336-417f-ed0e-cb935b834857"
   },
   "outputs": [
    {
     "data": {
      "text/plain": [
       "[<matplotlib.lines.Line2D at 0x7bd47c750100>]"
      ]
     },
     "execution_count": 62,
     "metadata": {},
     "output_type": "execute_result"
    },
    {
     "data": {
      "image/png": "[encoded data removed]",
      "text/plain": [
       "<Figure size 640x480 with 1 Axes>"
      ]
     },
     "metadata": {},
     "output_type": "display_data"
    }
   ],
   "source": [
    "plt.plot(spot_paths[:, 0], pathwise_payoff, \"b.\")"
   ]
  },
  {
   "cell_type": "code",
   "execution_count": 62,
   "id": "bZnjmV56_jkY",
   "metadata": {
    "id": "bZnjmV56_jkY"
   },
   "outputs": [],
   "source": []
  }
 ],
 "metadata": {
  "accelerator": "GPU",
  "colab": {
   "gpuType": "T4",
   "provenance": []
  },
  "kernelspec": {
   "display_name": "Python 3 (ipykernel)",
   "language": "python",
   "name": "python3"
  },
  "language_info": {
   "codemirror_mode": {
    "name": "ipython",
    "version": 3
   },
   "file_extension": ".py",
   "mimetype": "text/x-python",
   "name": "python",
   "nbconvert_exporter": "python",
   "pygments_lexer": "ipython3",
   "version": "3.10.12"
  }
 },
 "nbformat": 4,
 "nbformat_minor": 5
}
