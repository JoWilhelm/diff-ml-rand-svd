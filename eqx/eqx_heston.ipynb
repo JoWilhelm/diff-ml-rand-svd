{
 "cells": [
  {
   "cell_type": "code",
   "execution_count": 1,
   "id": "088da22a-359a-4472-a47c-592bfa4a83c5",
   "metadata": {},
   "outputs": [
    {
     "name": "stderr",
     "output_type": "stream",
     "text": [
      "2023-08-28 14:28:20.623788: W tensorflow/compiler/tf2tensorrt/utils/py_utils.cc:38] TF-TRT Warning: Could not find TensorRT\n",
      "2023-08-28 14:28:21.403418: W tensorflow/core/common_runtime/gpu/gpu_device.cc:1956] Cannot dlopen some GPU libraries. Please make sure the missing libraries mentioned above are installed properly if you would like to use GPU. Follow the guide at https://www.tensorflow.org/install/gpu for how to download and setup the required libraries for your platform.\n",
      "Skipping registering GPU devices...\n"
     ]
    },
    {
     "data": {
      "text/plain": [
       "[gpu(id=0)]"
      ]
     },
     "execution_count": 1,
     "metadata": {},
     "output_type": "execute_result"
    }
   ],
   "source": [
    "import matplotlib.pyplot as plt\n",
    "\n",
    "import jax.numpy as jnp\n",
    "from jax.scipy.stats import norm\n",
    "from jax import grad, jit, vmap\n",
    "from jax import random as jrandom\n",
    "import jax\n",
    "\n",
    "from jax import config\n",
    "config.update(\"jax_enable_x64\", True)\n",
    "\n",
    "from typing import Sequence, Tuple, Union, Optional\n",
    "from jaxtyping import Array, ArrayLike, Float, Int, PyTree, PRNGKeyArray, ScalarLike\n",
    "\n",
    "import equinox as eqx\n",
    "import optax\n",
    "import chex\n",
    "\n",
    "import tensorflow as tf\n",
    "# Ensure TF does not see GPU and grab all GPU memory.\n",
    "tf.config.set_visible_devices([], device_type='GPU')\n",
    "\n",
    "import tensorflow_datasets as tfds\n",
    "\n",
    "from dataclasses import dataclass, astuple\n",
    "from functools import partial\n",
    "\n",
    "import numpy as np\n",
    "\n",
    "import pytest\n",
    "import pytest_benchmark\n",
    "\n",
    "jax.enable_checks = True\n",
    "\n",
    "jax.devices()"
   ]
  },
  {
   "cell_type": "code",
   "execution_count": 2,
   "id": "0c0df3ba-e4b8-4428-9be0-ae202aefa719",
   "metadata": {},
   "outputs": [],
   "source": [
    "class EuropeanPayoff:\n",
    "    @staticmethod\n",
    "    def call(maturity_prices: Float[ArrayLike, \" n\"], strike_prices: Float[ScalarLike, \"\"]) -> Float[Array, \" n\"]:\n",
    "        return jnp.maximum(jnp.subtract(maturity_prices, strike_prices), 0.0)\n",
    "\n",
    "    @staticmethod\n",
    "    def put(maturity_prices: Float[ArrayLike, \" n\"], strike_prices: Float[ScalarLike, \"\"]) -> Float[Array, \" n\"]:\n",
    "        return jnp.maximum(jnp.subtract(strike_prices, maturity_prices), 0.0)"
   ]
  },
  {
   "cell_type": "code",
   "execution_count": 3,
   "id": "4f853a96-5448-4414-964c-2072f285bf42",
   "metadata": {},
   "outputs": [],
   "source": [
    "@dataclass\n",
    "class Heston:\n",
    "        \n",
    "    # S0: float = 100.0       # Initial spot price\n",
    "    # K: float = 100.0        # Strike price\n",
    "    # r: float = 0.0319       # Risk-free rate\n",
    "    # v0: float = 0.010201    # Initial volatility\n",
    "    # T: float = 1.00         # One year until expiry\n",
    "    # rho: float = -0.7       # Correlation of asset and volatility\n",
    "    # kappa: float = 6.21     # Mean-reversion rate\n",
    "    # theta: float = 0.019    # Long run average volatility\n",
    "    # xi: float = 0.61        # Volatility of volatility\n",
    "\n",
    "    S0: float = 100.0       # Initial spot price\n",
    "    K: float = 100.0        # Strike price\n",
    "    r: float = 0.05         # Risk-free rate\n",
    "    v0: float = 0.09        # Initial volatility\n",
    "    T: float = 5.00         # One year until expiry\n",
    "    rho: float = -0.3       # Correlation of asset and volatility\n",
    "    kappa: float = 2.00     # Mean-reversion rate\n",
    "    theta: float = 0.09     # Long run average volatility\n",
    "    xi: float = 1.00        # Volatility of volatility\n",
    "\n",
    "    \n",
    "    # TODO: store vol_path inside class?\n",
    "    def spot_path_for_loop(self, spot_draws: Array, vol_path: Array) -> Array:\n",
    "        vec_size = len(spot_draws)\n",
    "        dt = self.T / vec_size\n",
    "        spot_paths = jnp.zeros_like(vol_path)\n",
    "        spot_paths = spot_paths.at[0].set(self.S0)\n",
    "\n",
    "        \n",
    "        for i in range(1, vec_size):\n",
    "            v_truncated = jnp.maximum(0.0, vol_path[i-1])\n",
    "            path_new_spot = spot_paths[i-1] * jnp.exp((self.r - 0.5 * v_truncated) * dt + jnp.sqrt(v_truncated * dt) * spot_draws[i-1])\n",
    "            spot_paths = spot_paths.at[i].set(path_new_spot)\n",
    "        return spot_paths\n",
    "\n",
    "    def spot_path(self, spot_draws: Array, vol_path: Array) -> Array:\n",
    "        n_iter = len(spot_draws)\n",
    "        dt = self.T / n_iter\n",
    "\n",
    "        def spot_path_iter(prev_spot_path, iter_pair):\n",
    "            spot_draw = iter_pair[0]\n",
    "            vol = iter_pair[1]\n",
    "            v_truncated = jnp.maximum(0.0, vol)\n",
    "            path_new_spot = prev_spot_path * jnp.exp((self.r - 0.5 * v_truncated) * dt + jnp.sqrt(v_truncated * dt) * spot_draw)\n",
    "            return path_new_spot, path_new_spot\n",
    "\n",
    "        iter_values = jnp.column_stack((spot_draws, vol_path))\n",
    "        carry, spot_paths = jax.lax.scan(spot_path_iter, jnp.array(self.S0), iter_values, length=n_iter)\n",
    "\n",
    "        spot_paths = jnp.roll(spot_paths.at[-1].set(self.S0), 1)\n",
    "        return spot_paths\n",
    "    \n",
    "    def volatility_path_for_loop(self, vol_draws: Float[Array, \"n ...\"]) -> Float[Array, \"n ...\"]:\n",
    "        vec_size = len(vol_draws)\n",
    "        dt = self.T / vec_size\n",
    "\n",
    "        vol_path = jnp.zeros_like(vol_draws)\n",
    "        vol_path = vol_path.at[0].set(self.v0)\n",
    "\n",
    "        for i in range(1, vec_size):\n",
    "            v_truncated = jnp.maximum(0.0, vol_path[i-1])\n",
    "            prev_path_contribution = vol_path[i-1] + self.kappa * dt * (self.theta - v_truncated)\n",
    "            randomness = self.xi * jnp.sqrt(v_truncated * dt) * vol_draws[i-1]\n",
    "            vol_path = vol_path.at[i].set(prev_path_contribution + randomness)\n",
    "        \n",
    "        return vol_path\n",
    "\n",
    "    def volatility_path(self, vol_draws):\n",
    "        n_iter = len(vol_draws)\n",
    "        dt = self.T / n_iter\n",
    "\n",
    "        def vol_path_iter(prev_vol_path, vol_draw):\n",
    "            v_truncated = jnp.maximum(0.0, prev_vol_path)\n",
    "            prev_path_contribution = prev_vol_path + self.kappa * dt * (self.theta - v_truncated)\n",
    "            randomness = self.xi * jnp.sqrt(v_truncated * dt) * vol_draw\n",
    "            current = prev_path_contribution + randomness\n",
    "            return current, current # use current both for carry and for y\n",
    "\n",
    "        carry, vol_path = jax.lax.scan(vol_path_iter, jnp.array(self.v0), vol_draws, length=n_iter)\n",
    "\n",
    "        # we now have iteration 1 at position 0. Place initial v0 at the end and rotate into initial slot\n",
    "        vol_path = jnp.roll(vol_path.at[-1].set(self.v0), 1)\n",
    "        return vol_path\n",
    "\n",
    "    def payoff(self, key: PRNGKeyArray, n_intervals: int = 1000, payoff_fn = EuropeanPayoff.call):\n",
    "        correlated_samples = jrandom.multivariate_normal(key, mean, cov, shape=(n_intervals,))\n",
    "        \n",
    "        vol_draws = correlated_samples[:, 0]\n",
    "        spot_draws = correlated_samples[:, 1]\n",
    "        \n",
    "        vol_path = heston.volatility_path(vol_draws)\n",
    "        spot_path = heston.spot_path(spot_draws, vol_path)\n",
    "        \n",
    "        spot_maturity = spot_path[-1]\n",
    "        payoff = payoff_fn(spot_maturity, self.K)\n",
    "        return payoff\n"
   ]
  },
  {
   "cell_type": "code",
   "execution_count": 4,
   "id": "44e49d3f-44b7-459f-905c-dd2ee2d2f77c",
   "metadata": {},
   "outputs": [],
   "source": [
    "n_sims : int = 1000000\n",
    "n_intervals: int = 1000\n",
    "\n",
    "payoff_sum: float = 0.0\n",
    "\n"
   ]
  },
  {
   "cell_type": "code",
   "execution_count": 5,
   "id": "5226b488-10db-4aba-99ce-0f8b3fc02cc5",
   "metadata": {},
   "outputs": [],
   "source": [
    "heston = Heston()"
   ]
  },
  {
   "cell_type": "code",
   "execution_count": 6,
   "id": "f55f7e20-c5e0-4ee0-bbe1-27d4616954b6",
   "metadata": {},
   "outputs": [],
   "source": [
    "key = jrandom.PRNGKey(0)\n",
    "\n",
    "key, subkey = jrandom.split(key)\n",
    "vol_draws = jrandom.normal(key=subkey, shape=(100, ))\n",
    "# print(vol_draws)\n",
    "\n",
    "vol_path_for = heston.volatility_path_for_loop(vol_draws)\n",
    "vol_path = heston.volatility_path(vol_draws)\n",
    "assert(jnp.allclose(vol_path_for, vol_path))"
   ]
  },
  {
   "cell_type": "code",
   "execution_count": 7,
   "id": "84931ad5-04cf-454d-8e7b-69783694f663",
   "metadata": {
    "editable": true,
    "slideshow": {
     "slide_type": ""
    },
    "tags": []
   },
   "outputs": [],
   "source": [
    "key, subkey = jrandom.split(key)\n",
    "spot_draws = jrandom.normal(key=subkey, shape=(100, ))\n",
    "\n",
    "spot_path_for = heston.spot_path_for_loop(spot_draws, vol_path)\n",
    "spot_path = heston.spot_path(spot_draws, vol_path)\n",
    "assert(jnp.allclose(spot_path_for, spot_path))"
   ]
  },
  {
   "cell_type": "code",
   "execution_count": 8,
   "id": "12c0b510-9849-48e0-b091-01e67d573b8e",
   "metadata": {},
   "outputs": [
    {
     "name": "stdout",
     "output_type": "stream",
     "text": [
      "[[ 1.  -0.3]\n",
      " [-0.3  1. ]]\n"
     ]
    },
    {
     "data": {
      "text/plain": [
       "(100000, 2)"
      ]
     },
     "execution_count": 8,
     "metadata": {},
     "output_type": "execute_result"
    }
   ],
   "source": [
    "key, subkey = jrandom.split(key)\n",
    "\n",
    "mean = jnp.zeros(2)\n",
    "cov = jnp.array([[1, heston.rho], [heston.rho, 1]])\n",
    "\n",
    "print(cov)\n",
    "correlated_samples = jrandom.multivariate_normal(key, mean, cov, shape=(100000,))\n",
    "correlated_samples.shape"
   ]
  },
  {
   "cell_type": "code",
   "execution_count": 9,
   "id": "1292dfe4-d214-46c3-bf54-58538b44ef67",
   "metadata": {},
   "outputs": [],
   "source": [
    "sample_mean = jnp.mean(correlated_samples, axis=0)\n",
    "assert(jnp.allclose(sample_mean, mean, atol=1e-2))"
   ]
  },
  {
   "cell_type": "code",
   "execution_count": 10,
   "id": "421ff660-2108-4045-8db7-149b5f3037ea",
   "metadata": {},
   "outputs": [],
   "source": [
    "sample_cov = jnp.cov(correlated_samples.T)\n",
    "assert(jnp.allclose(sample_cov, cov, atol=1e-2))"
   ]
  },
  {
   "cell_type": "code",
   "execution_count": 11,
   "id": "fc9bb850-5fd8-4522-abf5-8b707380d52b",
   "metadata": {},
   "outputs": [
    {
     "data": {
      "text/plain": [
       "Array(-0.30700636, dtype=float64)"
      ]
     },
     "execution_count": 11,
     "metadata": {},
     "output_type": "execute_result"
    }
   ],
   "source": [
    "jnp.corrcoef(correlated_samples.T)[0, 1]"
   ]
  },
  {
   "cell_type": "code",
   "execution_count": 12,
   "id": "c6672e7e-8337-4a78-addb-e201a7b1869f",
   "metadata": {},
   "outputs": [
    {
     "data": {
      "text/plain": [
       "Array([[ 1.        , -0.30700636],\n",
       "       [-0.30700636,  1.        ]], dtype=float64)"
      ]
     },
     "execution_count": 12,
     "metadata": {},
     "output_type": "execute_result"
    }
   ],
   "source": [
    "jnp.corrcoef(correlated_samples[:, 0], correlated_samples[:, 1])"
   ]
  },
  {
   "cell_type": "code",
   "execution_count": 13,
   "id": "0cda8345-c409-45ff-a535-083c16d0650d",
   "metadata": {},
   "outputs": [
    {
     "name": "stdout",
     "output_type": "stream",
     "text": [
      "[[ 1.  -0.3]\n",
      " [-0.3  1. ]]\n"
     ]
    }
   ],
   "source": [
    "mean = jnp.zeros(2)\n",
    "cov = jnp.array([[1, heston.rho], [heston.rho, 1]])\n",
    "\n",
    "print(cov)"
   ]
  },
  {
   "cell_type": "code",
   "execution_count": 15,
   "id": "a230ff1a-7340-4d8f-8eb6-6f5dbc3bc1fe",
   "metadata": {},
   "outputs": [],
   "source": [
    "# Price calculation of heston model on european call option\n",
    "def price(key):\n",
    "    n_multiplier = 1\n",
    "    n_simulations = 1000000 * n_multiplier\n",
    "    n_outside_iter = 10 * n_multiplier\n",
    "    n_sims_per_iter = n_simulations // n_outside_iter\n",
    "    payoff_sum: float = 0.0\n",
    "    key, subkey = jrandom.split(key)\n",
    "    \n",
    "    def pathwise_payoff_fn(payoff_sum, key):\n",
    "        keys = jrandom.split(key, num=n_sims_per_iter)\n",
    "        pathwise_payoff = vmap(heston.payoff)(keys)\n",
    "        payoff_sum_iter = jnp.sum(pathwise_payoff)\n",
    "        payoff_sum += payoff_sum_iter\n",
    "        return payoff_sum, payoff_sum_iter  \n",
    "    \n",
    "    keys = jrandom.split(subkey, num=n_outside_iter)\n",
    "    payoff_sum, _ = jax.lax.scan(pathwise_payoff_fn, 0.0, keys, length=n_outside_iter)\n",
    "    \n",
    "    price = (payoff_sum / n_simulations) * jnp.exp(-heston.r * heston.T)\n",
    "    jax.debug.print(\"price {}\", price)\n"
   ]
  },
  {
   "cell_type": "code",
   "execution_count": 16,
   "id": "23612dcc-8ee7-455f-95ef-678879b656da",
   "metadata": {},
   "outputs": [],
   "source": [
    "price_fn = jit(price)"
   ]
  },
  {
   "cell_type": "code",
   "execution_count": null,
   "id": "2bd88a05-d68c-4732-9da9-006ca1584245",
   "metadata": {},
   "outputs": [
    {
     "name": "stdout",
     "output_type": "stream",
     "text": [
      "price 34.969583590429856\n"
     ]
    }
   ],
   "source": [
    "%timeit price_fn(key)"
   ]
  },
  {
   "cell_type": "code",
   "execution_count": 17,
   "id": "b40e2670-3d47-4f2d-aa60-9e19ceceeb08",
   "metadata": {},
   "outputs": [
    {
     "name": "stdout",
     "output_type": "stream",
     "text": [
      "price 35.04097421072583\n"
     ]
    }
   ],
   "source": [
    "price_fn(key)"
   ]
  }
 ],
 "metadata": {
  "kernelspec": {
   "display_name": "Python 3 (ipykernel)",
   "language": "python",
   "name": "python3"
  },
  "language_info": {
   "codemirror_mode": {
    "name": "ipython",
    "version": 3
   },
   "file_extension": ".py",
   "mimetype": "text/x-python",
   "name": "python",
   "nbconvert_exporter": "python",
   "pygments_lexer": "ipython3",
   "version": "3.10.12"
  }
 },
 "nbformat": 4,
 "nbformat_minor": 5
}
