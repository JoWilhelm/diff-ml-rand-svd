{
 "cells": [
  {
   "cell_type": "code",
   "execution_count": 76,
   "metadata": {},
   "outputs": [
    {
     "data": {
      "text/plain": [
       "[StreamExecutorGpuDevice(id=0, process_index=0, slice_index=0)]"
      ]
     },
     "execution_count": 76,
     "metadata": {},
     "output_type": "execute_result"
    }
   ],
   "source": [
    "import matplotlib.pyplot as plt\n",
    "\n",
    "import jax.numpy as jnp\n",
    "from jax.scipy.stats import norm\n",
    "from jax import grad, jit, vmap\n",
    "from jax import random\n",
    "import jax\n",
    "\n",
    "from typing import Sequence\n",
    "from jaxtyping import Array, Float, Int, PyTree\n",
    "\n",
    "import equinox as eqx\n",
    "import optax\n",
    "import chex\n",
    "\n",
    "from dataclasses import dataclass\n",
    "from functools import partial\n",
    "\n",
    "jax.devices()"
   ]
  },
  {
   "cell_type": "code",
   "execution_count": 77,
   "metadata": {},
   "outputs": [],
   "source": [
    "def taylor(x, N):\n",
    "    return jax.lax.fori_loop(1, N, lambda i, val: val + (x ** i) / i, 0)\n",
    "\n",
    "    # use scan instead:\n",
    "    # return jax.lax.scan(lambda i, val: val + (x ** i) / i, 0, jnp.arange(1, N))[1]\n",
    "\n",
    "fwd_taylor = jax.jit(jax.jacfwd(taylor, argnums=0))"
   ]
  },
  {
   "cell_type": "code",
   "execution_count": 78,
   "metadata": {},
   "outputs": [],
   "source": [
    "# gtaylor(0.5, 10000)"
   ]
  },
  {
   "cell_type": "code",
   "execution_count": 79,
   "metadata": {},
   "outputs": [],
   "source": [
    "@partial(jax.jit, static_argnums=1)\n",
    "def taylor(x, N):\n",
    "\n",
    "    def body(val, i):\n",
    "        res = val + x ** i / i \n",
    "        return res, res\n",
    "\n",
    "    return jax.lax.scan(body, 0, jnp.arange(1, N))[0]\n",
    "\n",
    "@partial(jax.jit, static_argnums=1)\n",
    "def rev_taylor(x, N):\n",
    "    return jax.grad(taylor, argnums=0)(x, N)\n",
    "\n",
    "# rev_taylor = jax.jit(jax.grad(taylor, argnums=0))\n",
    "# rev_taylor = jax.jit(jax.grad(taylor, argnums=0))"
   ]
  },
  {
   "cell_type": "code",
   "execution_count": 80,
   "metadata": {},
   "outputs": [
    {
     "data": {
      "text/plain": [
       "DeviceArray(0.6931473, dtype=float32)"
      ]
     },
     "execution_count": 80,
     "metadata": {},
     "output_type": "execute_result"
    }
   ],
   "source": [
    "taylor(0.5, 10000)"
   ]
  },
  {
   "cell_type": "code",
   "execution_count": 81,
   "metadata": {},
   "outputs": [
    {
     "data": {
      "text/plain": [
       "DeviceArray(2., dtype=float32, weak_type=True)"
      ]
     },
     "execution_count": 81,
     "metadata": {},
     "output_type": "execute_result"
    }
   ],
   "source": [
    "rev_taylor(0.5, 10000)"
   ]
  },
  {
   "cell_type": "code",
   "execution_count": 82,
   "metadata": {},
   "outputs": [
    {
     "data": {
      "text/plain": [
       "(DeviceArray(0.4207355, dtype=float32, weak_type=True),\n",
       " DeviceArray(0.841471, dtype=float32, weak_type=True))"
      ]
     },
     "execution_count": 82,
     "metadata": {},
     "output_type": "execute_result"
    }
   ],
   "source": [
    "jax.value_and_grad(lambda y, x: jnp.sin(x) * y)(0.5, 1.0)"
   ]
  },
  {
   "cell_type": "code",
   "execution_count": 83,
   "metadata": {},
   "outputs": [
    {
     "data": {
      "text/plain": [
       "(DeviceArray(3.4822023, dtype=float32, weak_type=True),\n",
       " DeviceArray(2.4136786, dtype=float32, weak_type=True))"
      ]
     },
     "execution_count": 83,
     "metadata": {},
     "output_type": "execute_result"
    }
   ],
   "source": [
    "jax.value_and_grad(lambda x,y: jnp.power(2.0, x) / y)(0.8, 0.5)"
   ]
  },
  {
   "cell_type": "code",
   "execution_count": 84,
   "metadata": {},
   "outputs": [],
   "source": [
    "# Black Scholes\n",
    "# helper analytics    \n",
    "@jit\n",
    "def bsPrice(spot, strike, vol, T):\n",
    "    d1 = (jnp.log(spot/strike) + 0.5 * vol * vol * T) / vol / jnp.sqrt(T)\n",
    "    d2 = d1 - vol * jnp.sqrt(T)\n",
    "    return spot * norm.cdf(d1) - strike * norm.cdf(d2)\n",
    "\n",
    "@jit\n",
    "def bsDelta(spot, strike, vol, T):\n",
    "    d1 = (jnp.log(spot/strike) + 0.5 * vol * vol * T) / vol / jnp.sqrt(T)\n",
    "    return norm.cdf(d1)\n",
    "\n",
    "@jit\n",
    "def bsVega(spot, strike, vol, T):\n",
    "    d1 = (jnp.log(spot/strike) + 0.5 * vol * vol * T) / vol / jnp.sqrt(T)\n",
    "    return spot * jnp.sqrt(T) * norm.pdf(d1)\n",
    "\n",
    "@dataclass\n",
    "class BlackScholes:\n",
    "    \n",
    "    spot: int = 1\n",
    "    vol: float = 0.2\n",
    "    T1: int = 1\n",
    "    T2: int = 2\n",
    "    K: float = 1.10\n",
    "    volMult: float = 1.5\n",
    "                        \n",
    "    # training set: returns S1 (mx1), C2 (mx1) and dC2/dS1 (mx1)\n",
    "    # @partial(jit, static_argnums=(0,))\n",
    "    def trainingSet(self, m, anti=True, seed=42):\n",
    "    \n",
    "        key = random.PRNGKey(seed)\n",
    "        # 2 sets of normal returns\n",
    "        returns = random.normal(key, shape=(m, 2))\n",
    "\n",
    "        # SDE\n",
    "        vol0 = self.vol * self.volMult\n",
    "        R1 = jnp.exp(-0.5*vol0*vol0*self.T1 + vol0*jnp.sqrt(self.T1)*returns[:,0])\n",
    "        R2 = jnp.exp(-0.5*self.vol*self.vol*(self.T2-self.T1) \\\n",
    "                    + self.vol*jnp.sqrt(self.T2-self.T1)*returns[:,1])\n",
    "        S1 = self.spot * R1\n",
    "        S2 = S1 * R2 \n",
    "\n",
    "        # payoff\n",
    "        pay = jnp.maximum(0, S2 - self.K)\n",
    "        \n",
    "        # two antithetic paths\n",
    "        if anti:\n",
    "            \n",
    "            R2a = jnp.exp(-0.5*self.vol*self.vol*(self.T2-self.T1) \\\n",
    "                    - self.vol*jnp.sqrt(self.T2-self.T1)*returns[:,1])\n",
    "            S2a = S1 * R2a             \n",
    "            paya = jnp.maximum(0, S2a - self.K)\n",
    "            \n",
    "            X = S1\n",
    "            Y = 0.5 * (pay + paya)\n",
    "    \n",
    "            # differentials\n",
    "            Z1 =  jnp.where(S2 > self.K, R2, 0.0).reshape((-1,1)) \n",
    "            Z2 =  jnp.where(S2a > self.K, R2a, 0.0).reshape((-1,1)) \n",
    "            Z = 0.5 * (Z1 + Z2)\n",
    "                    \n",
    "        # standard\n",
    "        else:\n",
    "        \n",
    "            X = S1\n",
    "            Y = pay\n",
    "            \n",
    "            # differentials\n",
    "            Z =  jnp.where(S2 > self.K, R2, 0.0).reshape((-1,1)) \n",
    "        \n",
    "        return X.reshape([-1,1]), Y.reshape([-1,1]), Z.reshape([-1,1])\n",
    "    \n",
    "    # test set: returns a grid of uniform spots \n",
    "    # with corresponding ground true prices, deltas and vegas\n",
    "    def testSet(self, lower=0.35, upper=1.65, num=100, seed=42):\n",
    "        \n",
    "        spots = jnp.linspace(lower, upper, num).reshape((-1, 1))\n",
    "        # compute prices, deltas and vegas\n",
    "        prices = bsPrice(spots, self.K, self.vol, self.T2 - self.T1).reshape((-1, 1))\n",
    "        deltas = bsDelta(spots, self.K, self.vol, self.T2 - self.T1).reshape((-1, 1))\n",
    "        vegas = bsVega(spots, self.K, self.vol, self.T2 - self.T1).reshape((-1, 1))\n",
    "        return spots, spots, prices, deltas, vegas   "
   ]
  },
  {
   "cell_type": "code",
   "execution_count": 85,
   "metadata": {},
   "outputs": [],
   "source": [
    "bs = BlackScholes()\n",
    "x_train, y_train, dydx_train = bs.trainingSet(8192)\n",
    "x_test, x_axis, y_test, dydx_test, vegas = bs.testSet(num=1000)"
   ]
  },
  {
   "cell_type": "code",
   "execution_count": 86,
   "metadata": {},
   "outputs": [],
   "source": [
    "def plot_training_data(x_train, y_train, dydx_train, x_test, y_test, x_axis, dydx_test):\n",
    "    plt.title(\"Training Data\")\n",
    "    # the same as plt.scatter(x_train, y_train) but with a thinner line is:\n",
    "    plt.plot(x_train, y_train, 'r.', markersize=1)\n",
    "    # now the other two with a thinner line:\n",
    "    plt.plot(x_test, y_test, 'b.', markersize=1)\n",
    "    plt.plot(x_train, dydx_train, 'g.', markersize=1)\n",
    "    # plt.plot(x_axis, dydx_test, 'g.', markersize=1)\n",
    "    # corresponding legend:\n",
    "    plt.legend(['Training Data', 'True Price', 'Training Delta'], loc='upper left')\n",
    "    plt.show()"
   ]
  },
  {
   "cell_type": "code",
   "execution_count": 87,
   "metadata": {},
   "outputs": [
    {
     "data": {
      "image/png": "[encoded data removed]",
      "text/plain": [
       "<Figure size 640x480 with 1 Axes>"
      ]
     },
     "metadata": {},
     "output_type": "display_data"
    }
   ],
   "source": [
    "plot_training_data(x_train, y_train, dydx_train, x_test, y_test, x_axis, dydx_test)"
   ]
  },
  {
   "cell_type": "code",
   "execution_count": 88,
   "metadata": {},
   "outputs": [],
   "source": [
    "def normalize(data: Array):\n",
    "    mean = jnp.mean(data)\n",
    "    std = jnp.std(data)\n",
    "    return (data - mean) / std, mean, std\n",
    "\n",
    "# normalize data\n",
    "x_train, x_train_mean, x_train_std = normalize(x_train)\n",
    "y_train, y_train_mean, y_train_std = normalize(y_train)\n",
    "dydx_train, dydx_train_mean, dydx_train_std = normalize(dydx_train)"
   ]
  },
  {
   "cell_type": "code",
   "execution_count": 89,
   "metadata": {},
   "outputs": [],
   "source": [
    "# Hyperparameters\n",
    "batch_size = 128\n",
    "learning_rate = 0.01\n",
    "num_epochs = 10\n",
    "seed = 42\n",
    "\n",
    "key = jax.random.PRNGKey(seed)"
   ]
  },
  {
   "cell_type": "code",
   "execution_count": 90,
   "metadata": {},
   "outputs": [
    {
     "name": "stdout",
     "output_type": "stream",
     "text": [
      "(3, 1)\n"
     ]
    },
    {
     "data": {
      "text/plain": [
       "2"
      ]
     },
     "execution_count": 90,
     "metadata": {},
     "output_type": "execute_result"
    }
   ],
   "source": [
    "x = jnp.array([1, 2, 3])[..., jnp.newaxis]\n",
    "print(x.shape)\n",
    "x.ndim"
   ]
  },
  {
   "cell_type": "code",
   "execution_count": 91,
   "metadata": {},
   "outputs": [],
   "source": [
    "# this is the first change: we use an out_size of 2 to predict both the price and the delta\n",
    "\n",
    "\n",
    "key, subkey = jax.random.split(key)\n",
    "model = eqx.nn.MLP(key=subkey, in_size=1, out_size=2, width_size=20, depth=3, activation=jax.nn.elu)\n",
    "\n",
    "# adapt model to use glorot initialization in eqx:\n",
    "\n",
    "# model_one = eqx.nn.MLP(key=key, in_size=1, out_size=1, width_size=20, depth=3, activation=jax.nn.elu)"
   ]
  },
  {
   "cell_type": "code",
   "execution_count": 92,
   "metadata": {},
   "outputs": [
    {
     "name": "stdout",
     "output_type": "stream",
     "text": [
      "20 1\n",
      "20 20\n",
      "20 20\n",
      "2 20\n"
     ]
    }
   ],
   "source": [
    "def trunc_init(weight: Array, key: jax.random.PRNGKey) -> Array:\n",
    "  out, in_ = weight.shape\n",
    "  print(out, in_)\n",
    "  stddev = jnp.sqrt(1 / in_)\n",
    "  return jax.nn.initializers.glorot_normal()(key, (out, in_))\n",
    "\n",
    "def init_linear_weight(model, init_fn, key):\n",
    "  is_linear = lambda x: isinstance(x, eqx.nn.Linear)\n",
    "  get_weights = lambda m: [x.weight\n",
    "                           for x in jax.tree_util.tree_leaves(m, is_leaf=is_linear)\n",
    "                           if is_linear(x)]\n",
    "  weights = get_weights(model)\n",
    "  new_weights = [init_fn(weight, subkey)\n",
    "                 for weight, subkey in zip(weights, jax.random.split(key, len(weights)))]\n",
    "  new_model = eqx.tree_at(get_weights, model, new_weights)\n",
    "  return new_model\n",
    "\n",
    "key, subkey = jax.random.split(key)\n",
    "\n",
    "model = init_linear_weight(model, trunc_init, key)\n"
   ]
  },
  {
   "cell_type": "code",
   "execution_count": null,
   "metadata": {},
   "outputs": [],
   "source": []
  },
  {
   "cell_type": "code",
   "execution_count": 93,
   "metadata": {},
   "outputs": [],
   "source": [
    "def loss_fn(model: eqx.nn.MLP, x: Float[Array, \"batch\"], y: Float[Array, \"batch\"], dydx: Float[Array, \"batch\"]) -> Float:\n",
    "    lam = 1\n",
    "    n_dims = x.shape[1]\n",
    "    lambda_scale = lam * n_dims\n",
    "    alpha = 1.0/(1.0 + lambda_scale)\n",
    "    beta = lambda_scale/(1.0 + lambda_scale)\n",
    "    pred = vmap(model)(x)\n",
    "    y_pred, dydx_pred = pred[:, 0][..., jnp.newaxis], pred[:, 1][..., jnp.newaxis]\n",
    "    # jax.debug.print(\"{y}\", y=y_pred)\n",
    "    # jax.debug.print(\"{y_shape}\", y_shape=y_pred.shape)\n",
    "    # jax.debug.print(\"{dydx_pred}\", dydx_pred=dydx_pred)\n",
    "    # jax.debug.print(\"{dydx_shape}\", dydx_shape=dydx_pred.shape)\n",
    "\n",
    "    loss = alpha * jnp.mean((y_pred - y)**2) + beta * jnp.mean((dydx_pred - dydx)**2)\n",
    "    return loss"
   ]
  },
  {
   "cell_type": "code",
   "execution_count": 94,
   "metadata": {},
   "outputs": [
    {
     "name": "stdout",
     "output_type": "stream",
     "text": [
      "(8192, 1)\n"
     ]
    }
   ],
   "source": [
    "res = vmap(model)(x_train)\n",
    "# res = jnp.asarray(res[:, 0][..., jnp.newaxis])\n",
    "res = res[:, 0][..., jnp.newaxis]\n",
    "\n",
    "jax.debug.print(\"{r}\", r=res.shape)"
   ]
  },
  {
   "cell_type": "code",
   "execution_count": 95,
   "metadata": {},
   "outputs": [],
   "source": [
    "def train(model: eqx.nn.MLP,\n",
    "          x: Float[Array, \"n\"],\n",
    "          y: Float[Array, \"n\"],\n",
    "          dydx: Float[Array, \"n\"],\n",
    "          optim: optax.GradientTransformation,\n",
    "          steps: int\n",
    "          ) -> PyTree:\n",
    "    \n",
    "    @eqx.filter_jit\n",
    "    def train_step(model: eqx.nn.MLP,\n",
    "                   opt_state: PyTree,\n",
    "                   x: Float[Array, \"batch\"],\n",
    "                   y: Float[Array, \"batch\"],\n",
    "                   dydx: Float[Array, \"batch\"],\n",
    "                   ):\n",
    "        loss_value, grads = eqx.filter_value_and_grad(loss_fn)(model, x, y, dydx)\n",
    "        updates, opt_state = optim.update(grads, opt_state)\n",
    "        model = eqx.apply_updates(model, updates)\n",
    "        return model, opt_state, loss_value\n",
    "\n",
    "    opt_state = optim.init(eqx.filter(model, eqx.is_array))\n",
    "    n_batches = (len(x) // batch_size)\n",
    "    for step in range(n_batches):\n",
    "        batch_x = x[step*batch_size:(step+1)*batch_size]\n",
    "        batch_y = y[step*batch_size:(step+1)*batch_size]\n",
    "        batch_dydx = dydx[step*batch_size:(step+1)*batch_size]\n",
    "\n",
    "        model, opt_state, loss_value = train_step(model, opt_state, batch_x, batch_y, batch_dydx)\n",
    "\n",
    "        if (step % 100 == 0) or (step == steps-1):\n",
    "            test_loss = loss_fn(model, (x_test - x_train_mean) / x_train_std, (y_test - y_train_mean) / y_train_std, (dydx_test - dydx_train_mean) / dydx_train_std)\n",
    "            print(f\"step: {step}, train_loss: {loss_value}, test_loss: {test_loss}\")\n",
    "    \n",
    "    return model"
   ]
  },
  {
   "cell_type": "code",
   "execution_count": 96,
   "metadata": {},
   "outputs": [
    {
     "name": "stdout",
     "output_type": "stream",
     "text": [
      "step: 0, train_loss: 1.994680643081665, test_loss: 0.7908103466033936\n"
     ]
    }
   ],
   "source": [
    "optim = optax.adam(learning_rate)\n",
    "model = train(model, x_train, y_train, dydx_train, optim, steps=1000)"
   ]
  },
  {
   "cell_type": "code",
   "execution_count": 97,
   "metadata": {},
   "outputs": [
    {
     "name": "stdout",
     "output_type": "stream",
     "text": [
      "(100, 1)\n",
      "RMSE: 0.009304498322308064\n"
     ]
    },
    {
     "data": {
      "image/png": "[encoded data removed]",
      "text/plain": [
       "<Figure size 640x480 with 1 Axes>"
      ]
     },
     "metadata": {},
     "output_type": "display_data"
    }
   ],
   "source": [
    "# predict\n",
    "# x_test = x_axis\n",
    "x = (x_test - x_train_mean) / x_train_std\n",
    "pred = vmap(model)(x)\n",
    "# unscale predictions\n",
    "pred_y = pred[:, 0] * y_train_std + y_train_mean\n",
    "pred_dydx = pred[:, 1] * dydx_train_std + dydx_train_mean\n",
    "\n",
    "pred_y = pred_y[..., jnp.newaxis]\n",
    "pred_dydx = pred_dydx[..., jnp.newaxis]\n",
    "\n",
    "print(pred_y.shape)\n",
    "# evaluate\n",
    "def eval_rmse(y_true: Array, y_pred: Array) -> float:\n",
    "    return jnp.sqrt(jnp.mean((y_true - y_pred) ** 2))\n",
    "\n",
    "# print the above line:\n",
    "print(f\"RMSE: {eval_rmse(y_test, pred_y)}\")\n",
    "\n",
    "plt.title(\"Evaluation\")\n",
    "plt.plot(x_test, pred_y, 'b.', markersize=1)\n",
    "plt.plot(x_test, y_test, 'r.', markersize=1)\n",
    "plt.plot(x_test, pred_dydx, 'b.', markersize=1)\n",
    "plt.plot(x_test, dydx_test, 'g.', markersize=1)\n",
    "plt.legend(['Pred Price', 'True Price', 'Pred Delta', \"True Delta\"], loc='upper left')\n",
    "plt.show()"
   ]
  }
 ],
 "metadata": {
  "kernelspec": {
   "display_name": "Python 3",
   "language": "python",
   "name": "python3"
  },
  "language_info": {
   "codemirror_mode": {
    "name": "ipython",
    "version": 3
   },
   "file_extension": ".py",
   "mimetype": "text/x-python",
   "name": "python",
   "nbconvert_exporter": "python",
   "pygments_lexer": "ipython3",
   "version": "3.9.13"
  },
  "orig_nbformat": 4
 },
 "nbformat": 4,
 "nbformat_minor": 2
}
