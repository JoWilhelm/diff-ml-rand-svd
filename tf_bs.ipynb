{
 "cells": [
  {
   "cell_type": "code",
   "execution_count": 256,
   "metadata": {},
   "outputs": [],
   "source": [
    "import tensorflow as tf\n",
    "import matplotlib.pyplot as plt"
   ]
  },
  {
   "cell_type": "code",
   "execution_count": 257,
   "metadata": {},
   "outputs": [],
   "source": [
    "import tensorflow_probability as tfp\n",
    "norm = tfp.distributions.Normal(loc=0., scale=1.)\n",
    "norm.pdf = norm.prob\n",
    "\n",
    "# helper analytics\n",
    "def bsPrice(spot, strike, vol, T):\n",
    "    d1 = (tf.math.log(spot/strike) + 0.5 * vol * vol * T) / vol / tf.math.sqrt(T)\n",
    "    d2 = d1 - vol * tf.math.sqrt(T)\n",
    "    return spot * norm.cdf(d1) - strike * norm.cdf(d2)\n",
    "\n",
    "def bsDelta(spot, strike, vol, T):\n",
    "    d1 = (tf.math.log(spot/strike) + 0.5 * vol * vol * T) / vol / tf.math.sqrt(T)\n",
    "    return norm.cdf(d1) \n",
    "\n",
    "def bsVega(spot, strike, vol, T):\n",
    "    d1 = (tf.math.log(spot/strike) + 0.5 * vol * vol * T) / vol / tf.math.sqrt(T)\n",
    "    return spot * tf.math.sqrt(T) * norm.pdf(d1)\n",
    "\n",
    "class BlackScholes:\n",
    "        \n",
    "    def __init__(self, \n",
    "                vol=0.2,\n",
    "                T1=1.0, \n",
    "                T2=2.0, \n",
    "                K=1.10,\n",
    "                volMult=1.5):\n",
    "            \n",
    "        self.spot = 1\n",
    "        self.vol = vol\n",
    "        self.T1 = T1\n",
    "        self.T2 = T2\n",
    "        self.K = K\n",
    "        self.volMult = volMult\n",
    "                            \n",
    "    # training set: returns S1 (mx1), C2 (mx1) and dC2/dS1 (mx1)\n",
    "    def trainingSet(self, m, anti=True, seed=None):\n",
    "        \n",
    "        tf.random.set_seed(seed)\n",
    "            \n",
    "        # 2 sets of normal returns\n",
    "        returns = tf.random.normal(shape=[m, 2])\n",
    "    \n",
    "        # SDE\n",
    "        vol0 = self.vol * self.volMult\n",
    "        R1 = tf.exp(-0.5*vol0*vol0*self.T1 + vol0*tf.math.sqrt(self.T1)*returns[:,0])\n",
    "        R2 = tf.exp(-0.5*self.vol*self.vol*(self.T2-self.T1) \\\n",
    "                    + self.vol*tf.math.sqrt(self.T2-self.T1)*returns[:,1])\n",
    "        S1 = self.spot * R1\n",
    "        S2 = S1 * R2 \n",
    "    \n",
    "        # payoff\n",
    "        pay = tf.math.maximum(0, S2 - self.K)\n",
    "            \n",
    "        # two antithetic paths\n",
    "        if anti:\n",
    "                \n",
    "            R2a = tf.exp(-0.5*self.vol*self.vol*(self.T2-self.T1) \\\n",
    "                    - self.vol*tf.math.sqrt(self.T2-self.T1)*returns[:,1])\n",
    "            S2a = S1 * R2a             \n",
    "            paya = tf.math.maximum(0, S2a - self.K)\n",
    "                \n",
    "            X = S1\n",
    "            Y = 0.5 * (pay + paya)\n",
    "        \n",
    "            # differentials\n",
    "            Z1 =  tf.where(S2 > self.K, R2, 0.0)\n",
    "\n",
    "            Z2 =  tf.where(S2a > self.K, R2a, 0.0) \n",
    "            Z = 0.5 * (Z1 + Z2)\n",
    "                        \n",
    "        # standard\n",
    "        else:\n",
    "            \n",
    "            X = S1\n",
    "            Y = pay\n",
    "\n",
    "            # differentials\n",
    "            Z =  tf.where(S2 > self.K, R2, 0.0)\n",
    "\n",
    "        X = tf.reshape(X, [-1, 1])\n",
    "        Y = tf.reshape(Y, [-1, 1])\n",
    "        Z = tf.reshape(Z, [-1, 1])\n",
    "\n",
    "        return X, Y, Z\n",
    "        \n",
    "    # test set: returns a grid of uniform spots\n",
    "    # with corresponding ground true prices, deltas and vegas\n",
    "    def testSet(self, lower=0.35, upper=1.65, num=100, seed=None):\n",
    "                \n",
    "        spots = tf.linspace(lower, upper, num)\n",
    "        # compute prices, deltas and vegas\n",
    "        prices = bsPrice(spots, self.K, self.vol, self.T2 - self.T1)\n",
    "        deltas = bsDelta(spots, self.K, self.vol, self.T2 - self.T1)\n",
    "        vegas = bsVega(spots, self.K, self.vol, self.T2 - self.T1)\n",
    "\n",
    "        spots = tf.reshape(spots, [-1, 1])\n",
    "        prices = tf.reshape(prices, [-1, 1])\n",
    "        deltas = tf.reshape(deltas, [-1, 1])\n",
    "        vegas = tf.reshape(vegas, [-1, 1])\n",
    "\n",
    "        return spots, spots, prices, deltas, vegas"
   ]
  },
  {
   "cell_type": "code",
   "execution_count": 258,
   "metadata": {},
   "outputs": [],
   "source": [
    "bs = BlackScholes()\n",
    "x_train, y_train, dydx_train = bs.trainingSet(10 * 8192)\n",
    "x_test, x_axis, y_test, dydx_test, vegas = bs.testSet(num=1000)\n",
    "\n",
    "# reshape x_train to 2D\n",
    "# x_train = tf.reshape(x_train, [-1, 1])"
   ]
  },
  {
   "cell_type": "code",
   "execution_count": 259,
   "metadata": {},
   "outputs": [],
   "source": [
    "def plot_training_data(x_train, y_train, dydx_train, x_test, y_test, x_axis, dydx_test):\n",
    "    plt.title(\"Training Data\")\n",
    "    # the same as plt.scatter(x_train, y_train) but with a thinner line is:\n",
    "    plt.plot(x_train, y_train, 'r.', markersize=1)\n",
    "    # now the other two with a thinner line:\n",
    "    plt.plot(x_test, y_test, 'b.', markersize=1)\n",
    "    plt.plot(x_train, dydx_train, 'g.', markersize=1)\n",
    "    # plt.plot(x_axis, dydx_test, 'g.', markersize=1)\n",
    "    # corresponding legend:\n",
    "    plt.legend(['Training Data', 'True Price', 'Training Delta'], loc='upper left')\n",
    "    plt.show()"
   ]
  },
  {
   "cell_type": "code",
   "execution_count": 260,
   "metadata": {},
   "outputs": [
    {
     "data": {
      "image/png": "[encoded data removed]",
      "text/plain": [
       "<Figure size 640x480 with 1 Axes>"
      ]
     },
     "metadata": {},
     "output_type": "display_data"
    }
   ],
   "source": [
    "plot_training_data(x_train, y_train, dydx_train, x_test, y_test, x_axis, dydx_test)"
   ]
  },
  {
   "cell_type": "code",
   "execution_count": 261,
   "metadata": {},
   "outputs": [
    {
     "name": "stdout",
     "output_type": "stream",
     "text": [
      "(81920, 1) (81920, 1) (81920, 1)\n",
      "(1000, 1) (1000, 1) (1000, 1) (1000, 1) (1000, 1)\n"
     ]
    }
   ],
   "source": [
    "print(x_train.shape, y_train.shape, dydx_train.shape)\n",
    "print(x_test.shape, y_test.shape, x_axis.shape, dydx_test.shape, vegas.shape)"
   ]
  },
  {
   "cell_type": "code",
   "execution_count": 262,
   "metadata": {},
   "outputs": [],
   "source": [
    "# prepare normalization layer for model\n",
    "normalizer = tf.keras.layers.Normalization()\n",
    "normalizer.adapt(x_train)\n",
    "\n",
    "x_train = normalizer(x_train)\n",
    "x_test = normalizer(x_test)"
   ]
  },
  {
   "cell_type": "code",
   "execution_count": 263,
   "metadata": {},
   "outputs": [
    {
     "name": "stdout",
     "output_type": "stream",
     "text": [
      "(81920, 1)\n",
      "(81920, 1)\n"
     ]
    }
   ],
   "source": [
    "print(normalizer(x_train).shape)\n",
    "print(x_train.shape)\n"
   ]
  },
  {
   "cell_type": "code",
   "execution_count": 264,
   "metadata": {},
   "outputs": [],
   "source": [
    "\n",
    "model = tf.keras.Sequential([\n",
    "    # normalizer,\n",
    "    tf.keras.layers.Dense(20, activation='elu'),\n",
    "    tf.keras.layers.Dense(20, activation='elu'),\n",
    "    tf.keras.layers.Dense(1)\n",
    "], name=\"SurrogateModel\")\n",
    "\n",
    "model.compile(optimizer='adam', loss='mse')"
   ]
  },
  {
   "cell_type": "code",
   "execution_count": 265,
   "metadata": {},
   "outputs": [
    {
     "name": "stdout",
     "output_type": "stream",
     "text": [
      "Epoch 1/4\n",
      "640/640 [==============================] - 2s 2ms/step - loss: 0.0036 - val_loss: 7.1954e-05\n",
      "Epoch 2/4\n",
      "640/640 [==============================] - 1s 2ms/step - loss: 0.0032 - val_loss: 6.1686e-05\n",
      "Epoch 3/4\n",
      "640/640 [==============================] - 1s 2ms/step - loss: 0.0032 - val_loss: 3.5169e-05\n",
      "Epoch 4/4\n",
      "640/640 [==============================] - 1s 2ms/step - loss: 0.0032 - val_loss: 1.7072e-04\n"
     ]
    }
   ],
   "source": [
    "history = model.fit(x_train, y_train, epochs=4, batch_size=128, verbose=1, validation_data=(x_test, y_test))"
   ]
  },
  {
   "cell_type": "code",
   "execution_count": 266,
   "metadata": {},
   "outputs": [
    {
     "name": "stdout",
     "output_type": "stream",
     "text": [
      "Evaluate on test data\n",
      "8/8 [==============================] - 0s 2ms/step - loss: 1.7072e-04\n",
      "test loss, test acc: 0.0001707248156890273\n"
     ]
    }
   ],
   "source": [
    "print(\"Evaluate on test data\")\n",
    "results = model.evaluate(x_test, y_test, batch_size=128)\n",
    "print(\"test loss, test acc:\", results)\n"
   ]
  },
  {
   "cell_type": "code",
   "execution_count": 267,
   "metadata": {},
   "outputs": [
    {
     "name": "stdout",
     "output_type": "stream",
     "text": [
      "32/32 [==============================] - 0s 935us/step\n"
     ]
    },
    {
     "data": {
      "image/png": "[encoded data removed]",
      "text/plain": [
       "<Figure size 640x480 with 1 Axes>"
      ]
     },
     "metadata": {},
     "output_type": "display_data"
    }
   ],
   "source": [
    "\n",
    "pred_y = model.predict(x_test)\n",
    "plt.title(\"Predictions\")\n",
    "plt.plot(x_test, pred_y, 'r.', markersize=1)\n",
    "plt.plot(x_test, y_test, 'b.', markersize=1)\n",
    "plt.legend(['Predictions', 'True Price'], loc='upper left')\n",
    "plt.show()\n"
   ]
  },
  {
   "cell_type": "code",
   "execution_count": 390,
   "metadata": {},
   "outputs": [],
   "source": [
    "bs = BlackScholes()\n",
    "x_train, y_train, dydx_train = bs.trainingSet(8192)\n",
    "x_test, x_axis, y_test, dydx_test, vegas = bs.testSet(num=1000)\n"
   ]
  },
  {
   "cell_type": "code",
   "execution_count": 391,
   "metadata": {},
   "outputs": [],
   "source": [
    "NUM_EPOCHS = 20\n",
    "BATCH_SIZE = 128\n",
    "BUFFER_SIZE = 1024\n",
    "STEPS_PER_EPOCH = 100\n",
    "\n",
    "# transform into tf.data.Dataset:\n",
    "train_dataset = tf.data.Dataset.from_tensor_slices((x_train, y_train, dydx_train))\n",
    "test_dataset = tf.data.Dataset.from_tensor_slices((x_test, y_test, dydx_test))\n",
    "\n",
    "# shuffle and batch the datasets:\n",
    "train_dataset = train_dataset.shuffle(BUFFER_SIZE).batch(BATCH_SIZE).take(STEPS_PER_EPOCH)\n",
    "test_dataset = test_dataset.batch(BATCH_SIZE).take(STEPS_PER_EPOCH)\n"
   ]
  },
  {
   "cell_type": "code",
   "execution_count": 395,
   "metadata": {},
   "outputs": [
    {
     "name": "stdout",
     "output_type": "stream",
     "text": [
      "Finished epoch   0  |  Loss: 0.01914\n",
      "Finished epoch   1  |  Loss: 0.00712\n",
      "Finished epoch   2  |  Loss: 0.00455\n",
      "Finished epoch   3  |  Loss: 0.00319\n",
      "Finished epoch   4  |  Loss: 0.00319\n",
      "Finished epoch   5  |  Loss: 0.00319\n",
      "Finished epoch   6  |  Loss: 0.00308\n",
      "Finished epoch   7  |  Loss: 0.00337\n",
      "Finished epoch   8  |  Loss: 0.00343\n",
      "Finished epoch   9  |  Loss: 0.00304\n",
      "Finished epoch  10  |  Loss: 0.00316\n",
      "Finished epoch  11  |  Loss: 0.00314\n",
      "Finished epoch  12  |  Loss: 0.00314\n",
      "Finished epoch  13  |  Loss: 0.00302\n",
      "Finished epoch  14  |  Loss: 0.00315\n",
      "Finished epoch  15  |  Loss: 0.00308\n",
      "Finished epoch  16  |  Loss: 0.00314\n",
      "Finished epoch  17  |  Loss: 0.00306\n",
      "Finished epoch  18  |  Loss: 0.00308\n",
      "Finished epoch  19  |  Loss: 0.00304\n",
      "Evaluate on test data\n",
      "32/32 [==============================] - 0s 1ms/step\n"
     ]
    },
    {
     "data": {
      "image/png": "[encoded data removed]",
      "text/plain": [
       "<Figure size 640x480 with 1 Axes>"
      ]
     },
     "metadata": {},
     "output_type": "display_data"
    }
   ],
   "source": [
    "# create a new model\n",
    "model = tf.keras.Sequential([\n",
    "    # normalizer,\n",
    "    tf.keras.layers.Dense(20, activation='elu'),\n",
    "    tf.keras.layers.Dense(20, activation='elu'),\n",
    "    tf.keras.layers.Dense(20, activation='elu'),\n",
    "    tf.keras.layers.Dense(1)\n",
    "], name=\"SurrogateModelWithDifferentials\")\n",
    "\n",
    "optimizer = tf.keras.optimizers.Adam(learning_rate=0.01)\n",
    "\n",
    "loss_metric = tf.keras.metrics.Mean(name='train_loss')\n",
    "loss_fn = tf.keras.losses.MeanSquaredError()\n",
    "\n",
    "# define the loss function\n",
    "def loss(model, x, y, dydx):\n",
    "    y_ = model(x)\n",
    "    # print(tf.keras.losses.mse(y_, y))\n",
    "    # return tf.math.reduce_mean(tf.math.square(y_ - y)) #+ tf.math.reduce_mean(tf.math.square(dydx - tf.gradients(y_, x))) \n",
    "    return loss_fn(y_, y) #+ tf.keras.losses.MeanSquaredError()(dydx, tf.gradients(y_, x)\n",
    "    # return tf.keras.losses.mse(tf.squeeze(y_), tf.squeeze(y))\n",
    "\n",
    "model.compile(optimizer=optimizer, loss=loss)\n",
    "\n",
    "# define the training step\n",
    "@tf.function\n",
    "def train_step(model, x, y, dydx):\n",
    "    with tf.GradientTape() as tape:\n",
    "        loss_value = loss(model, x, y, dydx)\n",
    "    grads = tape.gradient(loss_value, model.trainable_variables)\n",
    "    optimizer.apply_gradients(zip(grads, model.trainable_variables))\n",
    "\n",
    "    loss_metric.update_state(loss_value)\n",
    "\n",
    "for epoch in range(NUM_EPOCHS):\n",
    "\n",
    "    loss_metric.reset_states()\n",
    "\n",
    "    for xs, ys, dydxs in train_dataset:\n",
    "        train_step(model, xs, ys, dydxs)\n",
    "\n",
    "    mean_loss = loss_metric.result()\n",
    "    \n",
    "    print('Finished epoch {:3d}'.format(epoch), ' |  Loss: {:.5f}'.format(mean_loss))\n",
    "\n",
    "print(\"Evaluate on test data\")\n",
    "# results = model.evaluate(x_test, y_test, batch_size=128)\n",
    "# print(\"test loss, test acc:\", results)\n",
    "\n",
    "pred_y = model.predict(x_test)\n",
    "plt.title(\"Predictions\")\n",
    "plt.plot(x_test, pred_y, 'r.', markersize=1)\n",
    "plt.plot(x_test, y_test, 'b.', markersize=1)\n",
    "plt.legend(['Predictions', 'True Price'], loc='upper left')\n",
    "plt.show()"
   ]
  },
  {
   "cell_type": "code",
   "execution_count": null,
   "metadata": {},
   "outputs": [],
   "source": []
  },
  {
   "cell_type": "code",
   "execution_count": 374,
   "metadata": {},
   "outputs": [],
   "source": [
    "bs = BlackScholes()\n",
    "x_train, y_train, dydx_train = bs.trainingSet(8192)\n",
    "x_test, x_axis, y_test, dydx_test, vegas = bs.testSet(num=1000)"
   ]
  },
  {
   "cell_type": "code",
   "execution_count": 388,
   "metadata": {},
   "outputs": [
    {
     "name": "stdout",
     "output_type": "stream",
     "text": [
      "Finished epoch   0  | y-loss: 0.02148  | total-loss: 0.08104\n",
      "Finished epoch   1  | y-loss: 0.00442  | total-loss: 0.02772\n",
      "Finished epoch   2  | y-loss: 0.00429  | total-loss: 0.02479\n",
      "Finished epoch   3  | y-loss: 0.00389  | total-loss: 0.02425\n",
      "Finished epoch   4  | y-loss: 0.00472  | total-loss: 0.02530\n",
      "Finished epoch   5  | y-loss: 0.00407  | total-loss: 0.02447\n",
      "Finished epoch   6  | y-loss: 0.00370  | total-loss: 0.02411\n",
      "Finished epoch   7  | y-loss: 0.00354  | total-loss: 0.02394\n",
      "Finished epoch   8  | y-loss: 0.00372  | total-loss: 0.02424\n",
      "Finished epoch   9  | y-loss: 0.00329  | total-loss: 0.02335\n",
      "Finished epoch  10  | y-loss: 0.00318  | total-loss: 0.02310\n",
      "Finished epoch  11  | y-loss: 0.00349  | total-loss: 0.02352\n",
      "Finished epoch  12  | y-loss: 0.00389  | total-loss: 0.02479\n",
      "Finished epoch  13  | y-loss: 0.00324  | total-loss: 0.02333\n",
      "Finished epoch  14  | y-loss: 0.00361  | total-loss: 0.02396\n",
      "Finished epoch  15  | y-loss: 0.00338  | total-loss: 0.02379\n",
      "Finished epoch  16  | y-loss: 0.00349  | total-loss: 0.02342\n",
      "Finished epoch  17  | y-loss: 0.00320  | total-loss: 0.02318\n",
      "Finished epoch  18  | y-loss: 0.00313  | total-loss: 0.02307\n",
      "Finished epoch  19  | y-loss: 0.00334  | total-loss: 0.02371\n"
     ]
    }
   ],
   "source": [
    "NUM_EPOCHS = 20\n",
    "BATCH_SIZE = 128\n",
    "BUFFER_SIZE = 1024\n",
    "STEPS_PER_EPOCH = 100\n",
    "\n",
    "model = tf.keras.Sequential([\n",
    "    tf.keras.layers.Dense(20, activation='elu'),\n",
    "    tf.keras.layers.Dense(20, activation='elu'),\n",
    "    tf.keras.layers.Dense(20, activation='elu'),\n",
    "    tf.keras.layers.Dense(1)\n",
    "], name=\"SurrogateModelWithDifferentials\")\n",
    "\n",
    "optimizer = tf.keras.optimizers.Adam(learning_rate=0.01)\n",
    "\n",
    "y_loss_metric = tf.keras.metrics.Mean(name='y_loss')\n",
    "total_loss_metric = tf.keras.metrics.Mean(name='total_loss')\n",
    "\n",
    "loss_fn = tf.keras.losses.MeanSquaredError()\n",
    "\n",
    "def loss(y_pred, y_true, dydx_pred, dydx_true):\n",
    "    y_loss = loss_fn(y_true, y_pred)\n",
    "    dy_loss = loss_fn(dydx_true, dydx_pred)\n",
    "\n",
    "    alpha = 0.5\n",
    "    beta = 1 - alpha\n",
    "    return y_loss, alpha * y_loss + beta * dy_loss\n",
    "\n",
    "model.compile(optimizer=optimizer, loss=loss)\n",
    "\n",
    "# transform into tf.data.Dataset:\n",
    "train_dataset = tf.data.Dataset.from_tensor_slices((x_train, y_train, dydx_train))\n",
    "test_dataset = tf.data.Dataset.from_tensor_slices((x_test, y_test, dydx_test))\n",
    "\n",
    "# shuffle and batch the datasets:\n",
    "train_dataset = train_dataset.shuffle(BUFFER_SIZE).batch(BATCH_SIZE).take(STEPS_PER_EPOCH)\n",
    "test_dataset = test_dataset.batch(BATCH_SIZE).take(STEPS_PER_EPOCH)\n",
    "\n",
    "@tf.function\n",
    "def train_step(model, x, y, dydx):\n",
    "    with tf.GradientTape() as t1, tf.GradientTape() as t2:\n",
    "        t1.watch(x)\n",
    "        t2.watch(x)\n",
    "        y_pred = model(x)\n",
    "\n",
    "        with t1.stop_recording():\n",
    "            dydx_pred = t2.batch_jacobian(y_pred, x)\n",
    "            dydx_pred = tf.squeeze(dydx_pred, axis=2)   \n",
    "\n",
    "        y_loss, total_loss = loss(y_pred, y, dydx_pred, dydx)\n",
    "\n",
    "    grads = t1.gradient(total_loss, model.trainable_variables)\n",
    "    optimizer.apply_gradients(zip(grads, model.trainable_variables))\n",
    "    y_loss_metric.update_state(y_loss)\n",
    "    total_loss_metric.update_state(total_loss)\n",
    "\n",
    "\n",
    "for epoch in range(NUM_EPOCHS):\n",
    "    y_loss_metric.reset_states()\n",
    "    total_loss_metric.reset_states()\n",
    "    for xs, ys, dydxs in train_dataset:\n",
    "        train_step(model, xs, ys, dydxs)\n",
    "\n",
    "    mean_loss = y_loss_metric.result()\n",
    "    mean_total_loss = total_loss_metric.result()\n",
    "    print('Finished epoch {:3d}'.format(epoch), \n",
    "          ' | y-loss: {:.5f}'.format(mean_loss),  \n",
    "          ' | total-loss: {:.5f}'.format(mean_total_loss))\n",
    "\n"
   ]
  },
  {
   "cell_type": "code",
   "execution_count": 389,
   "metadata": {},
   "outputs": [
    {
     "data": {
      "image/png": "[encoded data removed]",
      "text/plain": [
       "<Figure size 640x480 with 1 Axes>"
      ]
     },
     "metadata": {},
     "output_type": "display_data"
    }
   ],
   "source": [
    "@tf.function\n",
    "def eval(model, x, y, dydx):\n",
    "    with tf.GradientTape() as t:\n",
    "        t.watch(x)\n",
    "        y_pred = model(x)\n",
    "    \n",
    "    dydx_pred = t.batch_jacobian(y_pred, x)\n",
    "    dydx_pred = tf.squeeze(dydx_pred, axis=2)\n",
    "\n",
    "    # dydx_pred = tf.gradients(y_pred, x)\n",
    "    # dydx_pred = tf.squeeze(dydx_pred, axis=0)\n",
    "\n",
    "    y_loss, total_loss = loss(y_pred, y, dydx_pred, dydx)\n",
    "    \n",
    "    return y_pred, dydx_pred\n",
    "\n",
    "\n",
    "pred_y, pred_dydx = eval(model, x_test, y_test, dydx_test)\n",
    "# print('y-loss: {:.5f}'.format(y_loss), \n",
    "        # ' | total-loss: {:.5f}'.format(total_loss))\n",
    "\n",
    "# with tf.GradientTape() as t:\n",
    "    # t.watch(x_test)\n",
    "# pred_y = model.predict(x_test)\n",
    "\n",
    "# pred_dydx = t.jacobian(pred_y, x_test)\n",
    "\n",
    "plt.title(\"Predictions\")\n",
    "plt.plot(x_test, pred_y, 'r.', markersize=1)\n",
    "plt.plot(x_test, y_test, 'b.', markersize=1)\n",
    "\n",
    "# plt.plot(x_test, dydx_test, 'g.', markersize=1)\n",
    "# plt.plot(x_test, pred_dydx, 'b.', markersize=1)\n",
    "plt.legend(['Predictions', 'True Price'], loc='upper left')\n",
    "plt.show()"
   ]
  },
  {
   "cell_type": "code",
   "execution_count": 311,
   "metadata": {},
   "outputs": [
    {
     "data": {
      "text/plain": [
       "<tf.Tensor: shape=(5,), dtype=float32, numpy=array([0., 0., 0., 0., 0.], dtype=float32)>"
      ]
     },
     "execution_count": 311,
     "metadata": {},
     "output_type": "execute_result"
    }
   ],
   "source": [
    "a = tf.ones((5, 1))\n",
    "b = tf.ones((5, 1))\n",
    "\n",
    "tf.keras.losses.mse(a, b)"
   ]
  },
  {
   "cell_type": "code",
   "execution_count": 165,
   "metadata": {},
   "outputs": [
    {
     "data": {
      "text/plain": [
       "<tf.Tensor: shape=(), dtype=float32, numpy=-2.0>"
      ]
     },
     "execution_count": 165,
     "metadata": {},
     "output_type": "execute_result"
    }
   ],
   "source": [
    "x = tf.Variable(1.0)\n",
    "\n",
    "def f(x):\n",
    "    y = x**2 + 2*x - 5\n",
    "    return y\n",
    "\n",
    "f(x)"
   ]
  },
  {
   "cell_type": "code",
   "execution_count": 166,
   "metadata": {},
   "outputs": [
    {
     "name": "stdout",
     "output_type": "stream",
     "text": [
      "tf.Tensor(4.0, shape=(), dtype=float32)\n"
     ]
    },
    {
     "data": {
      "text/plain": [
       "<tf.Tensor: shape=(), dtype=float32, numpy=2.0>"
      ]
     },
     "execution_count": 166,
     "metadata": {},
     "output_type": "execute_result"
    }
   ],
   "source": [
    "with tf.autodiff.ForwardAccumulator(x, 1.0) as outer:\n",
    "\n",
    "    with tf.GradientTape() as t:\n",
    "        y = f(x)\n",
    "\n",
    "    g_x = t.gradient(y, x)\n",
    "    print(g_x)\n",
    "\n",
    "outer.jvp(g_x)"
   ]
  },
  {
   "cell_type": "code",
   "execution_count": 225,
   "metadata": {},
   "outputs": [
    {
     "ename": "NameError",
     "evalue": "name 'grad' is not defined",
     "output_type": "error",
     "traceback": [
      "\u001b[1;31m---------------------------------------------------------------------------\u001b[0m",
      "\u001b[1;31mNameError\u001b[0m                                 Traceback (most recent call last)",
      "Cell \u001b[1;32mIn[225], line 39\u001b[0m\n\u001b[0;32m     36\u001b[0m \u001b[39m# Training loop - using batches of 32\u001b[39;00m\n\u001b[0;32m     37\u001b[0m \u001b[39mfor\u001b[39;00m x, y \u001b[39min\u001b[39;00m train_dataset:\n\u001b[0;32m     38\u001b[0m     \u001b[39m# Optimize the model\u001b[39;00m\n\u001b[1;32m---> 39\u001b[0m     loss_value, grads \u001b[39m=\u001b[39m grad(model, x, y)\n\u001b[0;32m     40\u001b[0m     optimizer\u001b[39m.\u001b[39mapply_gradients(\u001b[39mzip\u001b[39m(grads, model\u001b[39m.\u001b[39mtrainable_variables))\n\u001b[0;32m     42\u001b[0m     \u001b[39m# Track progress\u001b[39;00m\n",
      "\u001b[1;31mNameError\u001b[0m: name 'grad' is not defined"
     ]
    }
   ],
   "source": [
    "# creating a custom training loop\n",
    "\n",
    "# create a new model\n",
    "model = tf.keras.Sequential([\n",
    "    # normalizer,\n",
    "    tf.keras.layers.Dense(20, activation='elu'),\n",
    "    tf.keras.layers.Dense(20, activation='elu'),\n",
    "    tf.keras.layers.Dense(1)\n",
    "], name=\"SurrogateModel\")\n",
    "\n",
    "# create a new optimizer\n",
    "optimizer = tf.keras.optimizers.Adam(learning_rate=0.001)\n",
    "\n",
    "# create a new loss function\n",
    "loss_fn = tf.keras.losses.MeanSquaredError()\n",
    "\n",
    "# prepare the training dataset\n",
    "train_dataset = tf.data.Dataset.from_tensor_slices((x_train, y_train))\n",
    "train_dataset = train_dataset.shuffle(buffer_size=1024).batch(128)\n",
    "\n",
    "# prepare the validation dataset\n",
    "val_dataset = tf.data.Dataset.from_tensor_slices((x_test, y_test))\n",
    "val_dataset = val_dataset.batch(128)\n",
    "\n",
    "# lists for storing training and validation loss at each epoch\n",
    "train_loss_results = []\n",
    "val_loss_results = []\n",
    "\n",
    "num_epochs = 4\n",
    "\n",
    "for epoch in range(num_epochs):\n",
    "\n",
    "    epoch_loss_avg = tf.keras.metrics.Mean()\n",
    "    epoch_val_loss_avg = tf.keras.metrics.Mean()\n",
    "\n",
    "    # Training loop - using batches of 32\n",
    "    for x, y in train_dataset:\n",
    "        # Optimize the model\n",
    "        loss_value, grads = grad(model, x, y)\n",
    "        optimizer.apply_gradients(zip(grads, model.trainable_variables))\n",
    "\n",
    "        # Track progress\n",
    "        epoch_loss_avg.update_state(loss_value)  # Add current batch loss\n",
    "\n",
    "    # End epoch\n",
    "    train_loss_results.append(epoch_loss_avg.result())\n",
    "\n",
    "    # Validation loop\n",
    "    for x_val, y_val in val_dataset:\n",
    "        val_loss_value = loss_fn(y_val, model(x_val))\n",
    "        epoch_val_loss_avg.update_state(val_loss_value)\n",
    "\n",
    "    val_loss_results.append(epoch_val_loss_avg.result())\n",
    "\n",
    "    if epoch % 1 == 0:\n",
    "        print(\"Epoch {:03d}: Loss: {:.3f}, Validation Loss: {:.3f}\".format(epoch,\n",
    "                                                                        epoch_loss_avg.result(),\n",
    "                                                                        epoch_val_loss_avg.result()))\n",
    "                                            \n",
    "# plot the loss curves\n",
    "plt.title(\"Loss Curves\")\n",
    "plt.plot(train_loss_results, label=\"Train\")\n",
    "plt.plot(val_loss_results, label=\"Validation\")\n",
    "plt.legend()\n",
    "plt.show()"
   ]
  }
 ],
 "metadata": {
  "kernelspec": {
   "display_name": "Python 3",
   "language": "python",
   "name": "python3"
  },
  "language_info": {
   "codemirror_mode": {
    "name": "ipython",
    "version": 3
   },
   "file_extension": ".py",
   "mimetype": "text/x-python",
   "name": "python",
   "nbconvert_exporter": "python",
   "pygments_lexer": "ipython3",
   "version": "3.9.13"
  },
  "orig_nbformat": 4
 },
 "nbformat": 4,
 "nbformat_minor": 2
}
